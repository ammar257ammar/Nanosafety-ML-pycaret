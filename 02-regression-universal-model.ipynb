{
 "cells": [
  {
   "cell_type": "markdown",
   "id": "c772a64f-823c-4973-bf41-3c9a239c601a",
   "metadata": {},
   "source": [
    "# Universal Regression Model"
   ]
  },
  {
   "cell_type": "markdown",
   "id": "6cc25fc3-e84a-4d87-ace3-e947218d58aa",
   "metadata": {},
   "source": [
    "### Importing libraries and define functions"
   ]
  },
  {
   "cell_type": "code",
   "execution_count": 1,
   "id": "5e31b3ce-df35-4b10-a99a-2f753f523fb9",
   "metadata": {},
   "outputs": [],
   "source": [
    "import pandas as pd\n",
    "import numpy as np\n",
    "import scipy\n",
    "import math\n",
    "import os\n",
    "import sys"
   ]
  },
  {
   "cell_type": "code",
   "execution_count": 2,
   "id": "8375cb30",
   "metadata": {},
   "outputs": [],
   "source": [
    "# Managing Warnings \n",
    "import warnings\n",
    "warnings.filterwarnings('ignore')\n",
    "\n",
    "if not sys.warnoptions:\n",
    "    warnings.simplefilter(\"ignore\")\n",
    "    os.environ[\"PYTHONWARNINGS\"] = \"ignore\" # Also affect subprocesses"
   ]
  },
  {
   "cell_type": "code",
   "execution_count": 3,
   "id": "2d2c745b-9e8f-415c-a43c-f08fb5937b46",
   "metadata": {},
   "outputs": [],
   "source": [
    "import sklearn\n",
    "from sklearn.decomposition import PCA\n",
    "from sklearn import preprocessing\n",
    "from sklearn.impute import SimpleImputer\n",
    "from sklearn.model_selection import KFold\n",
    "from sklearn.model_selection import cross_val_score\n",
    "from sklearn.model_selection import cross_validate"
   ]
  },
  {
   "cell_type": "code",
   "execution_count": 4,
   "id": "5b9378dc",
   "metadata": {},
   "outputs": [],
   "source": [
    "from yellowbrick.regressor import ResidualsPlot\n",
    "from yellowbrick.regressor import PredictionError\n",
    "from yellowbrick.model_selection import FeatureImportances\n",
    "import matplotlib.pyplot as plt"
   ]
  },
  {
   "cell_type": "code",
   "execution_count": 5,
   "id": "03a6e29f",
   "metadata": {},
   "outputs": [],
   "source": [
    "from pycaret.regression import *"
   ]
  },
  {
   "cell_type": "code",
   "execution_count": 6,
   "id": "8d5a3c8a",
   "metadata": {},
   "outputs": [],
   "source": [
    "import functions as f"
   ]
  },
  {
   "cell_type": "code",
   "execution_count": 7,
   "id": "d563849c",
   "metadata": {},
   "outputs": [],
   "source": [
    "from copy import deepcopy"
   ]
  },
  {
   "cell_type": "code",
   "execution_count": 8,
   "id": "e1409fe1",
   "metadata": {},
   "outputs": [],
   "source": [
    "categorical_columns = ['NP_type', 'Coating','shape','Cell_name','Cell_species','cell_Organ','Cell_morphology',\n",
    "                       'Cell_age','cell_type','sex','Assay','Test_indicator']\n",
    "numerical_columns = ['core_size_nm','hydro_size_nm','Surf_charge_mV','Surface_area_m2_g','Dose_microg_mL','Duration_h',\n",
    "                    'Viability']\n",
    "\n",
    "numerical_columns_no_target = ['core_size_nm','hydro_size_nm','Surf_charge_mV','Surface_area_m2_g','Dose_microg_mL','Duration_h']"
   ]
  },
  {
   "cell_type": "markdown",
   "id": "bf6d7f7e",
   "metadata": {},
   "source": [
    "### Loading the train data into the data frame."
   ]
  },
  {
   "cell_type": "code",
   "execution_count": 9,
   "id": "da49b7e9",
   "metadata": {},
   "outputs": [],
   "source": [
    "data_train_df = pd.read_csv(\"output/datasets/universal/data_regression_train_df.csv\", encoding=\"utf-8\")"
   ]
  },
  {
   "cell_type": "code",
   "execution_count": 10,
   "id": "f38a5c13",
   "metadata": {},
   "outputs": [
    {
     "data": {
      "text/plain": [
       "NP_type                object\n",
       "Coating                object\n",
       "core_size_nm          float64\n",
       "hydro_size_nm         float64\n",
       "Surf_charge_mV        float64\n",
       "Surface_area_m2_g     float64\n",
       "shape                  object\n",
       "Dose_microg_mL        float64\n",
       "Duration_h            float64\n",
       "Cell_name              object\n",
       "Cell_species           object\n",
       "cell_Organ             object\n",
       "Cell_morphology        object\n",
       "Cell_age               object\n",
       "cell_type              object\n",
       "sex                    object\n",
       "Assay                  object\n",
       "Test_indicator         object\n",
       "nanomaterial_group     object\n",
       "Viability             float64\n",
       "dtype: object"
      ]
     },
     "execution_count": 10,
     "metadata": {},
     "output_type": "execute_result"
    }
   ],
   "source": [
    "data_train_df.dtypes"
   ]
  },
  {
   "cell_type": "code",
   "execution_count": 11,
   "id": "2d093a1e",
   "metadata": {},
   "outputs": [
    {
     "data": {
      "text/plain": [
       "(3724, 20)"
      ]
     },
     "execution_count": 11,
     "metadata": {},
     "output_type": "execute_result"
    }
   ],
   "source": [
    "data_train_df.shape"
   ]
  },
  {
   "cell_type": "code",
   "execution_count": 12,
   "id": "ebeeb573",
   "metadata": {},
   "outputs": [
    {
     "data": {
      "text/html": [
       "<div>\n",
       "<style scoped>\n",
       "    .dataframe tbody tr th:only-of-type {\n",
       "        vertical-align: middle;\n",
       "    }\n",
       "\n",
       "    .dataframe tbody tr th {\n",
       "        vertical-align: top;\n",
       "    }\n",
       "\n",
       "    .dataframe thead th {\n",
       "        text-align: right;\n",
       "    }\n",
       "</style>\n",
       "<table border=\"1\" class=\"dataframe\">\n",
       "  <thead>\n",
       "    <tr style=\"text-align: right;\">\n",
       "      <th></th>\n",
       "      <th>NP_type</th>\n",
       "      <th>Coating</th>\n",
       "      <th>core_size_nm</th>\n",
       "      <th>hydro_size_nm</th>\n",
       "      <th>Surf_charge_mV</th>\n",
       "      <th>Surface_area_m2_g</th>\n",
       "      <th>shape</th>\n",
       "      <th>Dose_microg_mL</th>\n",
       "      <th>Duration_h</th>\n",
       "      <th>Cell_name</th>\n",
       "      <th>Cell_species</th>\n",
       "      <th>cell_Organ</th>\n",
       "      <th>Cell_morphology</th>\n",
       "      <th>Cell_age</th>\n",
       "      <th>cell_type</th>\n",
       "      <th>sex</th>\n",
       "      <th>Assay</th>\n",
       "      <th>Test_indicator</th>\n",
       "      <th>nanomaterial_group</th>\n",
       "      <th>Viability</th>\n",
       "    </tr>\n",
       "  </thead>\n",
       "  <tbody>\n",
       "    <tr>\n",
       "      <th>0</th>\n",
       "      <td>CuO</td>\n",
       "      <td>None</td>\n",
       "      <td>12.80</td>\n",
       "      <td>305.3</td>\n",
       "      <td>7.60</td>\n",
       "      <td>NaN</td>\n",
       "      <td>NaN</td>\n",
       "      <td>6.3</td>\n",
       "      <td>NaN</td>\n",
       "      <td>BEAS_2B</td>\n",
       "      <td>Human</td>\n",
       "      <td>Lung</td>\n",
       "      <td>Epithelial</td>\n",
       "      <td>Adult</td>\n",
       "      <td>Normal</td>\n",
       "      <td>NaN</td>\n",
       "      <td>MTS</td>\n",
       "      <td>TetrazoliumSalt</td>\n",
       "      <td>meta_oxide</td>\n",
       "      <td>82.00</td>\n",
       "    </tr>\n",
       "    <tr>\n",
       "      <th>1</th>\n",
       "      <td>PLGA</td>\n",
       "      <td>PVA</td>\n",
       "      <td>182.00</td>\n",
       "      <td>NaN</td>\n",
       "      <td>-3.50</td>\n",
       "      <td>NaN</td>\n",
       "      <td>Sphere</td>\n",
       "      <td>500.0</td>\n",
       "      <td>4.0</td>\n",
       "      <td>Calu-3</td>\n",
       "      <td>Human</td>\n",
       "      <td>Lung</td>\n",
       "      <td>Epithelial</td>\n",
       "      <td>Adult</td>\n",
       "      <td>cancer</td>\n",
       "      <td>male</td>\n",
       "      <td>MTT</td>\n",
       "      <td>TetrazoliumSalt</td>\n",
       "      <td>other</td>\n",
       "      <td>94.29</td>\n",
       "    </tr>\n",
       "    <tr>\n",
       "      <th>2</th>\n",
       "      <td>CuO</td>\n",
       "      <td>None</td>\n",
       "      <td>46.30</td>\n",
       "      <td>239.0</td>\n",
       "      <td>42.80</td>\n",
       "      <td>24.1</td>\n",
       "      <td>NaN</td>\n",
       "      <td>0.0</td>\n",
       "      <td>24.0</td>\n",
       "      <td>HCMEC</td>\n",
       "      <td>Human</td>\n",
       "      <td>Heart</td>\n",
       "      <td>Endothelial</td>\n",
       "      <td>Adult</td>\n",
       "      <td>Normal</td>\n",
       "      <td>NaN</td>\n",
       "      <td>MTT</td>\n",
       "      <td>TetrazoliumSalt</td>\n",
       "      <td>meta_oxide</td>\n",
       "      <td>96.13</td>\n",
       "    </tr>\n",
       "    <tr>\n",
       "      <th>3</th>\n",
       "      <td>Hydroxyapatite</td>\n",
       "      <td>None</td>\n",
       "      <td>20.00</td>\n",
       "      <td>NaN</td>\n",
       "      <td>-5.30</td>\n",
       "      <td>NaN</td>\n",
       "      <td>Rod</td>\n",
       "      <td>10.0</td>\n",
       "      <td>24.0</td>\n",
       "      <td>RAW 264.7</td>\n",
       "      <td>Mouse</td>\n",
       "      <td>Blood</td>\n",
       "      <td>Macrophage</td>\n",
       "      <td>Adult</td>\n",
       "      <td>cancer</td>\n",
       "      <td>male</td>\n",
       "      <td>CCK_8</td>\n",
       "      <td>TetrazoliumSalt</td>\n",
       "      <td>other</td>\n",
       "      <td>104.89</td>\n",
       "    </tr>\n",
       "    <tr>\n",
       "      <th>4</th>\n",
       "      <td>Au</td>\n",
       "      <td>Citrate_based</td>\n",
       "      <td>61.06</td>\n",
       "      <td>NaN</td>\n",
       "      <td>-30.55</td>\n",
       "      <td>NaN</td>\n",
       "      <td>Sphere</td>\n",
       "      <td>1.0</td>\n",
       "      <td>24.0</td>\n",
       "      <td>CCL-110</td>\n",
       "      <td>Human</td>\n",
       "      <td>Skin</td>\n",
       "      <td>Fibroblast</td>\n",
       "      <td>fetus</td>\n",
       "      <td>Normal</td>\n",
       "      <td>female</td>\n",
       "      <td>MTS</td>\n",
       "      <td>TetrazoliumSalt</td>\n",
       "      <td>other</td>\n",
       "      <td>94.17</td>\n",
       "    </tr>\n",
       "  </tbody>\n",
       "</table>\n",
       "</div>"
      ],
      "text/plain": [
       "          NP_type        Coating  core_size_nm  hydro_size_nm  Surf_charge_mV  \\\n",
       "0             CuO           None         12.80          305.3            7.60   \n",
       "1            PLGA            PVA        182.00            NaN           -3.50   \n",
       "2             CuO           None         46.30          239.0           42.80   \n",
       "3  Hydroxyapatite           None         20.00            NaN           -5.30   \n",
       "4              Au  Citrate_based         61.06            NaN          -30.55   \n",
       "\n",
       "   Surface_area_m2_g   shape  Dose_microg_mL  Duration_h  Cell_name  \\\n",
       "0                NaN     NaN             6.3         NaN    BEAS_2B   \n",
       "1                NaN  Sphere           500.0         4.0     Calu-3   \n",
       "2               24.1     NaN             0.0        24.0      HCMEC   \n",
       "3                NaN     Rod            10.0        24.0  RAW 264.7   \n",
       "4                NaN  Sphere             1.0        24.0    CCL-110   \n",
       "\n",
       "  Cell_species cell_Organ Cell_morphology Cell_age cell_type     sex  Assay  \\\n",
       "0        Human       Lung      Epithelial    Adult    Normal     NaN    MTS   \n",
       "1        Human       Lung      Epithelial    Adult    cancer    male    MTT   \n",
       "2        Human      Heart     Endothelial    Adult    Normal     NaN    MTT   \n",
       "3        Mouse      Blood      Macrophage    Adult    cancer    male  CCK_8   \n",
       "4        Human       Skin      Fibroblast    fetus    Normal  female    MTS   \n",
       "\n",
       "    Test_indicator nanomaterial_group  Viability  \n",
       "0  TetrazoliumSalt         meta_oxide      82.00  \n",
       "1  TetrazoliumSalt              other      94.29  \n",
       "2  TetrazoliumSalt         meta_oxide      96.13  \n",
       "3  TetrazoliumSalt              other     104.89  \n",
       "4  TetrazoliumSalt              other      94.17  "
      ]
     },
     "execution_count": 12,
     "metadata": {},
     "output_type": "execute_result"
    }
   ],
   "source": [
    "data_train_df.head()"
   ]
  },
  {
   "cell_type": "code",
   "execution_count": 13,
   "id": "19b3d57d",
   "metadata": {},
   "outputs": [],
   "source": [
    "#data_train_df_clean = data_train_df.dropna(thresh=data_train_df.shape[1]-3, axis=0)\n",
    "#print(data_train_df_clean.shape)"
   ]
  },
  {
   "cell_type": "markdown",
   "id": "4e176266",
   "metadata": {},
   "source": [
    "### Loading the test data into the data frame."
   ]
  },
  {
   "cell_type": "code",
   "execution_count": 14,
   "id": "3f3fa90b",
   "metadata": {},
   "outputs": [],
   "source": [
    "data_test_df = pd.read_csv(\"output/datasets/universal/data_regression_test_df.csv\", encoding=\"utf-8\")"
   ]
  },
  {
   "cell_type": "code",
   "execution_count": 15,
   "id": "52dadafb",
   "metadata": {},
   "outputs": [
    {
     "data": {
      "text/plain": [
       "NP_type                object\n",
       "Coating                object\n",
       "core_size_nm          float64\n",
       "hydro_size_nm         float64\n",
       "Surf_charge_mV        float64\n",
       "Surface_area_m2_g     float64\n",
       "shape                  object\n",
       "Dose_microg_mL        float64\n",
       "Duration_h            float64\n",
       "Cell_name              object\n",
       "Cell_species           object\n",
       "cell_Organ             object\n",
       "Cell_morphology        object\n",
       "Cell_age               object\n",
       "cell_type              object\n",
       "sex                    object\n",
       "Assay                  object\n",
       "Test_indicator         object\n",
       "nanomaterial_group     object\n",
       "Viability             float64\n",
       "dtype: object"
      ]
     },
     "execution_count": 15,
     "metadata": {},
     "output_type": "execute_result"
    }
   ],
   "source": [
    "data_test_df.dtypes"
   ]
  },
  {
   "cell_type": "code",
   "execution_count": 16,
   "id": "d29ca572",
   "metadata": {},
   "outputs": [
    {
     "data": {
      "text/plain": [
       "(932, 20)"
      ]
     },
     "execution_count": 16,
     "metadata": {},
     "output_type": "execute_result"
    }
   ],
   "source": [
    "data_test_df.shape"
   ]
  },
  {
   "cell_type": "code",
   "execution_count": 17,
   "id": "fd043ed7",
   "metadata": {},
   "outputs": [
    {
     "data": {
      "text/html": [
       "<div>\n",
       "<style scoped>\n",
       "    .dataframe tbody tr th:only-of-type {\n",
       "        vertical-align: middle;\n",
       "    }\n",
       "\n",
       "    .dataframe tbody tr th {\n",
       "        vertical-align: top;\n",
       "    }\n",
       "\n",
       "    .dataframe thead th {\n",
       "        text-align: right;\n",
       "    }\n",
       "</style>\n",
       "<table border=\"1\" class=\"dataframe\">\n",
       "  <thead>\n",
       "    <tr style=\"text-align: right;\">\n",
       "      <th></th>\n",
       "      <th>NP_type</th>\n",
       "      <th>Coating</th>\n",
       "      <th>core_size_nm</th>\n",
       "      <th>hydro_size_nm</th>\n",
       "      <th>Surf_charge_mV</th>\n",
       "      <th>Surface_area_m2_g</th>\n",
       "      <th>shape</th>\n",
       "      <th>Dose_microg_mL</th>\n",
       "      <th>Duration_h</th>\n",
       "      <th>Cell_name</th>\n",
       "      <th>Cell_species</th>\n",
       "      <th>cell_Organ</th>\n",
       "      <th>Cell_morphology</th>\n",
       "      <th>Cell_age</th>\n",
       "      <th>cell_type</th>\n",
       "      <th>sex</th>\n",
       "      <th>Assay</th>\n",
       "      <th>Test_indicator</th>\n",
       "      <th>nanomaterial_group</th>\n",
       "      <th>Viability</th>\n",
       "    </tr>\n",
       "  </thead>\n",
       "  <tbody>\n",
       "    <tr>\n",
       "      <th>0</th>\n",
       "      <td>IronOxide</td>\n",
       "      <td>OleicAcid</td>\n",
       "      <td>10.9</td>\n",
       "      <td>183.60</td>\n",
       "      <td>-28.50</td>\n",
       "      <td>NaN</td>\n",
       "      <td>Sphere</td>\n",
       "      <td>25.0</td>\n",
       "      <td>6.0</td>\n",
       "      <td>SH­SY5Y</td>\n",
       "      <td>Human</td>\n",
       "      <td>BoneMarrow</td>\n",
       "      <td>Epithelial</td>\n",
       "      <td>Young</td>\n",
       "      <td>cancer</td>\n",
       "      <td>female</td>\n",
       "      <td>NR</td>\n",
       "      <td>toluylene red</td>\n",
       "      <td>meta_oxide</td>\n",
       "      <td>104.59</td>\n",
       "    </tr>\n",
       "    <tr>\n",
       "      <th>1</th>\n",
       "      <td>Al2O3</td>\n",
       "      <td>None</td>\n",
       "      <td>39.7</td>\n",
       "      <td>NaN</td>\n",
       "      <td>36.30</td>\n",
       "      <td>NaN</td>\n",
       "      <td>Sphere</td>\n",
       "      <td>0.1</td>\n",
       "      <td>24.0</td>\n",
       "      <td>HCMEC</td>\n",
       "      <td>Human</td>\n",
       "      <td>Heart</td>\n",
       "      <td>Endothelial</td>\n",
       "      <td>Adult</td>\n",
       "      <td>Normal</td>\n",
       "      <td>NaN</td>\n",
       "      <td>MTT</td>\n",
       "      <td>TetrazoliumSalt</td>\n",
       "      <td>meta_oxide</td>\n",
       "      <td>93.77</td>\n",
       "    </tr>\n",
       "    <tr>\n",
       "      <th>2</th>\n",
       "      <td>IronOxide</td>\n",
       "      <td>Folic_acid_based</td>\n",
       "      <td>80.0</td>\n",
       "      <td>420.55</td>\n",
       "      <td>-27.70</td>\n",
       "      <td>NaN</td>\n",
       "      <td>NaN</td>\n",
       "      <td>0.0</td>\n",
       "      <td>24.0</td>\n",
       "      <td>SKOV­3</td>\n",
       "      <td>Human</td>\n",
       "      <td>Ovary</td>\n",
       "      <td>Epithelial</td>\n",
       "      <td>Young</td>\n",
       "      <td>cancer</td>\n",
       "      <td>female</td>\n",
       "      <td>MTT</td>\n",
       "      <td>TetrazoliumSalt</td>\n",
       "      <td>meta_oxide</td>\n",
       "      <td>91.92</td>\n",
       "    </tr>\n",
       "    <tr>\n",
       "      <th>3</th>\n",
       "      <td>ZnO</td>\n",
       "      <td>None</td>\n",
       "      <td>100.0</td>\n",
       "      <td>258.55</td>\n",
       "      <td>-9.96</td>\n",
       "      <td>NaN</td>\n",
       "      <td>Sphere</td>\n",
       "      <td>80.0</td>\n",
       "      <td>24.0</td>\n",
       "      <td>SH­SY5Y</td>\n",
       "      <td>Human</td>\n",
       "      <td>BoneMarrow</td>\n",
       "      <td>Epithelial</td>\n",
       "      <td>Young</td>\n",
       "      <td>cancer</td>\n",
       "      <td>female</td>\n",
       "      <td>NR</td>\n",
       "      <td>toluylene red</td>\n",
       "      <td>meta_oxide</td>\n",
       "      <td>49.35</td>\n",
       "    </tr>\n",
       "    <tr>\n",
       "      <th>4</th>\n",
       "      <td>MgO</td>\n",
       "      <td>None</td>\n",
       "      <td>NaN</td>\n",
       "      <td>NaN</td>\n",
       "      <td>-7.21</td>\n",
       "      <td>NaN</td>\n",
       "      <td>Hexagon</td>\n",
       "      <td>400.0</td>\n",
       "      <td>24.0</td>\n",
       "      <td>VERO</td>\n",
       "      <td>Monkey</td>\n",
       "      <td>Kidney</td>\n",
       "      <td>Epithelial</td>\n",
       "      <td>Adult</td>\n",
       "      <td>Normal</td>\n",
       "      <td>female</td>\n",
       "      <td>MTT</td>\n",
       "      <td>TetrazoliumSalt</td>\n",
       "      <td>meta_oxide</td>\n",
       "      <td>70.96</td>\n",
       "    </tr>\n",
       "  </tbody>\n",
       "</table>\n",
       "</div>"
      ],
      "text/plain": [
       "     NP_type           Coating  core_size_nm  hydro_size_nm  Surf_charge_mV  \\\n",
       "0  IronOxide         OleicAcid          10.9         183.60          -28.50   \n",
       "1      Al2O3              None          39.7            NaN           36.30   \n",
       "2  IronOxide  Folic_acid_based          80.0         420.55          -27.70   \n",
       "3        ZnO              None         100.0         258.55           -9.96   \n",
       "4        MgO              None           NaN            NaN           -7.21   \n",
       "\n",
       "   Surface_area_m2_g    shape  Dose_microg_mL  Duration_h Cell_name  \\\n",
       "0                NaN   Sphere            25.0         6.0   SH­SY5Y   \n",
       "1                NaN   Sphere             0.1        24.0     HCMEC   \n",
       "2                NaN      NaN             0.0        24.0    SKOV­3   \n",
       "3                NaN   Sphere            80.0        24.0   SH­SY5Y   \n",
       "4                NaN  Hexagon           400.0        24.0      VERO   \n",
       "\n",
       "  Cell_species  cell_Organ Cell_morphology Cell_age cell_type     sex Assay  \\\n",
       "0        Human  BoneMarrow      Epithelial    Young    cancer  female    NR   \n",
       "1        Human       Heart     Endothelial    Adult    Normal     NaN   MTT   \n",
       "2        Human       Ovary      Epithelial    Young    cancer  female   MTT   \n",
       "3        Human  BoneMarrow      Epithelial    Young    cancer  female    NR   \n",
       "4       Monkey      Kidney      Epithelial    Adult    Normal  female   MTT   \n",
       "\n",
       "    Test_indicator nanomaterial_group  Viability  \n",
       "0    toluylene red         meta_oxide     104.59  \n",
       "1  TetrazoliumSalt         meta_oxide      93.77  \n",
       "2  TetrazoliumSalt         meta_oxide      91.92  \n",
       "3    toluylene red         meta_oxide      49.35  \n",
       "4  TetrazoliumSalt         meta_oxide      70.96  "
      ]
     },
     "execution_count": 17,
     "metadata": {},
     "output_type": "execute_result"
    }
   ],
   "source": [
    "data_test_df.head()"
   ]
  },
  {
   "cell_type": "code",
   "execution_count": 18,
   "id": "c9e19bb8",
   "metadata": {},
   "outputs": [],
   "source": [
    "#data_test_df_clean = data_test_df.dropna(thresh=data_test_df.shape[1]-3, axis=0)\n",
    "#print(data_test_df_clean.shape)"
   ]
  },
  {
   "cell_type": "markdown",
   "id": "cffe023c-bf03-4ba8-a278-8b1261da6572",
   "metadata": {},
   "source": [
    "### Use the best scenario identified in step 01"
   ]
  },
  {
   "cell_type": "code",
   "execution_count": 19,
   "id": "2cf8d7ef",
   "metadata": {},
   "outputs": [],
   "source": [
    "sc_ignore_features = None\n",
    "sc_high_cardinality_features = None\n",
    "\n",
    "sc_imputation_type = 'simple'\n",
    "sc_numeric_imputation = 'mean'\n",
    "\n",
    "sc_normalize = True\n",
    "sc_remove_outliers = False"
   ]
  },
  {
   "cell_type": "markdown",
   "id": "eb0fb96c",
   "metadata": {},
   "source": [
    "### Define seeds"
   ]
  },
  {
   "cell_type": "code",
   "execution_count": 20,
   "id": "7db1802e",
   "metadata": {},
   "outputs": [],
   "source": [
    "cv_inner_seed = 123456\n",
    "cv_outer_seed = 123"
   ]
  },
  {
   "cell_type": "markdown",
   "id": "b866744f",
   "metadata": {},
   "source": [
    "### The Universal Regression Model: Data Preprcoessing"
   ]
  },
  {
   "cell_type": "code",
   "execution_count": 21,
   "id": "cb2a02f9",
   "metadata": {},
   "outputs": [
    {
     "data": {
      "text/html": [
       "<style type=\"text/css\">\n",
       "#T_6ba07_row3_col1, #T_6ba07_row27_col1, #T_6ba07_row34_col1, #T_6ba07_row42_col1 {\n",
       "  background-color: lightgreen;\n",
       "}\n",
       "</style>\n",
       "<table id=\"T_6ba07\">\n",
       "  <thead>\n",
       "    <tr>\n",
       "      <th class=\"blank level0\" >&nbsp;</th>\n",
       "      <th id=\"T_6ba07_level0_col0\" class=\"col_heading level0 col0\" >Description</th>\n",
       "      <th id=\"T_6ba07_level0_col1\" class=\"col_heading level0 col1\" >Value</th>\n",
       "    </tr>\n",
       "  </thead>\n",
       "  <tbody>\n",
       "    <tr>\n",
       "      <th id=\"T_6ba07_level0_row0\" class=\"row_heading level0 row0\" >0</th>\n",
       "      <td id=\"T_6ba07_row0_col0\" class=\"data row0 col0\" >session_id</td>\n",
       "      <td id=\"T_6ba07_row0_col1\" class=\"data row0 col1\" >123456</td>\n",
       "    </tr>\n",
       "    <tr>\n",
       "      <th id=\"T_6ba07_level0_row1\" class=\"row_heading level0 row1\" >1</th>\n",
       "      <td id=\"T_6ba07_row1_col0\" class=\"data row1 col0\" >Target</td>\n",
       "      <td id=\"T_6ba07_row1_col1\" class=\"data row1 col1\" >Viability</td>\n",
       "    </tr>\n",
       "    <tr>\n",
       "      <th id=\"T_6ba07_level0_row2\" class=\"row_heading level0 row2\" >2</th>\n",
       "      <td id=\"T_6ba07_row2_col0\" class=\"data row2 col0\" >Original Data</td>\n",
       "      <td id=\"T_6ba07_row2_col1\" class=\"data row2 col1\" >(3724, 20)</td>\n",
       "    </tr>\n",
       "    <tr>\n",
       "      <th id=\"T_6ba07_level0_row3\" class=\"row_heading level0 row3\" >3</th>\n",
       "      <td id=\"T_6ba07_row3_col0\" class=\"data row3 col0\" >Missing Values</td>\n",
       "      <td id=\"T_6ba07_row3_col1\" class=\"data row3 col1\" >True</td>\n",
       "    </tr>\n",
       "    <tr>\n",
       "      <th id=\"T_6ba07_level0_row4\" class=\"row_heading level0 row4\" >4</th>\n",
       "      <td id=\"T_6ba07_row4_col0\" class=\"data row4 col0\" >Numeric Features</td>\n",
       "      <td id=\"T_6ba07_row4_col1\" class=\"data row4 col1\" >6</td>\n",
       "    </tr>\n",
       "    <tr>\n",
       "      <th id=\"T_6ba07_level0_row5\" class=\"row_heading level0 row5\" >5</th>\n",
       "      <td id=\"T_6ba07_row5_col0\" class=\"data row5 col0\" >Categorical Features</td>\n",
       "      <td id=\"T_6ba07_row5_col1\" class=\"data row5 col1\" >13</td>\n",
       "    </tr>\n",
       "    <tr>\n",
       "      <th id=\"T_6ba07_level0_row6\" class=\"row_heading level0 row6\" >6</th>\n",
       "      <td id=\"T_6ba07_row6_col0\" class=\"data row6 col0\" >Ordinal Features</td>\n",
       "      <td id=\"T_6ba07_row6_col1\" class=\"data row6 col1\" >False</td>\n",
       "    </tr>\n",
       "    <tr>\n",
       "      <th id=\"T_6ba07_level0_row7\" class=\"row_heading level0 row7\" >7</th>\n",
       "      <td id=\"T_6ba07_row7_col0\" class=\"data row7 col0\" >High Cardinality Features</td>\n",
       "      <td id=\"T_6ba07_row7_col1\" class=\"data row7 col1\" >False</td>\n",
       "    </tr>\n",
       "    <tr>\n",
       "      <th id=\"T_6ba07_level0_row8\" class=\"row_heading level0 row8\" >8</th>\n",
       "      <td id=\"T_6ba07_row8_col0\" class=\"data row8 col0\" >High Cardinality Method</td>\n",
       "      <td id=\"T_6ba07_row8_col1\" class=\"data row8 col1\" >None</td>\n",
       "    </tr>\n",
       "    <tr>\n",
       "      <th id=\"T_6ba07_level0_row9\" class=\"row_heading level0 row9\" >9</th>\n",
       "      <td id=\"T_6ba07_row9_col0\" class=\"data row9 col0\" >Transformed Train Set</td>\n",
       "      <td id=\"T_6ba07_row9_col1\" class=\"data row9 col1\" >(3724, 249)</td>\n",
       "    </tr>\n",
       "    <tr>\n",
       "      <th id=\"T_6ba07_level0_row10\" class=\"row_heading level0 row10\" >10</th>\n",
       "      <td id=\"T_6ba07_row10_col0\" class=\"data row10 col0\" >Transformed Test Set</td>\n",
       "      <td id=\"T_6ba07_row10_col1\" class=\"data row10 col1\" >(932, 249)</td>\n",
       "    </tr>\n",
       "    <tr>\n",
       "      <th id=\"T_6ba07_level0_row11\" class=\"row_heading level0 row11\" >11</th>\n",
       "      <td id=\"T_6ba07_row11_col0\" class=\"data row11 col0\" >Shuffle Train-Test</td>\n",
       "      <td id=\"T_6ba07_row11_col1\" class=\"data row11 col1\" >True</td>\n",
       "    </tr>\n",
       "    <tr>\n",
       "      <th id=\"T_6ba07_level0_row12\" class=\"row_heading level0 row12\" >12</th>\n",
       "      <td id=\"T_6ba07_row12_col0\" class=\"data row12 col0\" >Stratify Train-Test</td>\n",
       "      <td id=\"T_6ba07_row12_col1\" class=\"data row12 col1\" >False</td>\n",
       "    </tr>\n",
       "    <tr>\n",
       "      <th id=\"T_6ba07_level0_row13\" class=\"row_heading level0 row13\" >13</th>\n",
       "      <td id=\"T_6ba07_row13_col0\" class=\"data row13 col0\" >Fold Generator</td>\n",
       "      <td id=\"T_6ba07_row13_col1\" class=\"data row13 col1\" >KFold</td>\n",
       "    </tr>\n",
       "    <tr>\n",
       "      <th id=\"T_6ba07_level0_row14\" class=\"row_heading level0 row14\" >14</th>\n",
       "      <td id=\"T_6ba07_row14_col0\" class=\"data row14 col0\" >Fold Number</td>\n",
       "      <td id=\"T_6ba07_row14_col1\" class=\"data row14 col1\" >5</td>\n",
       "    </tr>\n",
       "    <tr>\n",
       "      <th id=\"T_6ba07_level0_row15\" class=\"row_heading level0 row15\" >15</th>\n",
       "      <td id=\"T_6ba07_row15_col0\" class=\"data row15 col0\" >CPU Jobs</td>\n",
       "      <td id=\"T_6ba07_row15_col1\" class=\"data row15 col1\" >-1</td>\n",
       "    </tr>\n",
       "    <tr>\n",
       "      <th id=\"T_6ba07_level0_row16\" class=\"row_heading level0 row16\" >16</th>\n",
       "      <td id=\"T_6ba07_row16_col0\" class=\"data row16 col0\" >Use GPU</td>\n",
       "      <td id=\"T_6ba07_row16_col1\" class=\"data row16 col1\" >False</td>\n",
       "    </tr>\n",
       "    <tr>\n",
       "      <th id=\"T_6ba07_level0_row17\" class=\"row_heading level0 row17\" >17</th>\n",
       "      <td id=\"T_6ba07_row17_col0\" class=\"data row17 col0\" >Log Experiment</td>\n",
       "      <td id=\"T_6ba07_row17_col1\" class=\"data row17 col1\" >False</td>\n",
       "    </tr>\n",
       "    <tr>\n",
       "      <th id=\"T_6ba07_level0_row18\" class=\"row_heading level0 row18\" >18</th>\n",
       "      <td id=\"T_6ba07_row18_col0\" class=\"data row18 col0\" >Experiment Name</td>\n",
       "      <td id=\"T_6ba07_row18_col1\" class=\"data row18 col1\" >universal</td>\n",
       "    </tr>\n",
       "    <tr>\n",
       "      <th id=\"T_6ba07_level0_row19\" class=\"row_heading level0 row19\" >19</th>\n",
       "      <td id=\"T_6ba07_row19_col0\" class=\"data row19 col0\" >USI</td>\n",
       "      <td id=\"T_6ba07_row19_col1\" class=\"data row19 col1\" >0ce4</td>\n",
       "    </tr>\n",
       "    <tr>\n",
       "      <th id=\"T_6ba07_level0_row20\" class=\"row_heading level0 row20\" >20</th>\n",
       "      <td id=\"T_6ba07_row20_col0\" class=\"data row20 col0\" >Imputation Type</td>\n",
       "      <td id=\"T_6ba07_row20_col1\" class=\"data row20 col1\" >simple</td>\n",
       "    </tr>\n",
       "    <tr>\n",
       "      <th id=\"T_6ba07_level0_row21\" class=\"row_heading level0 row21\" >21</th>\n",
       "      <td id=\"T_6ba07_row21_col0\" class=\"data row21 col0\" >Iterative Imputation Iteration</td>\n",
       "      <td id=\"T_6ba07_row21_col1\" class=\"data row21 col1\" >None</td>\n",
       "    </tr>\n",
       "    <tr>\n",
       "      <th id=\"T_6ba07_level0_row22\" class=\"row_heading level0 row22\" >22</th>\n",
       "      <td id=\"T_6ba07_row22_col0\" class=\"data row22 col0\" >Numeric Imputer</td>\n",
       "      <td id=\"T_6ba07_row22_col1\" class=\"data row22 col1\" >mean</td>\n",
       "    </tr>\n",
       "    <tr>\n",
       "      <th id=\"T_6ba07_level0_row23\" class=\"row_heading level0 row23\" >23</th>\n",
       "      <td id=\"T_6ba07_row23_col0\" class=\"data row23 col0\" >Iterative Imputation Numeric Model</td>\n",
       "      <td id=\"T_6ba07_row23_col1\" class=\"data row23 col1\" >None</td>\n",
       "    </tr>\n",
       "    <tr>\n",
       "      <th id=\"T_6ba07_level0_row24\" class=\"row_heading level0 row24\" >24</th>\n",
       "      <td id=\"T_6ba07_row24_col0\" class=\"data row24 col0\" >Categorical Imputer</td>\n",
       "      <td id=\"T_6ba07_row24_col1\" class=\"data row24 col1\" >constant</td>\n",
       "    </tr>\n",
       "    <tr>\n",
       "      <th id=\"T_6ba07_level0_row25\" class=\"row_heading level0 row25\" >25</th>\n",
       "      <td id=\"T_6ba07_row25_col0\" class=\"data row25 col0\" >Iterative Imputation Categorical Model</td>\n",
       "      <td id=\"T_6ba07_row25_col1\" class=\"data row25 col1\" >None</td>\n",
       "    </tr>\n",
       "    <tr>\n",
       "      <th id=\"T_6ba07_level0_row26\" class=\"row_heading level0 row26\" >26</th>\n",
       "      <td id=\"T_6ba07_row26_col0\" class=\"data row26 col0\" >Unknown Categoricals Handling</td>\n",
       "      <td id=\"T_6ba07_row26_col1\" class=\"data row26 col1\" >least_frequent</td>\n",
       "    </tr>\n",
       "    <tr>\n",
       "      <th id=\"T_6ba07_level0_row27\" class=\"row_heading level0 row27\" >27</th>\n",
       "      <td id=\"T_6ba07_row27_col0\" class=\"data row27 col0\" >Normalize</td>\n",
       "      <td id=\"T_6ba07_row27_col1\" class=\"data row27 col1\" >True</td>\n",
       "    </tr>\n",
       "    <tr>\n",
       "      <th id=\"T_6ba07_level0_row28\" class=\"row_heading level0 row28\" >28</th>\n",
       "      <td id=\"T_6ba07_row28_col0\" class=\"data row28 col0\" >Normalize Method</td>\n",
       "      <td id=\"T_6ba07_row28_col1\" class=\"data row28 col1\" >zscore</td>\n",
       "    </tr>\n",
       "    <tr>\n",
       "      <th id=\"T_6ba07_level0_row29\" class=\"row_heading level0 row29\" >29</th>\n",
       "      <td id=\"T_6ba07_row29_col0\" class=\"data row29 col0\" >Transformation</td>\n",
       "      <td id=\"T_6ba07_row29_col1\" class=\"data row29 col1\" >False</td>\n",
       "    </tr>\n",
       "    <tr>\n",
       "      <th id=\"T_6ba07_level0_row30\" class=\"row_heading level0 row30\" >30</th>\n",
       "      <td id=\"T_6ba07_row30_col0\" class=\"data row30 col0\" >Transformation Method</td>\n",
       "      <td id=\"T_6ba07_row30_col1\" class=\"data row30 col1\" >None</td>\n",
       "    </tr>\n",
       "    <tr>\n",
       "      <th id=\"T_6ba07_level0_row31\" class=\"row_heading level0 row31\" >31</th>\n",
       "      <td id=\"T_6ba07_row31_col0\" class=\"data row31 col0\" >PCA</td>\n",
       "      <td id=\"T_6ba07_row31_col1\" class=\"data row31 col1\" >False</td>\n",
       "    </tr>\n",
       "    <tr>\n",
       "      <th id=\"T_6ba07_level0_row32\" class=\"row_heading level0 row32\" >32</th>\n",
       "      <td id=\"T_6ba07_row32_col0\" class=\"data row32 col0\" >PCA Method</td>\n",
       "      <td id=\"T_6ba07_row32_col1\" class=\"data row32 col1\" >None</td>\n",
       "    </tr>\n",
       "    <tr>\n",
       "      <th id=\"T_6ba07_level0_row33\" class=\"row_heading level0 row33\" >33</th>\n",
       "      <td id=\"T_6ba07_row33_col0\" class=\"data row33 col0\" >PCA Components</td>\n",
       "      <td id=\"T_6ba07_row33_col1\" class=\"data row33 col1\" >None</td>\n",
       "    </tr>\n",
       "    <tr>\n",
       "      <th id=\"T_6ba07_level0_row34\" class=\"row_heading level0 row34\" >34</th>\n",
       "      <td id=\"T_6ba07_row34_col0\" class=\"data row34 col0\" >Ignore Low Variance</td>\n",
       "      <td id=\"T_6ba07_row34_col1\" class=\"data row34 col1\" >True</td>\n",
       "    </tr>\n",
       "    <tr>\n",
       "      <th id=\"T_6ba07_level0_row35\" class=\"row_heading level0 row35\" >35</th>\n",
       "      <td id=\"T_6ba07_row35_col0\" class=\"data row35 col0\" >Combine Rare Levels</td>\n",
       "      <td id=\"T_6ba07_row35_col1\" class=\"data row35 col1\" >False</td>\n",
       "    </tr>\n",
       "    <tr>\n",
       "      <th id=\"T_6ba07_level0_row36\" class=\"row_heading level0 row36\" >36</th>\n",
       "      <td id=\"T_6ba07_row36_col0\" class=\"data row36 col0\" >Rare Level Threshold</td>\n",
       "      <td id=\"T_6ba07_row36_col1\" class=\"data row36 col1\" >None</td>\n",
       "    </tr>\n",
       "    <tr>\n",
       "      <th id=\"T_6ba07_level0_row37\" class=\"row_heading level0 row37\" >37</th>\n",
       "      <td id=\"T_6ba07_row37_col0\" class=\"data row37 col0\" >Numeric Binning</td>\n",
       "      <td id=\"T_6ba07_row37_col1\" class=\"data row37 col1\" >False</td>\n",
       "    </tr>\n",
       "    <tr>\n",
       "      <th id=\"T_6ba07_level0_row38\" class=\"row_heading level0 row38\" >38</th>\n",
       "      <td id=\"T_6ba07_row38_col0\" class=\"data row38 col0\" >Remove Outliers</td>\n",
       "      <td id=\"T_6ba07_row38_col1\" class=\"data row38 col1\" >False</td>\n",
       "    </tr>\n",
       "    <tr>\n",
       "      <th id=\"T_6ba07_level0_row39\" class=\"row_heading level0 row39\" >39</th>\n",
       "      <td id=\"T_6ba07_row39_col0\" class=\"data row39 col0\" >Outliers Threshold</td>\n",
       "      <td id=\"T_6ba07_row39_col1\" class=\"data row39 col1\" >None</td>\n",
       "    </tr>\n",
       "    <tr>\n",
       "      <th id=\"T_6ba07_level0_row40\" class=\"row_heading level0 row40\" >40</th>\n",
       "      <td id=\"T_6ba07_row40_col0\" class=\"data row40 col0\" >Remove Multicollinearity</td>\n",
       "      <td id=\"T_6ba07_row40_col1\" class=\"data row40 col1\" >False</td>\n",
       "    </tr>\n",
       "    <tr>\n",
       "      <th id=\"T_6ba07_level0_row41\" class=\"row_heading level0 row41\" >41</th>\n",
       "      <td id=\"T_6ba07_row41_col0\" class=\"data row41 col0\" >Multicollinearity Threshold</td>\n",
       "      <td id=\"T_6ba07_row41_col1\" class=\"data row41 col1\" >None</td>\n",
       "    </tr>\n",
       "    <tr>\n",
       "      <th id=\"T_6ba07_level0_row42\" class=\"row_heading level0 row42\" >42</th>\n",
       "      <td id=\"T_6ba07_row42_col0\" class=\"data row42 col0\" >Remove Perfect Collinearity</td>\n",
       "      <td id=\"T_6ba07_row42_col1\" class=\"data row42 col1\" >True</td>\n",
       "    </tr>\n",
       "    <tr>\n",
       "      <th id=\"T_6ba07_level0_row43\" class=\"row_heading level0 row43\" >43</th>\n",
       "      <td id=\"T_6ba07_row43_col0\" class=\"data row43 col0\" >Clustering</td>\n",
       "      <td id=\"T_6ba07_row43_col1\" class=\"data row43 col1\" >False</td>\n",
       "    </tr>\n",
       "    <tr>\n",
       "      <th id=\"T_6ba07_level0_row44\" class=\"row_heading level0 row44\" >44</th>\n",
       "      <td id=\"T_6ba07_row44_col0\" class=\"data row44 col0\" >Clustering Iteration</td>\n",
       "      <td id=\"T_6ba07_row44_col1\" class=\"data row44 col1\" >None</td>\n",
       "    </tr>\n",
       "    <tr>\n",
       "      <th id=\"T_6ba07_level0_row45\" class=\"row_heading level0 row45\" >45</th>\n",
       "      <td id=\"T_6ba07_row45_col0\" class=\"data row45 col0\" >Polynomial Features</td>\n",
       "      <td id=\"T_6ba07_row45_col1\" class=\"data row45 col1\" >False</td>\n",
       "    </tr>\n",
       "    <tr>\n",
       "      <th id=\"T_6ba07_level0_row46\" class=\"row_heading level0 row46\" >46</th>\n",
       "      <td id=\"T_6ba07_row46_col0\" class=\"data row46 col0\" >Polynomial Degree</td>\n",
       "      <td id=\"T_6ba07_row46_col1\" class=\"data row46 col1\" >None</td>\n",
       "    </tr>\n",
       "    <tr>\n",
       "      <th id=\"T_6ba07_level0_row47\" class=\"row_heading level0 row47\" >47</th>\n",
       "      <td id=\"T_6ba07_row47_col0\" class=\"data row47 col0\" >Trignometry Features</td>\n",
       "      <td id=\"T_6ba07_row47_col1\" class=\"data row47 col1\" >False</td>\n",
       "    </tr>\n",
       "    <tr>\n",
       "      <th id=\"T_6ba07_level0_row48\" class=\"row_heading level0 row48\" >48</th>\n",
       "      <td id=\"T_6ba07_row48_col0\" class=\"data row48 col0\" >Polynomial Threshold</td>\n",
       "      <td id=\"T_6ba07_row48_col1\" class=\"data row48 col1\" >None</td>\n",
       "    </tr>\n",
       "    <tr>\n",
       "      <th id=\"T_6ba07_level0_row49\" class=\"row_heading level0 row49\" >49</th>\n",
       "      <td id=\"T_6ba07_row49_col0\" class=\"data row49 col0\" >Group Features</td>\n",
       "      <td id=\"T_6ba07_row49_col1\" class=\"data row49 col1\" >False</td>\n",
       "    </tr>\n",
       "    <tr>\n",
       "      <th id=\"T_6ba07_level0_row50\" class=\"row_heading level0 row50\" >50</th>\n",
       "      <td id=\"T_6ba07_row50_col0\" class=\"data row50 col0\" >Feature Selection</td>\n",
       "      <td id=\"T_6ba07_row50_col1\" class=\"data row50 col1\" >False</td>\n",
       "    </tr>\n",
       "    <tr>\n",
       "      <th id=\"T_6ba07_level0_row51\" class=\"row_heading level0 row51\" >51</th>\n",
       "      <td id=\"T_6ba07_row51_col0\" class=\"data row51 col0\" >Feature Selection Method</td>\n",
       "      <td id=\"T_6ba07_row51_col1\" class=\"data row51 col1\" >classic</td>\n",
       "    </tr>\n",
       "    <tr>\n",
       "      <th id=\"T_6ba07_level0_row52\" class=\"row_heading level0 row52\" >52</th>\n",
       "      <td id=\"T_6ba07_row52_col0\" class=\"data row52 col0\" >Features Selection Threshold</td>\n",
       "      <td id=\"T_6ba07_row52_col1\" class=\"data row52 col1\" >None</td>\n",
       "    </tr>\n",
       "    <tr>\n",
       "      <th id=\"T_6ba07_level0_row53\" class=\"row_heading level0 row53\" >53</th>\n",
       "      <td id=\"T_6ba07_row53_col0\" class=\"data row53 col0\" >Feature Interaction</td>\n",
       "      <td id=\"T_6ba07_row53_col1\" class=\"data row53 col1\" >False</td>\n",
       "    </tr>\n",
       "    <tr>\n",
       "      <th id=\"T_6ba07_level0_row54\" class=\"row_heading level0 row54\" >54</th>\n",
       "      <td id=\"T_6ba07_row54_col0\" class=\"data row54 col0\" >Feature Ratio</td>\n",
       "      <td id=\"T_6ba07_row54_col1\" class=\"data row54 col1\" >False</td>\n",
       "    </tr>\n",
       "    <tr>\n",
       "      <th id=\"T_6ba07_level0_row55\" class=\"row_heading level0 row55\" >55</th>\n",
       "      <td id=\"T_6ba07_row55_col0\" class=\"data row55 col0\" >Interaction Threshold</td>\n",
       "      <td id=\"T_6ba07_row55_col1\" class=\"data row55 col1\" >None</td>\n",
       "    </tr>\n",
       "    <tr>\n",
       "      <th id=\"T_6ba07_level0_row56\" class=\"row_heading level0 row56\" >56</th>\n",
       "      <td id=\"T_6ba07_row56_col0\" class=\"data row56 col0\" >Transform Target</td>\n",
       "      <td id=\"T_6ba07_row56_col1\" class=\"data row56 col1\" >False</td>\n",
       "    </tr>\n",
       "    <tr>\n",
       "      <th id=\"T_6ba07_level0_row57\" class=\"row_heading level0 row57\" >57</th>\n",
       "      <td id=\"T_6ba07_row57_col0\" class=\"data row57 col0\" >Transform Target Method</td>\n",
       "      <td id=\"T_6ba07_row57_col1\" class=\"data row57 col1\" >box-cox</td>\n",
       "    </tr>\n",
       "  </tbody>\n",
       "</table>\n"
      ],
      "text/plain": [
       "<pandas.io.formats.style.Styler at 0x7f77e87e0520>"
      ]
     },
     "metadata": {},
     "output_type": "display_data"
    }
   ],
   "source": [
    "stup = setup(data = data_train_df, target = 'Viability', \n",
    "              \n",
    "        test_data = data_test_df,\n",
    "             \n",
    "        categorical_features=categorical_columns,\n",
    "        numeric_features=numerical_columns_no_target,\n",
    "\n",
    "        imputation_type = sc_imputation_type, \n",
    "        numeric_imputation = sc_numeric_imputation, #default: mean\n",
    "\n",
    "        ignore_features = sc_ignore_features,\n",
    "        bin_numeric_features = None,\n",
    "        high_cardinality_features = sc_high_cardinality_features,\n",
    "\n",
    "        normalize = sc_normalize, #default: False\n",
    "        remove_outliers= sc_remove_outliers, #default: False\n",
    "\n",
    "        transformation= False, #default\n",
    "        transformation_method = 'yeo-johnson', #default\n",
    "        transform_target = False, \n",
    "        combine_rare_levels = False,\n",
    "        rare_level_threshold = 0.1, #default: 0.1\n",
    "\n",
    "        remove_multicollinearity = False, #default \n",
    "        multicollinearity_threshold = 0.9, #default\n",
    "\n",
    "        ignore_low_variance = True, \n",
    "\n",
    "        feature_interaction = False, \n",
    "        feature_ratio = False,\n",
    "        polynomial_features = False, \n",
    "        trigonometry_features = False,\n",
    "          \n",
    "        fold = 5,\n",
    "\n",
    "        # don't change the following\n",
    "        session_id = cv_inner_seed,\n",
    "        use_gpu=False,\n",
    "        log_experiment = False,\n",
    "        silent=True,\n",
    "        experiment_name = 'universal')\n",
    "\n",
    "set_config('seed', cv_inner_seed)"
   ]
  },
  {
   "cell_type": "code",
   "execution_count": 22,
   "id": "ebe27ee8",
   "metadata": {},
   "outputs": [
    {
     "name": "stdout",
     "output_type": "stream",
     "text": [
      "(3724, 249)\n",
      "(3724,)\n"
     ]
    }
   ],
   "source": [
    "print(get_config(variable=\"X_train\").shape)\n",
    "print(get_config(variable=\"y_train\").shape)"
   ]
  },
  {
   "cell_type": "code",
   "execution_count": 23,
   "id": "34f3d922",
   "metadata": {},
   "outputs": [
    {
     "name": "stdout",
     "output_type": "stream",
     "text": [
      "(3724, 249)\n",
      "(3724,)\n"
     ]
    }
   ],
   "source": [
    "print(get_config(variable=\"X\").shape)\n",
    "print(get_config(variable=\"y\").shape)"
   ]
  },
  {
   "cell_type": "code",
   "execution_count": 24,
   "id": "f8e4ec4d",
   "metadata": {},
   "outputs": [],
   "source": [
    "#set_config('X_train', get_config(variable=\"X\").copy()) \n",
    "#set_config('y_train', get_config(variable=\"y\").copy()) \n",
    "#print(get_config(variable=\"X_train\").shape)\n",
    "#print(get_config(variable=\"y_train\").shape)"
   ]
  },
  {
   "cell_type": "code",
   "execution_count": 25,
   "id": "1b417175",
   "metadata": {},
   "outputs": [
    {
     "name": "stdout",
     "output_type": "stream",
     "text": [
      "(932, 249)\n",
      "(932,)\n"
     ]
    }
   ],
   "source": [
    "print(get_config(variable=\"X_test\").shape)\n",
    "print(get_config(variable=\"y_test\").shape)"
   ]
  },
  {
   "cell_type": "code",
   "execution_count": 26,
   "id": "e4387c1e",
   "metadata": {},
   "outputs": [],
   "source": [
    "#load_config('output/models/universal_regression_config.cfg')"
   ]
  },
  {
   "cell_type": "code",
   "execution_count": 27,
   "id": "6fff2182",
   "metadata": {},
   "outputs": [],
   "source": [
    "data_train_transformed_df = get_config(variable=\"X\").copy()\n",
    "data_train_transformed_df['Viability'] = get_config(variable=\"y\").copy()"
   ]
  },
  {
   "cell_type": "code",
   "execution_count": 28,
   "id": "cf253b28",
   "metadata": {},
   "outputs": [],
   "source": [
    "data_test_transformed_df = get_config(variable=\"X_test\").copy()\n",
    "data_test_transformed_df['Viability'] = get_config(variable=\"y_test\").copy()"
   ]
  },
  {
   "cell_type": "code",
   "execution_count": 29,
   "id": "43f293b7",
   "metadata": {},
   "outputs": [],
   "source": [
    "data_train_transformed_df.to_csv('output/datasets/universal/transformed/data_regression_train_transformed_df.csv', encoding='utf-8', index=False)\n",
    "data_test_transformed_df.to_csv('output/datasets/universal/transformed/data_regression_test_transformed_df.csv', encoding='utf-8', index=False)"
   ]
  },
  {
   "cell_type": "markdown",
   "id": "fe54e2d4",
   "metadata": {},
   "source": [
    "## Double cross-validation"
   ]
  },
  {
   "cell_type": "markdown",
   "id": "9db53e62",
   "metadata": {},
   "source": [
    "### Inner CV: 5-fold cross-validation for model selection / hyperparameter tuning for 8 models"
   ]
  },
  {
   "cell_type": "code",
   "execution_count": 30,
   "id": "8922c9c0",
   "metadata": {},
   "outputs": [],
   "source": [
    "model_names = ['lr', 'lasso', 'ridge', 'svm', 'rf', 'et', 'gbr', 'lightgbm']\n",
    "#model_names = ['lr']"
   ]
  },
  {
   "cell_type": "code",
   "execution_count": 31,
   "id": "69c30960",
   "metadata": {},
   "outputs": [],
   "source": [
    "inner_results = dict()\n",
    "inner_results_tuned = dict()\n",
    "outer_results = dict()\n",
    "predicted_results = dict()\n",
    "tuned_models = dict()\n",
    "final_models = dict()"
   ]
  },
  {
   "cell_type": "code",
   "execution_count": 32,
   "id": "c2a73417",
   "metadata": {},
   "outputs": [
    {
     "data": {
      "text/html": [
       "<style type=\"text/css\">\n",
       "#T_5eb36_row5_col0, #T_5eb36_row5_col1, #T_5eb36_row5_col2, #T_5eb36_row5_col3, #T_5eb36_row5_col4, #T_5eb36_row5_col5 {\n",
       "  background: yellow;\n",
       "}\n",
       "</style>\n",
       "<table id=\"T_5eb36\">\n",
       "  <thead>\n",
       "    <tr>\n",
       "      <th class=\"blank level0\" >&nbsp;</th>\n",
       "      <th id=\"T_5eb36_level0_col0\" class=\"col_heading level0 col0\" >MAE</th>\n",
       "      <th id=\"T_5eb36_level0_col1\" class=\"col_heading level0 col1\" >MSE</th>\n",
       "      <th id=\"T_5eb36_level0_col2\" class=\"col_heading level0 col2\" >RMSE</th>\n",
       "      <th id=\"T_5eb36_level0_col3\" class=\"col_heading level0 col3\" >R2</th>\n",
       "      <th id=\"T_5eb36_level0_col4\" class=\"col_heading level0 col4\" >RMSLE</th>\n",
       "      <th id=\"T_5eb36_level0_col5\" class=\"col_heading level0 col5\" >MAPE</th>\n",
       "    </tr>\n",
       "    <tr>\n",
       "      <th class=\"index_name level0\" >Fold</th>\n",
       "      <th class=\"blank col0\" >&nbsp;</th>\n",
       "      <th class=\"blank col1\" >&nbsp;</th>\n",
       "      <th class=\"blank col2\" >&nbsp;</th>\n",
       "      <th class=\"blank col3\" >&nbsp;</th>\n",
       "      <th class=\"blank col4\" >&nbsp;</th>\n",
       "      <th class=\"blank col5\" >&nbsp;</th>\n",
       "    </tr>\n",
       "  </thead>\n",
       "  <tbody>\n",
       "    <tr>\n",
       "      <th id=\"T_5eb36_level0_row0\" class=\"row_heading level0 row0\" >0</th>\n",
       "      <td id=\"T_5eb36_row0_col0\" class=\"data row0 col0\" >9.70</td>\n",
       "      <td id=\"T_5eb36_row0_col1\" class=\"data row0 col1\" >235.23</td>\n",
       "      <td id=\"T_5eb36_row0_col2\" class=\"data row0 col2\" >15.34</td>\n",
       "      <td id=\"T_5eb36_row0_col3\" class=\"data row0 col3\" >0.78</td>\n",
       "      <td id=\"T_5eb36_row0_col4\" class=\"data row0 col4\" >0.46</td>\n",
       "      <td id=\"T_5eb36_row0_col5\" class=\"data row0 col5\" >0.56</td>\n",
       "    </tr>\n",
       "    <tr>\n",
       "      <th id=\"T_5eb36_level0_row1\" class=\"row_heading level0 row1\" >1</th>\n",
       "      <td id=\"T_5eb36_row1_col0\" class=\"data row1 col0\" >9.00</td>\n",
       "      <td id=\"T_5eb36_row1_col1\" class=\"data row1 col1\" >172.09</td>\n",
       "      <td id=\"T_5eb36_row1_col2\" class=\"data row1 col2\" >13.12</td>\n",
       "      <td id=\"T_5eb36_row1_col3\" class=\"data row1 col3\" >0.81</td>\n",
       "      <td id=\"T_5eb36_row1_col4\" class=\"data row1 col4\" >0.48</td>\n",
       "      <td id=\"T_5eb36_row1_col5\" class=\"data row1 col5\" >1.37</td>\n",
       "    </tr>\n",
       "    <tr>\n",
       "      <th id=\"T_5eb36_level0_row2\" class=\"row_heading level0 row2\" >2</th>\n",
       "      <td id=\"T_5eb36_row2_col0\" class=\"data row2 col0\" >9.76</td>\n",
       "      <td id=\"T_5eb36_row2_col1\" class=\"data row2 col1\" >211.11</td>\n",
       "      <td id=\"T_5eb36_row2_col2\" class=\"data row2 col2\" >14.53</td>\n",
       "      <td id=\"T_5eb36_row2_col3\" class=\"data row2 col3\" >0.78</td>\n",
       "      <td id=\"T_5eb36_row2_col4\" class=\"data row2 col4\" >0.37</td>\n",
       "      <td id=\"T_5eb36_row2_col5\" class=\"data row2 col5\" >0.34</td>\n",
       "    </tr>\n",
       "    <tr>\n",
       "      <th id=\"T_5eb36_level0_row3\" class=\"row_heading level0 row3\" >3</th>\n",
       "      <td id=\"T_5eb36_row3_col0\" class=\"data row3 col0\" >8.95</td>\n",
       "      <td id=\"T_5eb36_row3_col1\" class=\"data row3 col1\" >187.55</td>\n",
       "      <td id=\"T_5eb36_row3_col2\" class=\"data row3 col2\" >13.69</td>\n",
       "      <td id=\"T_5eb36_row3_col3\" class=\"data row3 col3\" >0.82</td>\n",
       "      <td id=\"T_5eb36_row3_col4\" class=\"data row3 col4\" >0.39</td>\n",
       "      <td id=\"T_5eb36_row3_col5\" class=\"data row3 col5\" >0.47</td>\n",
       "    </tr>\n",
       "    <tr>\n",
       "      <th id=\"T_5eb36_level0_row4\" class=\"row_heading level0 row4\" >4</th>\n",
       "      <td id=\"T_5eb36_row4_col0\" class=\"data row4 col0\" >9.81</td>\n",
       "      <td id=\"T_5eb36_row4_col1\" class=\"data row4 col1\" >221.14</td>\n",
       "      <td id=\"T_5eb36_row4_col2\" class=\"data row4 col2\" >14.87</td>\n",
       "      <td id=\"T_5eb36_row4_col3\" class=\"data row4 col3\" >0.78</td>\n",
       "      <td id=\"T_5eb36_row4_col4\" class=\"data row4 col4\" >0.42</td>\n",
       "      <td id=\"T_5eb36_row4_col5\" class=\"data row4 col5\" >0.47</td>\n",
       "    </tr>\n",
       "    <tr>\n",
       "      <th id=\"T_5eb36_level0_row5\" class=\"row_heading level0 row5\" >Mean</th>\n",
       "      <td id=\"T_5eb36_row5_col0\" class=\"data row5 col0\" >9.44</td>\n",
       "      <td id=\"T_5eb36_row5_col1\" class=\"data row5 col1\" >205.43</td>\n",
       "      <td id=\"T_5eb36_row5_col2\" class=\"data row5 col2\" >14.31</td>\n",
       "      <td id=\"T_5eb36_row5_col3\" class=\"data row5 col3\" >0.80</td>\n",
       "      <td id=\"T_5eb36_row5_col4\" class=\"data row5 col4\" >0.42</td>\n",
       "      <td id=\"T_5eb36_row5_col5\" class=\"data row5 col5\" >0.64</td>\n",
       "    </tr>\n",
       "    <tr>\n",
       "      <th id=\"T_5eb36_level0_row6\" class=\"row_heading level0 row6\" >Std</th>\n",
       "      <td id=\"T_5eb36_row6_col0\" class=\"data row6 col0\" >0.39</td>\n",
       "      <td id=\"T_5eb36_row6_col1\" class=\"data row6 col1\" >22.80</td>\n",
       "      <td id=\"T_5eb36_row6_col2\" class=\"data row6 col2\" >0.80</td>\n",
       "      <td id=\"T_5eb36_row6_col3\" class=\"data row6 col3\" >0.02</td>\n",
       "      <td id=\"T_5eb36_row6_col4\" class=\"data row6 col4\" >0.04</td>\n",
       "      <td id=\"T_5eb36_row6_col5\" class=\"data row6 col5\" >0.37</td>\n",
       "    </tr>\n",
       "  </tbody>\n",
       "</table>\n"
      ],
      "text/plain": [
       "<pandas.io.formats.style.Styler at 0x7f77e806ec40>"
      ]
     },
     "metadata": {},
     "output_type": "display_data"
    }
   ],
   "source": [
    "for model_name in model_names:\n",
    "\n",
    "    default_model = create_model(model_name, round=2)\n",
    "\n",
    "    results_df = pull()\n",
    "    results_df = results_df.reset_index(level=0)\n",
    "    \n",
    "    inner_results[model_name] = results_df.copy()\n",
    "    results_df.to_csv(\"output/models_results/universal/\" + \"regression_model_\"+model_name+\"_inner_cross_validation_results.tsv\", \n",
    "                    index=False, encoding=\"utf-8\", sep=\"\\t\")\n",
    "\n",
    "\n",
    "    tuned_model = tune_model(default_model, choose_better = True, search_library = 'optuna', n_iter = 50, round=2)\n",
    "\n",
    "    results_df = pull()\n",
    "    results_df = results_df.reset_index(level=0)\n",
    "    \n",
    "    inner_results_tuned[model_name] = results_df.copy()\n",
    "    results_df.to_csv(\"output/models_results/universal/\" + \"regression_model_\"+model_name+\"_tuned_inner_cross_validation_results.tsv\", \n",
    "                    index=False, encoding=\"utf-8\", sep=\"\\t\")\n",
    "    \n",
    "    tuned_models[model_name] = deepcopy(tuned_model)"
   ]
  },
  {
   "cell_type": "markdown",
   "id": "2543bed8",
   "metadata": {},
   "source": [
    "### Outer CV: 10-fold cross-validation for the tuned model"
   ]
  },
  {
   "cell_type": "code",
   "execution_count": 33,
   "id": "7d9c9302",
   "metadata": {},
   "outputs": [],
   "source": [
    "X = get_config(variable=\"X_train\").copy()\n",
    "y = get_config(variable=\"y_train\").copy()"
   ]
  },
  {
   "cell_type": "code",
   "execution_count": 34,
   "id": "3c21760e",
   "metadata": {},
   "outputs": [
    {
     "data": {
      "text/plain": [
       "(3724, 249)"
      ]
     },
     "execution_count": 34,
     "metadata": {},
     "output_type": "execute_result"
    }
   ],
   "source": [
    "X.shape"
   ]
  },
  {
   "cell_type": "code",
   "execution_count": 35,
   "id": "5a9c93d9",
   "metadata": {},
   "outputs": [
    {
     "data": {
      "text/plain": [
       "(3724,)"
      ]
     },
     "execution_count": 35,
     "metadata": {},
     "output_type": "execute_result"
    }
   ],
   "source": [
    "y.shape"
   ]
  },
  {
   "cell_type": "code",
   "execution_count": 36,
   "id": "f052eebd",
   "metadata": {},
   "outputs": [],
   "source": [
    "cv_outer = KFold(n_splits=10, shuffle=True, random_state=cv_outer_seed)"
   ]
  },
  {
   "cell_type": "code",
   "execution_count": 37,
   "id": "564a8934",
   "metadata": {},
   "outputs": [
    {
     "data": {
      "text/plain": [
       "'\\nfor model_name in model_names:\\n    scores = cross_val_score(tuned_models[model_name], X, y, cv=cv_outer)\\n    scores = np.round(scores, 2);\\n    outer_results[model_name] = scores.copy()\\n    \\n    with open(\"output/models_results/universal/\" + \"regression_model_\"+model_name+\"_tuned_outer_cross_validation_results.tsv\", \\'w\\', newline=\\'\\') as file:\\n        for score in scores:\\n            file.write(str(score) + \"\\n\")\\n        \\n    #with open(the_filename, \\'r\\') as f:\\n    #    my_list = [line.rstrip(\\'\\n\\') for line in f]\\n'"
      ]
     },
     "execution_count": 37,
     "metadata": {},
     "output_type": "execute_result"
    }
   ],
   "source": [
    "'''\n",
    "for model_name in model_names:\n",
    "    scores = cross_val_score(tuned_models[model_name], X, y, cv=cv_outer)\n",
    "    scores = np.round(scores, 2);\n",
    "    outer_results[model_name] = scores.copy()\n",
    "    \n",
    "    with open(\"output/models_results/universal/\" + \"regression_model_\"+model_name+\"_tuned_outer_cross_validation_results.tsv\", 'w', newline='') as file:\n",
    "        for score in scores:\n",
    "            file.write(str(score) + \"\\n\")\n",
    "        \n",
    "    #with open(the_filename, 'r') as f:\n",
    "    #    my_list = [line.rstrip('\\n') for line in f]\n",
    "'''"
   ]
  },
  {
   "cell_type": "code",
   "execution_count": 38,
   "id": "d74323f9",
   "metadata": {},
   "outputs": [
    {
     "name": "stdout",
     "output_type": "stream",
     "text": [
      "lr scores: -72.81, 0.39, 0.41, 0.34, -10.15, 0.42, 0.41, -83.71, -59802.52, 0.41\n",
      "lr mean/std: -5996.68 / 17935.31\n",
      "lasso scores: 0.35, 0.28, 0.28, 0.31, 0.31, 0.29, 0.3, 0.31, 0.37, 0.3\n",
      "lasso mean/std: 0.31 / 0.03\n",
      "ridge scores: 0.52, 0.4, 0.41, 0.35, 0.45, 0.42, 0.41, 0.43, 0.45, 0.42\n",
      "ridge mean/std: 0.43 / 0.04\n",
      "svm scores: 0.53, 0.39, 0.42, 0.42, 0.49, 0.42, 0.45, 0.46, 0.58, 0.39\n",
      "svm mean/std: 0.45 / 0.06\n",
      "rf scores: 0.81, 0.77, 0.81, 0.78, 0.88, 0.82, 0.76, 0.83, 0.83, 0.79\n",
      "rf mean/std: 0.81 / 0.03\n",
      "et scores: 0.84, 0.82, 0.84, 0.82, 0.9, 0.85, 0.81, 0.87, 0.84, 0.82\n",
      "et mean/std: 0.84 / 0.03\n",
      "gbr scores: 0.82, 0.82, 0.85, 0.79, 0.88, 0.86, 0.78, 0.87, 0.84, 0.83\n",
      "gbr mean/std: 0.83 / 0.03\n",
      "[LightGBM] [Warning] bagging_fraction is set=0.9208010711051967, subsample=1.0 will be ignored. Current value: bagging_fraction=0.9208010711051967\n",
      "[LightGBM] [Warning] feature_fraction is set=0.7811105331025159, colsample_bytree=1.0 will be ignored. Current value: feature_fraction=0.7811105331025159\n",
      "[LightGBM] [Warning] bagging_freq is set=2, subsample_freq=0 will be ignored. Current value: bagging_freq=2\n",
      "[LightGBM] [Warning] bagging_fraction is set=0.9208010711051967, subsample=1.0 will be ignored. Current value: bagging_fraction=0.9208010711051967\n",
      "[LightGBM] [Warning] feature_fraction is set=0.7811105331025159, colsample_bytree=1.0 will be ignored. Current value: feature_fraction=0.7811105331025159\n",
      "[LightGBM] [Warning] bagging_freq is set=2, subsample_freq=0 will be ignored. Current value: bagging_freq=2\n",
      "[LightGBM] [Warning] bagging_fraction is set=0.9208010711051967, subsample=1.0 will be ignored. Current value: bagging_fraction=0.9208010711051967\n",
      "[LightGBM] [Warning] feature_fraction is set=0.7811105331025159, colsample_bytree=1.0 will be ignored. Current value: feature_fraction=0.7811105331025159\n",
      "[LightGBM] [Warning] bagging_freq is set=2, subsample_freq=0 will be ignored. Current value: bagging_freq=2\n",
      "[LightGBM] [Warning] bagging_fraction is set=0.9208010711051967, subsample=1.0 will be ignored. Current value: bagging_fraction=0.9208010711051967\n",
      "[LightGBM] [Warning] feature_fraction is set=0.7811105331025159, colsample_bytree=1.0 will be ignored. Current value: feature_fraction=0.7811105331025159\n",
      "[LightGBM] [Warning] bagging_freq is set=2, subsample_freq=0 will be ignored. Current value: bagging_freq=2\n",
      "[LightGBM] [Warning] bagging_fraction is set=0.9208010711051967, subsample=1.0 will be ignored. Current value: bagging_fraction=0.9208010711051967\n",
      "[LightGBM] [Warning] feature_fraction is set=0.7811105331025159, colsample_bytree=1.0 will be ignored. Current value: feature_fraction=0.7811105331025159\n",
      "[LightGBM] [Warning] bagging_freq is set=2, subsample_freq=0 will be ignored. Current value: bagging_freq=2\n",
      "[LightGBM] [Warning] bagging_fraction is set=0.9208010711051967, subsample=1.0 will be ignored. Current value: bagging_fraction=0.9208010711051967\n",
      "[LightGBM] [Warning] feature_fraction is set=0.7811105331025159, colsample_bytree=1.0 will be ignored. Current value: feature_fraction=0.7811105331025159\n",
      "[LightGBM] [Warning] bagging_freq is set=2, subsample_freq=0 will be ignored. Current value: bagging_freq=2\n",
      "[LightGBM] [Warning] bagging_fraction is set=0.9208010711051967, subsample=1.0 will be ignored. Current value: bagging_fraction=0.9208010711051967\n",
      "[LightGBM] [Warning] feature_fraction is set=0.7811105331025159, colsample_bytree=1.0 will be ignored. Current value: feature_fraction=0.7811105331025159\n",
      "[LightGBM] [Warning] bagging_freq is set=2, subsample_freq=0 will be ignored. Current value: bagging_freq=2\n",
      "[LightGBM] [Warning] bagging_fraction is set=0.9208010711051967, subsample=1.0 will be ignored. Current value: bagging_fraction=0.9208010711051967\n",
      "[LightGBM] [Warning] feature_fraction is set=0.7811105331025159, colsample_bytree=1.0 will be ignored. Current value: feature_fraction=0.7811105331025159\n",
      "[LightGBM] [Warning] bagging_freq is set=2, subsample_freq=0 will be ignored. Current value: bagging_freq=2\n",
      "[LightGBM] [Warning] bagging_fraction is set=0.9208010711051967, subsample=1.0 will be ignored. Current value: bagging_fraction=0.9208010711051967\n",
      "[LightGBM] [Warning] feature_fraction is set=0.7811105331025159, colsample_bytree=1.0 will be ignored. Current value: feature_fraction=0.7811105331025159\n",
      "[LightGBM] [Warning] bagging_freq is set=2, subsample_freq=0 will be ignored. Current value: bagging_freq=2\n",
      "lightgbm scores: 0.81, 0.77, 0.82, 0.79, 0.86, 0.84, 0.76, 0.85, 0.84, 0.77\n",
      "lightgbm mean/std: 0.81 / 0.03\n"
     ]
    }
   ],
   "source": [
    "for model_name in model_names:\n",
    "    scores = cross_validate(tuned_models[model_name], X, y, cv=cv_outer, scoring=('r2','neg_root_mean_squared_error','neg_mean_absolute_error'))\n",
    "    scores_r2 = np.round(scores['test_r2'], 2);\n",
    "    scores_rmse = np.round(scores['test_neg_root_mean_squared_error'], 2);\n",
    "    scores_mae = np.round(scores['test_neg_mean_absolute_error'], 2);\n",
    "    outer_results[model_name] = scores.copy()\n",
    "    \n",
    "    with open(\"output/models_results/universal/\" + \"regression_model_\"+model_name+\"_tuned_outer_cross_validation_results.tsv\", 'w', newline='') as file:\n",
    "        file.write('R2\\tRMSE\\tMAE' + \"\\n\")\n",
    "        for idx, x in enumerate(scores_r2):\n",
    "            file.write(str(scores_r2[idx]) + '\\t' + str(scores_rmse[idx]) + '\\t' + str(scores_mae[idx]) + \"\\n\")\n",
    "\n",
    "    print(model_name + \" scores: \" + ', '.join(scores_r2.astype('str')))\n",
    "    print(model_name + \" mean/std: \" + str(np.round(scores_r2.mean(),2)) + \" / \" + str(np.round(scores_r2.std(), 2)))\n",
    "    \n",
    "    #with open(the_filename, 'r') as f:\n",
    "    #    my_list = [line.rstrip('\\n') for line in f]"
   ]
  },
  {
   "cell_type": "markdown",
   "id": "567af0bf",
   "metadata": {},
   "source": [
    "### Finalize the models and evaluate on the test set"
   ]
  },
  {
   "cell_type": "code",
   "execution_count": 39,
   "id": "bfae263b",
   "metadata": {},
   "outputs": [
    {
     "data": {
      "text/html": [
       "<style type=\"text/css\">\n",
       "</style>\n",
       "<table id=\"T_0b1f1\">\n",
       "  <thead>\n",
       "    <tr>\n",
       "      <th class=\"blank level0\" >&nbsp;</th>\n",
       "      <th id=\"T_0b1f1_level0_col0\" class=\"col_heading level0 col0\" >Model</th>\n",
       "      <th id=\"T_0b1f1_level0_col1\" class=\"col_heading level0 col1\" >MAE</th>\n",
       "      <th id=\"T_0b1f1_level0_col2\" class=\"col_heading level0 col2\" >MSE</th>\n",
       "      <th id=\"T_0b1f1_level0_col3\" class=\"col_heading level0 col3\" >RMSE</th>\n",
       "      <th id=\"T_0b1f1_level0_col4\" class=\"col_heading level0 col4\" >R2</th>\n",
       "      <th id=\"T_0b1f1_level0_col5\" class=\"col_heading level0 col5\" >RMSLE</th>\n",
       "      <th id=\"T_0b1f1_level0_col6\" class=\"col_heading level0 col6\" >MAPE</th>\n",
       "    </tr>\n",
       "  </thead>\n",
       "  <tbody>\n",
       "    <tr>\n",
       "      <th id=\"T_0b1f1_level0_row0\" class=\"row_heading level0 row0\" >0</th>\n",
       "      <td id=\"T_0b1f1_row0_col0\" class=\"data row0 col0\" >Linear Regression</td>\n",
       "      <td id=\"T_0b1f1_row0_col1\" class=\"data row0 col1\" >76.94</td>\n",
       "      <td id=\"T_0b1f1_row0_col2\" class=\"data row0 col2\" >3206489.18</td>\n",
       "      <td id=\"T_0b1f1_row0_col3\" class=\"data row0 col3\" >1790.67</td>\n",
       "      <td id=\"T_0b1f1_row0_col4\" class=\"data row0 col4\" >-3069.49</td>\n",
       "      <td id=\"T_0b1f1_row0_col5\" class=\"data row0 col5\" >0.76</td>\n",
       "      <td id=\"T_0b1f1_row0_col6\" class=\"data row0 col6\" >2.65</td>\n",
       "    </tr>\n",
       "  </tbody>\n",
       "</table>\n"
      ],
      "text/plain": [
       "<pandas.io.formats.style.Styler at 0x7f7816b8c190>"
      ]
     },
     "metadata": {},
     "output_type": "display_data"
    },
    {
     "data": {
      "text/html": [
       "<style type=\"text/css\">\n",
       "</style>\n",
       "<table id=\"T_5ff5a\">\n",
       "  <thead>\n",
       "    <tr>\n",
       "      <th class=\"blank level0\" >&nbsp;</th>\n",
       "      <th id=\"T_5ff5a_level0_col0\" class=\"col_heading level0 col0\" >Model</th>\n",
       "      <th id=\"T_5ff5a_level0_col1\" class=\"col_heading level0 col1\" >MAE</th>\n",
       "      <th id=\"T_5ff5a_level0_col2\" class=\"col_heading level0 col2\" >MSE</th>\n",
       "      <th id=\"T_5ff5a_level0_col3\" class=\"col_heading level0 col3\" >RMSE</th>\n",
       "      <th id=\"T_5ff5a_level0_col4\" class=\"col_heading level0 col4\" >R2</th>\n",
       "      <th id=\"T_5ff5a_level0_col5\" class=\"col_heading level0 col5\" >RMSLE</th>\n",
       "      <th id=\"T_5ff5a_level0_col6\" class=\"col_heading level0 col6\" >MAPE</th>\n",
       "    </tr>\n",
       "  </thead>\n",
       "  <tbody>\n",
       "    <tr>\n",
       "      <th id=\"T_5ff5a_level0_row0\" class=\"row_heading level0 row0\" >0</th>\n",
       "      <td id=\"T_5ff5a_row0_col0\" class=\"data row0 col0\" >Lasso Regression</td>\n",
       "      <td id=\"T_5ff5a_row0_col1\" class=\"data row0 col1\" >20.17</td>\n",
       "      <td id=\"T_5ff5a_row0_col2\" class=\"data row0 col2\" >701.20</td>\n",
       "      <td id=\"T_5ff5a_row0_col3\" class=\"data row0 col3\" >26.48</td>\n",
       "      <td id=\"T_5ff5a_row0_col4\" class=\"data row0 col4\" >0.33</td>\n",
       "      <td id=\"T_5ff5a_row0_col5\" class=\"data row0 col5\" >0.79</td>\n",
       "      <td id=\"T_5ff5a_row0_col6\" class=\"data row0 col6\" >2.29</td>\n",
       "    </tr>\n",
       "  </tbody>\n",
       "</table>\n"
      ],
      "text/plain": [
       "<pandas.io.formats.style.Styler at 0x7f78169c2d30>"
      ]
     },
     "metadata": {},
     "output_type": "display_data"
    },
    {
     "data": {
      "text/html": [
       "<style type=\"text/css\">\n",
       "</style>\n",
       "<table id=\"T_c89fc\">\n",
       "  <thead>\n",
       "    <tr>\n",
       "      <th class=\"blank level0\" >&nbsp;</th>\n",
       "      <th id=\"T_c89fc_level0_col0\" class=\"col_heading level0 col0\" >Model</th>\n",
       "      <th id=\"T_c89fc_level0_col1\" class=\"col_heading level0 col1\" >MAE</th>\n",
       "      <th id=\"T_c89fc_level0_col2\" class=\"col_heading level0 col2\" >MSE</th>\n",
       "      <th id=\"T_c89fc_level0_col3\" class=\"col_heading level0 col3\" >RMSE</th>\n",
       "      <th id=\"T_c89fc_level0_col4\" class=\"col_heading level0 col4\" >R2</th>\n",
       "      <th id=\"T_c89fc_level0_col5\" class=\"col_heading level0 col5\" >RMSLE</th>\n",
       "      <th id=\"T_c89fc_level0_col6\" class=\"col_heading level0 col6\" >MAPE</th>\n",
       "    </tr>\n",
       "  </thead>\n",
       "  <tbody>\n",
       "    <tr>\n",
       "      <th id=\"T_c89fc_level0_row0\" class=\"row_heading level0 row0\" >0</th>\n",
       "      <td id=\"T_c89fc_row0_col0\" class=\"data row0 col0\" >Ridge Regression</td>\n",
       "      <td id=\"T_c89fc_row0_col1\" class=\"data row0 col1\" >18.21</td>\n",
       "      <td id=\"T_c89fc_row0_col2\" class=\"data row0 col2\" >582.38</td>\n",
       "      <td id=\"T_c89fc_row0_col3\" class=\"data row0 col3\" >24.13</td>\n",
       "      <td id=\"T_c89fc_row0_col4\" class=\"data row0 col4\" >0.44</td>\n",
       "      <td id=\"T_c89fc_row0_col5\" class=\"data row0 col5\" >0.73</td>\n",
       "      <td id=\"T_c89fc_row0_col6\" class=\"data row0 col6\" >1.97</td>\n",
       "    </tr>\n",
       "  </tbody>\n",
       "</table>\n"
      ],
      "text/plain": [
       "<pandas.io.formats.style.Styler at 0x7f7816b8cbe0>"
      ]
     },
     "metadata": {},
     "output_type": "display_data"
    },
    {
     "data": {
      "text/html": [
       "<style type=\"text/css\">\n",
       "</style>\n",
       "<table id=\"T_5238c\">\n",
       "  <thead>\n",
       "    <tr>\n",
       "      <th class=\"blank level0\" >&nbsp;</th>\n",
       "      <th id=\"T_5238c_level0_col0\" class=\"col_heading level0 col0\" >Model</th>\n",
       "      <th id=\"T_5238c_level0_col1\" class=\"col_heading level0 col1\" >MAE</th>\n",
       "      <th id=\"T_5238c_level0_col2\" class=\"col_heading level0 col2\" >MSE</th>\n",
       "      <th id=\"T_5238c_level0_col3\" class=\"col_heading level0 col3\" >RMSE</th>\n",
       "      <th id=\"T_5238c_level0_col4\" class=\"col_heading level0 col4\" >R2</th>\n",
       "      <th id=\"T_5238c_level0_col5\" class=\"col_heading level0 col5\" >RMSLE</th>\n",
       "      <th id=\"T_5238c_level0_col6\" class=\"col_heading level0 col6\" >MAPE</th>\n",
       "    </tr>\n",
       "  </thead>\n",
       "  <tbody>\n",
       "    <tr>\n",
       "      <th id=\"T_5238c_level0_row0\" class=\"row_heading level0 row0\" >0</th>\n",
       "      <td id=\"T_5238c_row0_col0\" class=\"data row0 col0\" >Support Vector Regression</td>\n",
       "      <td id=\"T_5238c_row0_col1\" class=\"data row0 col1\" >15.43</td>\n",
       "      <td id=\"T_5238c_row0_col2\" class=\"data row0 col2\" >547.55</td>\n",
       "      <td id=\"T_5238c_row0_col3\" class=\"data row0 col3\" >23.40</td>\n",
       "      <td id=\"T_5238c_row0_col4\" class=\"data row0 col4\" >0.48</td>\n",
       "      <td id=\"T_5238c_row0_col5\" class=\"data row0 col5\" >0.73</td>\n",
       "      <td id=\"T_5238c_row0_col6\" class=\"data row0 col6\" >2.14</td>\n",
       "    </tr>\n",
       "  </tbody>\n",
       "</table>\n"
      ],
      "text/plain": [
       "<pandas.io.formats.style.Styler at 0x7f781745d340>"
      ]
     },
     "metadata": {},
     "output_type": "display_data"
    },
    {
     "data": {
      "text/html": [
       "<style type=\"text/css\">\n",
       "</style>\n",
       "<table id=\"T_0f0fd\">\n",
       "  <thead>\n",
       "    <tr>\n",
       "      <th class=\"blank level0\" >&nbsp;</th>\n",
       "      <th id=\"T_0f0fd_level0_col0\" class=\"col_heading level0 col0\" >Model</th>\n",
       "      <th id=\"T_0f0fd_level0_col1\" class=\"col_heading level0 col1\" >MAE</th>\n",
       "      <th id=\"T_0f0fd_level0_col2\" class=\"col_heading level0 col2\" >MSE</th>\n",
       "      <th id=\"T_0f0fd_level0_col3\" class=\"col_heading level0 col3\" >RMSE</th>\n",
       "      <th id=\"T_0f0fd_level0_col4\" class=\"col_heading level0 col4\" >R2</th>\n",
       "      <th id=\"T_0f0fd_level0_col5\" class=\"col_heading level0 col5\" >RMSLE</th>\n",
       "      <th id=\"T_0f0fd_level0_col6\" class=\"col_heading level0 col6\" >MAPE</th>\n",
       "    </tr>\n",
       "  </thead>\n",
       "  <tbody>\n",
       "    <tr>\n",
       "      <th id=\"T_0f0fd_level0_row0\" class=\"row_heading level0 row0\" >0</th>\n",
       "      <td id=\"T_0f0fd_row0_col0\" class=\"data row0 col0\" >Random Forest Regressor</td>\n",
       "      <td id=\"T_0f0fd_row0_col1\" class=\"data row0 col1\" >8.30</td>\n",
       "      <td id=\"T_0f0fd_row0_col2\" class=\"data row0 col2\" >169.15</td>\n",
       "      <td id=\"T_0f0fd_row0_col3\" class=\"data row0 col3\" >13.01</td>\n",
       "      <td id=\"T_0f0fd_row0_col4\" class=\"data row0 col4\" >0.84</td>\n",
       "      <td id=\"T_0f0fd_row0_col5\" class=\"data row0 col5\" >0.44</td>\n",
       "      <td id=\"T_0f0fd_row0_col6\" class=\"data row0 col6\" >0.84</td>\n",
       "    </tr>\n",
       "  </tbody>\n",
       "</table>\n"
      ],
      "text/plain": [
       "<pandas.io.formats.style.Styler at 0x7f77e87dd280>"
      ]
     },
     "metadata": {},
     "output_type": "display_data"
    },
    {
     "data": {
      "text/html": [
       "<style type=\"text/css\">\n",
       "</style>\n",
       "<table id=\"T_34fdb\">\n",
       "  <thead>\n",
       "    <tr>\n",
       "      <th class=\"blank level0\" >&nbsp;</th>\n",
       "      <th id=\"T_34fdb_level0_col0\" class=\"col_heading level0 col0\" >Model</th>\n",
       "      <th id=\"T_34fdb_level0_col1\" class=\"col_heading level0 col1\" >MAE</th>\n",
       "      <th id=\"T_34fdb_level0_col2\" class=\"col_heading level0 col2\" >MSE</th>\n",
       "      <th id=\"T_34fdb_level0_col3\" class=\"col_heading level0 col3\" >RMSE</th>\n",
       "      <th id=\"T_34fdb_level0_col4\" class=\"col_heading level0 col4\" >R2</th>\n",
       "      <th id=\"T_34fdb_level0_col5\" class=\"col_heading level0 col5\" >RMSLE</th>\n",
       "      <th id=\"T_34fdb_level0_col6\" class=\"col_heading level0 col6\" >MAPE</th>\n",
       "    </tr>\n",
       "  </thead>\n",
       "  <tbody>\n",
       "    <tr>\n",
       "      <th id=\"T_34fdb_level0_row0\" class=\"row_heading level0 row0\" >0</th>\n",
       "      <td id=\"T_34fdb_row0_col0\" class=\"data row0 col0\" >Extra Trees Regressor</td>\n",
       "      <td id=\"T_34fdb_row0_col1\" class=\"data row0 col1\" >7.62</td>\n",
       "      <td id=\"T_34fdb_row0_col2\" class=\"data row0 col2\" >148.64</td>\n",
       "      <td id=\"T_34fdb_row0_col3\" class=\"data row0 col3\" >12.19</td>\n",
       "      <td id=\"T_34fdb_row0_col4\" class=\"data row0 col4\" >0.86</td>\n",
       "      <td id=\"T_34fdb_row0_col5\" class=\"data row0 col5\" >0.37</td>\n",
       "      <td id=\"T_34fdb_row0_col6\" class=\"data row0 col6\" >0.57</td>\n",
       "    </tr>\n",
       "  </tbody>\n",
       "</table>\n"
      ],
      "text/plain": [
       "<pandas.io.formats.style.Styler at 0x7f77e880bc40>"
      ]
     },
     "metadata": {},
     "output_type": "display_data"
    },
    {
     "data": {
      "text/html": [
       "<style type=\"text/css\">\n",
       "</style>\n",
       "<table id=\"T_61341\">\n",
       "  <thead>\n",
       "    <tr>\n",
       "      <th class=\"blank level0\" >&nbsp;</th>\n",
       "      <th id=\"T_61341_level0_col0\" class=\"col_heading level0 col0\" >Model</th>\n",
       "      <th id=\"T_61341_level0_col1\" class=\"col_heading level0 col1\" >MAE</th>\n",
       "      <th id=\"T_61341_level0_col2\" class=\"col_heading level0 col2\" >MSE</th>\n",
       "      <th id=\"T_61341_level0_col3\" class=\"col_heading level0 col3\" >RMSE</th>\n",
       "      <th id=\"T_61341_level0_col4\" class=\"col_heading level0 col4\" >R2</th>\n",
       "      <th id=\"T_61341_level0_col5\" class=\"col_heading level0 col5\" >RMSLE</th>\n",
       "      <th id=\"T_61341_level0_col6\" class=\"col_heading level0 col6\" >MAPE</th>\n",
       "    </tr>\n",
       "  </thead>\n",
       "  <tbody>\n",
       "    <tr>\n",
       "      <th id=\"T_61341_level0_row0\" class=\"row_heading level0 row0\" >0</th>\n",
       "      <td id=\"T_61341_row0_col0\" class=\"data row0 col0\" >Gradient Boosting Regressor</td>\n",
       "      <td id=\"T_61341_row0_col1\" class=\"data row0 col1\" >8.14</td>\n",
       "      <td id=\"T_61341_row0_col2\" class=\"data row0 col2\" >143.36</td>\n",
       "      <td id=\"T_61341_row0_col3\" class=\"data row0 col3\" >11.97</td>\n",
       "      <td id=\"T_61341_row0_col4\" class=\"data row0 col4\" >0.86</td>\n",
       "      <td id=\"T_61341_row0_col5\" class=\"data row0 col5\" >0.41</td>\n",
       "      <td id=\"T_61341_row0_col6\" class=\"data row0 col6\" >0.75</td>\n",
       "    </tr>\n",
       "  </tbody>\n",
       "</table>\n"
      ],
      "text/plain": [
       "<pandas.io.formats.style.Styler at 0x7f77c7448b20>"
      ]
     },
     "metadata": {},
     "output_type": "display_data"
    },
    {
     "data": {
      "text/html": [
       "<style type=\"text/css\">\n",
       "</style>\n",
       "<table id=\"T_2e884\">\n",
       "  <thead>\n",
       "    <tr>\n",
       "      <th class=\"blank level0\" >&nbsp;</th>\n",
       "      <th id=\"T_2e884_level0_col0\" class=\"col_heading level0 col0\" >Model</th>\n",
       "      <th id=\"T_2e884_level0_col1\" class=\"col_heading level0 col1\" >MAE</th>\n",
       "      <th id=\"T_2e884_level0_col2\" class=\"col_heading level0 col2\" >MSE</th>\n",
       "      <th id=\"T_2e884_level0_col3\" class=\"col_heading level0 col3\" >RMSE</th>\n",
       "      <th id=\"T_2e884_level0_col4\" class=\"col_heading level0 col4\" >R2</th>\n",
       "      <th id=\"T_2e884_level0_col5\" class=\"col_heading level0 col5\" >RMSLE</th>\n",
       "      <th id=\"T_2e884_level0_col6\" class=\"col_heading level0 col6\" >MAPE</th>\n",
       "    </tr>\n",
       "  </thead>\n",
       "  <tbody>\n",
       "    <tr>\n",
       "      <th id=\"T_2e884_level0_row0\" class=\"row_heading level0 row0\" >0</th>\n",
       "      <td id=\"T_2e884_row0_col0\" class=\"data row0 col0\" >Light Gradient Boosting Machine</td>\n",
       "      <td id=\"T_2e884_row0_col1\" class=\"data row0 col1\" >8.88</td>\n",
       "      <td id=\"T_2e884_row0_col2\" class=\"data row0 col2\" >171.98</td>\n",
       "      <td id=\"T_2e884_row0_col3\" class=\"data row0 col3\" >13.11</td>\n",
       "      <td id=\"T_2e884_row0_col4\" class=\"data row0 col4\" >0.84</td>\n",
       "      <td id=\"T_2e884_row0_col5\" class=\"data row0 col5\" >0.45</td>\n",
       "      <td id=\"T_2e884_row0_col6\" class=\"data row0 col6\" >0.88</td>\n",
       "    </tr>\n",
       "  </tbody>\n",
       "</table>\n"
      ],
      "text/plain": [
       "<pandas.io.formats.style.Styler at 0x7f7816ab6970>"
      ]
     },
     "metadata": {},
     "output_type": "display_data"
    }
   ],
   "source": [
    "for model_name in model_names:\n",
    "\n",
    "    final_model = finalize_model(tuned_models[model_name])\n",
    "    \n",
    "    final_models[model_name] = deepcopy(final_model)\n",
    "    \n",
    "    hyperparams = pd.DataFrame.from_dict(final_model.get_params(), orient='index', columns=['parameter_value'])\n",
    "    hyperparams = hyperparams.reset_index(level=0)\n",
    "    hyperparams.to_csv(\"output/models_parameters/universal/\" + \"regression_model_\"+model_name+\"_hyperparams.tsv\", \n",
    "                    index=False, encoding=\"utf-8\", sep=\"\\t\")\n",
    "    \n",
    "    model_predict = predict_model(final_model, data=data_test_df, round=2)\n",
    "    \n",
    "    results_df = pull()\n",
    "    results_df = results_df.reset_index(level=0)\n",
    "    \n",
    "    predicted_results[model_name] = results_df.copy()\n",
    "    results_df.to_csv(\"output/models_results/universal/\" + \"regression_model_\"+model_name+\"_test_set_validation_results.tsv\", \n",
    "                    index=False, encoding=\"utf-8\", sep=\"\\t\")"
   ]
  },
  {
   "cell_type": "markdown",
   "id": "7cef3c2f",
   "metadata": {},
   "source": [
    "### Save models and configs"
   ]
  },
  {
   "cell_type": "code",
   "execution_count": 40,
   "id": "f7dbf7e3",
   "metadata": {},
   "outputs": [
    {
     "name": "stdout",
     "output_type": "stream",
     "text": [
      "Transformation Pipeline and Model Successfully Saved\n",
      "Transformation Pipeline and Model Successfully Saved\n",
      "Transformation Pipeline and Model Successfully Saved\n",
      "Transformation Pipeline and Model Successfully Saved\n",
      "Transformation Pipeline and Model Successfully Saved\n",
      "Transformation Pipeline and Model Successfully Saved\n",
      "Transformation Pipeline and Model Successfully Saved\n",
      "Transformation Pipeline and Model Successfully Saved\n",
      "Transformation Pipeline and Model Successfully Saved\n",
      "Transformation Pipeline and Model Successfully Saved\n",
      "Transformation Pipeline and Model Successfully Saved\n",
      "Transformation Pipeline and Model Successfully Saved\n",
      "Transformation Pipeline and Model Successfully Saved\n",
      "Transformation Pipeline and Model Successfully Saved\n",
      "Transformation Pipeline and Model Successfully Saved\n",
      "Transformation Pipeline and Model Successfully Saved\n"
     ]
    }
   ],
   "source": [
    "for model_name in model_names:\n",
    "    save_config('output/models/universal/regression_config.cfg')\n",
    "    save_model(tuned_models[model_name], 'output/models/universal/regression_model_'+model_name+'_tuned.mdl')\n",
    "    save_model(final_models[model_name], 'output/models/universal/regression_model_'+model_name+'_final.mdl')"
   ]
  },
  {
   "cell_type": "markdown",
   "id": "5f8dee9d",
   "metadata": {},
   "source": [
    "### Create Plots"
   ]
  },
  {
   "cell_type": "code",
   "execution_count": 41,
   "id": "521ec3e3",
   "metadata": {},
   "outputs": [],
   "source": [
    "X_test = get_config(variable=\"X_test\").copy()\n",
    "y_test = get_config(variable=\"y_test\").copy()"
   ]
  },
  {
   "cell_type": "code",
   "execution_count": 42,
   "id": "44efd5ca",
   "metadata": {},
   "outputs": [
    {
     "data": {
      "text/plain": [
       "<Figure size 800x550 with 0 Axes>"
      ]
     },
     "metadata": {},
     "output_type": "display_data"
    }
   ],
   "source": [
    "for model_name in ['rf', 'et', 'gbr', 'lr', 'lasso', 'ridge']:\n",
    "    \n",
    "    #import matplotlib.pyplot as plt\n",
    "    #plt.rcParams[\"figure.figsize\"] = [16,9]\n",
    "\n",
    "    visualizer1 = FeatureImportances(final_models[model_name], size=(800,550), topn=10)\n",
    "    visualizer1.fit(X, y)\n",
    "    visualizer1.show(outpath=\"output/plots/universal/\" + \"regression_model_\"+model_name+\"_feature_importance_plot.png\",dpi = 300)\n",
    "\n",
    "    plt.clf() "
   ]
  },
  {
   "cell_type": "code",
   "execution_count": 43,
   "id": "b4489866",
   "metadata": {},
   "outputs": [
    {
     "data": {
      "text/plain": [
       "<Figure size 800x550 with 0 Axes>"
      ]
     },
     "metadata": {},
     "output_type": "display_data"
    }
   ],
   "source": [
    "for model_name in model_names:\n",
    "\n",
    "    visualizer2 = ResidualsPlot(final_models[model_name], hist=False, qqplot=True, size=(800,550))\n",
    "    visualizer2.fit(X, y)\n",
    "    visualizer2.score(X_test, y_test)\n",
    "    visualizer2.show(outpath=\"output/plots/universal/\" + \"regression_model_\"+model_name+\"_residuals_plot.png\",dpi = 300)\n",
    "    \n",
    "    plt.clf() "
   ]
  },
  {
   "cell_type": "code",
   "execution_count": 44,
   "id": "1a279e6d",
   "metadata": {},
   "outputs": [
    {
     "data": {
      "text/plain": [
       "<Figure size 800x550 with 0 Axes>"
      ]
     },
     "metadata": {},
     "output_type": "display_data"
    }
   ],
   "source": [
    "for model_name in model_names:\n",
    "\n",
    "    visualizer3 = PredictionError(final_models[model_name], size=(800,550))\n",
    "    visualizer3.fit(X, y)\n",
    "    visualizer3.score(X_test, y_test)\n",
    "    visualizer3.show(outpath=\"output/plots/universal/\" + \"regression_model_\"+model_name+\"_error_plot.png\",dpi = 300)    \n",
    "    \n",
    "    plt.clf()"
   ]
  },
  {
   "cell_type": "markdown",
   "id": "3a2eafd5",
   "metadata": {},
   "source": [
    "### Load model"
   ]
  },
  {
   "cell_type": "code",
   "execution_count": 19,
   "id": "2406f629",
   "metadata": {},
   "outputs": [],
   "source": [
    "model_names = ['lr', 'lasso', 'ridge', 'svm', 'rf', 'et', 'gbr', 'lightgbm']"
   ]
  },
  {
   "cell_type": "code",
   "execution_count": 20,
   "id": "6f5acd9b",
   "metadata": {},
   "outputs": [],
   "source": [
    "final_config = load_config('output/models/universal/regression_config.cfg')"
   ]
  },
  {
   "cell_type": "code",
   "execution_count": 21,
   "id": "7503a083",
   "metadata": {},
   "outputs": [],
   "source": [
    "tuned_models_load = dict()\n",
    "final_models_load = dict()"
   ]
  },
  {
   "cell_type": "code",
   "execution_count": 22,
   "id": "af29b475",
   "metadata": {},
   "outputs": [
    {
     "name": "stdout",
     "output_type": "stream",
     "text": [
      "Transformation Pipeline and Model Successfully Loaded\n",
      "Transformation Pipeline and Model Successfully Loaded\n",
      "Transformation Pipeline and Model Successfully Loaded\n",
      "Transformation Pipeline and Model Successfully Loaded\n",
      "Transformation Pipeline and Model Successfully Loaded\n",
      "Transformation Pipeline and Model Successfully Loaded\n",
      "Transformation Pipeline and Model Successfully Loaded\n",
      "Transformation Pipeline and Model Successfully Loaded\n",
      "Transformation Pipeline and Model Successfully Loaded\n",
      "Transformation Pipeline and Model Successfully Loaded\n",
      "Transformation Pipeline and Model Successfully Loaded\n",
      "Transformation Pipeline and Model Successfully Loaded\n",
      "Transformation Pipeline and Model Successfully Loaded\n",
      "Transformation Pipeline and Model Successfully Loaded\n",
      "Transformation Pipeline and Model Successfully Loaded\n",
      "Transformation Pipeline and Model Successfully Loaded\n"
     ]
    }
   ],
   "source": [
    "for model_name in model_names:\n",
    "    tuned_models_load[model_name] = load_model('output/models/universal/regression_model_'+model_name+'_tuned.mdl')\n",
    "    final_models_load[model_name] = load_model('output/models/universal/regression_model_'+model_name+'_final.mdl')"
   ]
  },
  {
   "cell_type": "code",
   "execution_count": 23,
   "id": "acba0082",
   "metadata": {},
   "outputs": [
    {
     "data": {
      "text/plain": [
       "{'boosting_type': 'gbdt',\n",
       " 'objective': None,\n",
       " 'num_leaves': 225,\n",
       " 'max_depth': -1,\n",
       " 'learning_rate': 0.0492126940458128,\n",
       " 'n_estimators': 206,\n",
       " 'subsample_for_bin': 200000,\n",
       " 'min_split_gain': 0.4382254035210341,\n",
       " 'min_child_weight': 0.001,\n",
       " 'min_child_samples': 20,\n",
       " 'subsample': 1.0,\n",
       " 'subsample_freq': 0,\n",
       " 'colsample_bytree': 1.0,\n",
       " 'reg_alpha': 1.253532007236206e-06,\n",
       " 'reg_lambda': 0.000832480550309834,\n",
       " 'random_state': 123456,\n",
       " 'n_jobs': -1,\n",
       " 'silent': 'warn',\n",
       " 'importance_type': 'split',\n",
       " '_Booster': <lightgbm.basic.Booster at 0x7f84173f4c70>,\n",
       " '_evals_result': None,\n",
       " '_best_score': defaultdict(collections.OrderedDict, {}),\n",
       " '_best_iteration': None,\n",
       " '_other_params': {'feature_fraction': 0.7811105331025159,\n",
       "  'bagging_fraction': 0.9208010711051967,\n",
       "  'bagging_freq': 2},\n",
       " '_objective': 'regression',\n",
       " 'class_weight': None,\n",
       " '_class_weight': None,\n",
       " '_class_map': None,\n",
       " '_n_features': 249,\n",
       " '_n_features_in': 249,\n",
       " '_classes': None,\n",
       " '_n_classes': None,\n",
       " 'feature_fraction': 0.7811105331025159,\n",
       " 'bagging_fraction': 0.9208010711051967,\n",
       " 'bagging_freq': 2,\n",
       " '_fobj': None,\n",
       " 'fitted_': True}"
      ]
     },
     "execution_count": 23,
     "metadata": {},
     "output_type": "execute_result"
    }
   ],
   "source": [
    "vars(final_models_load['lightgbm']._final_estimator)"
   ]
  },
  {
   "cell_type": "code",
   "execution_count": 24,
   "id": "1cffe116",
   "metadata": {},
   "outputs": [
    {
     "data": {
      "image/png": "[encoded data removed]",
      "text/plain": [
       "<Figure size 800x500 with 1 Axes>"
      ]
     },
     "metadata": {},
     "output_type": "display_data"
    }
   ],
   "source": [
    "plot_model(final_models_load['et']._final_estimator, 'feature')"
   ]
  },
  {
   "cell_type": "markdown",
   "id": "24442ff3",
   "metadata": {},
   "source": [
    "## Applicability Domain - Williams Plot"
   ]
  },
  {
   "cell_type": "code",
   "execution_count": null,
   "id": "06f039fa",
   "metadata": {},
   "outputs": [],
   "source": [
    "res_train = predict_model(final_models_load['et'], data=data_train_df, round=2)\n",
    "res_test = predict_model(final_models_load['et'], data=data_test_df, round=2)"
   ]
  },
  {
   "cell_type": "code",
   "execution_count": 93,
   "id": "f0171da6",
   "metadata": {
    "scrolled": false
   },
   "outputs": [
    {
     "data": {
      "text/plain": [
       "<matplotlib.legend.Legend at 0x7f840adc16a0>"
      ]
     },
     "execution_count": 93,
     "metadata": {},
     "output_type": "execute_result"
    },
    {
     "data": {
      "image/png": "[encoded data removed]",
      "text/plain": [
       "<Figure size 800x550 with 1 Axes>"
      ]
     },
     "metadata": {},
     "output_type": "display_data"
    }
   ],
   "source": [
    "train_plot = f.calculate_leverage(res_train)\n",
    "train_plot = f.calculate_residuals(train_plot)\n",
    "train_plot = f.calculate_standard_residuals(train_plot)\n",
    "\n",
    "test_plot = f.calculate_leverage(res_test)\n",
    "test_plot = f.calculate_residuals(test_plot)\n",
    "test_plot = f.calculate_standard_residuals(test_plot)\n",
    "\n",
    "hat = data_train_df.shape[1] * 3 / data_train_df.shape[0]\n",
    "\n",
    "fig, ax = plt.subplots()\n",
    "ax.scatter(train_plot['Leverage'], train_plot['Standard Residual'], marker='o', c='green', label = 'Train')\n",
    "ax.scatter(test_plot['Leverage'], test_plot['Standard Residual'], marker='o', c='orange', label = 'Test')\n",
    "ax.set_xlabel('Leverage')\n",
    "ax.set_ylabel('Standardized Residuals')\n",
    "ax.axhline(y=3.0, xmin=0, xmax=3.0, color='k')\n",
    "ax.axhline(y=-3.0, xmin=0.0, xmax=3.0, color='k')\n",
    "ax.axvline(x=hat, ymin=-10.0, ymax=10.0, color='k')\n",
    "ax.legend()"
   ]
  },
  {
   "cell_type": "code",
   "execution_count": 94,
   "id": "462181cf",
   "metadata": {},
   "outputs": [
    {
     "name": "stdout",
     "output_type": "stream",
     "text": [
      "Valid    1.0\n",
      "Name: Within Domain, dtype: float64\n",
      "Valid    932\n",
      "Name: Within Domain, dtype: int64\n"
     ]
    }
   ],
   "source": [
    "print(test_plot['Within Domain'].value_counts(normalize=True))\n",
    "print(test_plot['Within Domain'].value_counts(normalize=False))"
   ]
  },
  {
   "cell_type": "code",
   "execution_count": 95,
   "id": "b638b8e8",
   "metadata": {},
   "outputs": [
    {
     "name": "stdout",
     "output_type": "stream",
     "text": [
      "Valid      0.979614\n",
      "Invalid    0.020386\n",
      "Name: Within SD, dtype: float64\n",
      "Valid      913\n",
      "Invalid     19\n",
      "Name: Within SD, dtype: int64\n"
     ]
    }
   ],
   "source": [
    "print(test_plot['Within SD'].value_counts(normalize=True))\n",
    "print(test_plot['Within SD'].value_counts(normalize=False))"
   ]
  },
  {
   "cell_type": "code",
   "execution_count": 96,
   "id": "ff2337b3",
   "metadata": {},
   "outputs": [
    {
     "name": "stdout",
     "output_type": "stream",
     "text": [
      "Valid      0.979614\n",
      "Invalid    0.020386\n",
      "Name: Within Domain and SD, dtype: float64\n",
      "Valid      913\n",
      "Invalid     19\n",
      "Name: Within Domain and SD, dtype: int64\n"
     ]
    }
   ],
   "source": [
    "print(test_plot['Within Domain and SD'].value_counts(normalize=True))\n",
    "print(test_plot['Within Domain and SD'].value_counts(normalize=False))"
   ]
  }
 ],
 "metadata": {
  "kernelspec": {
   "display_name": "Python 3 (ipykernel)",
   "language": "python",
   "name": "python3"
  },
  "language_info": {
   "codemirror_mode": {
    "name": "ipython",
    "version": 3
   },
   "file_extension": ".py",
   "mimetype": "text/x-python",
   "name": "python",
   "nbconvert_exporter": "python",
   "pygments_lexer": "ipython3",
   "version": "3.8.13"
  }
 },
 "nbformat": 4,
 "nbformat_minor": 5
}
