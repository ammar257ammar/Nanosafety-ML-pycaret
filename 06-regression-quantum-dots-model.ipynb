{
 "cells": [
  {
   "cell_type": "markdown",
   "id": "c772a64f-823c-4973-bf41-3c9a239c601a",
   "metadata": {},
   "source": [
    "# Group-based Regression Models"
   ]
  },
  {
   "cell_type": "markdown",
   "id": "6cc25fc3-e84a-4d87-ace3-e947218d58aa",
   "metadata": {},
   "source": [
    "### Importing libraries and define functions"
   ]
  },
  {
   "cell_type": "code",
   "execution_count": 1,
   "id": "5e31b3ce-df35-4b10-a99a-2f753f523fb9",
   "metadata": {},
   "outputs": [],
   "source": [
    "import pandas as pd\n",
    "import numpy as np\n",
    "import scipy\n",
    "import math\n",
    "import os\n",
    "import sys"
   ]
  },
  {
   "cell_type": "code",
   "execution_count": 2,
   "id": "8375cb30",
   "metadata": {},
   "outputs": [],
   "source": [
    "# Managing Warnings \n",
    "import warnings\n",
    "warnings.filterwarnings('ignore')\n",
    "\n",
    "if not sys.warnoptions:\n",
    "    warnings.simplefilter(\"ignore\")\n",
    "    os.environ[\"PYTHONWARNINGS\"] = \"ignore\" # Also affect subprocesses"
   ]
  },
  {
   "cell_type": "code",
   "execution_count": 53,
   "id": "2d2c745b-9e8f-415c-a43c-f08fb5937b46",
   "metadata": {},
   "outputs": [],
   "source": [
    "import sklearn\n",
    "from sklearn.decomposition import PCA\n",
    "from sklearn import preprocessing\n",
    "from sklearn.impute import SimpleImputer\n",
    "from sklearn.model_selection import KFold\n",
    "from sklearn.model_selection import cross_val_score\n",
    "from sklearn.model_selection import cross_validate"
   ]
  },
  {
   "cell_type": "code",
   "execution_count": 4,
   "id": "5b9378dc",
   "metadata": {},
   "outputs": [],
   "source": [
    "from yellowbrick.regressor import ResidualsPlot\n",
    "from yellowbrick.regressor import PredictionError\n",
    "from yellowbrick.model_selection import FeatureImportances\n",
    "import matplotlib.pyplot as plt"
   ]
  },
  {
   "cell_type": "code",
   "execution_count": 5,
   "id": "03a6e29f",
   "metadata": {},
   "outputs": [],
   "source": [
    "from pycaret.regression import *"
   ]
  },
  {
   "cell_type": "code",
   "execution_count": 6,
   "id": "8d5a3c8a",
   "metadata": {},
   "outputs": [],
   "source": [
    "import functions as f"
   ]
  },
  {
   "cell_type": "code",
   "execution_count": 7,
   "id": "d563849c",
   "metadata": {},
   "outputs": [],
   "source": [
    "from copy import deepcopy"
   ]
  },
  {
   "cell_type": "markdown",
   "id": "3b175d88",
   "metadata": {},
   "source": [
    "# Quantum dots regression model"
   ]
  },
  {
   "cell_type": "code",
   "execution_count": 8,
   "id": "14e2baa0",
   "metadata": {},
   "outputs": [],
   "source": [
    "model_group_name = \"quantum_dot\"\n",
    "group_name = \"quantum_dots\""
   ]
  },
  {
   "cell_type": "markdown",
   "id": "bf6d7f7e",
   "metadata": {},
   "source": [
    "### Load the data and filter metal oxide instances"
   ]
  },
  {
   "cell_type": "code",
   "execution_count": 9,
   "id": "da49b7e9",
   "metadata": {},
   "outputs": [],
   "source": [
    "data_train_df = pd.read_csv(\"output/datasets/universal/data_regression_train_df.csv\", encoding=\"utf-8\")\n",
    "data_test_df = pd.read_csv(\"output/datasets/universal/data_regression_test_df.csv\", encoding=\"utf-8\")\n",
    "data_df = pd.concat([data_train_df,data_test_df])\n",
    "\n",
    "del data_train_df\n",
    "del data_test_df"
   ]
  },
  {
   "cell_type": "code",
   "execution_count": 10,
   "id": "ce3fb75c",
   "metadata": {},
   "outputs": [
    {
     "data": {
      "text/plain": [
       "(11315, 20)"
      ]
     },
     "execution_count": 10,
     "metadata": {},
     "output_type": "execute_result"
    }
   ],
   "source": [
    "data_df.shape"
   ]
  },
  {
   "cell_type": "code",
   "execution_count": 11,
   "id": "6edee9de",
   "metadata": {},
   "outputs": [],
   "source": [
    "data_group_df = data_df[data_df['nanomaterial_group'] == group_name]"
   ]
  },
  {
   "cell_type": "code",
   "execution_count": 12,
   "id": "1e8494b2",
   "metadata": {},
   "outputs": [
    {
     "data": {
      "text/plain": [
       "(3013, 20)"
      ]
     },
     "execution_count": 12,
     "metadata": {},
     "output_type": "execute_result"
    }
   ],
   "source": [
    "data_group_df.shape"
   ]
  },
  {
   "cell_type": "code",
   "execution_count": 13,
   "id": "1e5fc4a7",
   "metadata": {},
   "outputs": [
    {
     "data": {
      "text/html": [
       "<div>\n",
       "<style scoped>\n",
       "    .dataframe tbody tr th:only-of-type {\n",
       "        vertical-align: middle;\n",
       "    }\n",
       "\n",
       "    .dataframe tbody tr th {\n",
       "        vertical-align: top;\n",
       "    }\n",
       "\n",
       "    .dataframe thead th {\n",
       "        text-align: right;\n",
       "    }\n",
       "</style>\n",
       "<table border=\"1\" class=\"dataframe\">\n",
       "  <thead>\n",
       "    <tr style=\"text-align: right;\">\n",
       "      <th></th>\n",
       "      <th>NP_type</th>\n",
       "      <th>Coating</th>\n",
       "      <th>core_size_nm</th>\n",
       "      <th>hydro_size_nm</th>\n",
       "      <th>Surf_charge_mV</th>\n",
       "      <th>Surface_area_m2_g</th>\n",
       "      <th>shape</th>\n",
       "      <th>Dose_microg_mL</th>\n",
       "      <th>Duration_h</th>\n",
       "      <th>Cell_name</th>\n",
       "      <th>Cell_species</th>\n",
       "      <th>cell_Organ</th>\n",
       "      <th>Cell_morphology</th>\n",
       "      <th>Cell_age</th>\n",
       "      <th>cell_type</th>\n",
       "      <th>sex</th>\n",
       "      <th>Assay</th>\n",
       "      <th>Test_indicator</th>\n",
       "      <th>nanomaterial_group</th>\n",
       "      <th>Viability</th>\n",
       "    </tr>\n",
       "  </thead>\n",
       "  <tbody>\n",
       "    <tr>\n",
       "      <th>0</th>\n",
       "      <td>CdSe</td>\n",
       "      <td>None</td>\n",
       "      <td>4.6</td>\n",
       "      <td>NaN</td>\n",
       "      <td>NaN</td>\n",
       "      <td>NaN</td>\n",
       "      <td>NaN</td>\n",
       "      <td>7.17</td>\n",
       "      <td>1.0</td>\n",
       "      <td>MC3T3-E1</td>\n",
       "      <td>Mouse</td>\n",
       "      <td>Bone</td>\n",
       "      <td>Preosteoblast</td>\n",
       "      <td>neonate</td>\n",
       "      <td>Normal</td>\n",
       "      <td>NaN</td>\n",
       "      <td>Others</td>\n",
       "      <td>NaN</td>\n",
       "      <td>quantum_dots</td>\n",
       "      <td>86.00</td>\n",
       "    </tr>\n",
       "    <tr>\n",
       "      <th>1</th>\n",
       "      <td>CdSe</td>\n",
       "      <td>None</td>\n",
       "      <td>5.2</td>\n",
       "      <td>NaN</td>\n",
       "      <td>NaN</td>\n",
       "      <td>NaN</td>\n",
       "      <td>NaN</td>\n",
       "      <td>0.00</td>\n",
       "      <td>24.0</td>\n",
       "      <td>Neuro­2a</td>\n",
       "      <td>Mouse</td>\n",
       "      <td>Brain</td>\n",
       "      <td>Neural</td>\n",
       "      <td>Adult</td>\n",
       "      <td>cancer</td>\n",
       "      <td>NaN</td>\n",
       "      <td>LDH</td>\n",
       "      <td>LDHrelease</td>\n",
       "      <td>quantum_dots</td>\n",
       "      <td>10.83</td>\n",
       "    </tr>\n",
       "    <tr>\n",
       "      <th>2</th>\n",
       "      <td>QDs</td>\n",
       "      <td>SGF</td>\n",
       "      <td>6.0</td>\n",
       "      <td>NaN</td>\n",
       "      <td>NaN</td>\n",
       "      <td>NaN</td>\n",
       "      <td>NaN</td>\n",
       "      <td>0.84</td>\n",
       "      <td>24.0</td>\n",
       "      <td>Caco_2</td>\n",
       "      <td>Human</td>\n",
       "      <td>Colon</td>\n",
       "      <td>Epithelial</td>\n",
       "      <td>Adult</td>\n",
       "      <td>cancer</td>\n",
       "      <td>male</td>\n",
       "      <td>MTT</td>\n",
       "      <td>TetrazoliumSalt</td>\n",
       "      <td>quantum_dots</td>\n",
       "      <td>70.73</td>\n",
       "    </tr>\n",
       "    <tr>\n",
       "      <th>7</th>\n",
       "      <td>CdSe</td>\n",
       "      <td>None</td>\n",
       "      <td>2.2</td>\n",
       "      <td>NaN</td>\n",
       "      <td>NaN</td>\n",
       "      <td>NaN</td>\n",
       "      <td>NaN</td>\n",
       "      <td>0.19</td>\n",
       "      <td>12.0</td>\n",
       "      <td>JB6</td>\n",
       "      <td>Human</td>\n",
       "      <td>Blood</td>\n",
       "      <td>Lymphocyte</td>\n",
       "      <td>Adult</td>\n",
       "      <td>cancer</td>\n",
       "      <td>male</td>\n",
       "      <td>MTT</td>\n",
       "      <td>TetrazoliumSalt</td>\n",
       "      <td>quantum_dots</td>\n",
       "      <td>94.30</td>\n",
       "    </tr>\n",
       "    <tr>\n",
       "      <th>9</th>\n",
       "      <td>CdTe</td>\n",
       "      <td>None</td>\n",
       "      <td>2.6</td>\n",
       "      <td>NaN</td>\n",
       "      <td>NaN</td>\n",
       "      <td>NaN</td>\n",
       "      <td>NaN</td>\n",
       "      <td>3.00</td>\n",
       "      <td>24.0</td>\n",
       "      <td>K562</td>\n",
       "      <td>Human</td>\n",
       "      <td>BoneMarrow</td>\n",
       "      <td>Lymphoblast</td>\n",
       "      <td>Adult</td>\n",
       "      <td>cancer</td>\n",
       "      <td>female</td>\n",
       "      <td>MTT</td>\n",
       "      <td>TetrazoliumSalt</td>\n",
       "      <td>quantum_dots</td>\n",
       "      <td>35.00</td>\n",
       "    </tr>\n",
       "  </tbody>\n",
       "</table>\n",
       "</div>"
      ],
      "text/plain": [
       "  NP_type Coating  core_size_nm  hydro_size_nm  Surf_charge_mV  \\\n",
       "0    CdSe    None           4.6            NaN             NaN   \n",
       "1    CdSe    None           5.2            NaN             NaN   \n",
       "2     QDs     SGF           6.0            NaN             NaN   \n",
       "7    CdSe    None           2.2            NaN             NaN   \n",
       "9    CdTe    None           2.6            NaN             NaN   \n",
       "\n",
       "   Surface_area_m2_g shape  Dose_microg_mL  Duration_h Cell_name Cell_species  \\\n",
       "0                NaN   NaN            7.17         1.0  MC3T3-E1        Mouse   \n",
       "1                NaN   NaN            0.00        24.0  Neuro­2a        Mouse   \n",
       "2                NaN   NaN            0.84        24.0    Caco_2        Human   \n",
       "7                NaN   NaN            0.19        12.0       JB6        Human   \n",
       "9                NaN   NaN            3.00        24.0      K562        Human   \n",
       "\n",
       "   cell_Organ Cell_morphology Cell_age cell_type     sex   Assay  \\\n",
       "0        Bone   Preosteoblast  neonate    Normal     NaN  Others   \n",
       "1       Brain          Neural    Adult    cancer     NaN     LDH   \n",
       "2       Colon      Epithelial    Adult    cancer    male     MTT   \n",
       "7       Blood      Lymphocyte    Adult    cancer    male     MTT   \n",
       "9  BoneMarrow     Lymphoblast    Adult    cancer  female     MTT   \n",
       "\n",
       "    Test_indicator nanomaterial_group  Viability  \n",
       "0              NaN       quantum_dots      86.00  \n",
       "1       LDHrelease       quantum_dots      10.83  \n",
       "2  TetrazoliumSalt       quantum_dots      70.73  \n",
       "7  TetrazoliumSalt       quantum_dots      94.30  \n",
       "9  TetrazoliumSalt       quantum_dots      35.00  "
      ]
     },
     "execution_count": 13,
     "metadata": {},
     "output_type": "execute_result"
    }
   ],
   "source": [
    "data_group_df.head()"
   ]
  },
  {
   "cell_type": "markdown",
   "id": "eb8e0454",
   "metadata": {},
   "source": [
    "### Create training set and test set"
   ]
  },
  {
   "cell_type": "code",
   "execution_count": 14,
   "id": "0b7eb48e",
   "metadata": {},
   "outputs": [],
   "source": [
    "data_group_df = f.quantile_discretize(data_group_df, 'Viability')"
   ]
  },
  {
   "cell_type": "code",
   "execution_count": 15,
   "id": "d3b9c5b7",
   "metadata": {
    "scrolled": false
   },
   "outputs": [
    {
     "data": {
      "text/html": [
       "<style type=\"text/css\">\n",
       "#T_7e41d_row3_col1 {\n",
       "  background-color: lightgreen;\n",
       "}\n",
       "</style>\n",
       "<table id=\"T_7e41d\">\n",
       "  <thead>\n",
       "    <tr>\n",
       "      <th class=\"blank level0\" >&nbsp;</th>\n",
       "      <th id=\"T_7e41d_level0_col0\" class=\"col_heading level0 col0\" >Description</th>\n",
       "      <th id=\"T_7e41d_level0_col1\" class=\"col_heading level0 col1\" >Value</th>\n",
       "    </tr>\n",
       "  </thead>\n",
       "  <tbody>\n",
       "    <tr>\n",
       "      <th id=\"T_7e41d_level0_row0\" class=\"row_heading level0 row0\" >0</th>\n",
       "      <td id=\"T_7e41d_row0_col0\" class=\"data row0 col0\" >session_id</td>\n",
       "      <td id=\"T_7e41d_row0_col1\" class=\"data row0 col1\" >123</td>\n",
       "    </tr>\n",
       "    <tr>\n",
       "      <th id=\"T_7e41d_level0_row1\" class=\"row_heading level0 row1\" >1</th>\n",
       "      <td id=\"T_7e41d_row1_col0\" class=\"data row1 col0\" >Target</td>\n",
       "      <td id=\"T_7e41d_row1_col1\" class=\"data row1 col1\" >Viability_discrete</td>\n",
       "    </tr>\n",
       "    <tr>\n",
       "      <th id=\"T_7e41d_level0_row2\" class=\"row_heading level0 row2\" >2</th>\n",
       "      <td id=\"T_7e41d_row2_col0\" class=\"data row2 col0\" >Original Data</td>\n",
       "      <td id=\"T_7e41d_row2_col1\" class=\"data row2 col1\" >(3013, 21)</td>\n",
       "    </tr>\n",
       "    <tr>\n",
       "      <th id=\"T_7e41d_level0_row3\" class=\"row_heading level0 row3\" >3</th>\n",
       "      <td id=\"T_7e41d_row3_col0\" class=\"data row3 col0\" >Missing Values</td>\n",
       "      <td id=\"T_7e41d_row3_col1\" class=\"data row3 col1\" >True</td>\n",
       "    </tr>\n",
       "    <tr>\n",
       "      <th id=\"T_7e41d_level0_row4\" class=\"row_heading level0 row4\" >4</th>\n",
       "      <td id=\"T_7e41d_row4_col0\" class=\"data row4 col0\" >Numeric Features</td>\n",
       "      <td id=\"T_7e41d_row4_col1\" class=\"data row4 col1\" >5</td>\n",
       "    </tr>\n",
       "    <tr>\n",
       "      <th id=\"T_7e41d_level0_row5\" class=\"row_heading level0 row5\" >5</th>\n",
       "      <td id=\"T_7e41d_row5_col0\" class=\"data row5 col0\" >Categorical Features</td>\n",
       "      <td id=\"T_7e41d_row5_col1\" class=\"data row5 col1\" >15</td>\n",
       "    </tr>\n",
       "    <tr>\n",
       "      <th id=\"T_7e41d_level0_row6\" class=\"row_heading level0 row6\" >6</th>\n",
       "      <td id=\"T_7e41d_row6_col0\" class=\"data row6 col0\" >Transformed Train Set</td>\n",
       "      <td id=\"T_7e41d_row6_col1\" class=\"data row6 col1\" >(2410, 18)</td>\n",
       "    </tr>\n",
       "    <tr>\n",
       "      <th id=\"T_7e41d_level0_row7\" class=\"row_heading level0 row7\" >7</th>\n",
       "      <td id=\"T_7e41d_row7_col0\" class=\"data row7 col0\" >Transformed Test Set</td>\n",
       "      <td id=\"T_7e41d_row7_col1\" class=\"data row7 col1\" >(603, 18)</td>\n",
       "    </tr>\n",
       "    <tr>\n",
       "      <th id=\"T_7e41d_level0_row8\" class=\"row_heading level0 row8\" >8</th>\n",
       "      <td id=\"T_7e41d_row8_col0\" class=\"data row8 col0\" >Shuffle Train-Test</td>\n",
       "      <td id=\"T_7e41d_row8_col1\" class=\"data row8 col1\" >True</td>\n",
       "    </tr>\n",
       "    <tr>\n",
       "      <th id=\"T_7e41d_level0_row9\" class=\"row_heading level0 row9\" >9</th>\n",
       "      <td id=\"T_7e41d_row9_col0\" class=\"data row9 col0\" >Stratify Train-Test</td>\n",
       "      <td id=\"T_7e41d_row9_col1\" class=\"data row9 col1\" >True</td>\n",
       "    </tr>\n",
       "    <tr>\n",
       "      <th id=\"T_7e41d_level0_row10\" class=\"row_heading level0 row10\" >10</th>\n",
       "      <td id=\"T_7e41d_row10_col0\" class=\"data row10 col0\" >Fold Generator</td>\n",
       "      <td id=\"T_7e41d_row10_col1\" class=\"data row10 col1\" >KFold</td>\n",
       "    </tr>\n",
       "    <tr>\n",
       "      <th id=\"T_7e41d_level0_row11\" class=\"row_heading level0 row11\" >11</th>\n",
       "      <td id=\"T_7e41d_row11_col0\" class=\"data row11 col0\" >Fold Number</td>\n",
       "      <td id=\"T_7e41d_row11_col1\" class=\"data row11 col1\" >10</td>\n",
       "    </tr>\n",
       "    <tr>\n",
       "      <th id=\"T_7e41d_level0_row12\" class=\"row_heading level0 row12\" >12</th>\n",
       "      <td id=\"T_7e41d_row12_col0\" class=\"data row12 col0\" >CPU Jobs</td>\n",
       "      <td id=\"T_7e41d_row12_col1\" class=\"data row12 col1\" >-1</td>\n",
       "    </tr>\n",
       "    <tr>\n",
       "      <th id=\"T_7e41d_level0_row13\" class=\"row_heading level0 row13\" >13</th>\n",
       "      <td id=\"T_7e41d_row13_col0\" class=\"data row13 col0\" >Use GPU</td>\n",
       "      <td id=\"T_7e41d_row13_col1\" class=\"data row13 col1\" >False</td>\n",
       "    </tr>\n",
       "    <tr>\n",
       "      <th id=\"T_7e41d_level0_row14\" class=\"row_heading level0 row14\" >14</th>\n",
       "      <td id=\"T_7e41d_row14_col0\" class=\"data row14 col0\" >Log Experiment</td>\n",
       "      <td id=\"T_7e41d_row14_col1\" class=\"data row14 col1\" >False</td>\n",
       "    </tr>\n",
       "    <tr>\n",
       "      <th id=\"T_7e41d_level0_row15\" class=\"row_heading level0 row15\" >15</th>\n",
       "      <td id=\"T_7e41d_row15_col0\" class=\"data row15 col0\" >Experiment Name</td>\n",
       "      <td id=\"T_7e41d_row15_col1\" class=\"data row15 col1\" >splitter</td>\n",
       "    </tr>\n",
       "    <tr>\n",
       "      <th id=\"T_7e41d_level0_row16\" class=\"row_heading level0 row16\" >16</th>\n",
       "      <td id=\"T_7e41d_row16_col0\" class=\"data row16 col0\" >USI</td>\n",
       "      <td id=\"T_7e41d_row16_col1\" class=\"data row16 col1\" >4688</td>\n",
       "    </tr>\n",
       "    <tr>\n",
       "      <th id=\"T_7e41d_level0_row17\" class=\"row_heading level0 row17\" >17</th>\n",
       "      <td id=\"T_7e41d_row17_col0\" class=\"data row17 col0\" >Transform Target</td>\n",
       "      <td id=\"T_7e41d_row17_col1\" class=\"data row17 col1\" >False</td>\n",
       "    </tr>\n",
       "    <tr>\n",
       "      <th id=\"T_7e41d_level0_row18\" class=\"row_heading level0 row18\" >18</th>\n",
       "      <td id=\"T_7e41d_row18_col0\" class=\"data row18 col0\" >Transform Target Method</td>\n",
       "      <td id=\"T_7e41d_row18_col1\" class=\"data row18 col1\" >box-cox</td>\n",
       "    </tr>\n",
       "  </tbody>\n",
       "</table>\n"
      ],
      "text/plain": [
       "<pandas.io.formats.style.Styler at 0x7f6e08ec0f40>"
      ]
     },
     "metadata": {},
     "output_type": "display_data"
    }
   ],
   "source": [
    "splitter = setup(data = data_group_df, target = 'Viability_discrete',\n",
    "                 preprocess = False,\n",
    "                 train_size=0.8,\n",
    "                 data_split_stratify=True,\n",
    "                 # don't change the following\n",
    "                 session_id = 123,\n",
    "                 use_gpu=False,\n",
    "                 log_experiment = False,\n",
    "                 silent=True,\n",
    "                 experiment_name = 'splitter')"
   ]
  },
  {
   "cell_type": "code",
   "execution_count": 16,
   "id": "22c4611b",
   "metadata": {},
   "outputs": [],
   "source": [
    "data_group_train_df = get_config(variable=\"X_train\").copy()\n",
    "#data_group_train_df['Viability'] = get_config(variable=\"y_train\").copy()\n",
    "\n",
    "data_group_test_df = get_config(variable=\"X_test\").copy()\n",
    "#data_group_test_df['Viability'] = get_config(variable=\"y_test\").copy()"
   ]
  },
  {
   "cell_type": "code",
   "execution_count": 17,
   "id": "6fecd13a",
   "metadata": {},
   "outputs": [
    {
     "name": "stdout",
     "output_type": "stream",
     "text": [
      "(2410, 18)\n",
      "(603, 18)\n"
     ]
    }
   ],
   "source": [
    "print(data_group_train_df.shape)\n",
    "print(data_group_test_df.shape)"
   ]
  },
  {
   "cell_type": "code",
   "execution_count": 18,
   "id": "8e38fadb",
   "metadata": {},
   "outputs": [
    {
     "data": {
      "image/png": "[encoded data removed]",
      "text/plain": [
       "<Figure size 2000x3000 with 5 Axes>"
      ]
     },
     "metadata": {},
     "output_type": "display_data"
    }
   ],
   "source": [
    "f.plot_distribution_train_test(data_group_train_df, data_group_test_df)"
   ]
  },
  {
   "cell_type": "markdown",
   "id": "4881a22b",
   "metadata": {},
   "source": [
    "### Save cleaned datasets"
   ]
  },
  {
   "cell_type": "code",
   "execution_count": 19,
   "id": "0e2f7ba4",
   "metadata": {},
   "outputs": [],
   "source": [
    "data_group_train_df.to_csv('output/datasets/'+model_group_name+'/data_regression_train_df.csv', encoding='utf-8', index=False)"
   ]
  },
  {
   "cell_type": "code",
   "execution_count": 20,
   "id": "ab995e8b",
   "metadata": {},
   "outputs": [],
   "source": [
    "data_group_test_df.to_csv('output/datasets/'+model_group_name+'/data_regression_test_df.csv', encoding='utf-8', index=False)"
   ]
  },
  {
   "cell_type": "markdown",
   "id": "cffe023c-bf03-4ba8-a278-8b1261da6572",
   "metadata": {},
   "source": [
    "### Use the best scenario identified in step 01"
   ]
  },
  {
   "cell_type": "code",
   "execution_count": 21,
   "id": "2cf8d7ef",
   "metadata": {},
   "outputs": [],
   "source": [
    "sc_ignore_features = ['nanomaterial_group', 'Coating', 'Cell_name']\n",
    "sc_bin_numeric_features = None\n",
    "sc_high_cardinality_features = None\n",
    "\n",
    "sc_imputation_type = 'simple'\n",
    "sc_numeric_imputation = 'median'\n",
    "\n",
    "sc_normalize = True\n",
    "sc_remove_outliers = False"
   ]
  },
  {
   "cell_type": "markdown",
   "id": "eb0fb96c",
   "metadata": {},
   "source": [
    "### Define seeds"
   ]
  },
  {
   "cell_type": "code",
   "execution_count": 22,
   "id": "7db1802e",
   "metadata": {},
   "outputs": [],
   "source": [
    "cv_inner_seed = 834\n",
    "cv_outer_seed = 123"
   ]
  },
  {
   "cell_type": "markdown",
   "id": "b866744f",
   "metadata": {},
   "source": [
    "### Data Preprcoessing"
   ]
  },
  {
   "cell_type": "code",
   "execution_count": 23,
   "id": "cb2a02f9",
   "metadata": {},
   "outputs": [
    {
     "data": {
      "text/html": [
       "<style type=\"text/css\">\n",
       "#T_d1e94_row3_col1, #T_d1e94_row27_col1, #T_d1e94_row34_col1, #T_d1e94_row42_col1 {\n",
       "  background-color: lightgreen;\n",
       "}\n",
       "</style>\n",
       "<table id=\"T_d1e94\">\n",
       "  <thead>\n",
       "    <tr>\n",
       "      <th class=\"blank level0\" >&nbsp;</th>\n",
       "      <th id=\"T_d1e94_level0_col0\" class=\"col_heading level0 col0\" >Description</th>\n",
       "      <th id=\"T_d1e94_level0_col1\" class=\"col_heading level0 col1\" >Value</th>\n",
       "    </tr>\n",
       "  </thead>\n",
       "  <tbody>\n",
       "    <tr>\n",
       "      <th id=\"T_d1e94_level0_row0\" class=\"row_heading level0 row0\" >0</th>\n",
       "      <td id=\"T_d1e94_row0_col0\" class=\"data row0 col0\" >session_id</td>\n",
       "      <td id=\"T_d1e94_row0_col1\" class=\"data row0 col1\" >834</td>\n",
       "    </tr>\n",
       "    <tr>\n",
       "      <th id=\"T_d1e94_level0_row1\" class=\"row_heading level0 row1\" >1</th>\n",
       "      <td id=\"T_d1e94_row1_col0\" class=\"data row1 col0\" >Target</td>\n",
       "      <td id=\"T_d1e94_row1_col1\" class=\"data row1 col1\" >Viability</td>\n",
       "    </tr>\n",
       "    <tr>\n",
       "      <th id=\"T_d1e94_level0_row2\" class=\"row_heading level0 row2\" >2</th>\n",
       "      <td id=\"T_d1e94_row2_col0\" class=\"data row2 col0\" >Original Data</td>\n",
       "      <td id=\"T_d1e94_row2_col1\" class=\"data row2 col1\" >(2410, 18)</td>\n",
       "    </tr>\n",
       "    <tr>\n",
       "      <th id=\"T_d1e94_level0_row3\" class=\"row_heading level0 row3\" >3</th>\n",
       "      <td id=\"T_d1e94_row3_col0\" class=\"data row3 col0\" >Missing Values</td>\n",
       "      <td id=\"T_d1e94_row3_col1\" class=\"data row3 col1\" >True</td>\n",
       "    </tr>\n",
       "    <tr>\n",
       "      <th id=\"T_d1e94_level0_row4\" class=\"row_heading level0 row4\" >4</th>\n",
       "      <td id=\"T_d1e94_row4_col0\" class=\"data row4 col0\" >Numeric Features</td>\n",
       "      <td id=\"T_d1e94_row4_col1\" class=\"data row4 col1\" >4</td>\n",
       "    </tr>\n",
       "    <tr>\n",
       "      <th id=\"T_d1e94_level0_row5\" class=\"row_heading level0 row5\" >5</th>\n",
       "      <td id=\"T_d1e94_row5_col0\" class=\"data row5 col0\" >Categorical Features</td>\n",
       "      <td id=\"T_d1e94_row5_col1\" class=\"data row5 col1\" >10</td>\n",
       "    </tr>\n",
       "    <tr>\n",
       "      <th id=\"T_d1e94_level0_row6\" class=\"row_heading level0 row6\" >6</th>\n",
       "      <td id=\"T_d1e94_row6_col0\" class=\"data row6 col0\" >Ordinal Features</td>\n",
       "      <td id=\"T_d1e94_row6_col1\" class=\"data row6 col1\" >False</td>\n",
       "    </tr>\n",
       "    <tr>\n",
       "      <th id=\"T_d1e94_level0_row7\" class=\"row_heading level0 row7\" >7</th>\n",
       "      <td id=\"T_d1e94_row7_col0\" class=\"data row7 col0\" >High Cardinality Features</td>\n",
       "      <td id=\"T_d1e94_row7_col1\" class=\"data row7 col1\" >False</td>\n",
       "    </tr>\n",
       "    <tr>\n",
       "      <th id=\"T_d1e94_level0_row8\" class=\"row_heading level0 row8\" >8</th>\n",
       "      <td id=\"T_d1e94_row8_col0\" class=\"data row8 col0\" >High Cardinality Method</td>\n",
       "      <td id=\"T_d1e94_row8_col1\" class=\"data row8 col1\" >None</td>\n",
       "    </tr>\n",
       "    <tr>\n",
       "      <th id=\"T_d1e94_level0_row9\" class=\"row_heading level0 row9\" >9</th>\n",
       "      <td id=\"T_d1e94_row9_col0\" class=\"data row9 col0\" >Transformed Train Set</td>\n",
       "      <td id=\"T_d1e94_row9_col1\" class=\"data row9 col1\" >(2410, 149)</td>\n",
       "    </tr>\n",
       "    <tr>\n",
       "      <th id=\"T_d1e94_level0_row10\" class=\"row_heading level0 row10\" >10</th>\n",
       "      <td id=\"T_d1e94_row10_col0\" class=\"data row10 col0\" >Transformed Test Set</td>\n",
       "      <td id=\"T_d1e94_row10_col1\" class=\"data row10 col1\" >(603, 149)</td>\n",
       "    </tr>\n",
       "    <tr>\n",
       "      <th id=\"T_d1e94_level0_row11\" class=\"row_heading level0 row11\" >11</th>\n",
       "      <td id=\"T_d1e94_row11_col0\" class=\"data row11 col0\" >Shuffle Train-Test</td>\n",
       "      <td id=\"T_d1e94_row11_col1\" class=\"data row11 col1\" >True</td>\n",
       "    </tr>\n",
       "    <tr>\n",
       "      <th id=\"T_d1e94_level0_row12\" class=\"row_heading level0 row12\" >12</th>\n",
       "      <td id=\"T_d1e94_row12_col0\" class=\"data row12 col0\" >Stratify Train-Test</td>\n",
       "      <td id=\"T_d1e94_row12_col1\" class=\"data row12 col1\" >False</td>\n",
       "    </tr>\n",
       "    <tr>\n",
       "      <th id=\"T_d1e94_level0_row13\" class=\"row_heading level0 row13\" >13</th>\n",
       "      <td id=\"T_d1e94_row13_col0\" class=\"data row13 col0\" >Fold Generator</td>\n",
       "      <td id=\"T_d1e94_row13_col1\" class=\"data row13 col1\" >KFold</td>\n",
       "    </tr>\n",
       "    <tr>\n",
       "      <th id=\"T_d1e94_level0_row14\" class=\"row_heading level0 row14\" >14</th>\n",
       "      <td id=\"T_d1e94_row14_col0\" class=\"data row14 col0\" >Fold Number</td>\n",
       "      <td id=\"T_d1e94_row14_col1\" class=\"data row14 col1\" >5</td>\n",
       "    </tr>\n",
       "    <tr>\n",
       "      <th id=\"T_d1e94_level0_row15\" class=\"row_heading level0 row15\" >15</th>\n",
       "      <td id=\"T_d1e94_row15_col0\" class=\"data row15 col0\" >CPU Jobs</td>\n",
       "      <td id=\"T_d1e94_row15_col1\" class=\"data row15 col1\" >-1</td>\n",
       "    </tr>\n",
       "    <tr>\n",
       "      <th id=\"T_d1e94_level0_row16\" class=\"row_heading level0 row16\" >16</th>\n",
       "      <td id=\"T_d1e94_row16_col0\" class=\"data row16 col0\" >Use GPU</td>\n",
       "      <td id=\"T_d1e94_row16_col1\" class=\"data row16 col1\" >False</td>\n",
       "    </tr>\n",
       "    <tr>\n",
       "      <th id=\"T_d1e94_level0_row17\" class=\"row_heading level0 row17\" >17</th>\n",
       "      <td id=\"T_d1e94_row17_col0\" class=\"data row17 col0\" >Log Experiment</td>\n",
       "      <td id=\"T_d1e94_row17_col1\" class=\"data row17 col1\" >False</td>\n",
       "    </tr>\n",
       "    <tr>\n",
       "      <th id=\"T_d1e94_level0_row18\" class=\"row_heading level0 row18\" >18</th>\n",
       "      <td id=\"T_d1e94_row18_col0\" class=\"data row18 col0\" >Experiment Name</td>\n",
       "      <td id=\"T_d1e94_row18_col1\" class=\"data row18 col1\" >group_based</td>\n",
       "    </tr>\n",
       "    <tr>\n",
       "      <th id=\"T_d1e94_level0_row19\" class=\"row_heading level0 row19\" >19</th>\n",
       "      <td id=\"T_d1e94_row19_col0\" class=\"data row19 col0\" >USI</td>\n",
       "      <td id=\"T_d1e94_row19_col1\" class=\"data row19 col1\" >4c30</td>\n",
       "    </tr>\n",
       "    <tr>\n",
       "      <th id=\"T_d1e94_level0_row20\" class=\"row_heading level0 row20\" >20</th>\n",
       "      <td id=\"T_d1e94_row20_col0\" class=\"data row20 col0\" >Imputation Type</td>\n",
       "      <td id=\"T_d1e94_row20_col1\" class=\"data row20 col1\" >simple</td>\n",
       "    </tr>\n",
       "    <tr>\n",
       "      <th id=\"T_d1e94_level0_row21\" class=\"row_heading level0 row21\" >21</th>\n",
       "      <td id=\"T_d1e94_row21_col0\" class=\"data row21 col0\" >Iterative Imputation Iteration</td>\n",
       "      <td id=\"T_d1e94_row21_col1\" class=\"data row21 col1\" >None</td>\n",
       "    </tr>\n",
       "    <tr>\n",
       "      <th id=\"T_d1e94_level0_row22\" class=\"row_heading level0 row22\" >22</th>\n",
       "      <td id=\"T_d1e94_row22_col0\" class=\"data row22 col0\" >Numeric Imputer</td>\n",
       "      <td id=\"T_d1e94_row22_col1\" class=\"data row22 col1\" >median</td>\n",
       "    </tr>\n",
       "    <tr>\n",
       "      <th id=\"T_d1e94_level0_row23\" class=\"row_heading level0 row23\" >23</th>\n",
       "      <td id=\"T_d1e94_row23_col0\" class=\"data row23 col0\" >Iterative Imputation Numeric Model</td>\n",
       "      <td id=\"T_d1e94_row23_col1\" class=\"data row23 col1\" >None</td>\n",
       "    </tr>\n",
       "    <tr>\n",
       "      <th id=\"T_d1e94_level0_row24\" class=\"row_heading level0 row24\" >24</th>\n",
       "      <td id=\"T_d1e94_row24_col0\" class=\"data row24 col0\" >Categorical Imputer</td>\n",
       "      <td id=\"T_d1e94_row24_col1\" class=\"data row24 col1\" >constant</td>\n",
       "    </tr>\n",
       "    <tr>\n",
       "      <th id=\"T_d1e94_level0_row25\" class=\"row_heading level0 row25\" >25</th>\n",
       "      <td id=\"T_d1e94_row25_col0\" class=\"data row25 col0\" >Iterative Imputation Categorical Model</td>\n",
       "      <td id=\"T_d1e94_row25_col1\" class=\"data row25 col1\" >None</td>\n",
       "    </tr>\n",
       "    <tr>\n",
       "      <th id=\"T_d1e94_level0_row26\" class=\"row_heading level0 row26\" >26</th>\n",
       "      <td id=\"T_d1e94_row26_col0\" class=\"data row26 col0\" >Unknown Categoricals Handling</td>\n",
       "      <td id=\"T_d1e94_row26_col1\" class=\"data row26 col1\" >least_frequent</td>\n",
       "    </tr>\n",
       "    <tr>\n",
       "      <th id=\"T_d1e94_level0_row27\" class=\"row_heading level0 row27\" >27</th>\n",
       "      <td id=\"T_d1e94_row27_col0\" class=\"data row27 col0\" >Normalize</td>\n",
       "      <td id=\"T_d1e94_row27_col1\" class=\"data row27 col1\" >True</td>\n",
       "    </tr>\n",
       "    <tr>\n",
       "      <th id=\"T_d1e94_level0_row28\" class=\"row_heading level0 row28\" >28</th>\n",
       "      <td id=\"T_d1e94_row28_col0\" class=\"data row28 col0\" >Normalize Method</td>\n",
       "      <td id=\"T_d1e94_row28_col1\" class=\"data row28 col1\" >zscore</td>\n",
       "    </tr>\n",
       "    <tr>\n",
       "      <th id=\"T_d1e94_level0_row29\" class=\"row_heading level0 row29\" >29</th>\n",
       "      <td id=\"T_d1e94_row29_col0\" class=\"data row29 col0\" >Transformation</td>\n",
       "      <td id=\"T_d1e94_row29_col1\" class=\"data row29 col1\" >False</td>\n",
       "    </tr>\n",
       "    <tr>\n",
       "      <th id=\"T_d1e94_level0_row30\" class=\"row_heading level0 row30\" >30</th>\n",
       "      <td id=\"T_d1e94_row30_col0\" class=\"data row30 col0\" >Transformation Method</td>\n",
       "      <td id=\"T_d1e94_row30_col1\" class=\"data row30 col1\" >None</td>\n",
       "    </tr>\n",
       "    <tr>\n",
       "      <th id=\"T_d1e94_level0_row31\" class=\"row_heading level0 row31\" >31</th>\n",
       "      <td id=\"T_d1e94_row31_col0\" class=\"data row31 col0\" >PCA</td>\n",
       "      <td id=\"T_d1e94_row31_col1\" class=\"data row31 col1\" >False</td>\n",
       "    </tr>\n",
       "    <tr>\n",
       "      <th id=\"T_d1e94_level0_row32\" class=\"row_heading level0 row32\" >32</th>\n",
       "      <td id=\"T_d1e94_row32_col0\" class=\"data row32 col0\" >PCA Method</td>\n",
       "      <td id=\"T_d1e94_row32_col1\" class=\"data row32 col1\" >None</td>\n",
       "    </tr>\n",
       "    <tr>\n",
       "      <th id=\"T_d1e94_level0_row33\" class=\"row_heading level0 row33\" >33</th>\n",
       "      <td id=\"T_d1e94_row33_col0\" class=\"data row33 col0\" >PCA Components</td>\n",
       "      <td id=\"T_d1e94_row33_col1\" class=\"data row33 col1\" >None</td>\n",
       "    </tr>\n",
       "    <tr>\n",
       "      <th id=\"T_d1e94_level0_row34\" class=\"row_heading level0 row34\" >34</th>\n",
       "      <td id=\"T_d1e94_row34_col0\" class=\"data row34 col0\" >Ignore Low Variance</td>\n",
       "      <td id=\"T_d1e94_row34_col1\" class=\"data row34 col1\" >True</td>\n",
       "    </tr>\n",
       "    <tr>\n",
       "      <th id=\"T_d1e94_level0_row35\" class=\"row_heading level0 row35\" >35</th>\n",
       "      <td id=\"T_d1e94_row35_col0\" class=\"data row35 col0\" >Combine Rare Levels</td>\n",
       "      <td id=\"T_d1e94_row35_col1\" class=\"data row35 col1\" >False</td>\n",
       "    </tr>\n",
       "    <tr>\n",
       "      <th id=\"T_d1e94_level0_row36\" class=\"row_heading level0 row36\" >36</th>\n",
       "      <td id=\"T_d1e94_row36_col0\" class=\"data row36 col0\" >Rare Level Threshold</td>\n",
       "      <td id=\"T_d1e94_row36_col1\" class=\"data row36 col1\" >None</td>\n",
       "    </tr>\n",
       "    <tr>\n",
       "      <th id=\"T_d1e94_level0_row37\" class=\"row_heading level0 row37\" >37</th>\n",
       "      <td id=\"T_d1e94_row37_col0\" class=\"data row37 col0\" >Numeric Binning</td>\n",
       "      <td id=\"T_d1e94_row37_col1\" class=\"data row37 col1\" >False</td>\n",
       "    </tr>\n",
       "    <tr>\n",
       "      <th id=\"T_d1e94_level0_row38\" class=\"row_heading level0 row38\" >38</th>\n",
       "      <td id=\"T_d1e94_row38_col0\" class=\"data row38 col0\" >Remove Outliers</td>\n",
       "      <td id=\"T_d1e94_row38_col1\" class=\"data row38 col1\" >False</td>\n",
       "    </tr>\n",
       "    <tr>\n",
       "      <th id=\"T_d1e94_level0_row39\" class=\"row_heading level0 row39\" >39</th>\n",
       "      <td id=\"T_d1e94_row39_col0\" class=\"data row39 col0\" >Outliers Threshold</td>\n",
       "      <td id=\"T_d1e94_row39_col1\" class=\"data row39 col1\" >None</td>\n",
       "    </tr>\n",
       "    <tr>\n",
       "      <th id=\"T_d1e94_level0_row40\" class=\"row_heading level0 row40\" >40</th>\n",
       "      <td id=\"T_d1e94_row40_col0\" class=\"data row40 col0\" >Remove Multicollinearity</td>\n",
       "      <td id=\"T_d1e94_row40_col1\" class=\"data row40 col1\" >False</td>\n",
       "    </tr>\n",
       "    <tr>\n",
       "      <th id=\"T_d1e94_level0_row41\" class=\"row_heading level0 row41\" >41</th>\n",
       "      <td id=\"T_d1e94_row41_col0\" class=\"data row41 col0\" >Multicollinearity Threshold</td>\n",
       "      <td id=\"T_d1e94_row41_col1\" class=\"data row41 col1\" >None</td>\n",
       "    </tr>\n",
       "    <tr>\n",
       "      <th id=\"T_d1e94_level0_row42\" class=\"row_heading level0 row42\" >42</th>\n",
       "      <td id=\"T_d1e94_row42_col0\" class=\"data row42 col0\" >Remove Perfect Collinearity</td>\n",
       "      <td id=\"T_d1e94_row42_col1\" class=\"data row42 col1\" >True</td>\n",
       "    </tr>\n",
       "    <tr>\n",
       "      <th id=\"T_d1e94_level0_row43\" class=\"row_heading level0 row43\" >43</th>\n",
       "      <td id=\"T_d1e94_row43_col0\" class=\"data row43 col0\" >Clustering</td>\n",
       "      <td id=\"T_d1e94_row43_col1\" class=\"data row43 col1\" >False</td>\n",
       "    </tr>\n",
       "    <tr>\n",
       "      <th id=\"T_d1e94_level0_row44\" class=\"row_heading level0 row44\" >44</th>\n",
       "      <td id=\"T_d1e94_row44_col0\" class=\"data row44 col0\" >Clustering Iteration</td>\n",
       "      <td id=\"T_d1e94_row44_col1\" class=\"data row44 col1\" >None</td>\n",
       "    </tr>\n",
       "    <tr>\n",
       "      <th id=\"T_d1e94_level0_row45\" class=\"row_heading level0 row45\" >45</th>\n",
       "      <td id=\"T_d1e94_row45_col0\" class=\"data row45 col0\" >Polynomial Features</td>\n",
       "      <td id=\"T_d1e94_row45_col1\" class=\"data row45 col1\" >False</td>\n",
       "    </tr>\n",
       "    <tr>\n",
       "      <th id=\"T_d1e94_level0_row46\" class=\"row_heading level0 row46\" >46</th>\n",
       "      <td id=\"T_d1e94_row46_col0\" class=\"data row46 col0\" >Polynomial Degree</td>\n",
       "      <td id=\"T_d1e94_row46_col1\" class=\"data row46 col1\" >None</td>\n",
       "    </tr>\n",
       "    <tr>\n",
       "      <th id=\"T_d1e94_level0_row47\" class=\"row_heading level0 row47\" >47</th>\n",
       "      <td id=\"T_d1e94_row47_col0\" class=\"data row47 col0\" >Trignometry Features</td>\n",
       "      <td id=\"T_d1e94_row47_col1\" class=\"data row47 col1\" >False</td>\n",
       "    </tr>\n",
       "    <tr>\n",
       "      <th id=\"T_d1e94_level0_row48\" class=\"row_heading level0 row48\" >48</th>\n",
       "      <td id=\"T_d1e94_row48_col0\" class=\"data row48 col0\" >Polynomial Threshold</td>\n",
       "      <td id=\"T_d1e94_row48_col1\" class=\"data row48 col1\" >None</td>\n",
       "    </tr>\n",
       "    <tr>\n",
       "      <th id=\"T_d1e94_level0_row49\" class=\"row_heading level0 row49\" >49</th>\n",
       "      <td id=\"T_d1e94_row49_col0\" class=\"data row49 col0\" >Group Features</td>\n",
       "      <td id=\"T_d1e94_row49_col1\" class=\"data row49 col1\" >False</td>\n",
       "    </tr>\n",
       "    <tr>\n",
       "      <th id=\"T_d1e94_level0_row50\" class=\"row_heading level0 row50\" >50</th>\n",
       "      <td id=\"T_d1e94_row50_col0\" class=\"data row50 col0\" >Feature Selection</td>\n",
       "      <td id=\"T_d1e94_row50_col1\" class=\"data row50 col1\" >False</td>\n",
       "    </tr>\n",
       "    <tr>\n",
       "      <th id=\"T_d1e94_level0_row51\" class=\"row_heading level0 row51\" >51</th>\n",
       "      <td id=\"T_d1e94_row51_col0\" class=\"data row51 col0\" >Feature Selection Method</td>\n",
       "      <td id=\"T_d1e94_row51_col1\" class=\"data row51 col1\" >classic</td>\n",
       "    </tr>\n",
       "    <tr>\n",
       "      <th id=\"T_d1e94_level0_row52\" class=\"row_heading level0 row52\" >52</th>\n",
       "      <td id=\"T_d1e94_row52_col0\" class=\"data row52 col0\" >Features Selection Threshold</td>\n",
       "      <td id=\"T_d1e94_row52_col1\" class=\"data row52 col1\" >None</td>\n",
       "    </tr>\n",
       "    <tr>\n",
       "      <th id=\"T_d1e94_level0_row53\" class=\"row_heading level0 row53\" >53</th>\n",
       "      <td id=\"T_d1e94_row53_col0\" class=\"data row53 col0\" >Feature Interaction</td>\n",
       "      <td id=\"T_d1e94_row53_col1\" class=\"data row53 col1\" >False</td>\n",
       "    </tr>\n",
       "    <tr>\n",
       "      <th id=\"T_d1e94_level0_row54\" class=\"row_heading level0 row54\" >54</th>\n",
       "      <td id=\"T_d1e94_row54_col0\" class=\"data row54 col0\" >Feature Ratio</td>\n",
       "      <td id=\"T_d1e94_row54_col1\" class=\"data row54 col1\" >False</td>\n",
       "    </tr>\n",
       "    <tr>\n",
       "      <th id=\"T_d1e94_level0_row55\" class=\"row_heading level0 row55\" >55</th>\n",
       "      <td id=\"T_d1e94_row55_col0\" class=\"data row55 col0\" >Interaction Threshold</td>\n",
       "      <td id=\"T_d1e94_row55_col1\" class=\"data row55 col1\" >None</td>\n",
       "    </tr>\n",
       "    <tr>\n",
       "      <th id=\"T_d1e94_level0_row56\" class=\"row_heading level0 row56\" >56</th>\n",
       "      <td id=\"T_d1e94_row56_col0\" class=\"data row56 col0\" >Transform Target</td>\n",
       "      <td id=\"T_d1e94_row56_col1\" class=\"data row56 col1\" >False</td>\n",
       "    </tr>\n",
       "    <tr>\n",
       "      <th id=\"T_d1e94_level0_row57\" class=\"row_heading level0 row57\" >57</th>\n",
       "      <td id=\"T_d1e94_row57_col0\" class=\"data row57 col0\" >Transform Target Method</td>\n",
       "      <td id=\"T_d1e94_row57_col1\" class=\"data row57 col1\" >box-cox</td>\n",
       "    </tr>\n",
       "  </tbody>\n",
       "</table>\n"
      ],
      "text/plain": [
       "<pandas.io.formats.style.Styler at 0x7f6ddd458fa0>"
      ]
     },
     "metadata": {},
     "output_type": "display_data"
    }
   ],
   "source": [
    "stup = setup(data = data_group_train_df, target = 'Viability', \n",
    "              \n",
    "        test_data = data_group_test_df,\n",
    "\n",
    "        imputation_type = sc_imputation_type, \n",
    "        numeric_imputation = sc_numeric_imputation, #default: mean\n",
    "\n",
    "        ignore_features = sc_ignore_features,\n",
    "        bin_numeric_features = sc_bin_numeric_features,\n",
    "        high_cardinality_features = sc_high_cardinality_features,\n",
    "\n",
    "        normalize = sc_normalize, #default: False\n",
    "        remove_outliers= sc_remove_outliers, #default: False\n",
    "\n",
    "        transformation= False, #default\n",
    "        transformation_method = 'yeo-johnson', #default\n",
    "        transform_target = False, \n",
    "        combine_rare_levels = False,\n",
    "        rare_level_threshold = 0.1, #default: 0.1\n",
    "\n",
    "        remove_multicollinearity = False, #default \n",
    "        multicollinearity_threshold = 0.9, #default\n",
    "\n",
    "        ignore_low_variance = True, \n",
    "\n",
    "        feature_interaction = False, \n",
    "        feature_ratio = False,\n",
    "        polynomial_features = False, \n",
    "        trigonometry_features = False,\n",
    "          \n",
    "        fold = 5,\n",
    "\n",
    "        # don't change the following\n",
    "        session_id = cv_inner_seed,\n",
    "        use_gpu=False,\n",
    "        log_experiment = False,\n",
    "        silent=True,\n",
    "        experiment_name = 'group_based')\n",
    "\n",
    "set_config('seed', cv_inner_seed)"
   ]
  },
  {
   "cell_type": "code",
   "execution_count": 24,
   "id": "ebe27ee8",
   "metadata": {},
   "outputs": [
    {
     "name": "stdout",
     "output_type": "stream",
     "text": [
      "(2410, 149)\n",
      "(2410,)\n"
     ]
    }
   ],
   "source": [
    "print(get_config(variable=\"X_train\").shape)\n",
    "print(get_config(variable=\"y_train\").shape)"
   ]
  },
  {
   "cell_type": "code",
   "execution_count": 25,
   "id": "34f3d922",
   "metadata": {},
   "outputs": [
    {
     "name": "stdout",
     "output_type": "stream",
     "text": [
      "(2410, 149)\n",
      "(2410,)\n"
     ]
    }
   ],
   "source": [
    "print(get_config(variable=\"X\").shape)\n",
    "print(get_config(variable=\"y\").shape)"
   ]
  },
  {
   "cell_type": "code",
   "execution_count": 26,
   "id": "f8e4ec4d",
   "metadata": {},
   "outputs": [],
   "source": [
    "#set_config('X_train', get_config(variable=\"X\").copy()) \n",
    "#set_config('y_train', get_config(variable=\"y\").copy()) \n",
    "#print(get_config(variable=\"X_train\").shape)\n",
    "#print(get_config(variable=\"y_train\").shape)"
   ]
  },
  {
   "cell_type": "code",
   "execution_count": 27,
   "id": "1b417175",
   "metadata": {},
   "outputs": [
    {
     "name": "stdout",
     "output_type": "stream",
     "text": [
      "(603, 149)\n",
      "(603,)\n"
     ]
    }
   ],
   "source": [
    "print(get_config(variable=\"X_test\").shape)\n",
    "print(get_config(variable=\"y_test\").shape)"
   ]
  },
  {
   "cell_type": "code",
   "execution_count": 28,
   "id": "e4387c1e",
   "metadata": {},
   "outputs": [],
   "source": [
    "#load_config('output/models/universal/regression_config.cfg')"
   ]
  },
  {
   "cell_type": "code",
   "execution_count": 29,
   "id": "6fff2182",
   "metadata": {},
   "outputs": [],
   "source": [
    "data_train_transformed_df = get_config(variable=\"X\").copy()\n",
    "data_train_transformed_df['Viability'] = get_config(variable=\"y\").copy()"
   ]
  },
  {
   "cell_type": "code",
   "execution_count": 30,
   "id": "cf253b28",
   "metadata": {},
   "outputs": [],
   "source": [
    "data_test_transformed_df = get_config(variable=\"X_test\").copy()\n",
    "data_test_transformed_df['Viability'] = get_config(variable=\"y_test\").copy()"
   ]
  },
  {
   "cell_type": "code",
   "execution_count": 31,
   "id": "43f293b7",
   "metadata": {},
   "outputs": [],
   "source": [
    "data_train_transformed_df.to_csv('output/datasets/'+model_group_name+'/transformed/data_regression_train_transformed_df.csv', encoding='utf-8', index=False)\n",
    "data_test_transformed_df.to_csv('output/datasets/'+model_group_name+'/transformed/data_regression_test_transformed_df.csv', encoding='utf-8', index=False)"
   ]
  },
  {
   "cell_type": "markdown",
   "id": "fe54e2d4",
   "metadata": {},
   "source": [
    "## Double cross-validation"
   ]
  },
  {
   "cell_type": "markdown",
   "id": "9db53e62",
   "metadata": {},
   "source": [
    "### Inner CV: 5-fold cross-validation for model selection / hyperparameter tuning for 8 models"
   ]
  },
  {
   "cell_type": "code",
   "execution_count": 32,
   "id": "8922c9c0",
   "metadata": {},
   "outputs": [],
   "source": [
    "model_names = ['lr', 'lasso', 'ridge', 'svm', 'rf', 'et', 'gbr', 'lightgbm']"
   ]
  },
  {
   "cell_type": "code",
   "execution_count": 33,
   "id": "69c30960",
   "metadata": {},
   "outputs": [],
   "source": [
    "inner_results = dict()\n",
    "inner_results_tuned = dict()\n",
    "outer_results = dict()\n",
    "predicted_results = dict()\n",
    "tuned_models = dict()\n",
    "final_models = dict()"
   ]
  },
  {
   "cell_type": "code",
   "execution_count": 34,
   "id": "c2a73417",
   "metadata": {},
   "outputs": [
    {
     "data": {
      "text/html": [
       "<style type=\"text/css\">\n",
       "#T_73d1a_row5_col0, #T_73d1a_row5_col1, #T_73d1a_row5_col2, #T_73d1a_row5_col3, #T_73d1a_row5_col4, #T_73d1a_row5_col5 {\n",
       "  background: yellow;\n",
       "}\n",
       "</style>\n",
       "<table id=\"T_73d1a\">\n",
       "  <thead>\n",
       "    <tr>\n",
       "      <th class=\"blank level0\" >&nbsp;</th>\n",
       "      <th id=\"T_73d1a_level0_col0\" class=\"col_heading level0 col0\" >MAE</th>\n",
       "      <th id=\"T_73d1a_level0_col1\" class=\"col_heading level0 col1\" >MSE</th>\n",
       "      <th id=\"T_73d1a_level0_col2\" class=\"col_heading level0 col2\" >RMSE</th>\n",
       "      <th id=\"T_73d1a_level0_col3\" class=\"col_heading level0 col3\" >R2</th>\n",
       "      <th id=\"T_73d1a_level0_col4\" class=\"col_heading level0 col4\" >RMSLE</th>\n",
       "      <th id=\"T_73d1a_level0_col5\" class=\"col_heading level0 col5\" >MAPE</th>\n",
       "    </tr>\n",
       "    <tr>\n",
       "      <th class=\"index_name level0\" >Fold</th>\n",
       "      <th class=\"blank col0\" >&nbsp;</th>\n",
       "      <th class=\"blank col1\" >&nbsp;</th>\n",
       "      <th class=\"blank col2\" >&nbsp;</th>\n",
       "      <th class=\"blank col3\" >&nbsp;</th>\n",
       "      <th class=\"blank col4\" >&nbsp;</th>\n",
       "      <th class=\"blank col5\" >&nbsp;</th>\n",
       "    </tr>\n",
       "  </thead>\n",
       "  <tbody>\n",
       "    <tr>\n",
       "      <th id=\"T_73d1a_level0_row0\" class=\"row_heading level0 row0\" >0</th>\n",
       "      <td id=\"T_73d1a_row0_col0\" class=\"data row0 col0\" >19.11</td>\n",
       "      <td id=\"T_73d1a_row0_col1\" class=\"data row0 col1\" >608.44</td>\n",
       "      <td id=\"T_73d1a_row0_col2\" class=\"data row0 col2\" >24.67</td>\n",
       "      <td id=\"T_73d1a_row0_col3\" class=\"data row0 col3\" >0.34</td>\n",
       "      <td id=\"T_73d1a_row0_col4\" class=\"data row0 col4\" >0.71</td>\n",
       "      <td id=\"T_73d1a_row0_col5\" class=\"data row0 col5\" >0.88</td>\n",
       "    </tr>\n",
       "    <tr>\n",
       "      <th id=\"T_73d1a_level0_row1\" class=\"row_heading level0 row1\" >1</th>\n",
       "      <td id=\"T_73d1a_row1_col0\" class=\"data row1 col0\" >18.96</td>\n",
       "      <td id=\"T_73d1a_row1_col1\" class=\"data row1 col1\" >649.08</td>\n",
       "      <td id=\"T_73d1a_row1_col2\" class=\"data row1 col2\" >25.48</td>\n",
       "      <td id=\"T_73d1a_row1_col3\" class=\"data row1 col3\" >0.31</td>\n",
       "      <td id=\"T_73d1a_row1_col4\" class=\"data row1 col4\" >0.75</td>\n",
       "      <td id=\"T_73d1a_row1_col5\" class=\"data row1 col5\" >1.00</td>\n",
       "    </tr>\n",
       "    <tr>\n",
       "      <th id=\"T_73d1a_level0_row2\" class=\"row_heading level0 row2\" >2</th>\n",
       "      <td id=\"T_73d1a_row2_col0\" class=\"data row2 col0\" >18.28</td>\n",
       "      <td id=\"T_73d1a_row2_col1\" class=\"data row2 col1\" >583.85</td>\n",
       "      <td id=\"T_73d1a_row2_col2\" class=\"data row2 col2\" >24.16</td>\n",
       "      <td id=\"T_73d1a_row2_col3\" class=\"data row2 col3\" >0.35</td>\n",
       "      <td id=\"T_73d1a_row2_col4\" class=\"data row2 col4\" >0.69</td>\n",
       "      <td id=\"T_73d1a_row2_col5\" class=\"data row2 col5\" >0.90</td>\n",
       "    </tr>\n",
       "    <tr>\n",
       "      <th id=\"T_73d1a_level0_row3\" class=\"row_heading level0 row3\" >3</th>\n",
       "      <td id=\"T_73d1a_row3_col0\" class=\"data row3 col0\" >17.56</td>\n",
       "      <td id=\"T_73d1a_row3_col1\" class=\"data row3 col1\" >550.18</td>\n",
       "      <td id=\"T_73d1a_row3_col2\" class=\"data row3 col2\" >23.46</td>\n",
       "      <td id=\"T_73d1a_row3_col3\" class=\"data row3 col3\" >0.32</td>\n",
       "      <td id=\"T_73d1a_row3_col4\" class=\"data row3 col4\" >0.55</td>\n",
       "      <td id=\"T_73d1a_row3_col5\" class=\"data row3 col5\" >0.71</td>\n",
       "    </tr>\n",
       "    <tr>\n",
       "      <th id=\"T_73d1a_level0_row4\" class=\"row_heading level0 row4\" >4</th>\n",
       "      <td id=\"T_73d1a_row4_col0\" class=\"data row4 col0\" >18.70</td>\n",
       "      <td id=\"T_73d1a_row4_col1\" class=\"data row4 col1\" >594.64</td>\n",
       "      <td id=\"T_73d1a_row4_col2\" class=\"data row4 col2\" >24.39</td>\n",
       "      <td id=\"T_73d1a_row4_col3\" class=\"data row4 col3\" >0.36</td>\n",
       "      <td id=\"T_73d1a_row4_col4\" class=\"data row4 col4\" >0.68</td>\n",
       "      <td id=\"T_73d1a_row4_col5\" class=\"data row4 col5\" >1.18</td>\n",
       "    </tr>\n",
       "    <tr>\n",
       "      <th id=\"T_73d1a_level0_row5\" class=\"row_heading level0 row5\" >Mean</th>\n",
       "      <td id=\"T_73d1a_row5_col0\" class=\"data row5 col0\" >18.52</td>\n",
       "      <td id=\"T_73d1a_row5_col1\" class=\"data row5 col1\" >597.24</td>\n",
       "      <td id=\"T_73d1a_row5_col2\" class=\"data row5 col2\" >24.43</td>\n",
       "      <td id=\"T_73d1a_row5_col3\" class=\"data row5 col3\" >0.34</td>\n",
       "      <td id=\"T_73d1a_row5_col4\" class=\"data row5 col4\" >0.67</td>\n",
       "      <td id=\"T_73d1a_row5_col5\" class=\"data row5 col5\" >0.93</td>\n",
       "    </tr>\n",
       "    <tr>\n",
       "      <th id=\"T_73d1a_level0_row6\" class=\"row_heading level0 row6\" >Std</th>\n",
       "      <td id=\"T_73d1a_row6_col0\" class=\"data row6 col0\" >0.56</td>\n",
       "      <td id=\"T_73d1a_row6_col1\" class=\"data row6 col1\" >32.29</td>\n",
       "      <td id=\"T_73d1a_row6_col2\" class=\"data row6 col2\" >0.66</td>\n",
       "      <td id=\"T_73d1a_row6_col3\" class=\"data row6 col3\" >0.02</td>\n",
       "      <td id=\"T_73d1a_row6_col4\" class=\"data row6 col4\" >0.07</td>\n",
       "      <td id=\"T_73d1a_row6_col5\" class=\"data row6 col5\" >0.15</td>\n",
       "    </tr>\n",
       "  </tbody>\n",
       "</table>\n"
      ],
      "text/plain": [
       "<pandas.io.formats.style.Styler at 0x7f6ddd043880>"
      ]
     },
     "metadata": {},
     "output_type": "display_data"
    }
   ],
   "source": [
    "for model_name in model_names:\n",
    "\n",
    "    default_model = create_model(model_name, round=2)\n",
    "\n",
    "    results_df = pull()\n",
    "    results_df = results_df.reset_index(level=0)\n",
    "    \n",
    "    inner_results[model_name] = results_df.copy()\n",
    "    results_df.to_csv('output/models_results/'+model_group_name+'/' + 'regression_model_'+model_name+'_inner_cross_validation_results.tsv', \n",
    "                    index=False, encoding=\"utf-8\", sep=\"\\t\")\n",
    "\n",
    "\n",
    "    tuned_model = tune_model(default_model, choose_better = True, search_library = 'optuna', n_iter = 50, round=2)\n",
    "\n",
    "    results_df = pull()\n",
    "    results_df = results_df.reset_index(level=0)\n",
    "    \n",
    "    inner_results_tuned[model_name] = results_df.copy()\n",
    "    results_df.to_csv('output/models_results/'+model_group_name+'/' + 'regression_model_'+model_name+'_tuned_inner_cross_validation_results.tsv', \n",
    "                    index=False, encoding=\"utf-8\", sep=\"\\t\")\n",
    "    \n",
    "    tuned_models[model_name] = deepcopy(tuned_model)"
   ]
  },
  {
   "cell_type": "markdown",
   "id": "2543bed8",
   "metadata": {},
   "source": [
    "### Outer CV: 10-fold cross-validation for the tuned model"
   ]
  },
  {
   "cell_type": "code",
   "execution_count": 35,
   "id": "7d9c9302",
   "metadata": {},
   "outputs": [],
   "source": [
    "X = get_config(variable=\"X_train\").copy()\n",
    "y = get_config(variable=\"y_train\").copy()"
   ]
  },
  {
   "cell_type": "code",
   "execution_count": 36,
   "id": "3c21760e",
   "metadata": {},
   "outputs": [
    {
     "data": {
      "text/plain": [
       "(2410, 149)"
      ]
     },
     "execution_count": 36,
     "metadata": {},
     "output_type": "execute_result"
    }
   ],
   "source": [
    "X.shape"
   ]
  },
  {
   "cell_type": "code",
   "execution_count": 37,
   "id": "5a9c93d9",
   "metadata": {},
   "outputs": [
    {
     "data": {
      "text/plain": [
       "(2410,)"
      ]
     },
     "execution_count": 37,
     "metadata": {},
     "output_type": "execute_result"
    }
   ],
   "source": [
    "y.shape"
   ]
  },
  {
   "cell_type": "code",
   "execution_count": 38,
   "id": "f052eebd",
   "metadata": {},
   "outputs": [],
   "source": [
    "cv_outer = KFold(n_splits=10, shuffle=True, random_state=cv_outer_seed)"
   ]
  },
  {
   "cell_type": "code",
   "execution_count": 39,
   "id": "564a8934",
   "metadata": {},
   "outputs": [
    {
     "name": "stdout",
     "output_type": "stream",
     "text": [
      "lr scores: 0.04, -13.6, -7245.2, 0.18, 0.24, -30444.39, -282339.74, 0.16, -594.52, -11.05\n",
      "lr mean/std: -32064.79 / 83913.01\n",
      "lasso scores: 0.12, 0.07, 0.11, 0.17, 0.16, 0.04, 0.13, 0.16, 0.06, 0.08\n",
      "lasso mean/std: 0.11 / 0.04\n",
      "ridge scores: 0.08, 0.04, 0.14, 0.18, 0.22, 0.05, 0.11, 0.18, 0.12, 0.11\n",
      "ridge mean/std: 0.12 / 0.06\n",
      "svm scores: 0.17, 0.15, 0.11, 0.22, 0.18, 0.16, 0.23, 0.23, 0.06, 0.16\n",
      "svm mean/std: 0.17 / 0.05\n",
      "rf scores: 0.18, 0.42, 0.28, 0.37, 0.47, 0.25, 0.35, 0.48, 0.28, 0.31\n",
      "rf mean/std: 0.34 / 0.09\n",
      "et scores: 0.24, 0.25, 0.23, 0.3, 0.34, 0.21, 0.3, 0.33, 0.25, 0.3\n",
      "et mean/std: 0.28 / 0.04\n",
      "gbr scores: 0.26, 0.41, 0.31, 0.37, 0.49, 0.29, 0.39, 0.5, 0.28, 0.35\n",
      "gbr mean/std: 0.36 / 0.08\n",
      "[LightGBM] [Warning] bagging_fraction is set=0.48362937044189325, subsample=1.0 will be ignored. Current value: bagging_fraction=0.48362937044189325\n",
      "[LightGBM] [Warning] feature_fraction is set=0.4227604230527039, colsample_bytree=1.0 will be ignored. Current value: feature_fraction=0.4227604230527039\n",
      "[LightGBM] [Warning] bagging_freq is set=4, subsample_freq=0 will be ignored. Current value: bagging_freq=4\n",
      "[LightGBM] [Warning] bagging_fraction is set=0.48362937044189325, subsample=1.0 will be ignored. Current value: bagging_fraction=0.48362937044189325\n",
      "[LightGBM] [Warning] feature_fraction is set=0.4227604230527039, colsample_bytree=1.0 will be ignored. Current value: feature_fraction=0.4227604230527039\n",
      "[LightGBM] [Warning] bagging_freq is set=4, subsample_freq=0 will be ignored. Current value: bagging_freq=4\n",
      "[LightGBM] [Warning] bagging_fraction is set=0.48362937044189325, subsample=1.0 will be ignored. Current value: bagging_fraction=0.48362937044189325\n",
      "[LightGBM] [Warning] feature_fraction is set=0.4227604230527039, colsample_bytree=1.0 will be ignored. Current value: feature_fraction=0.4227604230527039\n",
      "[LightGBM] [Warning] bagging_freq is set=4, subsample_freq=0 will be ignored. Current value: bagging_freq=4\n",
      "[LightGBM] [Warning] bagging_fraction is set=0.48362937044189325, subsample=1.0 will be ignored. Current value: bagging_fraction=0.48362937044189325\n",
      "[LightGBM] [Warning] feature_fraction is set=0.4227604230527039, colsample_bytree=1.0 will be ignored. Current value: feature_fraction=0.4227604230527039\n",
      "[LightGBM] [Warning] bagging_freq is set=4, subsample_freq=0 will be ignored. Current value: bagging_freq=4\n",
      "[LightGBM] [Warning] bagging_fraction is set=0.48362937044189325, subsample=1.0 will be ignored. Current value: bagging_fraction=0.48362937044189325\n",
      "[LightGBM] [Warning] feature_fraction is set=0.4227604230527039, colsample_bytree=1.0 will be ignored. Current value: feature_fraction=0.4227604230527039\n",
      "[LightGBM] [Warning] bagging_freq is set=4, subsample_freq=0 will be ignored. Current value: bagging_freq=4\n",
      "[LightGBM] [Warning] bagging_fraction is set=0.48362937044189325, subsample=1.0 will be ignored. Current value: bagging_fraction=0.48362937044189325\n",
      "[LightGBM] [Warning] feature_fraction is set=0.4227604230527039, colsample_bytree=1.0 will be ignored. Current value: feature_fraction=0.4227604230527039\n",
      "[LightGBM] [Warning] bagging_freq is set=4, subsample_freq=0 will be ignored. Current value: bagging_freq=4\n",
      "[LightGBM] [Warning] bagging_fraction is set=0.48362937044189325, subsample=1.0 will be ignored. Current value: bagging_fraction=0.48362937044189325\n",
      "[LightGBM] [Warning] feature_fraction is set=0.4227604230527039, colsample_bytree=1.0 will be ignored. Current value: feature_fraction=0.4227604230527039\n",
      "[LightGBM] [Warning] bagging_freq is set=4, subsample_freq=0 will be ignored. Current value: bagging_freq=4\n",
      "[LightGBM] [Warning] bagging_fraction is set=0.48362937044189325, subsample=1.0 will be ignored. Current value: bagging_fraction=0.48362937044189325\n",
      "[LightGBM] [Warning] feature_fraction is set=0.4227604230527039, colsample_bytree=1.0 will be ignored. Current value: feature_fraction=0.4227604230527039\n",
      "[LightGBM] [Warning] bagging_freq is set=4, subsample_freq=0 will be ignored. Current value: bagging_freq=4\n",
      "[LightGBM] [Warning] bagging_fraction is set=0.48362937044189325, subsample=1.0 will be ignored. Current value: bagging_fraction=0.48362937044189325\n",
      "[LightGBM] [Warning] feature_fraction is set=0.4227604230527039, colsample_bytree=1.0 will be ignored. Current value: feature_fraction=0.4227604230527039\n",
      "[LightGBM] [Warning] bagging_freq is set=4, subsample_freq=0 will be ignored. Current value: bagging_freq=4\n",
      "lightgbm scores: 0.29, 0.38, 0.31, 0.34, 0.44, 0.32, 0.36, 0.43, 0.27, 0.36\n",
      "lightgbm mean/std: 0.35 / 0.05\n"
     ]
    }
   ],
   "source": [
    "for model_name in model_names:\n",
    "    scores = cross_val_score(tuned_models[model_name], X, y, cv=cv_outer)\n",
    "    scores = np.round(scores, 2);\n",
    "    outer_results[model_name] = scores.copy()\n",
    "    \n",
    "    with open('output/models_results/'+model_group_name+'/' + 'regression_model_'+model_name+'_tuned_outer_cross_validation_results.tsv', 'w', newline='') as file:\n",
    "        for score in scores:\n",
    "            file.write(str(score) + \"\\n\")\n",
    "        \n",
    "    print(model_name + \" scores: \" + ', '.join(scores.astype('str')))\n",
    "    print(model_name + \" mean/std: \" + str(np.round(scores.mean(),2)) + \" / \" + str(np.round(scores.std(), 2)))\n",
    "\n",
    "    #with open(the_filename, 'r') as f:\n",
    "    #    my_list = [line.rstrip('\\n') for line in f]"
   ]
  },
  {
   "cell_type": "code",
   "execution_count": 54,
   "id": "2c1604eb",
   "metadata": {},
   "outputs": [
    {
     "name": "stdout",
     "output_type": "stream",
     "text": [
      "lr scores: 0.04, -13.6, -7245.2, 0.18, 0.24, -30444.39, -282339.74, 0.16, -594.52, -11.05\n",
      "lr mean/std: -32064.79 / 83913.01\n",
      "lasso scores: 0.12, 0.07, 0.11, 0.17, 0.16, 0.04, 0.13, 0.16, 0.06, 0.08\n",
      "lasso mean/std: 0.11 / 0.04\n",
      "ridge scores: 0.08, 0.04, 0.14, 0.18, 0.22, 0.05, 0.11, 0.18, 0.12, 0.11\n",
      "ridge mean/std: 0.12 / 0.06\n",
      "svm scores: 0.17, 0.15, 0.11, 0.22, 0.18, 0.16, 0.23, 0.23, 0.06, 0.16\n",
      "svm mean/std: 0.17 / 0.05\n",
      "rf scores: 0.18, 0.42, 0.28, 0.37, 0.47, 0.25, 0.35, 0.48, 0.28, 0.31\n",
      "rf mean/std: 0.34 / 0.09\n",
      "et scores: 0.24, 0.25, 0.23, 0.3, 0.34, 0.21, 0.3, 0.33, 0.25, 0.3\n",
      "et mean/std: 0.28 / 0.04\n",
      "gbr scores: 0.26, 0.41, 0.31, 0.37, 0.49, 0.29, 0.39, 0.5, 0.28, 0.35\n",
      "gbr mean/std: 0.36 / 0.08\n",
      "[LightGBM] [Warning] bagging_fraction is set=0.48362937044189325, subsample=1.0 will be ignored. Current value: bagging_fraction=0.48362937044189325\n",
      "[LightGBM] [Warning] feature_fraction is set=0.4227604230527039, colsample_bytree=1.0 will be ignored. Current value: feature_fraction=0.4227604230527039\n",
      "[LightGBM] [Warning] bagging_freq is set=4, subsample_freq=0 will be ignored. Current value: bagging_freq=4\n",
      "[LightGBM] [Warning] bagging_fraction is set=0.48362937044189325, subsample=1.0 will be ignored. Current value: bagging_fraction=0.48362937044189325\n",
      "[LightGBM] [Warning] feature_fraction is set=0.4227604230527039, colsample_bytree=1.0 will be ignored. Current value: feature_fraction=0.4227604230527039\n",
      "[LightGBM] [Warning] bagging_freq is set=4, subsample_freq=0 will be ignored. Current value: bagging_freq=4\n",
      "[LightGBM] [Warning] bagging_fraction is set=0.48362937044189325, subsample=1.0 will be ignored. Current value: bagging_fraction=0.48362937044189325\n",
      "[LightGBM] [Warning] feature_fraction is set=0.4227604230527039, colsample_bytree=1.0 will be ignored. Current value: feature_fraction=0.4227604230527039\n",
      "[LightGBM] [Warning] bagging_freq is set=4, subsample_freq=0 will be ignored. Current value: bagging_freq=4\n",
      "[LightGBM] [Warning] bagging_fraction is set=0.48362937044189325, subsample=1.0 will be ignored. Current value: bagging_fraction=0.48362937044189325\n",
      "[LightGBM] [Warning] feature_fraction is set=0.4227604230527039, colsample_bytree=1.0 will be ignored. Current value: feature_fraction=0.4227604230527039\n",
      "[LightGBM] [Warning] bagging_freq is set=4, subsample_freq=0 will be ignored. Current value: bagging_freq=4\n",
      "[LightGBM] [Warning] bagging_fraction is set=0.48362937044189325, subsample=1.0 will be ignored. Current value: bagging_fraction=0.48362937044189325\n",
      "[LightGBM] [Warning] feature_fraction is set=0.4227604230527039, colsample_bytree=1.0 will be ignored. Current value: feature_fraction=0.4227604230527039\n",
      "[LightGBM] [Warning] bagging_freq is set=4, subsample_freq=0 will be ignored. Current value: bagging_freq=4\n",
      "[LightGBM] [Warning] bagging_fraction is set=0.48362937044189325, subsample=1.0 will be ignored. Current value: bagging_fraction=0.48362937044189325\n",
      "[LightGBM] [Warning] feature_fraction is set=0.4227604230527039, colsample_bytree=1.0 will be ignored. Current value: feature_fraction=0.4227604230527039\n",
      "[LightGBM] [Warning] bagging_freq is set=4, subsample_freq=0 will be ignored. Current value: bagging_freq=4\n",
      "[LightGBM] [Warning] bagging_fraction is set=0.48362937044189325, subsample=1.0 will be ignored. Current value: bagging_fraction=0.48362937044189325\n",
      "[LightGBM] [Warning] feature_fraction is set=0.4227604230527039, colsample_bytree=1.0 will be ignored. Current value: feature_fraction=0.4227604230527039\n",
      "[LightGBM] [Warning] bagging_freq is set=4, subsample_freq=0 will be ignored. Current value: bagging_freq=4\n",
      "[LightGBM] [Warning] bagging_fraction is set=0.48362937044189325, subsample=1.0 will be ignored. Current value: bagging_fraction=0.48362937044189325\n",
      "[LightGBM] [Warning] feature_fraction is set=0.4227604230527039, colsample_bytree=1.0 will be ignored. Current value: feature_fraction=0.4227604230527039\n",
      "[LightGBM] [Warning] bagging_freq is set=4, subsample_freq=0 will be ignored. Current value: bagging_freq=4\n",
      "[LightGBM] [Warning] bagging_fraction is set=0.48362937044189325, subsample=1.0 will be ignored. Current value: bagging_fraction=0.48362937044189325\n",
      "[LightGBM] [Warning] feature_fraction is set=0.4227604230527039, colsample_bytree=1.0 will be ignored. Current value: feature_fraction=0.4227604230527039\n",
      "[LightGBM] [Warning] bagging_freq is set=4, subsample_freq=0 will be ignored. Current value: bagging_freq=4\n",
      "[LightGBM] [Warning] bagging_fraction is set=0.48362937044189325, subsample=1.0 will be ignored. Current value: bagging_fraction=0.48362937044189325\n",
      "[LightGBM] [Warning] feature_fraction is set=0.4227604230527039, colsample_bytree=1.0 will be ignored. Current value: feature_fraction=0.4227604230527039\n",
      "[LightGBM] [Warning] bagging_freq is set=4, subsample_freq=0 will be ignored. Current value: bagging_freq=4\n",
      "lightgbm scores: 0.29, 0.38, 0.31, 0.34, 0.44, 0.32, 0.36, 0.43, 0.27, 0.36\n",
      "lightgbm mean/std: 0.35 / 0.05\n"
     ]
    }
   ],
   "source": [
    "for model_name in model_names:\n",
    "    scores = cross_validate(tuned_models[model_name], X, y, cv=cv_outer, scoring=('r2','neg_root_mean_squared_error','neg_mean_absolute_error'))\n",
    "    scores_r2 = np.round(scores['test_r2'], 2);\n",
    "    scores_rmse = np.round(scores['test_neg_root_mean_squared_error'], 2);\n",
    "    scores_mae = np.round(scores['test_neg_mean_absolute_error'], 2);\n",
    "    outer_results[model_name] = scores.copy()\n",
    "    \n",
    "    with open('output/models_results/'+model_group_name+'/' + 'regression_model_'+model_name+'_tuned_outer_cross_validation_results.tsv', 'w', newline='') as file:\n",
    "        file.write('R2\\tRMSE\\tMAE' + \"\\n\")\n",
    "        for idx, x in enumerate(scores_r2):\n",
    "            file.write(str(scores_r2[idx]) + '\\t' + str(scores_rmse[idx]) + '\\t' + str(scores_mae[idx]) + \"\\n\")\n",
    "\n",
    "    print(model_name + \" scores: \" + ', '.join(scores_r2.astype('str')))\n",
    "    print(model_name + \" mean/std: \" + str(np.round(scores_r2.mean(),2)) + \" / \" + str(np.round(scores_r2.std(), 2)))\n",
    "    \n",
    "    #with open(the_filename, 'r') as f:\n",
    "    #    my_list = [line.rstrip('\\n') for line in f]"
   ]
  },
  {
   "cell_type": "markdown",
   "id": "567af0bf",
   "metadata": {},
   "source": [
    "### Finalize the models and evaluate on the test set"
   ]
  },
  {
   "cell_type": "code",
   "execution_count": 40,
   "id": "bfae263b",
   "metadata": {},
   "outputs": [
    {
     "data": {
      "text/html": [
       "<style type=\"text/css\">\n",
       "</style>\n",
       "<table id=\"T_928ac\">\n",
       "  <thead>\n",
       "    <tr>\n",
       "      <th class=\"blank level0\" >&nbsp;</th>\n",
       "      <th id=\"T_928ac_level0_col0\" class=\"col_heading level0 col0\" >Model</th>\n",
       "      <th id=\"T_928ac_level0_col1\" class=\"col_heading level0 col1\" >MAE</th>\n",
       "      <th id=\"T_928ac_level0_col2\" class=\"col_heading level0 col2\" >MSE</th>\n",
       "      <th id=\"T_928ac_level0_col3\" class=\"col_heading level0 col3\" >RMSE</th>\n",
       "      <th id=\"T_928ac_level0_col4\" class=\"col_heading level0 col4\" >R2</th>\n",
       "      <th id=\"T_928ac_level0_col5\" class=\"col_heading level0 col5\" >RMSLE</th>\n",
       "      <th id=\"T_928ac_level0_col6\" class=\"col_heading level0 col6\" >MAPE</th>\n",
       "    </tr>\n",
       "  </thead>\n",
       "  <tbody>\n",
       "    <tr>\n",
       "      <th id=\"T_928ac_level0_row0\" class=\"row_heading level0 row0\" >0</th>\n",
       "      <td id=\"T_928ac_row0_col0\" class=\"data row0 col0\" >Linear Regression</td>\n",
       "      <td id=\"T_928ac_row0_col1\" class=\"data row0 col1\" >23.35</td>\n",
       "      <td id=\"T_928ac_row0_col2\" class=\"data row0 col2\" >2307.68</td>\n",
       "      <td id=\"T_928ac_row0_col3\" class=\"data row0 col3\" >48.04</td>\n",
       "      <td id=\"T_928ac_row0_col4\" class=\"data row0 col4\" >-1.59</td>\n",
       "      <td id=\"T_928ac_row0_col5\" class=\"data row0 col5\" >0.77</td>\n",
       "      <td id=\"T_928ac_row0_col6\" class=\"data row0 col6\" >1.21</td>\n",
       "    </tr>\n",
       "  </tbody>\n",
       "</table>\n"
      ],
      "text/plain": [
       "<pandas.io.formats.style.Styler at 0x7f6e0900e250>"
      ]
     },
     "metadata": {},
     "output_type": "display_data"
    },
    {
     "data": {
      "text/html": [
       "<style type=\"text/css\">\n",
       "</style>\n",
       "<table id=\"T_90560\">\n",
       "  <thead>\n",
       "    <tr>\n",
       "      <th class=\"blank level0\" >&nbsp;</th>\n",
       "      <th id=\"T_90560_level0_col0\" class=\"col_heading level0 col0\" >Model</th>\n",
       "      <th id=\"T_90560_level0_col1\" class=\"col_heading level0 col1\" >MAE</th>\n",
       "      <th id=\"T_90560_level0_col2\" class=\"col_heading level0 col2\" >MSE</th>\n",
       "      <th id=\"T_90560_level0_col3\" class=\"col_heading level0 col3\" >RMSE</th>\n",
       "      <th id=\"T_90560_level0_col4\" class=\"col_heading level0 col4\" >R2</th>\n",
       "      <th id=\"T_90560_level0_col5\" class=\"col_heading level0 col5\" >RMSLE</th>\n",
       "      <th id=\"T_90560_level0_col6\" class=\"col_heading level0 col6\" >MAPE</th>\n",
       "    </tr>\n",
       "  </thead>\n",
       "  <tbody>\n",
       "    <tr>\n",
       "      <th id=\"T_90560_level0_row0\" class=\"row_heading level0 row0\" >0</th>\n",
       "      <td id=\"T_90560_row0_col0\" class=\"data row0 col0\" >Lasso Regression</td>\n",
       "      <td id=\"T_90560_row0_col1\" class=\"data row0 col1\" >22.30</td>\n",
       "      <td id=\"T_90560_row0_col2\" class=\"data row0 col2\" >742.05</td>\n",
       "      <td id=\"T_90560_row0_col3\" class=\"data row0 col3\" >27.24</td>\n",
       "      <td id=\"T_90560_row0_col4\" class=\"data row0 col4\" >0.17</td>\n",
       "      <td id=\"T_90560_row0_col5\" class=\"data row0 col5\" >0.78</td>\n",
       "      <td id=\"T_90560_row0_col6\" class=\"data row0 col6\" >1.25</td>\n",
       "    </tr>\n",
       "  </tbody>\n",
       "</table>\n"
      ],
      "text/plain": [
       "<pandas.io.formats.style.Styler at 0x7f6dde67e580>"
      ]
     },
     "metadata": {},
     "output_type": "display_data"
    },
    {
     "data": {
      "text/html": [
       "<style type=\"text/css\">\n",
       "</style>\n",
       "<table id=\"T_44172\">\n",
       "  <thead>\n",
       "    <tr>\n",
       "      <th class=\"blank level0\" >&nbsp;</th>\n",
       "      <th id=\"T_44172_level0_col0\" class=\"col_heading level0 col0\" >Model</th>\n",
       "      <th id=\"T_44172_level0_col1\" class=\"col_heading level0 col1\" >MAE</th>\n",
       "      <th id=\"T_44172_level0_col2\" class=\"col_heading level0 col2\" >MSE</th>\n",
       "      <th id=\"T_44172_level0_col3\" class=\"col_heading level0 col3\" >RMSE</th>\n",
       "      <th id=\"T_44172_level0_col4\" class=\"col_heading level0 col4\" >R2</th>\n",
       "      <th id=\"T_44172_level0_col5\" class=\"col_heading level0 col5\" >RMSLE</th>\n",
       "      <th id=\"T_44172_level0_col6\" class=\"col_heading level0 col6\" >MAPE</th>\n",
       "    </tr>\n",
       "  </thead>\n",
       "  <tbody>\n",
       "    <tr>\n",
       "      <th id=\"T_44172_level0_row0\" class=\"row_heading level0 row0\" >0</th>\n",
       "      <td id=\"T_44172_row0_col0\" class=\"data row0 col0\" >Ridge Regression</td>\n",
       "      <td id=\"T_44172_row0_col1\" class=\"data row0 col1\" >21.72</td>\n",
       "      <td id=\"T_44172_row0_col2\" class=\"data row0 col2\" >711.95</td>\n",
       "      <td id=\"T_44172_row0_col3\" class=\"data row0 col3\" >26.68</td>\n",
       "      <td id=\"T_44172_row0_col4\" class=\"data row0 col4\" >0.20</td>\n",
       "      <td id=\"T_44172_row0_col5\" class=\"data row0 col5\" >0.76</td>\n",
       "      <td id=\"T_44172_row0_col6\" class=\"data row0 col6\" >1.19</td>\n",
       "    </tr>\n",
       "  </tbody>\n",
       "</table>\n"
      ],
      "text/plain": [
       "<pandas.io.formats.style.Styler at 0x7f6ddd443400>"
      ]
     },
     "metadata": {},
     "output_type": "display_data"
    },
    {
     "data": {
      "text/html": [
       "<style type=\"text/css\">\n",
       "</style>\n",
       "<table id=\"T_3223c\">\n",
       "  <thead>\n",
       "    <tr>\n",
       "      <th class=\"blank level0\" >&nbsp;</th>\n",
       "      <th id=\"T_3223c_level0_col0\" class=\"col_heading level0 col0\" >Model</th>\n",
       "      <th id=\"T_3223c_level0_col1\" class=\"col_heading level0 col1\" >MAE</th>\n",
       "      <th id=\"T_3223c_level0_col2\" class=\"col_heading level0 col2\" >MSE</th>\n",
       "      <th id=\"T_3223c_level0_col3\" class=\"col_heading level0 col3\" >RMSE</th>\n",
       "      <th id=\"T_3223c_level0_col4\" class=\"col_heading level0 col4\" >R2</th>\n",
       "      <th id=\"T_3223c_level0_col5\" class=\"col_heading level0 col5\" >RMSLE</th>\n",
       "      <th id=\"T_3223c_level0_col6\" class=\"col_heading level0 col6\" >MAPE</th>\n",
       "    </tr>\n",
       "  </thead>\n",
       "  <tbody>\n",
       "    <tr>\n",
       "      <th id=\"T_3223c_level0_row0\" class=\"row_heading level0 row0\" >0</th>\n",
       "      <td id=\"T_3223c_row0_col0\" class=\"data row0 col0\" >Support Vector Regression</td>\n",
       "      <td id=\"T_3223c_row0_col1\" class=\"data row0 col1\" >19.57</td>\n",
       "      <td id=\"T_3223c_row0_col2\" class=\"data row0 col2\" >656.62</td>\n",
       "      <td id=\"T_3223c_row0_col3\" class=\"data row0 col3\" >25.62</td>\n",
       "      <td id=\"T_3223c_row0_col4\" class=\"data row0 col4\" >0.26</td>\n",
       "      <td id=\"T_3223c_row0_col5\" class=\"data row0 col5\" >0.77</td>\n",
       "      <td id=\"T_3223c_row0_col6\" class=\"data row0 col6\" >1.26</td>\n",
       "    </tr>\n",
       "  </tbody>\n",
       "</table>\n"
      ],
      "text/plain": [
       "<pandas.io.formats.style.Styler at 0x7f6e8c0f1550>"
      ]
     },
     "metadata": {},
     "output_type": "display_data"
    },
    {
     "data": {
      "text/html": [
       "<style type=\"text/css\">\n",
       "</style>\n",
       "<table id=\"T_ffd3a\">\n",
       "  <thead>\n",
       "    <tr>\n",
       "      <th class=\"blank level0\" >&nbsp;</th>\n",
       "      <th id=\"T_ffd3a_level0_col0\" class=\"col_heading level0 col0\" >Model</th>\n",
       "      <th id=\"T_ffd3a_level0_col1\" class=\"col_heading level0 col1\" >MAE</th>\n",
       "      <th id=\"T_ffd3a_level0_col2\" class=\"col_heading level0 col2\" >MSE</th>\n",
       "      <th id=\"T_ffd3a_level0_col3\" class=\"col_heading level0 col3\" >RMSE</th>\n",
       "      <th id=\"T_ffd3a_level0_col4\" class=\"col_heading level0 col4\" >R2</th>\n",
       "      <th id=\"T_ffd3a_level0_col5\" class=\"col_heading level0 col5\" >RMSLE</th>\n",
       "      <th id=\"T_ffd3a_level0_col6\" class=\"col_heading level0 col6\" >MAPE</th>\n",
       "    </tr>\n",
       "  </thead>\n",
       "  <tbody>\n",
       "    <tr>\n",
       "      <th id=\"T_ffd3a_level0_row0\" class=\"row_heading level0 row0\" >0</th>\n",
       "      <td id=\"T_ffd3a_row0_col0\" class=\"data row0 col0\" >Random Forest Regressor</td>\n",
       "      <td id=\"T_ffd3a_row0_col1\" class=\"data row0 col1\" >16.77</td>\n",
       "      <td id=\"T_ffd3a_row0_col2\" class=\"data row0 col2\" >542.22</td>\n",
       "      <td id=\"T_ffd3a_row0_col3\" class=\"data row0 col3\" >23.29</td>\n",
       "      <td id=\"T_ffd3a_row0_col4\" class=\"data row0 col4\" >0.39</td>\n",
       "      <td id=\"T_ffd3a_row0_col5\" class=\"data row0 col5\" >0.68</td>\n",
       "      <td id=\"T_ffd3a_row0_col6\" class=\"data row0 col6\" >0.88</td>\n",
       "    </tr>\n",
       "  </tbody>\n",
       "</table>\n"
      ],
      "text/plain": [
       "<pandas.io.formats.style.Styler at 0x7f6ddc100a30>"
      ]
     },
     "metadata": {},
     "output_type": "display_data"
    },
    {
     "data": {
      "text/html": [
       "<style type=\"text/css\">\n",
       "</style>\n",
       "<table id=\"T_235c8\">\n",
       "  <thead>\n",
       "    <tr>\n",
       "      <th class=\"blank level0\" >&nbsp;</th>\n",
       "      <th id=\"T_235c8_level0_col0\" class=\"col_heading level0 col0\" >Model</th>\n",
       "      <th id=\"T_235c8_level0_col1\" class=\"col_heading level0 col1\" >MAE</th>\n",
       "      <th id=\"T_235c8_level0_col2\" class=\"col_heading level0 col2\" >MSE</th>\n",
       "      <th id=\"T_235c8_level0_col3\" class=\"col_heading level0 col3\" >RMSE</th>\n",
       "      <th id=\"T_235c8_level0_col4\" class=\"col_heading level0 col4\" >R2</th>\n",
       "      <th id=\"T_235c8_level0_col5\" class=\"col_heading level0 col5\" >RMSLE</th>\n",
       "      <th id=\"T_235c8_level0_col6\" class=\"col_heading level0 col6\" >MAPE</th>\n",
       "    </tr>\n",
       "  </thead>\n",
       "  <tbody>\n",
       "    <tr>\n",
       "      <th id=\"T_235c8_level0_row0\" class=\"row_heading level0 row0\" >0</th>\n",
       "      <td id=\"T_235c8_row0_col0\" class=\"data row0 col0\" >Extra Trees Regressor</td>\n",
       "      <td id=\"T_235c8_row0_col1\" class=\"data row0 col1\" >19.23</td>\n",
       "      <td id=\"T_235c8_row0_col2\" class=\"data row0 col2\" >585.25</td>\n",
       "      <td id=\"T_235c8_row0_col3\" class=\"data row0 col3\" >24.19</td>\n",
       "      <td id=\"T_235c8_row0_col4\" class=\"data row0 col4\" >0.34</td>\n",
       "      <td id=\"T_235c8_row0_col5\" class=\"data row0 col5\" >0.72</td>\n",
       "      <td id=\"T_235c8_row0_col6\" class=\"data row0 col6\" >1.05</td>\n",
       "    </tr>\n",
       "  </tbody>\n",
       "</table>\n"
      ],
      "text/plain": [
       "<pandas.io.formats.style.Styler at 0x7f6ddd47f100>"
      ]
     },
     "metadata": {},
     "output_type": "display_data"
    },
    {
     "data": {
      "text/html": [
       "<style type=\"text/css\">\n",
       "</style>\n",
       "<table id=\"T_e1897\">\n",
       "  <thead>\n",
       "    <tr>\n",
       "      <th class=\"blank level0\" >&nbsp;</th>\n",
       "      <th id=\"T_e1897_level0_col0\" class=\"col_heading level0 col0\" >Model</th>\n",
       "      <th id=\"T_e1897_level0_col1\" class=\"col_heading level0 col1\" >MAE</th>\n",
       "      <th id=\"T_e1897_level0_col2\" class=\"col_heading level0 col2\" >MSE</th>\n",
       "      <th id=\"T_e1897_level0_col3\" class=\"col_heading level0 col3\" >RMSE</th>\n",
       "      <th id=\"T_e1897_level0_col4\" class=\"col_heading level0 col4\" >R2</th>\n",
       "      <th id=\"T_e1897_level0_col5\" class=\"col_heading level0 col5\" >RMSLE</th>\n",
       "      <th id=\"T_e1897_level0_col6\" class=\"col_heading level0 col6\" >MAPE</th>\n",
       "    </tr>\n",
       "  </thead>\n",
       "  <tbody>\n",
       "    <tr>\n",
       "      <th id=\"T_e1897_level0_row0\" class=\"row_heading level0 row0\" >0</th>\n",
       "      <td id=\"T_e1897_row0_col0\" class=\"data row0 col0\" >Gradient Boosting Regressor</td>\n",
       "      <td id=\"T_e1897_row0_col1\" class=\"data row0 col1\" >16.70</td>\n",
       "      <td id=\"T_e1897_row0_col2\" class=\"data row0 col2\" >512.11</td>\n",
       "      <td id=\"T_e1897_row0_col3\" class=\"data row0 col3\" >22.63</td>\n",
       "      <td id=\"T_e1897_row0_col4\" class=\"data row0 col4\" >0.42</td>\n",
       "      <td id=\"T_e1897_row0_col5\" class=\"data row0 col5\" >0.67</td>\n",
       "      <td id=\"T_e1897_row0_col6\" class=\"data row0 col6\" >0.90</td>\n",
       "    </tr>\n",
       "  </tbody>\n",
       "</table>\n"
      ],
      "text/plain": [
       "<pandas.io.formats.style.Styler at 0x7f6dde726f70>"
      ]
     },
     "metadata": {},
     "output_type": "display_data"
    },
    {
     "data": {
      "text/html": [
       "<style type=\"text/css\">\n",
       "</style>\n",
       "<table id=\"T_87267\">\n",
       "  <thead>\n",
       "    <tr>\n",
       "      <th class=\"blank level0\" >&nbsp;</th>\n",
       "      <th id=\"T_87267_level0_col0\" class=\"col_heading level0 col0\" >Model</th>\n",
       "      <th id=\"T_87267_level0_col1\" class=\"col_heading level0 col1\" >MAE</th>\n",
       "      <th id=\"T_87267_level0_col2\" class=\"col_heading level0 col2\" >MSE</th>\n",
       "      <th id=\"T_87267_level0_col3\" class=\"col_heading level0 col3\" >RMSE</th>\n",
       "      <th id=\"T_87267_level0_col4\" class=\"col_heading level0 col4\" >R2</th>\n",
       "      <th id=\"T_87267_level0_col5\" class=\"col_heading level0 col5\" >RMSLE</th>\n",
       "      <th id=\"T_87267_level0_col6\" class=\"col_heading level0 col6\" >MAPE</th>\n",
       "    </tr>\n",
       "  </thead>\n",
       "  <tbody>\n",
       "    <tr>\n",
       "      <th id=\"T_87267_level0_row0\" class=\"row_heading level0 row0\" >0</th>\n",
       "      <td id=\"T_87267_row0_col0\" class=\"data row0 col0\" >Light Gradient Boosting Machine</td>\n",
       "      <td id=\"T_87267_row0_col1\" class=\"data row0 col1\" >17.10</td>\n",
       "      <td id=\"T_87267_row0_col2\" class=\"data row0 col2\" >500.10</td>\n",
       "      <td id=\"T_87267_row0_col3\" class=\"data row0 col3\" >22.36</td>\n",
       "      <td id=\"T_87267_row0_col4\" class=\"data row0 col4\" >0.44</td>\n",
       "      <td id=\"T_87267_row0_col5\" class=\"data row0 col5\" >0.68</td>\n",
       "      <td id=\"T_87267_row0_col6\" class=\"data row0 col6\" >0.93</td>\n",
       "    </tr>\n",
       "  </tbody>\n",
       "</table>\n"
      ],
      "text/plain": [
       "<pandas.io.formats.style.Styler at 0x7f6ddd24b700>"
      ]
     },
     "metadata": {},
     "output_type": "display_data"
    }
   ],
   "source": [
    "for model_name in model_names:\n",
    "\n",
    "    final_model = finalize_model(tuned_models[model_name])\n",
    "    \n",
    "    final_models[model_name] = deepcopy(final_model)\n",
    "    \n",
    "    hyperparams = pd.DataFrame.from_dict(final_model.get_params(), orient='index', columns=['parameter_value'])\n",
    "    hyperparams = hyperparams.reset_index(level=0)\n",
    "    hyperparams.to_csv('output/models_parameters/'+model_group_name+'/' + 'regression_model_'+model_name+'_hyperparams.tsv', \n",
    "                    index=False, encoding=\"utf-8\", sep=\"\\t\")\n",
    "    \n",
    "    model_predict = predict_model(final_model, data=data_group_test_df, round=2)\n",
    "    \n",
    "    results_df = pull()\n",
    "    results_df = results_df.reset_index(level=0)\n",
    "    \n",
    "    predicted_results[model_name] = results_df.copy()\n",
    "    results_df.to_csv('output/models_results/'+model_group_name+'/' + 'regression_model_'+model_name+'_test_set_validation_results.tsv', \n",
    "                    index=False, encoding=\"utf-8\", sep=\"\\t\")"
   ]
  },
  {
   "cell_type": "markdown",
   "id": "7cef3c2f",
   "metadata": {},
   "source": [
    "### Save models and configs"
   ]
  },
  {
   "cell_type": "code",
   "execution_count": 41,
   "id": "f7dbf7e3",
   "metadata": {},
   "outputs": [
    {
     "name": "stdout",
     "output_type": "stream",
     "text": [
      "Transformation Pipeline and Model Successfully Saved\n",
      "Transformation Pipeline and Model Successfully Saved\n",
      "Transformation Pipeline and Model Successfully Saved\n",
      "Transformation Pipeline and Model Successfully Saved\n",
      "Transformation Pipeline and Model Successfully Saved\n",
      "Transformation Pipeline and Model Successfully Saved\n",
      "Transformation Pipeline and Model Successfully Saved\n",
      "Transformation Pipeline and Model Successfully Saved\n",
      "Transformation Pipeline and Model Successfully Saved\n",
      "Transformation Pipeline and Model Successfully Saved\n",
      "Transformation Pipeline and Model Successfully Saved\n",
      "Transformation Pipeline and Model Successfully Saved\n",
      "Transformation Pipeline and Model Successfully Saved\n",
      "Transformation Pipeline and Model Successfully Saved\n",
      "Transformation Pipeline and Model Successfully Saved\n",
      "Transformation Pipeline and Model Successfully Saved\n"
     ]
    }
   ],
   "source": [
    "for model_name in model_names:\n",
    "    save_config('output/models/'+model_group_name+'/regression_config.cfg')\n",
    "    save_model(tuned_models[model_name], 'output/models/'+model_group_name+'/regression_model_'+model_name+'_tuned.mdl')\n",
    "    save_model(final_models[model_name], 'output/models/'+model_group_name+'/regression_model_'+model_name+'_final.mdl')"
   ]
  },
  {
   "cell_type": "markdown",
   "id": "5f8dee9d",
   "metadata": {},
   "source": [
    "### Create Plots"
   ]
  },
  {
   "cell_type": "code",
   "execution_count": 42,
   "id": "521ec3e3",
   "metadata": {},
   "outputs": [],
   "source": [
    "X_test = get_config(variable=\"X_test\").copy()\n",
    "y_test = get_config(variable=\"y_test\").copy()"
   ]
  },
  {
   "cell_type": "code",
   "execution_count": 43,
   "id": "44efd5ca",
   "metadata": {},
   "outputs": [
    {
     "data": {
      "text/plain": [
       "<Figure size 800x550 with 0 Axes>"
      ]
     },
     "metadata": {},
     "output_type": "display_data"
    }
   ],
   "source": [
    "for model_name in ['rf', 'et', 'gbr', 'lr', 'lasso', 'ridge']:\n",
    "    \n",
    "    #import matplotlib.pyplot as plt\n",
    "    #plt.rcParams[\"figure.figsize\"] = [16,9]\n",
    "\n",
    "    visualizer1 = FeatureImportances(final_models[model_name], size=(800,550), topn=10)\n",
    "    visualizer1.fit(X, y)\n",
    "    visualizer1.show(outpath='output/plots/'+model_group_name+'/' + 'regression_model_'+model_name+'_feature_importance_plot.png',dpi = 300)\n",
    "\n",
    "    plt.clf()"
   ]
  },
  {
   "cell_type": "code",
   "execution_count": 44,
   "id": "b4489866",
   "metadata": {},
   "outputs": [
    {
     "data": {
      "text/plain": [
       "<Figure size 800x550 with 0 Axes>"
      ]
     },
     "metadata": {},
     "output_type": "display_data"
    }
   ],
   "source": [
    "for model_name in model_names:\n",
    "\n",
    "    visualizer2 = ResidualsPlot(final_models[model_name], hist=False, qqplot=True, size=(800,550))\n",
    "    visualizer2.fit(X, y)\n",
    "    visualizer2.score(X_test, y_test)\n",
    "    visualizer2.show(outpath='output/plots/'+model_group_name+'/' + 'regression_model_'+model_name+'_residuals_plot.png',dpi = 300)\n",
    "    \n",
    "    plt.clf() "
   ]
  },
  {
   "cell_type": "code",
   "execution_count": 45,
   "id": "1a279e6d",
   "metadata": {},
   "outputs": [
    {
     "data": {
      "text/plain": [
       "<Figure size 800x550 with 0 Axes>"
      ]
     },
     "metadata": {},
     "output_type": "display_data"
    }
   ],
   "source": [
    "for model_name in model_names:\n",
    "\n",
    "    visualizer3 = PredictionError(final_models[model_name], size=(800,550))\n",
    "    visualizer3.fit(X, y)\n",
    "    visualizer3.score(X_test, y_test)\n",
    "    visualizer3.show(outpath='output/plots/'+model_group_name+'/' + 'regression_model_'+model_name+'_error_plot.png',dpi = 300)    \n",
    "    \n",
    "    plt.clf()"
   ]
  },
  {
   "cell_type": "markdown",
   "id": "3a2eafd5",
   "metadata": {},
   "source": [
    "### Load model"
   ]
  },
  {
   "cell_type": "code",
   "execution_count": 46,
   "id": "2406f629",
   "metadata": {},
   "outputs": [],
   "source": [
    "model_names = ['lr', 'lasso', 'ridge', 'svm', 'rf', 'et', 'gbr', 'lightgbm']"
   ]
  },
  {
   "cell_type": "code",
   "execution_count": 47,
   "id": "6f5acd9b",
   "metadata": {},
   "outputs": [],
   "source": [
    "final_config = load_config('output/models/'+model_group_name+'/regression_config.cfg')"
   ]
  },
  {
   "cell_type": "code",
   "execution_count": 48,
   "id": "7503a083",
   "metadata": {},
   "outputs": [],
   "source": [
    "tuned_models_load = dict()\n",
    "final_models_load = dict()"
   ]
  },
  {
   "cell_type": "code",
   "execution_count": 49,
   "id": "af29b475",
   "metadata": {},
   "outputs": [
    {
     "name": "stdout",
     "output_type": "stream",
     "text": [
      "Transformation Pipeline and Model Successfully Loaded\n",
      "Transformation Pipeline and Model Successfully Loaded\n",
      "Transformation Pipeline and Model Successfully Loaded\n",
      "Transformation Pipeline and Model Successfully Loaded\n",
      "Transformation Pipeline and Model Successfully Loaded\n",
      "Transformation Pipeline and Model Successfully Loaded\n",
      "Transformation Pipeline and Model Successfully Loaded\n",
      "Transformation Pipeline and Model Successfully Loaded\n",
      "Transformation Pipeline and Model Successfully Loaded\n",
      "Transformation Pipeline and Model Successfully Loaded\n",
      "Transformation Pipeline and Model Successfully Loaded\n",
      "Transformation Pipeline and Model Successfully Loaded\n",
      "Transformation Pipeline and Model Successfully Loaded\n",
      "Transformation Pipeline and Model Successfully Loaded\n",
      "Transformation Pipeline and Model Successfully Loaded\n",
      "Transformation Pipeline and Model Successfully Loaded\n"
     ]
    }
   ],
   "source": [
    "for model_name in model_names:\n",
    "    tuned_models_load[model_name] = load_model('output/models/'+model_group_name+'/regression_model_'+model_name+'_tuned.mdl')\n",
    "    final_models_load[model_name] = load_model('output/models/'+model_group_name+'/regression_model_'+model_name+'_final.mdl')"
   ]
  },
  {
   "cell_type": "code",
   "execution_count": 50,
   "id": "acba0082",
   "metadata": {},
   "outputs": [
    {
     "data": {
      "text/plain": [
       "{'boosting_type': 'gbdt',\n",
       " 'objective': None,\n",
       " 'num_leaves': 52,\n",
       " 'max_depth': -1,\n",
       " 'learning_rate': 0.03150157342119761,\n",
       " 'n_estimators': 270,\n",
       " 'subsample_for_bin': 200000,\n",
       " 'min_split_gain': 0.9752144513332786,\n",
       " 'min_child_weight': 0.001,\n",
       " 'min_child_samples': 7,\n",
       " 'subsample': 1.0,\n",
       " 'subsample_freq': 0,\n",
       " 'colsample_bytree': 1.0,\n",
       " 'reg_alpha': 1.9936686707270884e-07,\n",
       " 'reg_lambda': 7.366441735805574e-07,\n",
       " 'random_state': 834,\n",
       " 'n_jobs': -1,\n",
       " 'silent': 'warn',\n",
       " 'importance_type': 'split',\n",
       " '_Booster': <lightgbm.basic.Booster at 0x7f6ddc501f40>,\n",
       " '_evals_result': None,\n",
       " '_best_score': defaultdict(collections.OrderedDict, {}),\n",
       " '_best_iteration': None,\n",
       " '_other_params': {'feature_fraction': 0.4227604230527039,\n",
       "  'bagging_fraction': 0.48362937044189325,\n",
       "  'bagging_freq': 4},\n",
       " '_objective': 'regression',\n",
       " 'class_weight': None,\n",
       " '_class_weight': None,\n",
       " '_class_map': None,\n",
       " '_n_features': 149,\n",
       " '_n_features_in': 149,\n",
       " '_classes': None,\n",
       " '_n_classes': None,\n",
       " 'feature_fraction': 0.4227604230527039,\n",
       " 'bagging_fraction': 0.48362937044189325,\n",
       " 'bagging_freq': 4,\n",
       " '_fobj': None,\n",
       " 'fitted_': True}"
      ]
     },
     "execution_count": 50,
     "metadata": {},
     "output_type": "execute_result"
    }
   ],
   "source": [
    "vars(final_models_load['lightgbm']._final_estimator)"
   ]
  },
  {
   "cell_type": "code",
   "execution_count": 52,
   "id": "41265456",
   "metadata": {},
   "outputs": [
    {
     "data": {
      "image/png": "[encoded data removed]",
      "text/plain": [
       "<Figure size 800x500 with 1 Axes>"
      ]
     },
     "metadata": {},
     "output_type": "display_data"
    }
   ],
   "source": [
    "plot_model(tuned_models_load['lightgbm']._final_estimator, 'feature')"
   ]
  }
 ],
 "metadata": {
  "kernelspec": {
   "display_name": "Python 3 (ipykernel)",
   "language": "python",
   "name": "python3"
  },
  "language_info": {
   "codemirror_mode": {
    "name": "ipython",
    "version": 3
   },
   "file_extension": ".py",
   "mimetype": "text/x-python",
   "name": "python",
   "nbconvert_exporter": "python",
   "pygments_lexer": "ipython3",
   "version": "3.8.13"
  }
 },
 "nbformat": 4,
 "nbformat_minor": 5
}
