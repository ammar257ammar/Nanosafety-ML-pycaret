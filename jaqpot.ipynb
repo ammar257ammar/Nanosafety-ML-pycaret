{
 "cells": [
  {
   "cell_type": "code",
   "execution_count": 1,
   "id": "815ad192",
   "metadata": {},
   "outputs": [
    {
     "name": "stdout",
     "output_type": "stream",
     "text": [
      "Collecting numpy==1.20.3\n",
      "  Downloading numpy-1.20.3-cp38-cp38-manylinux_2_12_x86_64.manylinux2010_x86_64.whl (15.4 MB)\n",
      "\u001b[2K     \u001b[90m━━━━━━━━━━━━━━━━━━━━━━━━━━━━━━━━━━━━━━━━\u001b[0m \u001b[32m15.4/15.4 MB\u001b[0m \u001b[31m7.7 MB/s\u001b[0m eta \u001b[36m0:00:00\u001b[0m00:01\u001b[0m00:01\u001b[0m\n",
      "\u001b[?25hInstalling collected packages: numpy\n",
      "  Attempting uninstall: numpy\n",
      "    Found existing installation: numpy 1.23.3\n",
      "    Uninstalling numpy-1.23.3:\n",
      "      Successfully uninstalled numpy-1.23.3\n",
      "Successfully installed numpy-1.20.3\n"
     ]
    }
   ],
   "source": [
    "!pip3 install --force-reinstall numpy==1.20.3"
   ]
  },
  {
   "cell_type": "code",
   "execution_count": 2,
   "id": "f5e7915b",
   "metadata": {},
   "outputs": [
    {
     "name": "stdout",
     "output_type": "stream",
     "text": [
      "Collecting llvmlite==0.37.0\n",
      "  Downloading llvmlite-0.37.0-cp38-cp38-manylinux2014_x86_64.whl (26.3 MB)\n",
      "\u001b[2K     \u001b[90m━━━━━━━━━━━━━━━━━━━━━━━━━━━━━━━━━━━━━━━━\u001b[0m \u001b[32m26.3/26.3 MB\u001b[0m \u001b[31m8.2 MB/s\u001b[0m eta \u001b[36m0:00:00\u001b[0m00:01\u001b[0m00:01\u001b[0m\n",
      "\u001b[?25hCollecting numba==0.54.1\n",
      "  Downloading numba-0.54.1-cp38-cp38-manylinux2014_x86_64.manylinux_2_17_x86_64.whl (3.3 MB)\n",
      "\u001b[2K     \u001b[90m━━━━━━━━━━━━━━━━━━━━━━━━━━━━━━━━━━━━━━━━\u001b[0m \u001b[32m3.3/3.3 MB\u001b[0m \u001b[31m8.5 MB/s\u001b[0m eta \u001b[36m0:00:00\u001b[0m00:01\u001b[0m00:01\u001b[0m\n",
      "\u001b[?25hCollecting setuptools\n",
      "  Downloading setuptools-67.6.0-py3-none-any.whl (1.1 MB)\n",
      "\u001b[2K     \u001b[90m━━━━━━━━━━━━━━━━━━━━━━━━━━━━━━━━━━━━━━━━\u001b[0m \u001b[32m1.1/1.1 MB\u001b[0m \u001b[31m8.2 MB/s\u001b[0m eta \u001b[36m0:00:00\u001b[0ma \u001b[36m0:00:01\u001b[0mm\n",
      "\u001b[?25hCollecting numpy<1.21,>=1.17\n",
      "  Using cached numpy-1.20.3-cp38-cp38-manylinux_2_12_x86_64.manylinux2010_x86_64.whl (15.4 MB)\n",
      "Installing collected packages: setuptools, numpy, llvmlite, numba\n",
      "\u001b[33m  WARNING: The scripts f2py, f2py3 and f2py3.8 are installed in '/home/jovyan/.local/bin' which is not on PATH.\n",
      "  Consider adding this directory to PATH or, if you prefer to suppress this warning, use --no-warn-script-location.\u001b[0m\u001b[33m\n",
      "\u001b[0mSuccessfully installed llvmlite-0.37.0 numba-0.54.1 numpy-1.20.3 setuptools-67.6.0\n"
     ]
    }
   ],
   "source": [
    "!pip3 install --ignore-installed --user --force-reinstall llvmlite==0.37.0 numba==0.54.1"
   ]
  },
  {
   "cell_type": "code",
   "execution_count": 3,
   "id": "3de6648e",
   "metadata": {
    "scrolled": true
   },
   "outputs": [
    {
     "name": "stdout",
     "output_type": "stream",
     "text": [
      "Collecting pycaret==2.3.10\n",
      "  Downloading pycaret-2.3.10-py3-none-any.whl (320 kB)\n",
      "\u001b[2K     \u001b[90m━━━━━━━━━━━━━━━━━━━━━━━━━━━━━━━━━━━━━━━\u001b[0m \u001b[32m320.2/320.2 kB\u001b[0m \u001b[31m5.4 MB/s\u001b[0m eta \u001b[36m0:00:00\u001b[0ma \u001b[36m0:00:01\u001b[0m\n",
      "\u001b[?25hRequirement already satisfied: joblib in /opt/conda/lib/python3.8/site-packages (from pycaret==2.3.10) (1.2.0)\n",
      "Collecting nltk\n",
      "  Downloading nltk-3.8.1-py3-none-any.whl (1.5 MB)\n",
      "\u001b[2K     \u001b[90m━━━━━━━━━━━━━━━━━━━━━━━━━━━━━━━━━━━━━━━━\u001b[0m \u001b[32m1.5/1.5 MB\u001b[0m \u001b[31m6.9 MB/s\u001b[0m eta \u001b[36m0:00:00\u001b[0m00:01\u001b[0m00:01\u001b[0m\n",
      "\u001b[?25hCollecting pyyaml<6.0.0\n",
      "  Downloading PyYAML-5.4.1-cp38-cp38-manylinux1_x86_64.whl (662 kB)\n",
      "\u001b[2K     \u001b[90m━━━━━━━━━━━━━━━━━━━━━━━━━━━━━━━━━━━━━━━\u001b[0m \u001b[32m662.4/662.4 kB\u001b[0m \u001b[31m6.7 MB/s\u001b[0m eta \u001b[36m0:00:00\u001b[0ma \u001b[36m0:00:01\u001b[0m\n",
      "\u001b[?25hCollecting pyod\n",
      "  Downloading pyod-1.0.8.tar.gz (149 kB)\n",
      "\u001b[2K     \u001b[90m━━━━━━━━━━━━━━━━━━━━━━━━━━━━━━━━━━━━━━━\u001b[0m \u001b[32m150.0/150.0 kB\u001b[0m \u001b[31m6.3 MB/s\u001b[0m eta \u001b[36m0:00:00\u001b[0m\n",
      "\u001b[?25h  Preparing metadata (setup.py) ... \u001b[?25ldone\n",
      "\u001b[?25hCollecting plotly>=4.4.1\n",
      "  Downloading plotly-5.13.1-py2.py3-none-any.whl (15.2 MB)\n",
      "\u001b[2K     \u001b[90m━━━━━━━━━━━━━━━━━━━━━━━━━━━━━━━━━━━━━━━━\u001b[0m \u001b[32m15.2/15.2 MB\u001b[0m \u001b[31m8.4 MB/s\u001b[0m eta \u001b[36m0:00:00\u001b[0m00:01\u001b[0m00:01\u001b[0m\n",
      "\u001b[?25hRequirement already satisfied: IPython in /opt/conda/lib/python3.8/site-packages (from pycaret==2.3.10) (8.5.0)\n",
      "Collecting textblob\n",
      "  Downloading textblob-0.17.1-py2.py3-none-any.whl (636 kB)\n",
      "\u001b[2K     \u001b[90m━━━━━━━━━━━━━━━━━━━━━━━━━━━━━━━━━━━━━━━\u001b[0m \u001b[32m636.8/636.8 kB\u001b[0m \u001b[31m7.7 MB/s\u001b[0m eta \u001b[36m0:00:00\u001b[0ma \u001b[36m0:00:01\u001b[0m\n",
      "\u001b[?25hCollecting gensim<4.0.0\n",
      "  Downloading gensim-3.8.3-cp38-cp38-manylinux1_x86_64.whl (24.2 MB)\n",
      "\u001b[2K     \u001b[90m━━━━━━━━━━━━━━━━━━━━━━━━━━━━━━━━━━━━━━━━\u001b[0m \u001b[32m24.2/24.2 MB\u001b[0m \u001b[31m8.2 MB/s\u001b[0m eta \u001b[36m0:00:00\u001b[0m00:01\u001b[0m00:01\u001b[0m\n",
      "\u001b[?25hCollecting Boruta\n",
      "  Downloading Boruta-0.3-py3-none-any.whl (56 kB)\n",
      "\u001b[2K     \u001b[90m━━━━━━━━━━━━━━━━━━━━━━━━━━━━━━━━━━━━━━━━\u001b[0m \u001b[32m56.6/56.6 kB\u001b[0m \u001b[31m7.9 MB/s\u001b[0m eta \u001b[36m0:00:00\u001b[0m\n",
      "\u001b[?25hCollecting scipy<=1.5.4\n",
      "  Downloading scipy-1.5.4-cp38-cp38-manylinux1_x86_64.whl (25.8 MB)\n",
      "\u001b[2K     \u001b[90m━━━━━━━━━━━━━━━━━━━━━━━━━━━━━━━━━━━━━━━━\u001b[0m \u001b[32m25.8/25.8 MB\u001b[0m \u001b[31m8.2 MB/s\u001b[0m eta \u001b[36m0:00:00\u001b[0m00:01\u001b[0m00:01\u001b[0m\n",
      "\u001b[?25hRequirement already satisfied: pandas in /opt/conda/lib/python3.8/site-packages (from pycaret==2.3.10) (1.5.0)\n",
      "Collecting mlflow\n",
      "  Downloading mlflow-2.2.2-py3-none-any.whl (17.6 MB)\n",
      "\u001b[2K     \u001b[90m━━━━━━━━━━━━━━━━━━━━━━━━━━━━━━━━━━━━━━━━\u001b[0m \u001b[32m17.6/17.6 MB\u001b[0m \u001b[31m7.6 MB/s\u001b[0m eta \u001b[36m0:00:00\u001b[0m00:01\u001b[0m00:01\u001b[0m\n",
      "\u001b[?25hCollecting umap-learn\n",
      "  Downloading umap-learn-0.5.3.tar.gz (88 kB)\n",
      "\u001b[2K     \u001b[90m━━━━━━━━━━━━━━━━━━━━━━━━━━━━━━━━━━━━━━━━\u001b[0m \u001b[32m88.2/88.2 kB\u001b[0m \u001b[31m6.1 MB/s\u001b[0m eta \u001b[36m0:00:00\u001b[0m\n",
      "\u001b[?25h  Preparing metadata (setup.py) ... \u001b[?25ldone\n",
      "\u001b[?25hCollecting scikit-plot\n",
      "  Downloading scikit_plot-0.3.7-py3-none-any.whl (33 kB)\n",
      "Collecting spacy<2.4.0\n",
      "  Downloading spacy-2.3.9-cp38-cp38-manylinux_2_17_x86_64.manylinux2014_x86_64.whl (5.0 MB)\n",
      "\u001b[2K     \u001b[90m━━━━━━━━━━━━━━━━━━━━━━━━━━━━━━━━━━━━━━━━\u001b[0m \u001b[32m5.0/5.0 MB\u001b[0m \u001b[31m8.1 MB/s\u001b[0m eta \u001b[36m0:00:00\u001b[0m00:01\u001b[0m00:01\u001b[0m\n",
      "\u001b[?25hCollecting wordcloud\n",
      "  Downloading wordcloud-1.8.2.2-cp38-cp38-manylinux_2_17_x86_64.manylinux2014_x86_64.whl (458 kB)\n",
      "\u001b[2K     \u001b[90m━━━━━━━━━━━━━━━━━━━━━━━━━━━━━━━━━━━━━━━\u001b[0m \u001b[32m459.0/459.0 kB\u001b[0m \u001b[31m8.5 MB/s\u001b[0m eta \u001b[36m0:00:00\u001b[0ma \u001b[36m0:00:01\u001b[0m\n",
      "\u001b[?25hRequirement already satisfied: matplotlib in /opt/conda/lib/python3.8/site-packages (from pycaret==2.3.10) (3.6.0)\n",
      "Collecting pandas-profiling>=2.8.0\n",
      "  Downloading pandas_profiling-3.6.6-py2.py3-none-any.whl (324 kB)\n",
      "\u001b[2K     \u001b[90m━━━━━━━━━━━━━━━━━━━━━━━━━━━━━━━━━━━━━━━\u001b[0m \u001b[32m324.4/324.4 kB\u001b[0m \u001b[31m8.4 MB/s\u001b[0m eta \u001b[36m0:00:00\u001b[0m00:01\u001b[0m\n",
      "\u001b[?25hCollecting kmodes>=0.10.1\n",
      "  Downloading kmodes-0.12.2-py2.py3-none-any.whl (20 kB)\n",
      "Collecting mlxtend>=0.17.0\n",
      "  Downloading mlxtend-0.21.0-py2.py3-none-any.whl (1.3 MB)\n",
      "\u001b[2K     \u001b[90m━━━━━━━━━━━━━━━━━━━━━━━━━━━━━━━━━━━━━━━━\u001b[0m \u001b[32m1.3/1.3 MB\u001b[0m \u001b[31m8.5 MB/s\u001b[0m eta \u001b[36m0:00:00\u001b[0ma \u001b[36m0:00:01\u001b[0m\n",
      "\u001b[?25hCollecting yellowbrick>=1.0.1\n",
      "  Downloading yellowbrick-1.5-py3-none-any.whl (282 kB)\n",
      "\u001b[2K     \u001b[90m━━━━━━━━━━━━━━━━━━━━━━━━━━━━━━━━━━━━━━━\u001b[0m \u001b[32m282.6/282.6 kB\u001b[0m \u001b[31m8.7 MB/s\u001b[0m eta \u001b[36m0:00:00\u001b[0m\n",
      "\u001b[?25hCollecting imbalanced-learn==0.7.0\n",
      "  Downloading imbalanced_learn-0.7.0-py3-none-any.whl (167 kB)\n",
      "\u001b[2K     \u001b[90m━━━━━━━━━━━━━━━━━━━━━━━━━━━━━━━━━━━━━━━\u001b[0m \u001b[32m167.1/167.1 kB\u001b[0m \u001b[31m8.7 MB/s\u001b[0m eta \u001b[36m0:00:00\u001b[0m\n",
      "\u001b[?25hCollecting scikit-learn==0.23.2\n",
      "  Downloading scikit_learn-0.23.2-cp38-cp38-manylinux1_x86_64.whl (6.8 MB)\n",
      "\u001b[2K     \u001b[90m━━━━━━━━━━━━━━━━━━━━━━━━━━━━━━━━━━━━━━━━\u001b[0m \u001b[32m6.8/6.8 MB\u001b[0m \u001b[31m8.3 MB/s\u001b[0m eta \u001b[36m0:00:00\u001b[0m00:01\u001b[0m00:01\u001b[0m\n",
      "\u001b[?25hRequirement already satisfied: ipywidgets in /opt/conda/lib/python3.8/site-packages (from pycaret==2.3.10) (8.0.2)\n",
      "Collecting pyLDAvis\n",
      "  Downloading pyLDAvis-3.4.0-py3-none-any.whl (2.6 MB)\n",
      "\u001b[2K     \u001b[90m━━━━━━━━━━━━━━━━━━━━━━━━━━━━━━━━━━━━━━━━\u001b[0m \u001b[32m2.6/2.6 MB\u001b[0m \u001b[31m8.0 MB/s\u001b[0m eta \u001b[36m0:00:00\u001b[0m00:01\u001b[0m00:01\u001b[0m\n",
      "\u001b[?25hCollecting lightgbm>=2.3.1\n",
      "  Downloading lightgbm-3.3.5-py3-none-manylinux1_x86_64.whl (2.0 MB)\n",
      "\u001b[2K     \u001b[90m━━━━━━━━━━━━━━━━━━━━━━━━━━━━━━━━━━━━━━━━\u001b[0m \u001b[32m2.0/2.0 MB\u001b[0m \u001b[31m8.2 MB/s\u001b[0m eta \u001b[36m0:00:00\u001b[0ma \u001b[36m0:00:01\u001b[0m\n",
      "\u001b[?25hRequirement already satisfied: numba<0.55 in /home/jovyan/.local/lib/python3.8/site-packages (from pycaret==2.3.10) (0.54.1)\n",
      "Collecting cufflinks>=0.17.0\n",
      "  Downloading cufflinks-0.17.3.tar.gz (81 kB)\n",
      "\u001b[2K     \u001b[90m━━━━━━━━━━━━━━━━━━━━━━━━━━━━━━━━━━━━━━━━\u001b[0m \u001b[32m81.7/81.7 kB\u001b[0m \u001b[31m8.8 MB/s\u001b[0m eta \u001b[36m0:00:00\u001b[0m\n",
      "\u001b[?25h  Preparing metadata (setup.py) ... \u001b[?25ldone\n",
      "\u001b[?25hRequirement already satisfied: seaborn in /opt/conda/lib/python3.8/site-packages (from pycaret==2.3.10) (0.12.0)\n",
      "Requirement already satisfied: numpy>=1.13.3 in /home/jovyan/.local/lib/python3.8/site-packages (from imbalanced-learn==0.7.0->pycaret==2.3.10) (1.20.3)\n",
      "Requirement already satisfied: threadpoolctl>=2.0.0 in /opt/conda/lib/python3.8/site-packages (from scikit-learn==0.23.2->pycaret==2.3.10) (3.1.0)\n",
      "Requirement already satisfied: six>=1.9.0 in /opt/conda/lib/python3.8/site-packages (from cufflinks>=0.17.0->pycaret==2.3.10) (1.16.0)\n",
      "Collecting colorlover>=0.2.1\n",
      "  Downloading colorlover-0.3.0-py3-none-any.whl (8.9 kB)\n",
      "Requirement already satisfied: setuptools>=34.4.1 in /home/jovyan/.local/lib/python3.8/site-packages (from cufflinks>=0.17.0->pycaret==2.3.10) (67.6.0)\n",
      "Collecting smart-open>=1.8.1\n",
      "  Downloading smart_open-6.3.0-py3-none-any.whl (56 kB)\n",
      "\u001b[2K     \u001b[90m━━━━━━━━━━━━━━━━━━━━━━━━━━━━━━━━━━━━━━━━\u001b[0m \u001b[32m56.8/56.8 kB\u001b[0m \u001b[31m7.8 MB/s\u001b[0m eta \u001b[36m0:00:00\u001b[0m\n",
      "\u001b[?25hRequirement already satisfied: pygments>=2.4.0 in /opt/conda/lib/python3.8/site-packages (from IPython->pycaret==2.3.10) (2.13.0)\n",
      "Requirement already satisfied: decorator in /opt/conda/lib/python3.8/site-packages (from IPython->pycaret==2.3.10) (5.1.1)\n",
      "Requirement already satisfied: pexpect>4.3 in /opt/conda/lib/python3.8/site-packages (from IPython->pycaret==2.3.10) (4.8.0)\n",
      "Requirement already satisfied: prompt-toolkit<3.1.0,>3.0.1 in /opt/conda/lib/python3.8/site-packages (from IPython->pycaret==2.3.10) (3.0.31)\n",
      "Requirement already satisfied: traitlets>=5 in /opt/conda/lib/python3.8/site-packages (from IPython->pycaret==2.3.10) (5.4.0)\n",
      "Requirement already satisfied: matplotlib-inline in /opt/conda/lib/python3.8/site-packages (from IPython->pycaret==2.3.10) (0.1.6)\n",
      "Requirement already satisfied: backcall in /opt/conda/lib/python3.8/site-packages (from IPython->pycaret==2.3.10) (0.2.0)\n",
      "Requirement already satisfied: jedi>=0.16 in /opt/conda/lib/python3.8/site-packages (from IPython->pycaret==2.3.10) (0.18.1)\n",
      "Requirement already satisfied: stack-data in /opt/conda/lib/python3.8/site-packages (from IPython->pycaret==2.3.10) (0.5.1)\n",
      "Requirement already satisfied: pickleshare in /opt/conda/lib/python3.8/site-packages (from IPython->pycaret==2.3.10) (0.7.5)\n",
      "Requirement already satisfied: widgetsnbextension~=4.0 in /opt/conda/lib/python3.8/site-packages (from ipywidgets->pycaret==2.3.10) (4.0.3)\n",
      "Requirement already satisfied: ipykernel>=4.5.1 in /opt/conda/lib/python3.8/site-packages (from ipywidgets->pycaret==2.3.10) (6.16.0)\n",
      "Requirement already satisfied: jupyterlab-widgets~=3.0 in /opt/conda/lib/python3.8/site-packages (from ipywidgets->pycaret==2.3.10) (3.0.3)\n",
      "Requirement already satisfied: wheel in /opt/conda/lib/python3.8/site-packages (from lightgbm>=2.3.1->pycaret==2.3.10) (0.37.1)\n",
      "Collecting mlxtend>=0.17.0\n",
      "  Downloading mlxtend-0.20.0-py2.py3-none-any.whl (1.3 MB)\n",
      "\u001b[2K     \u001b[90m━━━━━━━━━━━━━━━━━━━━━━━━━━━━━━━━━━━━━━━━\u001b[0m \u001b[32m1.3/1.3 MB\u001b[0m \u001b[31m7.5 MB/s\u001b[0m eta \u001b[36m0:00:00\u001b[0m00:01\u001b[0m00:01\u001b[0m\n",
      "\u001b[?25h  Downloading mlxtend-0.19.0-py2.py3-none-any.whl (1.3 MB)\n",
      "\u001b[2K     \u001b[90m━━━━━━━━━━━━━━━━━━━━━━━━━━━━━━━━━━━━━━━━\u001b[0m \u001b[32m1.3/1.3 MB\u001b[0m \u001b[31m6.8 MB/s\u001b[0m eta \u001b[36m0:00:00\u001b[0ma \u001b[36m0:00:01\u001b[0m\n",
      "\u001b[?25hRequirement already satisfied: pyparsing>=2.2.1 in /opt/conda/lib/python3.8/site-packages (from matplotlib->pycaret==2.3.10) (3.0.9)\n",
      "Requirement already satisfied: cycler>=0.10 in /opt/conda/lib/python3.8/site-packages (from matplotlib->pycaret==2.3.10) (0.11.0)\n",
      "Requirement already satisfied: packaging>=20.0 in /opt/conda/lib/python3.8/site-packages (from matplotlib->pycaret==2.3.10) (21.3)\n",
      "Requirement already satisfied: pillow>=6.2.0 in /opt/conda/lib/python3.8/site-packages (from matplotlib->pycaret==2.3.10) (9.2.0)\n",
      "Requirement already satisfied: python-dateutil>=2.7 in /opt/conda/lib/python3.8/site-packages (from matplotlib->pycaret==2.3.10) (2.8.2)\n",
      "Requirement already satisfied: kiwisolver>=1.0.1 in /opt/conda/lib/python3.8/site-packages (from matplotlib->pycaret==2.3.10) (1.4.4)\n",
      "Requirement already satisfied: fonttools>=4.22.0 in /opt/conda/lib/python3.8/site-packages (from matplotlib->pycaret==2.3.10) (4.37.4)\n",
      "Requirement already satisfied: contourpy>=1.0.1 in /opt/conda/lib/python3.8/site-packages (from matplotlib->pycaret==2.3.10) (1.0.5)\n",
      "Requirement already satisfied: llvmlite<0.38,>=0.37.0rc1 in /home/jovyan/.local/lib/python3.8/site-packages (from numba<0.55->pycaret==2.3.10) (0.37.0)\n",
      "Requirement already satisfied: pytz>=2020.1 in /opt/conda/lib/python3.8/site-packages (from pandas->pycaret==2.3.10) (2022.4)\n",
      "Collecting ydata-profiling\n",
      "  Downloading ydata_profiling-4.1.1-py2.py3-none-any.whl (344 kB)\n",
      "\u001b[2K     \u001b[90m━━━━━━━━━━━━━━━━━━━━━━━━━━━━━━━━━━━━━━━\u001b[0m \u001b[32m344.9/344.9 kB\u001b[0m \u001b[31m7.5 MB/s\u001b[0m eta \u001b[36m0:00:00\u001b[0ma \u001b[36m0:00:01\u001b[0m\n",
      "\u001b[?25hCollecting tenacity>=6.2.0\n",
      "  Downloading tenacity-8.2.2-py3-none-any.whl (24 kB)\n",
      "Collecting cymem<2.1.0,>=2.0.2\n",
      "  Downloading cymem-2.0.7-cp38-cp38-manylinux_2_17_x86_64.manylinux2014_x86_64.whl (36 kB)\n",
      "Collecting plac<1.2.0,>=0.9.6\n",
      "  Downloading plac-1.1.3-py2.py3-none-any.whl (20 kB)\n",
      "Requirement already satisfied: requests<3.0.0,>=2.13.0 in /opt/conda/lib/python3.8/site-packages (from spacy<2.4.0->pycaret==2.3.10) (2.28.1)\n",
      "Collecting preshed<3.1.0,>=3.0.2\n",
      "  Downloading preshed-3.0.8-cp38-cp38-manylinux_2_5_x86_64.manylinux1_x86_64.manylinux_2_17_x86_64.manylinux2014_x86_64.whl (130 kB)\n",
      "\u001b[2K     \u001b[90m━━━━━━━━━━━━━━━━━━━━━━━━━━━━━━━━━━━━━━━\u001b[0m \u001b[32m130.8/130.8 kB\u001b[0m \u001b[31m6.8 MB/s\u001b[0m eta \u001b[36m0:00:00\u001b[0m\n",
      "\u001b[?25hCollecting murmurhash<1.1.0,>=0.28.0\n",
      "  Downloading murmurhash-1.0.9-cp38-cp38-manylinux_2_5_x86_64.manylinux1_x86_64.manylinux_2_17_x86_64.manylinux2014_x86_64.whl (21 kB)\n",
      "Collecting blis<0.8.0,>=0.4.0\n",
      "  Downloading blis-0.7.9-cp38-cp38-manylinux_2_17_x86_64.manylinux2014_x86_64.whl (10.2 MB)\n",
      "\u001b[2K     \u001b[90m━━━━━━━━━━━━━━━━━━━━━━━━━━━━━━━━━━━━━━━━\u001b[0m \u001b[32m10.2/10.2 MB\u001b[0m \u001b[31m4.8 MB/s\u001b[0m eta \u001b[36m0:00:00\u001b[0m00:01\u001b[0m0:01\u001b[0m\n",
      "\u001b[?25hCollecting catalogue<1.1.0,>=0.0.7\n",
      "  Downloading catalogue-1.0.2-py2.py3-none-any.whl (16 kB)\n",
      "Collecting wasabi<1.1.0,>=0.4.0\n",
      "  Downloading wasabi-0.10.1-py3-none-any.whl (26 kB)\n",
      "Collecting srsly<1.1.0,>=1.0.2\n",
      "  Downloading srsly-1.0.6-cp38-cp38-manylinux_2_17_x86_64.manylinux2014_x86_64.whl (211 kB)\n",
      "\u001b[2K     \u001b[90m━━━━━━━━━━━━━━━━━━━━━━━━━━━━━━━━━━━━━━━\u001b[0m \u001b[32m211.1/211.1 kB\u001b[0m \u001b[31m8.3 MB/s\u001b[0m eta \u001b[36m0:00:00\u001b[0m\n",
      "\u001b[?25hCollecting thinc<7.5.0,>=7.4.1\n",
      "  Downloading thinc-7.4.6-cp38-cp38-manylinux_2_17_x86_64.manylinux2014_x86_64.whl (1.1 MB)\n",
      "\u001b[2K     \u001b[90m━━━━━━━━━━━━━━━━━━━━━━━━━━━━━━━━━━━━━━━━\u001b[0m \u001b[32m1.1/1.1 MB\u001b[0m \u001b[31m7.0 MB/s\u001b[0m eta \u001b[36m0:00:00\u001b[0m00:01\u001b[0m00:01\u001b[0m\n",
      "\u001b[?25hRequirement already satisfied: tqdm<5.0.0,>=4.38.0 in /opt/conda/lib/python3.8/site-packages (from spacy<2.4.0->pycaret==2.3.10) (4.64.1)\n",
      "Collecting yellowbrick>=1.0.1\n",
      "  Downloading yellowbrick-1.4-py3-none-any.whl (274 kB)\n",
      "\u001b[2K     \u001b[90m━━━━━━━━━━━━━━━━━━━━━━━━━━━━━━━━━━━━━━━\u001b[0m \u001b[32m274.2/274.2 kB\u001b[0m \u001b[31m7.4 MB/s\u001b[0m eta \u001b[36m0:00:00\u001b[0ma \u001b[36m0:00:01\u001b[0m\n",
      "\u001b[?25h  Downloading yellowbrick-1.3.post1-py3-none-any.whl (271 kB)\n",
      "\u001b[2K     \u001b[90m━━━━━━━━━━━━━━━━━━━━━━━━━━━━━━━━━━━━━━━\u001b[0m \u001b[32m271.4/271.4 kB\u001b[0m \u001b[31m7.3 MB/s\u001b[0m eta \u001b[36m0:00:00\u001b[0m00:01\u001b[0m\n",
      "\u001b[?25h  Downloading yellowbrick-1.3-py3-none-any.whl (271 kB)\n",
      "\u001b[2K     \u001b[90m━━━━━━━━━━━━━━━━━━━━━━━━━━━━━━━━━━━━━━━\u001b[0m \u001b[32m271.3/271.3 kB\u001b[0m \u001b[31m7.0 MB/s\u001b[0m eta \u001b[36m0:00:00\u001b[0m00:01\u001b[0m\n",
      "\u001b[?25h  Downloading yellowbrick-1.2.1-py3-none-any.whl (269 kB)\n",
      "\u001b[2K     \u001b[90m━━━━━━━━━━━━━━━━━━━━━━━━━━━━━━━━━━━━━━━\u001b[0m \u001b[32m269.5/269.5 kB\u001b[0m \u001b[31m8.2 MB/s\u001b[0m eta \u001b[36m0:00:00\u001b[0m\n",
      "\u001b[?25hRequirement already satisfied: alembic<2 in /opt/conda/lib/python3.8/site-packages (from mlflow->pycaret==2.3.10) (1.8.1)\n",
      "Collecting databricks-cli<1,>=0.8.7\n",
      "  Downloading databricks-cli-0.17.5.tar.gz (82 kB)\n",
      "\u001b[2K     \u001b[90m━━━━━━━━━━━━━━━━━━━━━━━━━━━━━━━━━━━━━━━━\u001b[0m \u001b[32m82.4/82.4 kB\u001b[0m \u001b[31m7.6 MB/s\u001b[0m eta \u001b[36m0:00:00\u001b[0m\n",
      "\u001b[?25h  Preparing metadata (setup.py) ... \u001b[?25ldone\n",
      "\u001b[?25hRequirement already satisfied: Jinja2<4,>=2.11 in /opt/conda/lib/python3.8/site-packages (from mlflow->pycaret==2.3.10) (3.1.2)\n",
      "Collecting pyarrow<12,>=4.0.0\n",
      "  Downloading pyarrow-11.0.0-cp38-cp38-manylinux_2_17_x86_64.manylinux2014_x86_64.whl (35.0 MB)\n",
      "\u001b[2K     \u001b[90m━━━━━━━━━━━━━━━━━━━━━━━━━━━━━━━━━━━━━━━━\u001b[0m \u001b[32m35.0/35.0 MB\u001b[0m \u001b[31m7.9 MB/s\u001b[0m eta \u001b[36m0:00:00\u001b[0m00:01\u001b[0m00:01\u001b[0m\n",
      "\u001b[?25hCollecting sqlparse<1,>=0.4.0\n",
      "  Downloading sqlparse-0.4.3-py3-none-any.whl (42 kB)\n",
      "\u001b[2K     \u001b[90m━━━━━━━━━━━━━━━━━━━━━━━━━━━━━━━━━━━━━━━━\u001b[0m \u001b[32m42.8/42.8 kB\u001b[0m \u001b[31m5.1 MB/s\u001b[0m eta \u001b[36m0:00:00\u001b[0m\n",
      "\u001b[?25hRequirement already satisfied: importlib-metadata!=4.7.0,<7,>=3.7.0 in /opt/conda/lib/python3.8/site-packages (from mlflow->pycaret==2.3.10) (4.11.4)\n",
      "Requirement already satisfied: sqlalchemy<3,>=1.4.0 in /opt/conda/lib/python3.8/site-packages (from mlflow->pycaret==2.3.10) (1.4.41)\n",
      "Requirement already satisfied: protobuf<5,>=3.12.0 in /opt/conda/lib/python3.8/site-packages (from mlflow->pycaret==2.3.10) (4.21.7)\n",
      "Collecting Flask<3\n",
      "  Downloading Flask-2.2.3-py3-none-any.whl (101 kB)\n",
      "\u001b[2K     \u001b[90m━━━━━━━━━━━━━━━━━━━━━━━━━━━━━━━━━━━━━━━\u001b[0m \u001b[32m101.8/101.8 kB\u001b[0m \u001b[31m5.0 MB/s\u001b[0m eta \u001b[36m0:00:00\u001b[0m\n",
      "\u001b[?25hCollecting shap<1,>=0.40\n",
      "  Downloading shap-0.41.0-cp38-cp38-manylinux_2_12_x86_64.manylinux2010_x86_64.whl (575 kB)\n",
      "\u001b[2K     \u001b[90m━━━━━━━━━━━━━━━━━━━━━━━━━━━━━━━━━━━━━━━\u001b[0m \u001b[32m575.9/575.9 kB\u001b[0m \u001b[31m5.8 MB/s\u001b[0m eta \u001b[36m0:00:00\u001b[0ma \u001b[36m0:00:01\u001b[0m\n",
      "\u001b[?25hCollecting gunicorn<21\n",
      "  Downloading gunicorn-20.1.0-py3-none-any.whl (79 kB)\n",
      "\u001b[2K     \u001b[90m━━━━━━━━━━━━━━━━━━━━━━━━━━━━━━━━━━━━━━━━\u001b[0m \u001b[32m79.5/79.5 kB\u001b[0m \u001b[31m5.8 MB/s\u001b[0m eta \u001b[36m0:00:00\u001b[0m\n",
      "\u001b[?25hRequirement already satisfied: cloudpickle<3 in /opt/conda/lib/python3.8/site-packages (from mlflow->pycaret==2.3.10) (2.2.0)\n",
      "Collecting querystring-parser<2\n",
      "  Downloading querystring_parser-1.2.4-py2.py3-none-any.whl (7.9 kB)\n",
      "Collecting markdown<4,>=3.3\n",
      "  Downloading Markdown-3.4.1-py3-none-any.whl (93 kB)\n",
      "\u001b[2K     \u001b[90m━━━━━━━━━━━━━━━━━━━━━━━━━━━━━━━━━━━━━━━━\u001b[0m \u001b[32m93.3/93.3 kB\u001b[0m \u001b[31m4.5 MB/s\u001b[0m eta \u001b[36m0:00:00\u001b[0m\n",
      "\u001b[?25hRequirement already satisfied: click<9,>=7.0 in /opt/conda/lib/python3.8/site-packages (from mlflow->pycaret==2.3.10) (8.1.3)\n",
      "Collecting docker<7,>=4.0.0\n",
      "  Downloading docker-6.0.1-py3-none-any.whl (147 kB)\n",
      "\u001b[2K     \u001b[90m━━━━━━━━━━━━━━━━━━━━━━━━━━━━━━━━━━━━━━━\u001b[0m \u001b[32m147.5/147.5 kB\u001b[0m \u001b[31m6.8 MB/s\u001b[0m eta \u001b[36m0:00:00\u001b[0m\n",
      "\u001b[?25hCollecting gitpython<4,>=2.1.0\n",
      "  Downloading GitPython-3.1.31-py3-none-any.whl (184 kB)\n",
      "\u001b[2K     \u001b[90m━━━━━━━━━━━━━━━━━━━━━━━━━━━━━━━━━━━━━━━\u001b[0m \u001b[32m184.3/184.3 kB\u001b[0m \u001b[31m6.3 MB/s\u001b[0m eta \u001b[36m0:00:00\u001b[0m\n",
      "\u001b[?25hRequirement already satisfied: entrypoints<1 in /opt/conda/lib/python3.8/site-packages (from mlflow->pycaret==2.3.10) (0.4)\n",
      "Collecting regex>=2021.8.3\n",
      "  Downloading regex-2022.10.31-cp38-cp38-manylinux_2_17_x86_64.manylinux2014_x86_64.whl (772 kB)\n",
      "\u001b[2K     \u001b[90m━━━━━━━━━━━━━━━━━━━━━━━━━━━━━━━━━━━━━━━\u001b[0m \u001b[32m772.3/772.3 kB\u001b[0m \u001b[31m6.0 MB/s\u001b[0m eta \u001b[36m0:00:00\u001b[0ma \u001b[36m0:00:01\u001b[0m\n",
      "\u001b[?25hCollecting funcy\n",
      "  Downloading funcy-1.18-py2.py3-none-any.whl (33 kB)\n",
      "Requirement already satisfied: numexpr in /opt/conda/lib/python3.8/site-packages (from pyLDAvis->pycaret==2.3.10) (2.8.3)\n",
      "Collecting pyLDAvis\n",
      "  Downloading pyLDAvis-3.3.1.tar.gz (1.7 MB)\n",
      "\u001b[2K     \u001b[90m━━━━━━━━━━━━━━━━━━━━━━━━━━━━━━━━━━━━━━━━\u001b[0m \u001b[32m1.7/1.7 MB\u001b[0m \u001b[31m6.6 MB/s\u001b[0m eta \u001b[36m0:00:00\u001b[0m00:01\u001b[0m00:01\u001b[0m\n",
      "\u001b[?25h  Installing build dependencies ... \u001b[?25ldone\n",
      "\u001b[?25h  Getting requirements to build wheel ... \u001b[?25ldone\n",
      "\u001b[?25h  Installing backend dependencies ... \u001b[?25ldone\n",
      "\u001b[?25h  Preparing metadata (pyproject.toml) ... \u001b[?25ldone\n",
      "\u001b[?25hCollecting future\n",
      "  Downloading future-0.18.3.tar.gz (840 kB)\n",
      "\u001b[2K     \u001b[90m━━━━━━━━━━━━━━━━━━━━━━━━━━━━━━━━━━━━━━━\u001b[0m \u001b[32m840.9/840.9 kB\u001b[0m \u001b[31m6.7 MB/s\u001b[0m eta \u001b[36m0:00:00\u001b[0ma \u001b[36m0:00:01\u001b[0m\n",
      "\u001b[?25h  Preparing metadata (setup.py) ... \u001b[?25ldone\n",
      "\u001b[?25hCollecting sklearn\n",
      "  Downloading sklearn-0.0.post1.tar.gz (3.6 kB)\n",
      "  Preparing metadata (setup.py) ... \u001b[?25ldone\n",
      "\u001b[?25hCollecting pynndescent>=0.5\n",
      "  Downloading pynndescent-0.5.8.tar.gz (1.1 MB)\n",
      "\u001b[2K     \u001b[90m━━━━━━━━━━━━━━━━━━━━━━━━━━━━━━━━━━━━━━━━\u001b[0m \u001b[32m1.1/1.1 MB\u001b[0m \u001b[31m7.0 MB/s\u001b[0m eta \u001b[36m0:00:00\u001b[0ma \u001b[36m0:00:01\u001b[0m\n",
      "\u001b[?25h  Preparing metadata (setup.py) ... \u001b[?25ldone\n",
      "\u001b[?25hRequirement already satisfied: importlib-resources in /opt/conda/lib/python3.8/site-packages (from alembic<2->mlflow->pycaret==2.3.10) (5.10.0)\n",
      "Requirement already satisfied: Mako in /opt/conda/lib/python3.8/site-packages (from alembic<2->mlflow->pycaret==2.3.10) (1.2.3)\n",
      "Requirement already satisfied: pyjwt>=1.7.0 in /opt/conda/lib/python3.8/site-packages (from databricks-cli<1,>=0.8.7->mlflow->pycaret==2.3.10) (2.5.0)\n",
      "Requirement already satisfied: oauthlib>=3.1.0 in /opt/conda/lib/python3.8/site-packages (from databricks-cli<1,>=0.8.7->mlflow->pycaret==2.3.10) (3.2.1)\n",
      "Collecting tabulate>=0.7.7\n",
      "  Downloading tabulate-0.9.0-py3-none-any.whl (35 kB)\n",
      "Requirement already satisfied: urllib3>=1.26.0 in /opt/conda/lib/python3.8/site-packages (from docker<7,>=4.0.0->mlflow->pycaret==2.3.10) (1.26.11)\n",
      "Requirement already satisfied: websocket-client>=0.32.0 in /opt/conda/lib/python3.8/site-packages (from docker<7,>=4.0.0->mlflow->pycaret==2.3.10) (1.4.1)\n",
      "Collecting itsdangerous>=2.0\n",
      "  Downloading itsdangerous-2.1.2-py3-none-any.whl (15 kB)\n",
      "Collecting Werkzeug>=2.2.2\n",
      "  Downloading Werkzeug-2.2.3-py3-none-any.whl (233 kB)\n",
      "\u001b[2K     \u001b[90m━━━━━━━━━━━━━━━━━━━━━━━━━━━━━━━━━━━━━━━\u001b[0m \u001b[32m233.6/233.6 kB\u001b[0m \u001b[31m7.5 MB/s\u001b[0m eta \u001b[36m0:00:00\u001b[0m\n",
      "\u001b[?25hCollecting gitdb<5,>=4.0.1\n",
      "  Downloading gitdb-4.0.10-py3-none-any.whl (62 kB)\n",
      "\u001b[2K     \u001b[90m━━━━━━━━━━━━━━━━━━━━━━━━━━━━━━━━━━━━━━━━\u001b[0m \u001b[32m62.7/62.7 kB\u001b[0m \u001b[31m5.0 MB/s\u001b[0m eta \u001b[36m0:00:00\u001b[0m\n",
      "\u001b[?25hRequirement already satisfied: zipp>=0.5 in /opt/conda/lib/python3.8/site-packages (from importlib-metadata!=4.7.0,<7,>=3.7.0->mlflow->pycaret==2.3.10) (3.9.0)\n",
      "Requirement already satisfied: psutil in /opt/conda/lib/python3.8/site-packages (from ipykernel>=4.5.1->ipywidgets->pycaret==2.3.10) (5.9.2)\n",
      "Requirement already satisfied: nest-asyncio in /opt/conda/lib/python3.8/site-packages (from ipykernel>=4.5.1->ipywidgets->pycaret==2.3.10) (1.5.6)\n",
      "Requirement already satisfied: debugpy>=1.0 in /opt/conda/lib/python3.8/site-packages (from ipykernel>=4.5.1->ipywidgets->pycaret==2.3.10) (1.6.3)\n",
      "Requirement already satisfied: tornado>=6.1 in /opt/conda/lib/python3.8/site-packages (from ipykernel>=4.5.1->ipywidgets->pycaret==2.3.10) (6.1)\n",
      "Requirement already satisfied: pyzmq>=17 in /opt/conda/lib/python3.8/site-packages (from ipykernel>=4.5.1->ipywidgets->pycaret==2.3.10) (24.0.1)\n",
      "Requirement already satisfied: jupyter-client>=6.1.12 in /opt/conda/lib/python3.8/site-packages (from ipykernel>=4.5.1->ipywidgets->pycaret==2.3.10) (7.3.4)\n",
      "Requirement already satisfied: parso<0.9.0,>=0.8.0 in /opt/conda/lib/python3.8/site-packages (from jedi>=0.16->IPython->pycaret==2.3.10) (0.8.3)\n",
      "Requirement already satisfied: MarkupSafe>=2.0 in /opt/conda/lib/python3.8/site-packages (from Jinja2<4,>=2.11->mlflow->pycaret==2.3.10) (2.1.1)\n",
      "Requirement already satisfied: ptyprocess>=0.5 in /opt/conda/lib/python3.8/site-packages (from pexpect>4.3->IPython->pycaret==2.3.10) (0.7.0)\n",
      "Requirement already satisfied: wcwidth in /opt/conda/lib/python3.8/site-packages (from prompt-toolkit<3.1.0,>3.0.1->IPython->pycaret==2.3.10) (0.2.5)\n",
      "Requirement already satisfied: idna<4,>=2.5 in /opt/conda/lib/python3.8/site-packages (from requests<3.0.0,>=2.13.0->spacy<2.4.0->pycaret==2.3.10) (3.4)\n",
      "Requirement already satisfied: charset-normalizer<3,>=2 in /opt/conda/lib/python3.8/site-packages (from requests<3.0.0,>=2.13.0->spacy<2.4.0->pycaret==2.3.10) (2.1.1)\n",
      "Requirement already satisfied: certifi>=2017.4.17 in /opt/conda/lib/python3.8/site-packages (from requests<3.0.0,>=2.13.0->spacy<2.4.0->pycaret==2.3.10) (2022.9.24)\n",
      "Collecting slicer==0.0.7\n",
      "  Downloading slicer-0.0.7-py3-none-any.whl (14 kB)\n",
      "Requirement already satisfied: greenlet!=0.4.17 in /opt/conda/lib/python3.8/site-packages (from sqlalchemy<3,>=1.4.0->mlflow->pycaret==2.3.10) (1.1.3)\n",
      "Requirement already satisfied: executing in /opt/conda/lib/python3.8/site-packages (from stack-data->IPython->pycaret==2.3.10) (1.1.1)\n",
      "Requirement already satisfied: pure-eval in /opt/conda/lib/python3.8/site-packages (from stack-data->IPython->pycaret==2.3.10) (0.2.2)\n",
      "Requirement already satisfied: asttokens in /opt/conda/lib/python3.8/site-packages (from stack-data->IPython->pycaret==2.3.10) (2.0.8)\n",
      "Collecting pydantic<1.11,>=1.8.1\n",
      "  Downloading pydantic-1.10.6-cp38-cp38-manylinux_2_17_x86_64.manylinux2014_x86_64.whl (3.2 MB)\n",
      "\u001b[2K     \u001b[90m━━━━━━━━━━━━━━━━━━━━━━━━━━━━━━━━━━━━━━━━\u001b[0m \u001b[32m3.2/3.2 MB\u001b[0m \u001b[31m7.7 MB/s\u001b[0m eta \u001b[36m0:00:00\u001b[0m00:01\u001b[0m00:01\u001b[0m\n",
      "\u001b[?25hCollecting phik<0.13,>=0.11.1\n",
      "  Downloading phik-0.12.3-cp38-cp38-manylinux_2_17_x86_64.manylinux2014_x86_64.whl (679 kB)\n",
      "\u001b[2K     \u001b[90m━━━━━━━━━━━━━━━━━━━━━━━━━━━━━━━━━━━━━━━\u001b[0m \u001b[32m679.5/679.5 kB\u001b[0m \u001b[31m8.1 MB/s\u001b[0m eta \u001b[36m0:00:00\u001b[0ma \u001b[36m0:00:01\u001b[0m\n",
      "\u001b[?25hCollecting typeguard<2.14,>=2.13.2\n",
      "  Downloading typeguard-2.13.3-py3-none-any.whl (17 kB)\n",
      "Requirement already satisfied: statsmodels<0.14,>=0.13.2 in /opt/conda/lib/python3.8/site-packages (from ydata-profiling->pandas-profiling>=2.8.0->pycaret==2.3.10) (0.13.2)\n",
      "Collecting visions[type_image_path]==0.7.5\n",
      "  Downloading visions-0.7.5-py3-none-any.whl (102 kB)\n",
      "\u001b[2K     \u001b[90m━━━━━━━━━━━━━━━━━━━━━━━━━━━━━━━━━━━━━━━\u001b[0m \u001b[32m102.7/102.7 kB\u001b[0m \u001b[31m8.3 MB/s\u001b[0m eta \u001b[36m0:00:00\u001b[0m\n",
      "\u001b[?25hCollecting multimethod<1.10,>=1.4\n",
      "  Downloading multimethod-1.9.1-py3-none-any.whl (10 kB)\n",
      "Collecting imagehash==4.3.1\n",
      "  Downloading ImageHash-4.3.1-py2.py3-none-any.whl (296 kB)\n",
      "\u001b[2K     \u001b[90m━━━━━━━━━━━━━━━━━━━━━━━━━━━━━━━━━━━━━━━\u001b[0m \u001b[32m296.5/296.5 kB\u001b[0m \u001b[31m8.9 MB/s\u001b[0m eta \u001b[36m0:00:00\u001b[0m\n",
      "\u001b[?25hCollecting htmlmin==0.1.12\n",
      "  Downloading htmlmin-0.1.12.tar.gz (19 kB)\n",
      "  Preparing metadata (setup.py) ... \u001b[?25ldone\n",
      "\u001b[?25hRequirement already satisfied: PyWavelets in /opt/conda/lib/python3.8/site-packages (from imagehash==4.3.1->ydata-profiling->pandas-profiling>=2.8.0->pycaret==2.3.10) (1.3.0)\n",
      "Collecting tangled-up-in-unicode>=0.0.4\n",
      "  Downloading tangled_up_in_unicode-0.2.0-py3-none-any.whl (4.7 MB)\n",
      "\u001b[2K     \u001b[90m━━━━━━━━━━━━━━━━━━━━━━━━━━━━━━━━━━━━━━━━\u001b[0m \u001b[32m4.7/4.7 MB\u001b[0m \u001b[31m8.3 MB/s\u001b[0m eta \u001b[36m0:00:00\u001b[0m00:01\u001b[0m00:01\u001b[0mm\n",
      "\u001b[?25hRequirement already satisfied: attrs>=19.3.0 in /opt/conda/lib/python3.8/site-packages (from visions[type_image_path]==0.7.5->ydata-profiling->pandas-profiling>=2.8.0->pycaret==2.3.10) (22.1.0)\n",
      "Requirement already satisfied: networkx>=2.4 in /opt/conda/lib/python3.8/site-packages (from visions[type_image_path]==0.7.5->ydata-profiling->pandas-profiling>=2.8.0->pycaret==2.3.10) (2.8.7)\n",
      "Collecting smmap<6,>=3.0.1\n",
      "  Downloading smmap-5.0.0-py3-none-any.whl (24 kB)\n",
      "Requirement already satisfied: jupyter-core>=4.9.2 in /opt/conda/lib/python3.8/site-packages (from jupyter-client>=6.1.12->ipykernel>=4.5.1->ipywidgets->pycaret==2.3.10) (4.11.1)\n",
      "Requirement already satisfied: typing-extensions>=4.2.0 in /opt/conda/lib/python3.8/site-packages (from pydantic<1.11,>=1.8.1->ydata-profiling->pandas-profiling>=2.8.0->pycaret==2.3.10) (4.4.0)\n",
      "Requirement already satisfied: patsy>=0.5.2 in /opt/conda/lib/python3.8/site-packages (from statsmodels<0.14,>=0.13.2->ydata-profiling->pandas-profiling>=2.8.0->pycaret==2.3.10) (0.5.2)\n",
      "Building wheels for collected packages: cufflinks, pyLDAvis, pyod, umap-learn, databricks-cli, pynndescent, future, sklearn, htmlmin\n",
      "  Building wheel for cufflinks (setup.py) ... \u001b[?25ldone\n",
      "\u001b[?25h  Created wheel for cufflinks: filename=cufflinks-0.17.3-py3-none-any.whl size=67903 sha256=5a2bd22e62689e80b1ad01124ebae9d5403d1af677bf77e890a0de787ffef8c4\n",
      "  Stored in directory: /home/jovyan/.cache/pip/wheels/6b/76/62/6da97734911ffcbdd559fd1a3f28526321f0ae699182a23866\n",
      "  Building wheel for pyLDAvis (pyproject.toml) ... \u001b[?25ldone\n",
      "\u001b[?25h  Created wheel for pyLDAvis: filename=pyLDAvis-3.3.1-py2.py3-none-any.whl size=136880 sha256=8dca386e717a80429aef0d33e78acba89e4a211b665b3f34cf73b2d9a16853ed\n",
      "  Stored in directory: /home/jovyan/.cache/pip/wheels/90/61/ec/9dbe9efc3acf9c4e37ba70fbbcc3f3a0ebd121060aa593181a\n",
      "  Building wheel for pyod (setup.py) ... \u001b[?25ldone\n",
      "\u001b[?25h  Created wheel for pyod: filename=pyod-1.0.8-py3-none-any.whl size=184039 sha256=b2557ad151b068a4e724d234288124b464536542ba82de9aa816c6170b66b3a7\n",
      "  Stored in directory: /home/jovyan/.cache/pip/wheels/3b/b5/df/c62b4ab9e019961494c67ce152c919595ef2802194c7d4fb67\n",
      "  Building wheel for umap-learn (setup.py) ... \u001b[?25ldone\n",
      "\u001b[?25h  Created wheel for umap-learn: filename=umap_learn-0.5.3-py3-none-any.whl size=82814 sha256=a8f93b84f6535d2c36c2d0c9ce017a62af65ea18fae8cd7c07937040785518fa\n",
      "  Stored in directory: /home/jovyan/.cache/pip/wheels/a9/3a/67/06a8950e053725912e6a8c42c4a3a241410f6487b8402542ea\n",
      "  Building wheel for databricks-cli (setup.py) ... \u001b[?25ldone\n",
      "\u001b[?25h  Created wheel for databricks-cli: filename=databricks_cli-0.17.5-py3-none-any.whl size=143002 sha256=c0de7d52bfbbd4004dd5bf383d4becff4fe92d4f0e421f93c965adbe792d61f9\n",
      "  Stored in directory: /home/jovyan/.cache/pip/wheels/14/92/33/664493d82ad41631312c13534d19f5548e035a0ff27ea1de68\n",
      "  Building wheel for pynndescent (setup.py) ... \u001b[?25ldone\n",
      "\u001b[?25h  Created wheel for pynndescent: filename=pynndescent-0.5.8-py3-none-any.whl size=55496 sha256=a32b298dc8e57d0ba4b70f51cc62adfd1c449ab917b5a00038871f4826a6f0c7\n",
      "  Stored in directory: /home/jovyan/.cache/pip/wheels/1c/63/3a/29954bca1a27ba100ed8c27973a78cb71b43dc67aed62e80c3\n",
      "  Building wheel for future (setup.py) ... \u001b[?25ldone\n",
      "\u001b[?25h  Created wheel for future: filename=future-0.18.3-py3-none-any.whl size=492025 sha256=a3b4d2b76926adeafe380a116c7bc31b3447caa9ff7fac35af39035c51479a6d\n",
      "  Stored in directory: /home/jovyan/.cache/pip/wheels/a0/0b/ee/e6994fadb42c1354dcccb139b0bf2795271bddfe6253ccdf11\n",
      "  Building wheel for sklearn (setup.py) ... \u001b[?25ldone\n",
      "\u001b[?25h  Created wheel for sklearn: filename=sklearn-0.0.post1-py3-none-any.whl size=2936 sha256=03e051f4ea1257aefc0644e159da3171c78060949c0eb459c9936d138359f291\n",
      "  Stored in directory: /home/jovyan/.cache/pip/wheels/14/25/f7/1cc0956978ae479e75140219088deb7a36f60459df242b1a72\n",
      "  Building wheel for htmlmin (setup.py) ... \u001b[?25ldone\n",
      "\u001b[?25h  Created wheel for htmlmin: filename=htmlmin-0.1.12-py3-none-any.whl size=27082 sha256=c837f4239749ea8eee9e3a7482f49a8773c348e6e76d9e7ab0dd111d865da4d3\n",
      "  Stored in directory: /home/jovyan/.cache/pip/wheels/23/14/6e/4be5bfeeb027f4939a01764b48edd5996acf574b0913fe5243\n",
      "Successfully built cufflinks pyLDAvis pyod umap-learn databricks-cli pynndescent future sklearn htmlmin\n",
      "Installing collected packages: wasabi, sklearn, plac, htmlmin, funcy, cymem, colorlover, Werkzeug, typeguard, tenacity, tangled-up-in-unicode, tabulate, srsly, sqlparse, smmap, smart-open, slicer, scipy, regex, querystring-parser, pyyaml, pydantic, pyarrow, murmurhash, multimethod, itsdangerous, gunicorn, future, catalogue, blis, scikit-learn, preshed, plotly, nltk, markdown, imagehash, gitdb, gensim, Flask, docker, databricks-cli, yellowbrick, wordcloud, visions, thinc, textblob, shap, scikit-plot, pyod, pynndescent, pyLDAvis, phik, mlxtend, lightgbm, kmodes, imbalanced-learn, gitpython, Boruta, umap-learn, spacy, mlflow, ydata-profiling, pandas-profiling, cufflinks, pycaret\n",
      "  Attempting uninstall: scipy\n",
      "    Found existing installation: scipy 1.9.1\n",
      "    Uninstalling scipy-1.9.1:\n",
      "      Successfully uninstalled scipy-1.9.1\n",
      "  Attempting uninstall: pyyaml\n",
      "    Found existing installation: PyYAML 6.0\n",
      "    Uninstalling PyYAML-6.0:\n",
      "      Successfully uninstalled PyYAML-6.0\n",
      "  Attempting uninstall: scikit-learn\n",
      "    Found existing installation: scikit-learn 1.1.2\n",
      "    Uninstalling scikit-learn-1.1.2:\n",
      "      Successfully uninstalled scikit-learn-1.1.2\n",
      "Successfully installed Boruta-0.3 Flask-2.2.3 Werkzeug-2.2.3 blis-0.7.9 catalogue-1.0.2 colorlover-0.3.0 cufflinks-0.17.3 cymem-2.0.7 databricks-cli-0.17.5 docker-6.0.1 funcy-1.18 future-0.18.3 gensim-3.8.3 gitdb-4.0.10 gitpython-3.1.31 gunicorn-20.1.0 htmlmin-0.1.12 imagehash-4.3.1 imbalanced-learn-0.7.0 itsdangerous-2.1.2 kmodes-0.12.2 lightgbm-3.3.5 markdown-3.4.1 mlflow-2.2.2 mlxtend-0.19.0 multimethod-1.9.1 murmurhash-1.0.9 nltk-3.8.1 pandas-profiling-3.6.6 phik-0.12.3 plac-1.1.3 plotly-5.13.1 preshed-3.0.8 pyLDAvis-3.3.1 pyarrow-11.0.0 pycaret-2.3.10 pydantic-1.10.6 pynndescent-0.5.8 pyod-1.0.8 pyyaml-5.4.1 querystring-parser-1.2.4 regex-2022.10.31 scikit-learn-0.23.2 scikit-plot-0.3.7 scipy-1.5.4 shap-0.41.0 sklearn-0.0.post1 slicer-0.0.7 smart-open-6.3.0 smmap-5.0.0 spacy-2.3.9 sqlparse-0.4.3 srsly-1.0.6 tabulate-0.9.0 tangled-up-in-unicode-0.2.0 tenacity-8.2.2 textblob-0.17.1 thinc-7.4.6 typeguard-2.13.3 umap-learn-0.5.3 visions-0.7.5 wasabi-0.10.1 wordcloud-1.8.2.2 ydata-profiling-4.1.1 yellowbrick-1.2.1\n"
     ]
    }
   ],
   "source": [
    "!pip install pycaret==2.3.10"
   ]
  },
  {
   "cell_type": "code",
   "execution_count": 4,
   "id": "6732f57c",
   "metadata": {},
   "outputs": [
    {
     "name": "stdout",
     "output_type": "stream",
     "text": [
      "Collecting jaqpotpy==1.0.67\n",
      "  Downloading jaqpotpy-1.0.67-py3-none-any.whl (174 kB)\n",
      "\u001b[2K     \u001b[90m━━━━━━━━━━━━━━━━━━━━━━━━━━━━━━━━━━━━━━━\u001b[0m \u001b[32m174.4/174.4 kB\u001b[0m \u001b[31m4.4 MB/s\u001b[0m eta \u001b[36m0:00:00\u001b[0m00:01\u001b[0m\n",
      "\u001b[?25hRequirement already satisfied: scikit-learn in /opt/conda/lib/python3.8/site-packages (from jaqpotpy==1.0.67) (0.23.2)\n",
      "Collecting rdkit-pypi\n",
      "  Downloading rdkit_pypi-2022.9.5-cp38-cp38-manylinux_2_17_x86_64.manylinux2014_x86_64.whl (29.4 MB)\n",
      "\u001b[2K     \u001b[90m━━━━━━━━━━━━━━━━━━━━━━━━━━━━━━━━━━━━━━━━\u001b[0m \u001b[32m29.4/29.4 MB\u001b[0m \u001b[31m7.6 MB/s\u001b[0m eta \u001b[36m0:00:00\u001b[0m00:01\u001b[0m00:01\u001b[0m\n",
      "\u001b[?25hRequirement already satisfied: requests in /opt/conda/lib/python3.8/site-packages (from jaqpotpy==1.0.67) (2.28.1)\n",
      "Requirement already satisfied: pydantic in /opt/conda/lib/python3.8/site-packages (from jaqpotpy==1.0.67) (1.10.6)\n",
      "Collecting mordred\n",
      "  Downloading mordred-1.2.0.tar.gz (128 kB)\n",
      "\u001b[2K     \u001b[90m━━━━━━━━━━━━━━━━━━━━━━━━━━━━━━━━━━━━━━━\u001b[0m \u001b[32m128.8/128.8 kB\u001b[0m \u001b[31m8.8 MB/s\u001b[0m eta \u001b[36m0:00:00\u001b[0m\n",
      "\u001b[?25h  Preparing metadata (setup.py) ... \u001b[?25ldone\n",
      "\u001b[?25hRequirement already satisfied: pandas in /opt/conda/lib/python3.8/site-packages (from jaqpotpy==1.0.67) (1.5.0)\n",
      "Requirement already satisfied: pyjwt in /opt/conda/lib/python3.8/site-packages (from jaqpotpy==1.0.67) (2.5.0)\n",
      "Requirement already satisfied: six==1.* in /opt/conda/lib/python3.8/site-packages (from mordred->jaqpotpy==1.0.67) (1.16.0)\n",
      "Requirement already satisfied: numpy==1.* in /home/jovyan/.local/lib/python3.8/site-packages (from mordred->jaqpotpy==1.0.67) (1.20.3)\n",
      "Requirement already satisfied: networkx==2.* in /opt/conda/lib/python3.8/site-packages (from mordred->jaqpotpy==1.0.67) (2.8.7)\n",
      "Requirement already satisfied: python-dateutil>=2.8.1 in /opt/conda/lib/python3.8/site-packages (from pandas->jaqpotpy==1.0.67) (2.8.2)\n",
      "Requirement already satisfied: pytz>=2020.1 in /opt/conda/lib/python3.8/site-packages (from pandas->jaqpotpy==1.0.67) (2022.4)\n",
      "Requirement already satisfied: typing-extensions>=4.2.0 in /opt/conda/lib/python3.8/site-packages (from pydantic->jaqpotpy==1.0.67) (4.4.0)\n",
      "Requirement already satisfied: Pillow in /opt/conda/lib/python3.8/site-packages (from rdkit-pypi->jaqpotpy==1.0.67) (9.2.0)\n",
      "Requirement already satisfied: certifi>=2017.4.17 in /opt/conda/lib/python3.8/site-packages (from requests->jaqpotpy==1.0.67) (2022.9.24)\n",
      "Requirement already satisfied: charset-normalizer<3,>=2 in /opt/conda/lib/python3.8/site-packages (from requests->jaqpotpy==1.0.67) (2.1.1)\n",
      "Requirement already satisfied: idna<4,>=2.5 in /opt/conda/lib/python3.8/site-packages (from requests->jaqpotpy==1.0.67) (3.4)\n",
      "Requirement already satisfied: urllib3<1.27,>=1.21.1 in /opt/conda/lib/python3.8/site-packages (from requests->jaqpotpy==1.0.67) (1.26.11)\n",
      "Requirement already satisfied: threadpoolctl>=2.0.0 in /opt/conda/lib/python3.8/site-packages (from scikit-learn->jaqpotpy==1.0.67) (3.1.0)\n",
      "Requirement already satisfied: scipy>=0.19.1 in /opt/conda/lib/python3.8/site-packages (from scikit-learn->jaqpotpy==1.0.67) (1.5.4)\n",
      "Requirement already satisfied: joblib>=0.11 in /opt/conda/lib/python3.8/site-packages (from scikit-learn->jaqpotpy==1.0.67) (1.2.0)\n",
      "Building wheels for collected packages: mordred\n",
      "  Building wheel for mordred (setup.py) ... \u001b[?25ldone\n",
      "\u001b[?25h  Created wheel for mordred: filename=mordred-1.2.0-py3-none-any.whl size=176725 sha256=2dc6de26632624c87895cc362995dc84f40b53d95e4805d60feb2219bc98379a\n",
      "  Stored in directory: /home/jovyan/.cache/pip/wheels/20/88/41/5d873c9b55dc7479f0b9951c2161d7b09be193e7228ea27309\n",
      "Successfully built mordred\n",
      "Installing collected packages: rdkit-pypi, mordred, jaqpotpy\n",
      "Successfully installed jaqpotpy-1.0.67 mordred-1.2.0 rdkit-pypi-2022.9.5\n"
     ]
    }
   ],
   "source": [
    "!pip3 install jaqpotpy==1.0.67"
   ]
  },
  {
   "cell_type": "code",
   "execution_count": 5,
   "id": "9e28e3db",
   "metadata": {},
   "outputs": [
    {
     "name": "stdout",
     "output_type": "stream",
     "text": [
      "Collecting torchvision==0.11.1\n",
      "  Downloading torchvision-0.11.1-cp38-cp38-manylinux1_x86_64.whl (23.3 MB)\n",
      "\u001b[2K     \u001b[90m━━━━━━━━━━━━━━━━━━━━━━━━━━━━━━━━━━━━━━━━\u001b[0m \u001b[32m23.3/23.3 MB\u001b[0m \u001b[31m8.3 MB/s\u001b[0m eta \u001b[36m0:00:00\u001b[0m00:01\u001b[0m00:01\u001b[0m\n",
      "\u001b[?25hRequirement already satisfied: pillow!=8.3.0,>=5.3.0 in /opt/conda/lib/python3.8/site-packages (from torchvision==0.11.1) (9.2.0)\n",
      "Collecting torch==1.10.0\n",
      "  Downloading torch-1.10.0-cp38-cp38-manylinux1_x86_64.whl (881.9 MB)\n",
      "\u001b[2K     \u001b[90m━━━━━━━━━━━━━━━━━━━━━━━━━━━━━━━━━━━━━━━\u001b[0m \u001b[32m881.9/881.9 MB\u001b[0m \u001b[31m3.2 MB/s\u001b[0m eta \u001b[36m0:00:00\u001b[0m00:01\u001b[0m00:03\u001b[0m\n",
      "\u001b[?25hRequirement already satisfied: numpy in /home/jovyan/.local/lib/python3.8/site-packages (from torchvision==0.11.1) (1.20.3)\n",
      "Requirement already satisfied: typing-extensions in /opt/conda/lib/python3.8/site-packages (from torch==1.10.0->torchvision==0.11.1) (4.4.0)\n",
      "Installing collected packages: torch, torchvision\n",
      "Successfully installed torch-1.10.0 torchvision-0.11.1\n",
      "Collecting torch_geometric\n",
      "  Downloading torch_geometric-2.2.0.tar.gz (564 kB)\n",
      "\u001b[2K     \u001b[90m━━━━━━━━━━━━━━━━━━━━━━━━━━━━━━━━━━━━━━━\u001b[0m \u001b[32m565.0/565.0 kB\u001b[0m \u001b[31m5.1 MB/s\u001b[0m eta \u001b[36m0:00:00\u001b[0m00:01\u001b[0m00:01\u001b[0m\n",
      "\u001b[?25h  Preparing metadata (setup.py) ... \u001b[?25ldone\n",
      "\u001b[?25hRequirement already satisfied: tqdm in /opt/conda/lib/python3.8/site-packages (from torch_geometric) (4.64.1)\n",
      "Requirement already satisfied: numpy in /home/jovyan/.local/lib/python3.8/site-packages (from torch_geometric) (1.20.3)\n",
      "Requirement already satisfied: scipy in /opt/conda/lib/python3.8/site-packages (from torch_geometric) (1.5.4)\n",
      "Requirement already satisfied: jinja2 in /opt/conda/lib/python3.8/site-packages (from torch_geometric) (3.1.2)\n",
      "Requirement already satisfied: requests in /opt/conda/lib/python3.8/site-packages (from torch_geometric) (2.28.1)\n",
      "Requirement already satisfied: pyparsing in /opt/conda/lib/python3.8/site-packages (from torch_geometric) (3.0.9)\n",
      "Requirement already satisfied: scikit-learn in /opt/conda/lib/python3.8/site-packages (from torch_geometric) (0.23.2)\n",
      "Requirement already satisfied: psutil>=5.8.0 in /opt/conda/lib/python3.8/site-packages (from torch_geometric) (5.9.2)\n",
      "Requirement already satisfied: MarkupSafe>=2.0 in /opt/conda/lib/python3.8/site-packages (from jinja2->torch_geometric) (2.1.1)\n",
      "Requirement already satisfied: urllib3<1.27,>=1.21.1 in /opt/conda/lib/python3.8/site-packages (from requests->torch_geometric) (1.26.11)\n",
      "Requirement already satisfied: idna<4,>=2.5 in /opt/conda/lib/python3.8/site-packages (from requests->torch_geometric) (3.4)\n",
      "Requirement already satisfied: certifi>=2017.4.17 in /opt/conda/lib/python3.8/site-packages (from requests->torch_geometric) (2022.9.24)\n",
      "Requirement already satisfied: charset-normalizer<3,>=2 in /opt/conda/lib/python3.8/site-packages (from requests->torch_geometric) (2.1.1)\n",
      "Requirement already satisfied: threadpoolctl>=2.0.0 in /opt/conda/lib/python3.8/site-packages (from scikit-learn->torch_geometric) (3.1.0)\n",
      "Requirement already satisfied: joblib>=0.11 in /opt/conda/lib/python3.8/site-packages (from scikit-learn->torch_geometric) (1.2.0)\n",
      "Building wheels for collected packages: torch_geometric\n",
      "  Building wheel for torch_geometric (setup.py) ... \u001b[?25ldone\n",
      "\u001b[?25h  Created wheel for torch_geometric: filename=torch_geometric-2.2.0-py3-none-any.whl size=773285 sha256=34d0d6cba293789b3ac3129ea559772bd2756c01a43a18347dabab82efa0a591\n",
      "  Stored in directory: /home/jovyan/.cache/pip/wheels/59/a3/20/198928106d3169865ae73afcbd3d3d1796cf6b429b55c65378\n",
      "Successfully built torch_geometric\n",
      "Installing collected packages: torch_geometric\n",
      "Successfully installed torch_geometric-2.2.0\n",
      "Collecting torch_sparse\n",
      "  Downloading torch_sparse-0.6.16.tar.gz (208 kB)\n",
      "\u001b[2K     \u001b[90m━━━━━━━━━━━━━━━━━━━━━━━━━━━━━━━━━━━━━━━\u001b[0m \u001b[32m208.2/208.2 kB\u001b[0m \u001b[31m4.5 MB/s\u001b[0m eta \u001b[36m0:00:00\u001b[0ma \u001b[36m0:00:01\u001b[0m\n",
      "\u001b[?25h  Preparing metadata (setup.py) ... \u001b[?25ldone\n",
      "\u001b[?25hRequirement already satisfied: scipy in /opt/conda/lib/python3.8/site-packages (from torch_sparse) (1.5.4)\n",
      "Requirement already satisfied: numpy>=1.14.5 in /home/jovyan/.local/lib/python3.8/site-packages (from scipy->torch_sparse) (1.20.3)\n",
      "Building wheels for collected packages: torch_sparse\n",
      "  Building wheel for torch_sparse (setup.py) ... \u001b[?25ldone\n",
      "\u001b[?25h  Created wheel for torch_sparse: filename=torch_sparse-0.6.16-cp38-cp38-linux_x86_64.whl size=598254 sha256=bc3c6a589bc88e30bb62ea4da26edea5958f6b60cfacd38df5d7fcacd02570ff\n",
      "  Stored in directory: /home/jovyan/.cache/pip/wheels/d7/f5/41/86610d3a3ce0bec241d8549ecdd6c7e07fe000e041616cfcd6\n",
      "Successfully built torch_sparse\n",
      "Installing collected packages: torch_sparse\n",
      "Successfully installed torch_sparse-0.6.16\n",
      "Collecting torch_scatter\n",
      "  Downloading torch_scatter-2.1.1.tar.gz (107 kB)\n",
      "\u001b[2K     \u001b[90m━━━━━━━━━━━━━━━━━━━━━━━━━━━━━━━━━━━━━━━\u001b[0m \u001b[32m107.6/107.6 kB\u001b[0m \u001b[31m3.2 MB/s\u001b[0m eta \u001b[36m0:00:00\u001b[0m\n",
      "\u001b[?25h  Preparing metadata (setup.py) ... \u001b[?25ldone\n",
      "\u001b[?25hBuilding wheels for collected packages: torch_scatter\n",
      "  Building wheel for torch_scatter (setup.py) ... \u001b[?25ldone\n",
      "\u001b[?25h  Created wheel for torch_scatter: filename=torch_scatter-2.1.1-cp38-cp38-linux_x86_64.whl size=317081 sha256=480528bcaea2f873c9dbfb335bf92df474c5a6ed838a6d30804df7ddd8ebf0dc\n",
      "  Stored in directory: /home/jovyan/.cache/pip/wheels/6e/7d/ef/cc482ff35ea019f4e2285e42174449007bb177576eb4f5fae9\n",
      "Successfully built torch_scatter\n",
      "Installing collected packages: torch_scatter\n",
      "Successfully installed torch_scatter-2.1.1\n"
     ]
    }
   ],
   "source": [
    "!pip3 install torchvision==0.11.1\n",
    "!pip3 install torch_geometric\n",
    "!pip3 install torch_sparse\n",
    "!pip3 install torch_scatter"
   ]
  },
  {
   "cell_type": "code",
   "execution_count": 6,
   "id": "6b8dbcf2",
   "metadata": {},
   "outputs": [
    {
     "name": "stdout",
     "output_type": "stream",
     "text": [
      "Name: pycaret\n",
      "Version: 2.3.10\n",
      "Summary: PyCaret - An open source, low-code machine learning library in Python.\n",
      "Home-page: https://github.com/pycaret/pycaret\n",
      "Author: Moez Ali\n",
      "Author-email: moez.ali@queensu.ca\n",
      "License: MIT\n",
      "Location: /opt/conda/lib/python3.8/site-packages\n",
      "Requires: Boruta, cufflinks, gensim, imbalanced-learn, IPython, ipywidgets, joblib, kmodes, lightgbm, matplotlib, mlflow, mlxtend, nltk, numba, pandas, pandas-profiling, plotly, pyLDAvis, pyod, pyyaml, scikit-learn, scikit-plot, scipy, seaborn, spacy, textblob, umap-learn, wordcloud, yellowbrick\n",
      "Required-by: \n"
     ]
    }
   ],
   "source": [
    "!pip show pycaret"
   ]
  },
  {
   "cell_type": "code",
   "execution_count": 2,
   "id": "b916754a",
   "metadata": {},
   "outputs": [
    {
     "name": "stdout",
     "output_type": "stream",
     "text": [
      "2.3.10\n"
     ]
    }
   ],
   "source": [
    "from jaqpotpy import Jaqpot\n",
    "import pickle\n",
    "import pycaret\n",
    "import joblib\n",
    "import pandas as pd\n",
    "import os\n",
    "from pycaret.regression import *\n",
    "\n",
    "print(pycaret.__version__)"
   ]
  },
  {
   "cell_type": "code",
   "execution_count": 9,
   "id": "32dd594c",
   "metadata": {},
   "outputs": [],
   "source": [
    "jaqpot = Jaqpot()"
   ]
  },
  {
   "cell_type": "code",
   "execution_count": 10,
   "id": "07a8ea89",
   "metadata": {},
   "outputs": [
    {
     "name": "stderr",
     "output_type": "stream",
     "text": [
      "  2023-03-24 02:21:32,233 - INFO - api key is set\n"
     ]
    }
   ],
   "source": [
    "jaqpot.set_api_key('eyJhbGciOiJSUzI1NiIsInR5cCIgOiAiSldUIiwia2lkIiA6ICJ3Ujh3X1lGOWpKWFRWQ2x2VHF1RkswZkctQXROQUJsb3FBd0N4MmlTTWQ4In0.eyJleHAiOjE2Nzk3OTQzMzIsImlhdCI6MTY3OTYyMTUzMiwiYXV0aF90aW1lIjoxNjc5NjIxNTMyLCJqdGkiOiJlNTRmMTdjNC1iOGYzLTQ4MjQtYWQ4Mi1mMzYzOTZkZTMxOWQiLCJpc3MiOiJodHRwczovL2xvZ2luLmphcXBvdC5vcmcvYXV0aC9yZWFsbXMvamFxcG90IiwiYXVkIjoiYWNjb3VudCIsInN1YiI6IjkwZGM5NTZhLTIxMmQtNDVjMC04NDdiLTZhYWRiYjNlZGNiZSIsInR5cCI6IkJlYXJlciIsImF6cCI6ImphcXBvdC11aS1jb2RlIiwibm9uY2UiOiIzNmM2NWE1MzQ5ZGZmNDgzYzAzMDY1MDM4YzY5YWMzYmRiVWtXRXkyQiIsInNlc3Npb25fc3RhdGUiOiIyYzNhNjViYS00NDZlLTRkOWUtYWQ2ZC04ZjI4YjdmYmQ5MzMiLCJhY3IiOiIxIiwiYWxsb3dlZC1vcmlnaW5zIjpbIicqJyIsIioiXSwicmVhbG1fYWNjZXNzIjp7InJvbGVzIjpbIm9mZmxpbmVfYWNjZXNzIiwiZGVmYXVsdC1yb2xlcy1qYXFwb3QiLCJ1bWFfYXV0aG9yaXphdGlvbiJdfSwicmVzb3VyY2VfYWNjZXNzIjp7ImFjY291bnQiOnsicm9sZXMiOlsibWFuYWdlLWFjY291bnQiLCJtYW5hZ2UtYWNjb3VudC1saW5rcyIsInZpZXctcHJvZmlsZSJdfX0sInNjb3BlIjoib3BlbmlkIGphcXBvdC1hY2NvdW50cyBlbWFpbCBwcm9maWxlIHdyaXRlIHJlYWQiLCJzaWQiOiIyYzNhNjViYS00NDZlLTRkOWUtYWQ2ZC04ZjI4YjdmYmQ5MzMiLCJlbWFpbF92ZXJpZmllZCI6ZmFsc2UsIm5hbWUiOiJBbW1hciBBbW1hciIsInByZWZlcnJlZF91c2VybmFtZSI6ImEuYW1tYXIiLCJnaXZlbl9uYW1lIjoiQW1tYXIiLCJmYW1pbHlfbmFtZSI6IkFtbWFyIiwiZW1haWwiOiJhLmFtbWFyQG1hYXN0cmljaHR1bml2ZXJzaXR5Lm5sIn0.gZ14cOByCiLpvfKMmRnkMxgDvMi-M5Ar-4IB7Nmjj64M9nyaU7tS_bewSTniih4Si7VM2Miv188DspySl2kZyyIVCNVek79r2atw_T60XPm3r6OgkUG78eUUijK1eSnfoN4KT7lHAdkaoXrlace-AWhI75dR9fEQRlHwMVQ5fOlgclmhWs_McCT-3g1nhzR8ud-jiEJouEfUI4epNXB_2Mv19W1vROFoXCuRlayVBhwlrOLvd7hybjjl14nB4c5-vjJS8EkSIT4ZytrZEbsfeK5jQgd5BXZg3jisDRMQAwRY1T0Pz3WcKc-CgM-6v4tiR0x0BzIfCDXaRsI2uO_qpg')  "
   ]
  },
  {
   "cell_type": "code",
   "execution_count": 11,
   "id": "896f118d",
   "metadata": {},
   "outputs": [
    {
     "name": "stderr",
     "output_type": "stream",
     "text": [
      "  2023-03-24 02:21:33,620 - ERROR - [ {\n",
      "  \"meta\" : {\n",
      "    \"descriptions\" : [ \"Regression mode to predict cell viability (Universal)\" ],\n",
      "    \"titles\" : [ \"Regression mode to predict cell viability (Universal)\" ],\n",
      "    \"creators\" : [ \"90dc956a-212d-45c0-847b-6aadbb3edcbe\" ],\n",
      "    \"date\" : \"2023-03-19T15:47:26.408+0000\",\n",
      "    \"locked\" : false\n",
      "  },\n",
      "  \"reliability\" : 0,\n",
      "  \"_id\" : \"TKGrtSRwFwqceGsn6UH9\"\n",
      "}, {\n",
      "  \"meta\" : {\n",
      "    \"descriptions\" : [ \"description1\" ],\n",
      "    \"titles\" : [ \"test1\" ],\n",
      "    \"creators\" : [ \"90dc956a-212d-45c0-847b-6aadbb3edcbe\" ],\n",
      "    \"date\" : \"2023-03-19T14:55:43.700+0000\",\n",
      "    \"locked\" : false\n",
      "  },\n",
      "  \"reliability\" : 0,\n",
      "  \"_id\" : \"ZXEcdeAQNQFGccBicigF\"\n",
      "} ]\n"
     ]
    },
    {
     "data": {
      "text/plain": [
       "{'total': 2,\n",
       " 'models': [{'meta': {'descriptions': ['Regression mode to predict cell viability (Universal)'],\n",
       "    'titles': ['Regression mode to predict cell viability (Universal)'],\n",
       "    'creators': ['90dc956a-212d-45c0-847b-6aadbb3edcbe'],\n",
       "    'date': '2023-03-19T15:47:26.408+0000',\n",
       "    'locked': False},\n",
       "   'reliability': 0,\n",
       "   '_id': 'TKGrtSRwFwqceGsn6UH9'},\n",
       "  {'meta': {'descriptions': ['description1'],\n",
       "    'titles': ['test1'],\n",
       "    'creators': ['90dc956a-212d-45c0-847b-6aadbb3edcbe'],\n",
       "    'date': '2023-03-19T14:55:43.700+0000',\n",
       "    'locked': False},\n",
       "   'reliability': 0,\n",
       "   '_id': 'ZXEcdeAQNQFGccBicigF'}]}"
      ]
     },
     "execution_count": 11,
     "metadata": {},
     "output_type": "execute_result"
    }
   ],
   "source": [
    "jaqpot.get_my_models(minimum=1,maximum=10)"
   ]
  },
  {
   "cell_type": "code",
   "execution_count": 5,
   "id": "bbe37e7c",
   "metadata": {},
   "outputs": [],
   "source": [
    "import pandas as pd\n",
    "df = pd.DataFrame()"
   ]
  },
  {
   "cell_type": "code",
   "execution_count": 13,
   "id": "a81fcb55-5b7a-4221-814f-5a858ef3ac34",
   "metadata": {},
   "outputs": [
    {
     "name": "stdout",
     "output_type": "stream",
     "text": [
      "classification_model_et_final.mdl\n"
     ]
    },
    {
     "name": "stderr",
     "output_type": "stream",
     "text": [
      "  2023-03-24 02:27:01,601 - INFO - Initializing load_model()\n",
      "  2023-03-24 02:27:01,604 - INFO - load_model(model_name=output/models/carbon_based/classification_model_et_final.mdl, platform=None, authentication=None, verbose=True)\n"
     ]
    },
    {
     "name": "stdout",
     "output_type": "stream",
     "text": [
      "Transformation Pipeline and Model Successfully Loaded\n"
     ]
    },
    {
     "name": "stderr",
     "output_type": "stream",
     "text": [
      "  2023-03-24 02:27:03,800 - INFO - Model with id: RzXIVEaQysgEoAAE3iuN created. Please visit the application to proceed\n"
     ]
    },
    {
     "name": "stdout",
     "output_type": "stream",
     "text": [
      "classification_model_gbc_final.mdl\n"
     ]
    },
    {
     "name": "stderr",
     "output_type": "stream",
     "text": [
      "  2023-03-24 02:27:03,809 - INFO - Initializing load_model()\n",
      "  2023-03-24 02:27:03,813 - INFO - load_model(model_name=output/models/carbon_based/classification_model_gbc_final.mdl, platform=None, authentication=None, verbose=True)\n"
     ]
    },
    {
     "name": "stdout",
     "output_type": "stream",
     "text": [
      "Transformation Pipeline and Model Successfully Loaded\n"
     ]
    },
    {
     "name": "stderr",
     "output_type": "stream",
     "text": [
      "  2023-03-24 02:27:04,549 - INFO - Model with id: TWsj9celNUR4lUqkoPi8 created. Please visit the application to proceed\n"
     ]
    },
    {
     "name": "stdout",
     "output_type": "stream",
     "text": [
      "classification_model_knn_final.mdl\n"
     ]
    },
    {
     "name": "stderr",
     "output_type": "stream",
     "text": [
      "  2023-03-24 02:27:04,553 - INFO - Initializing load_model()\n",
      "  2023-03-24 02:27:04,557 - INFO - load_model(model_name=output/models/carbon_based/classification_model_knn_final.mdl, platform=None, authentication=None, verbose=True)\n"
     ]
    },
    {
     "name": "stdout",
     "output_type": "stream",
     "text": [
      "Transformation Pipeline and Model Successfully Loaded\n"
     ]
    },
    {
     "name": "stderr",
     "output_type": "stream",
     "text": [
      "  2023-03-24 02:27:05,152 - INFO - Model with id: 9EnRn25HZWbbpWsVl3DT created. Please visit the application to proceed\n"
     ]
    },
    {
     "name": "stdout",
     "output_type": "stream",
     "text": [
      "classification_model_lightgbm_final.mdl\n"
     ]
    },
    {
     "name": "stderr",
     "output_type": "stream",
     "text": [
      "  2023-03-24 02:27:05,161 - INFO - Initializing load_model()\n",
      "  2023-03-24 02:27:05,164 - INFO - load_model(model_name=output/models/carbon_based/classification_model_lightgbm_final.mdl, platform=None, authentication=None, verbose=True)\n"
     ]
    },
    {
     "name": "stdout",
     "output_type": "stream",
     "text": [
      "Transformation Pipeline and Model Successfully Loaded\n"
     ]
    },
    {
     "name": "stderr",
     "output_type": "stream",
     "text": [
      "  2023-03-24 02:27:05,507 - INFO - Model with id: se8PHG9hKs7Pg8cAyFjs created. Please visit the application to proceed\n"
     ]
    },
    {
     "name": "stdout",
     "output_type": "stream",
     "text": [
      "classification_model_lr_final.mdl\n"
     ]
    },
    {
     "name": "stderr",
     "output_type": "stream",
     "text": [
      "  2023-03-24 02:27:05,517 - INFO - Initializing load_model()\n",
      "  2023-03-24 02:27:05,528 - INFO - load_model(model_name=output/models/carbon_based/classification_model_lr_final.mdl, platform=None, authentication=None, verbose=True)\n"
     ]
    },
    {
     "name": "stdout",
     "output_type": "stream",
     "text": [
      "Transformation Pipeline and Model Successfully Loaded\n"
     ]
    },
    {
     "name": "stderr",
     "output_type": "stream",
     "text": [
      "  2023-03-24 02:27:05,872 - INFO - Model with id: zRd4CKGo88reQxfQkvKP created. Please visit the application to proceed\n"
     ]
    },
    {
     "name": "stdout",
     "output_type": "stream",
     "text": [
      "classification_model_rf_final.mdl\n"
     ]
    },
    {
     "name": "stderr",
     "output_type": "stream",
     "text": [
      "  2023-03-24 02:27:05,880 - INFO - Initializing load_model()\n",
      "  2023-03-24 02:27:05,884 - INFO - load_model(model_name=output/models/carbon_based/classification_model_rf_final.mdl, platform=None, authentication=None, verbose=True)\n"
     ]
    },
    {
     "name": "stdout",
     "output_type": "stream",
     "text": [
      "Transformation Pipeline and Model Successfully Loaded\n"
     ]
    },
    {
     "name": "stderr",
     "output_type": "stream",
     "text": [
      "  2023-03-24 02:27:06,523 - INFO - Model with id: ZsLTCYek3ObufzRzAUGv created. Please visit the application to proceed\n"
     ]
    },
    {
     "name": "stdout",
     "output_type": "stream",
     "text": [
      "classification_model_svm_final.mdl\n"
     ]
    },
    {
     "name": "stderr",
     "output_type": "stream",
     "text": [
      "  2023-03-24 02:27:06,532 - INFO - Initializing load_model()\n",
      "  2023-03-24 02:27:06,537 - INFO - load_model(model_name=output/models/carbon_based/classification_model_svm_final.mdl, platform=None, authentication=None, verbose=True)\n"
     ]
    },
    {
     "name": "stdout",
     "output_type": "stream",
     "text": [
      "Transformation Pipeline and Model Successfully Loaded\n"
     ]
    },
    {
     "name": "stderr",
     "output_type": "stream",
     "text": [
      "  2023-03-24 02:27:06,872 - INFO - Model with id: waw9IunLihUYopxJZab0 created. Please visit the application to proceed\n"
     ]
    },
    {
     "name": "stdout",
     "output_type": "stream",
     "text": [
      "regression_model_et_final.mdl\n"
     ]
    },
    {
     "name": "stderr",
     "output_type": "stream",
     "text": [
      "  2023-03-24 02:27:06,881 - INFO - Initializing load_model()\n",
      "  2023-03-24 02:27:06,886 - INFO - load_model(model_name=output/models/carbon_based/regression_model_et_final.mdl, platform=None, authentication=None, verbose=True)\n"
     ]
    },
    {
     "name": "stdout",
     "output_type": "stream",
     "text": [
      "Transformation Pipeline and Model Successfully Loaded\n"
     ]
    },
    {
     "name": "stderr",
     "output_type": "stream",
     "text": [
      "100%|█████████████████████████████████████████████████████████████████████████████████████| 3/3 [00:11<00:00,  4.00s/it]\n",
      "  2023-03-24 02:27:19,267 - INFO - Model with id: PeFW2HBiqI7V43IXQNCj created. Please visit the application to proceed\n"
     ]
    },
    {
     "name": "stdout",
     "output_type": "stream",
     "text": [
      "regression_model_gbr_final.mdl\n"
     ]
    },
    {
     "name": "stderr",
     "output_type": "stream",
     "text": [
      "  2023-03-24 02:27:19,272 - INFO - Initializing load_model()\n",
      "  2023-03-24 02:27:19,280 - INFO - load_model(model_name=output/models/carbon_based/regression_model_gbr_final.mdl, platform=None, authentication=None, verbose=True)\n"
     ]
    },
    {
     "name": "stdout",
     "output_type": "stream",
     "text": [
      "Transformation Pipeline and Model Successfully Loaded\n"
     ]
    },
    {
     "name": "stderr",
     "output_type": "stream",
     "text": [
      "100%|█████████████████████████████████████████████████████████████████████████████████████| 4/4 [00:16<00:00,  4.08s/it]\n",
      "  2023-03-24 02:27:36,107 - INFO - Model with id: 9wslKP0AGGalG55QuACG created. Please visit the application to proceed\n"
     ]
    },
    {
     "name": "stdout",
     "output_type": "stream",
     "text": [
      "regression_model_lasso_final.mdl\n"
     ]
    },
    {
     "name": "stderr",
     "output_type": "stream",
     "text": [
      "  2023-03-24 02:27:36,111 - INFO - Initializing load_model()\n",
      "  2023-03-24 02:27:36,116 - INFO - load_model(model_name=output/models/carbon_based/regression_model_lasso_final.mdl, platform=None, authentication=None, verbose=True)\n"
     ]
    },
    {
     "name": "stdout",
     "output_type": "stream",
     "text": [
      "Transformation Pipeline and Model Successfully Loaded\n"
     ]
    },
    {
     "name": "stderr",
     "output_type": "stream",
     "text": [
      "  2023-03-24 02:27:36,449 - INFO - Model with id: 3fgKX2ZfxriRdkBkTtnx created. Please visit the application to proceed\n"
     ]
    },
    {
     "name": "stdout",
     "output_type": "stream",
     "text": [
      "regression_model_lightgbm_final.mdl\n"
     ]
    },
    {
     "name": "stderr",
     "output_type": "stream",
     "text": [
      "  2023-03-24 02:27:36,456 - INFO - Initializing load_model()\n",
      "  2023-03-24 02:27:36,461 - INFO - load_model(model_name=output/models/carbon_based/regression_model_lightgbm_final.mdl, platform=None, authentication=None, verbose=True)\n"
     ]
    },
    {
     "name": "stdout",
     "output_type": "stream",
     "text": [
      "Transformation Pipeline and Model Successfully Loaded\n"
     ]
    },
    {
     "name": "stderr",
     "output_type": "stream",
     "text": [
      "  2023-03-24 02:27:37,441 - INFO - Model with id: 1O6Hqw21yfPC3Q79hOgC created. Please visit the application to proceed\n"
     ]
    },
    {
     "name": "stdout",
     "output_type": "stream",
     "text": [
      "regression_model_lr_final.mdl\n"
     ]
    },
    {
     "name": "stderr",
     "output_type": "stream",
     "text": [
      "  2023-03-24 02:27:37,453 - INFO - Initializing load_model()\n",
      "  2023-03-24 02:27:37,459 - INFO - load_model(model_name=output/models/carbon_based/regression_model_lr_final.mdl, platform=None, authentication=None, verbose=True)\n"
     ]
    },
    {
     "name": "stdout",
     "output_type": "stream",
     "text": [
      "Transformation Pipeline and Model Successfully Loaded\n"
     ]
    },
    {
     "name": "stderr",
     "output_type": "stream",
     "text": [
      "  2023-03-24 02:27:37,786 - INFO - Model with id: miVguxOu8n0cyTqUuJrd created. Please visit the application to proceed\n"
     ]
    },
    {
     "name": "stdout",
     "output_type": "stream",
     "text": [
      "regression_model_rf_final.mdl\n"
     ]
    },
    {
     "name": "stderr",
     "output_type": "stream",
     "text": [
      "  2023-03-24 02:27:37,792 - INFO - Initializing load_model()\n",
      "  2023-03-24 02:27:37,796 - INFO - load_model(model_name=output/models/carbon_based/regression_model_rf_final.mdl, platform=None, authentication=None, verbose=True)\n"
     ]
    },
    {
     "name": "stdout",
     "output_type": "stream",
     "text": [
      "Transformation Pipeline and Model Successfully Loaded\n"
     ]
    },
    {
     "name": "stderr",
     "output_type": "stream",
     "text": [
      "  2023-03-24 02:27:39,388 - INFO - Model with id: 7n8TazYd1SxeZXhOQtDA created. Please visit the application to proceed\n"
     ]
    },
    {
     "name": "stdout",
     "output_type": "stream",
     "text": [
      "regression_model_ridge_final.mdl\n"
     ]
    },
    {
     "name": "stderr",
     "output_type": "stream",
     "text": [
      "  2023-03-24 02:27:39,393 - INFO - Initializing load_model()\n",
      "  2023-03-24 02:27:39,397 - INFO - load_model(model_name=output/models/carbon_based/regression_model_ridge_final.mdl, platform=None, authentication=None, verbose=True)\n"
     ]
    },
    {
     "name": "stdout",
     "output_type": "stream",
     "text": [
      "Transformation Pipeline and Model Successfully Loaded\n"
     ]
    },
    {
     "name": "stderr",
     "output_type": "stream",
     "text": [
      "  2023-03-24 02:27:39,723 - INFO - Model with id: JvKoBtZfQL3bCCvUtAD8 created. Please visit the application to proceed\n"
     ]
    },
    {
     "name": "stdout",
     "output_type": "stream",
     "text": [
      "regression_model_svm_final.mdl\n"
     ]
    },
    {
     "name": "stderr",
     "output_type": "stream",
     "text": [
      "  2023-03-24 02:27:39,727 - INFO - Initializing load_model()\n",
      "  2023-03-24 02:27:39,731 - INFO - load_model(model_name=output/models/carbon_based/regression_model_svm_final.mdl, platform=None, authentication=None, verbose=True)\n"
     ]
    },
    {
     "name": "stdout",
     "output_type": "stream",
     "text": [
      "Transformation Pipeline and Model Successfully Loaded\n"
     ]
    },
    {
     "name": "stderr",
     "output_type": "stream",
     "text": [
      "  2023-03-24 02:27:40,139 - INFO - Model with id: azgaJjDgnBP9Xbo7ps0H created. Please visit the application to proceed\n"
     ]
    },
    {
     "name": "stdout",
     "output_type": "stream",
     "text": [
      "classification_model_et_final.mdl\n"
     ]
    },
    {
     "name": "stderr",
     "output_type": "stream",
     "text": [
      "  2023-03-24 02:27:40,147 - INFO - Initializing load_model()\n",
      "  2023-03-24 02:27:40,150 - INFO - load_model(model_name=output/models/nanotube/classification_model_et_final.mdl, platform=None, authentication=None, verbose=True)\n"
     ]
    },
    {
     "name": "stdout",
     "output_type": "stream",
     "text": [
      "Transformation Pipeline and Model Successfully Loaded\n"
     ]
    },
    {
     "name": "stderr",
     "output_type": "stream",
     "text": [
      "100%|█████████████████████████████████████████████████████████████████████████████████████| 4/4 [00:17<00:00,  4.26s/it]\n",
      "  2023-03-24 02:27:57,608 - INFO - Model with id: EBLLrt5DW5zxJ3cMpxb9 created. Please visit the application to proceed\n"
     ]
    },
    {
     "name": "stdout",
     "output_type": "stream",
     "text": [
      "classification_model_gbc_final.mdl\n"
     ]
    },
    {
     "name": "stderr",
     "output_type": "stream",
     "text": [
      "  2023-03-24 02:27:57,612 - INFO - Initializing load_model()\n",
      "  2023-03-24 02:27:57,616 - INFO - load_model(model_name=output/models/nanotube/classification_model_gbc_final.mdl, platform=None, authentication=None, verbose=True)\n"
     ]
    },
    {
     "name": "stdout",
     "output_type": "stream",
     "text": [
      "Transformation Pipeline and Model Successfully Loaded\n"
     ]
    },
    {
     "name": "stderr",
     "output_type": "stream",
     "text": [
      "  2023-03-24 02:27:58,318 - INFO - Model with id: yLFXMU7Mk5el2hl319hW created. Please visit the application to proceed\n"
     ]
    },
    {
     "name": "stdout",
     "output_type": "stream",
     "text": [
      "classification_model_knn_final.mdl\n"
     ]
    },
    {
     "name": "stderr",
     "output_type": "stream",
     "text": [
      "  2023-03-24 02:27:58,326 - INFO - Initializing load_model()\n",
      "  2023-03-24 02:27:58,332 - INFO - load_model(model_name=output/models/nanotube/classification_model_knn_final.mdl, platform=None, authentication=None, verbose=True)\n"
     ]
    },
    {
     "name": "stdout",
     "output_type": "stream",
     "text": [
      "Transformation Pipeline and Model Successfully Loaded\n"
     ]
    },
    {
     "name": "stderr",
     "output_type": "stream",
     "text": [
      "  2023-03-24 02:27:59,114 - INFO - Model with id: vi4SEJxqGu0hUkORbu46 created. Please visit the application to proceed\n"
     ]
    },
    {
     "name": "stdout",
     "output_type": "stream",
     "text": [
      "classification_model_lightgbm_final.mdl\n"
     ]
    },
    {
     "name": "stderr",
     "output_type": "stream",
     "text": [
      "  2023-03-24 02:27:59,123 - INFO - Initializing load_model()\n",
      "  2023-03-24 02:27:59,127 - INFO - load_model(model_name=output/models/nanotube/classification_model_lightgbm_final.mdl, platform=None, authentication=None, verbose=True)\n"
     ]
    },
    {
     "name": "stdout",
     "output_type": "stream",
     "text": [
      "Transformation Pipeline and Model Successfully Loaded\n"
     ]
    },
    {
     "name": "stderr",
     "output_type": "stream",
     "text": [
      "  2023-03-24 02:27:59,820 - INFO - Model with id: IYNjjwstYprwz8jCqWXJ created. Please visit the application to proceed\n"
     ]
    },
    {
     "name": "stdout",
     "output_type": "stream",
     "text": [
      "classification_model_lr_final.mdl\n"
     ]
    },
    {
     "name": "stderr",
     "output_type": "stream",
     "text": [
      "  2023-03-24 02:27:59,825 - INFO - Initializing load_model()\n",
      "  2023-03-24 02:27:59,828 - INFO - load_model(model_name=output/models/nanotube/classification_model_lr_final.mdl, platform=None, authentication=None, verbose=True)\n"
     ]
    },
    {
     "name": "stdout",
     "output_type": "stream",
     "text": [
      "Transformation Pipeline and Model Successfully Loaded\n"
     ]
    },
    {
     "name": "stderr",
     "output_type": "stream",
     "text": [
      "  2023-03-24 02:28:00,217 - INFO - Model with id: c7i3AUbaFjmeFQmEPaH7 created. Please visit the application to proceed\n"
     ]
    },
    {
     "name": "stdout",
     "output_type": "stream",
     "text": [
      "classification_model_rf_final.mdl\n"
     ]
    },
    {
     "name": "stderr",
     "output_type": "stream",
     "text": [
      "  2023-03-24 02:28:00,222 - INFO - Initializing load_model()\n",
      "  2023-03-24 02:28:00,225 - INFO - load_model(model_name=output/models/nanotube/classification_model_rf_final.mdl, platform=None, authentication=None, verbose=True)\n"
     ]
    },
    {
     "name": "stdout",
     "output_type": "stream",
     "text": [
      "Transformation Pipeline and Model Successfully Loaded\n"
     ]
    },
    {
     "name": "stderr",
     "output_type": "stream",
     "text": [
      "  2023-03-24 02:28:01,675 - INFO - Model with id: 52iUWZzCD8Vqr3vtLpEQ created. Please visit the application to proceed\n"
     ]
    },
    {
     "name": "stdout",
     "output_type": "stream",
     "text": [
      "classification_model_svm_final.mdl\n"
     ]
    },
    {
     "name": "stderr",
     "output_type": "stream",
     "text": [
      "  2023-03-24 02:28:01,683 - INFO - Initializing load_model()\n",
      "  2023-03-24 02:28:01,686 - INFO - load_model(model_name=output/models/nanotube/classification_model_svm_final.mdl, platform=None, authentication=None, verbose=True)\n"
     ]
    },
    {
     "name": "stdout",
     "output_type": "stream",
     "text": [
      "Transformation Pipeline and Model Successfully Loaded\n"
     ]
    },
    {
     "name": "stderr",
     "output_type": "stream",
     "text": [
      "  2023-03-24 02:28:02,088 - INFO - Model with id: QMTZEcPyBCwF21oLYhzc created. Please visit the application to proceed\n"
     ]
    },
    {
     "name": "stdout",
     "output_type": "stream",
     "text": [
      "regression_model_et_final.mdl\n"
     ]
    },
    {
     "name": "stderr",
     "output_type": "stream",
     "text": [
      "  2023-03-24 02:28:02,096 - INFO - Initializing load_model()\n",
      "  2023-03-24 02:28:02,100 - INFO - load_model(model_name=output/models/nanotube/regression_model_et_final.mdl, platform=None, authentication=None, verbose=True)\n"
     ]
    },
    {
     "name": "stdout",
     "output_type": "stream",
     "text": [
      "Transformation Pipeline and Model Successfully Loaded\n"
     ]
    },
    {
     "name": "stderr",
     "output_type": "stream",
     "text": [
      "100%|█████████████████████████████████████████████████████████████████████████████████████| 7/7 [00:27<00:00,  3.88s/it]\n",
      "  2023-03-24 02:28:29,719 - INFO - Model with id: Yn8DDoFuU3Rz2CL2r2H1 created. Please visit the application to proceed\n"
     ]
    },
    {
     "name": "stdout",
     "output_type": "stream",
     "text": [
      "regression_model_gbr_final.mdl\n"
     ]
    },
    {
     "name": "stderr",
     "output_type": "stream",
     "text": [
      "  2023-03-24 02:28:29,724 - INFO - Initializing load_model()\n",
      "  2023-03-24 02:28:29,728 - INFO - load_model(model_name=output/models/nanotube/regression_model_gbr_final.mdl, platform=None, authentication=None, verbose=True)\n"
     ]
    },
    {
     "name": "stdout",
     "output_type": "stream",
     "text": [
      "Transformation Pipeline and Model Successfully Loaded\n"
     ]
    },
    {
     "name": "stderr",
     "output_type": "stream",
     "text": [
      "  2023-03-24 02:28:31,395 - INFO - Model with id: DBoP5AY6FlIvnRuGx71b created. Please visit the application to proceed\n"
     ]
    },
    {
     "name": "stdout",
     "output_type": "stream",
     "text": [
      "regression_model_lasso_final.mdl\n"
     ]
    },
    {
     "name": "stderr",
     "output_type": "stream",
     "text": [
      "  2023-03-24 02:28:31,398 - INFO - Initializing load_model()\n",
      "  2023-03-24 02:28:31,403 - INFO - load_model(model_name=output/models/nanotube/regression_model_lasso_final.mdl, platform=None, authentication=None, verbose=True)\n"
     ]
    },
    {
     "name": "stdout",
     "output_type": "stream",
     "text": [
      "Transformation Pipeline and Model Successfully Loaded\n"
     ]
    },
    {
     "name": "stderr",
     "output_type": "stream",
     "text": [
      "  2023-03-24 02:28:31,747 - INFO - Model with id: RBBMRRUtVuV6TnCFfaxQ created. Please visit the application to proceed\n"
     ]
    },
    {
     "name": "stdout",
     "output_type": "stream",
     "text": [
      "regression_model_lightgbm_final.mdl\n"
     ]
    },
    {
     "name": "stderr",
     "output_type": "stream",
     "text": [
      "  2023-03-24 02:28:31,752 - INFO - Initializing load_model()\n",
      "  2023-03-24 02:28:31,756 - INFO - load_model(model_name=output/models/nanotube/regression_model_lightgbm_final.mdl, platform=None, authentication=None, verbose=True)\n"
     ]
    },
    {
     "name": "stdout",
     "output_type": "stream",
     "text": [
      "Transformation Pipeline and Model Successfully Loaded\n"
     ]
    },
    {
     "name": "stderr",
     "output_type": "stream",
     "text": [
      "  2023-03-24 02:28:32,344 - INFO - Model with id: wp7SRw4QaYuBr8w1xyfy created. Please visit the application to proceed\n"
     ]
    },
    {
     "name": "stdout",
     "output_type": "stream",
     "text": [
      "regression_model_lr_final.mdl\n"
     ]
    },
    {
     "name": "stderr",
     "output_type": "stream",
     "text": [
      "  2023-03-24 02:28:32,352 - INFO - Initializing load_model()\n",
      "  2023-03-24 02:28:32,356 - INFO - load_model(model_name=output/models/nanotube/regression_model_lr_final.mdl, platform=None, authentication=None, verbose=True)\n"
     ]
    },
    {
     "name": "stdout",
     "output_type": "stream",
     "text": [
      "Transformation Pipeline and Model Successfully Loaded\n"
     ]
    },
    {
     "name": "stderr",
     "output_type": "stream",
     "text": [
      "  2023-03-24 02:28:32,696 - INFO - Model with id: LHq1SsdTzO5gCahz6K7K created. Please visit the application to proceed\n"
     ]
    },
    {
     "name": "stdout",
     "output_type": "stream",
     "text": [
      "regression_model_rf_final.mdl\n"
     ]
    },
    {
     "name": "stderr",
     "output_type": "stream",
     "text": [
      "  2023-03-24 02:28:32,700 - INFO - Initializing load_model()\n",
      "  2023-03-24 02:28:32,704 - INFO - load_model(model_name=output/models/nanotube/regression_model_rf_final.mdl, platform=None, authentication=None, verbose=True)\n"
     ]
    },
    {
     "name": "stdout",
     "output_type": "stream",
     "text": [
      "Transformation Pipeline and Model Successfully Loaded\n"
     ]
    },
    {
     "name": "stderr",
     "output_type": "stream",
     "text": [
      "100%|█████████████████████████████████████████████████████████████████████████████████████| 5/5 [00:19<00:00,  3.92s/it]\n",
      "  2023-03-24 02:28:52,734 - INFO - Model with id: mQyhuT3cc9c3wdFDJAPd created. Please visit the application to proceed\n"
     ]
    },
    {
     "name": "stdout",
     "output_type": "stream",
     "text": [
      "regression_model_ridge_final.mdl\n"
     ]
    },
    {
     "name": "stderr",
     "output_type": "stream",
     "text": [
      "  2023-03-24 02:28:52,738 - INFO - Initializing load_model()\n",
      "  2023-03-24 02:28:52,741 - INFO - load_model(model_name=output/models/nanotube/regression_model_ridge_final.mdl, platform=None, authentication=None, verbose=True)\n"
     ]
    },
    {
     "name": "stdout",
     "output_type": "stream",
     "text": [
      "Transformation Pipeline and Model Successfully Loaded\n"
     ]
    },
    {
     "name": "stderr",
     "output_type": "stream",
     "text": [
      "  2023-03-24 02:28:53,068 - INFO - Model with id: rl2mrA4YPKTDnwp8xz3N created. Please visit the application to proceed\n"
     ]
    },
    {
     "name": "stdout",
     "output_type": "stream",
     "text": [
      "regression_model_svm_final.mdl\n"
     ]
    },
    {
     "name": "stderr",
     "output_type": "stream",
     "text": [
      "  2023-03-24 02:28:53,072 - INFO - Initializing load_model()\n",
      "  2023-03-24 02:28:53,076 - INFO - load_model(model_name=output/models/nanotube/regression_model_svm_final.mdl, platform=None, authentication=None, verbose=True)\n"
     ]
    },
    {
     "name": "stdout",
     "output_type": "stream",
     "text": [
      "Transformation Pipeline and Model Successfully Loaded\n"
     ]
    },
    {
     "name": "stderr",
     "output_type": "stream",
     "text": [
      "  2023-03-24 02:28:53,701 - INFO - Model with id: AmFF6EpvYW1VkPVg8fX8 created. Please visit the application to proceed\n"
     ]
    },
    {
     "name": "stdout",
     "output_type": "stream",
     "text": [
      "classification_model_et_final.mdl\n"
     ]
    },
    {
     "name": "stderr",
     "output_type": "stream",
     "text": [
      "  2023-03-24 02:28:53,712 - INFO - Initializing load_model()\n",
      "  2023-03-24 02:28:53,716 - INFO - load_model(model_name=output/models/oxide/classification_model_et_final.mdl, platform=None, authentication=None, verbose=True)\n"
     ]
    },
    {
     "name": "stdout",
     "output_type": "stream",
     "text": [
      "Transformation Pipeline and Model Successfully Loaded\n"
     ]
    },
    {
     "name": "stderr",
     "output_type": "stream",
     "text": [
      "100%|███████████████████████████████████████████████████████████████████████████████████| 24/24 [01:30<00:00,  3.78s/it]\n",
      "  2023-03-24 02:30:24,895 - INFO - Model with id: UWYTt6tN1BYTYwYYZwnb created. Please visit the application to proceed\n"
     ]
    },
    {
     "name": "stdout",
     "output_type": "stream",
     "text": [
      "classification_model_gbc_final.mdl\n"
     ]
    },
    {
     "name": "stderr",
     "output_type": "stream",
     "text": [
      "  2023-03-24 02:30:24,899 - INFO - Initializing load_model()\n",
      "  2023-03-24 02:30:24,903 - INFO - load_model(model_name=output/models/oxide/classification_model_gbc_final.mdl, platform=None, authentication=None, verbose=True)\n"
     ]
    },
    {
     "name": "stdout",
     "output_type": "stream",
     "text": [
      "Transformation Pipeline and Model Successfully Loaded\n"
     ]
    },
    {
     "name": "stderr",
     "output_type": "stream",
     "text": [
      "100%|█████████████████████████████████████████████████████████████████████████████████████| 7/7 [00:26<00:00,  3.84s/it]\n",
      "  2023-03-24 02:30:52,338 - INFO - Model with id: 1hAvRmFUsKPONPPxVAYB created. Please visit the application to proceed\n"
     ]
    },
    {
     "name": "stdout",
     "output_type": "stream",
     "text": [
      "classification_model_knn_final.mdl\n"
     ]
    },
    {
     "name": "stderr",
     "output_type": "stream",
     "text": [
      "  2023-03-24 02:30:52,343 - INFO - Initializing load_model()\n",
      "  2023-03-24 02:30:52,347 - INFO - load_model(model_name=output/models/oxide/classification_model_knn_final.mdl, platform=None, authentication=None, verbose=True)\n"
     ]
    },
    {
     "name": "stdout",
     "output_type": "stream",
     "text": [
      "Transformation Pipeline and Model Successfully Loaded\n"
     ]
    },
    {
     "name": "stderr",
     "output_type": "stream",
     "text": [
      "100%|███████████████████████████████████████████████████████████████████████████████████| 13/13 [00:50<00:00,  3.90s/it]\n",
      "  2023-03-24 02:31:43,475 - INFO - Model with id: l0UUw8H4Rrbd5k2NZGWn created. Please visit the application to proceed\n"
     ]
    },
    {
     "name": "stdout",
     "output_type": "stream",
     "text": [
      "classification_model_lightgbm_final.mdl\n"
     ]
    },
    {
     "name": "stderr",
     "output_type": "stream",
     "text": [
      "  2023-03-24 02:31:43,480 - INFO - Initializing load_model()\n",
      "  2023-03-24 02:31:43,483 - INFO - load_model(model_name=output/models/oxide/classification_model_lightgbm_final.mdl, platform=None, authentication=None, verbose=True)\n"
     ]
    },
    {
     "name": "stdout",
     "output_type": "stream",
     "text": [
      "Transformation Pipeline and Model Successfully Loaded\n"
     ]
    },
    {
     "name": "stderr",
     "output_type": "stream",
     "text": [
      "  2023-03-24 02:31:44,370 - INFO - Model with id: v43iexevqFmEqltTTFcR created. Please visit the application to proceed\n"
     ]
    },
    {
     "name": "stdout",
     "output_type": "stream",
     "text": [
      "classification_model_lr_final.mdl\n"
     ]
    },
    {
     "name": "stderr",
     "output_type": "stream",
     "text": [
      "  2023-03-24 02:31:44,374 - INFO - Initializing load_model()\n",
      "  2023-03-24 02:31:44,381 - INFO - load_model(model_name=output/models/oxide/classification_model_lr_final.mdl, platform=None, authentication=None, verbose=True)\n"
     ]
    },
    {
     "name": "stdout",
     "output_type": "stream",
     "text": [
      "Transformation Pipeline and Model Successfully Loaded\n"
     ]
    },
    {
     "name": "stderr",
     "output_type": "stream",
     "text": [
      "  2023-03-24 02:31:44,880 - INFO - Model with id: RsjfTL0llgBjg0pUbJoq created. Please visit the application to proceed\n"
     ]
    },
    {
     "name": "stdout",
     "output_type": "stream",
     "text": [
      "classification_model_rf_final.mdl\n"
     ]
    },
    {
     "name": "stderr",
     "output_type": "stream",
     "text": [
      "  2023-03-24 02:31:44,884 - INFO - Initializing load_model()\n",
      "  2023-03-24 02:31:44,888 - INFO - load_model(model_name=output/models/oxide/classification_model_rf_final.mdl, platform=None, authentication=None, verbose=True)\n"
     ]
    },
    {
     "name": "stdout",
     "output_type": "stream",
     "text": [
      "Transformation Pipeline and Model Successfully Loaded\n"
     ]
    },
    {
     "name": "stderr",
     "output_type": "stream",
     "text": [
      "100%|███████████████████████████████████████████████████████████████████████████████████| 12/12 [00:47<00:00,  3.96s/it]\n",
      "  2023-03-24 02:32:32,913 - INFO - Model with id: f6cOmKRWuHIqW1LYC6DN created. Please visit the application to proceed\n"
     ]
    },
    {
     "name": "stdout",
     "output_type": "stream",
     "text": [
      "classification_model_svm_final.mdl\n"
     ]
    },
    {
     "name": "stderr",
     "output_type": "stream",
     "text": [
      "  2023-03-24 02:32:32,920 - INFO - Initializing load_model()\n",
      "  2023-03-24 02:32:32,924 - INFO - load_model(model_name=output/models/oxide/classification_model_svm_final.mdl, platform=None, authentication=None, verbose=True)\n"
     ]
    },
    {
     "name": "stdout",
     "output_type": "stream",
     "text": [
      "Transformation Pipeline and Model Successfully Loaded\n"
     ]
    },
    {
     "name": "stderr",
     "output_type": "stream",
     "text": [
      "  2023-03-24 02:32:33,412 - INFO - Model with id: sXE0mIbUmD5JkTjiUgrY created. Please visit the application to proceed\n"
     ]
    },
    {
     "name": "stdout",
     "output_type": "stream",
     "text": [
      "regression_model_et_final.mdl\n"
     ]
    },
    {
     "name": "stderr",
     "output_type": "stream",
     "text": [
      "  2023-03-24 02:32:33,416 - INFO - Initializing load_model()\n",
      "  2023-03-24 02:32:33,419 - INFO - load_model(model_name=output/models/oxide/regression_model_et_final.mdl, platform=None, authentication=None, verbose=True)\n"
     ]
    },
    {
     "name": "stdout",
     "output_type": "stream",
     "text": [
      "Transformation Pipeline and Model Successfully Loaded\n"
     ]
    },
    {
     "name": "stderr",
     "output_type": "stream",
     "text": [
      "100%|███████████████████████████████████████████████████████████████████████████████████| 43/43 [02:45<00:00,  3.86s/it]\n",
      "  2023-03-24 02:35:19,959 - INFO - Model with id: gdZAxDDkn9LR75TDP0NT created. Please visit the application to proceed\n"
     ]
    },
    {
     "name": "stdout",
     "output_type": "stream",
     "text": [
      "regression_model_gbr_final.mdl\n"
     ]
    },
    {
     "name": "stderr",
     "output_type": "stream",
     "text": [
      "  2023-03-24 02:35:19,964 - INFO - Initializing load_model()\n",
      "  2023-03-24 02:35:19,967 - INFO - load_model(model_name=output/models/oxide/regression_model_gbr_final.mdl, platform=None, authentication=None, verbose=True)\n"
     ]
    },
    {
     "name": "stdout",
     "output_type": "stream",
     "text": [
      "Transformation Pipeline and Model Successfully Loaded\n"
     ]
    },
    {
     "name": "stderr",
     "output_type": "stream",
     "text": [
      "100%|█████████████████████████████████████████████████████████████████████████████████████| 4/4 [00:16<00:00,  4.03s/it]\n",
      "  2023-03-24 02:35:36,553 - INFO - Model with id: Q9PeUaPHhqKDR7VfHwRM created. Please visit the application to proceed\n"
     ]
    },
    {
     "name": "stdout",
     "output_type": "stream",
     "text": [
      "regression_model_lasso_final.mdl\n"
     ]
    },
    {
     "name": "stderr",
     "output_type": "stream",
     "text": [
      "  2023-03-24 02:35:36,558 - INFO - Initializing load_model()\n",
      "  2023-03-24 02:35:36,561 - INFO - load_model(model_name=output/models/oxide/regression_model_lasso_final.mdl, platform=None, authentication=None, verbose=True)\n"
     ]
    },
    {
     "name": "stdout",
     "output_type": "stream",
     "text": [
      "Transformation Pipeline and Model Successfully Loaded\n"
     ]
    },
    {
     "name": "stderr",
     "output_type": "stream",
     "text": [
      "  2023-03-24 02:35:37,066 - INFO - Model with id: U5XLaIdOS9TimU734VKi created. Please visit the application to proceed\n"
     ]
    },
    {
     "name": "stdout",
     "output_type": "stream",
     "text": [
      "regression_model_lightgbm_final.mdl\n"
     ]
    },
    {
     "name": "stderr",
     "output_type": "stream",
     "text": [
      "  2023-03-24 02:35:37,071 - INFO - Initializing load_model()\n",
      "  2023-03-24 02:35:37,073 - INFO - load_model(model_name=output/models/oxide/regression_model_lightgbm_final.mdl, platform=None, authentication=None, verbose=True)\n"
     ]
    },
    {
     "name": "stdout",
     "output_type": "stream",
     "text": [
      "Transformation Pipeline and Model Successfully Loaded\n"
     ]
    },
    {
     "name": "stderr",
     "output_type": "stream",
     "text": [
      "  2023-03-24 02:35:38,436 - INFO - Model with id: XMp5XVbJ350bsp7rzG57 created. Please visit the application to proceed\n"
     ]
    },
    {
     "name": "stdout",
     "output_type": "stream",
     "text": [
      "regression_model_lr_final.mdl\n"
     ]
    },
    {
     "name": "stderr",
     "output_type": "stream",
     "text": [
      "  2023-03-24 02:35:38,444 - INFO - Initializing load_model()\n",
      "  2023-03-24 02:35:38,449 - INFO - load_model(model_name=output/models/oxide/regression_model_lr_final.mdl, platform=None, authentication=None, verbose=True)\n"
     ]
    },
    {
     "name": "stdout",
     "output_type": "stream",
     "text": [
      "Transformation Pipeline and Model Successfully Loaded\n"
     ]
    },
    {
     "name": "stderr",
     "output_type": "stream",
     "text": [
      "  2023-03-24 02:35:38,944 - INFO - Model with id: cGgxVDrozvdQK8iNL3Ze created. Please visit the application to proceed\n"
     ]
    },
    {
     "name": "stdout",
     "output_type": "stream",
     "text": [
      "regression_model_rf_final.mdl\n"
     ]
    },
    {
     "name": "stderr",
     "output_type": "stream",
     "text": [
      "  2023-03-24 02:35:38,948 - INFO - Initializing load_model()\n",
      "  2023-03-24 02:35:38,952 - INFO - load_model(model_name=output/models/oxide/regression_model_rf_final.mdl, platform=None, authentication=None, verbose=True)\n"
     ]
    },
    {
     "name": "stdout",
     "output_type": "stream",
     "text": [
      "Transformation Pipeline and Model Successfully Loaded\n"
     ]
    },
    {
     "name": "stderr",
     "output_type": "stream",
     "text": [
      "100%|███████████████████████████████████████████████████████████████████████████████████| 29/29 [01:53<00:00,  3.90s/it]\n",
      "  2023-03-24 02:37:32,779 - INFO - Model with id: clfBtzvl32SAtAszUGhV created. Please visit the application to proceed\n"
     ]
    },
    {
     "name": "stdout",
     "output_type": "stream",
     "text": [
      "regression_model_ridge_final.mdl\n"
     ]
    },
    {
     "name": "stderr",
     "output_type": "stream",
     "text": [
      "  2023-03-24 02:37:32,782 - INFO - Initializing load_model()\n",
      "  2023-03-24 02:37:32,786 - INFO - load_model(model_name=output/models/oxide/regression_model_ridge_final.mdl, platform=None, authentication=None, verbose=True)\n"
     ]
    },
    {
     "name": "stdout",
     "output_type": "stream",
     "text": [
      "Transformation Pipeline and Model Successfully Loaded\n"
     ]
    },
    {
     "name": "stderr",
     "output_type": "stream",
     "text": [
      "  2023-03-24 02:37:33,262 - INFO - Model with id: IU6tNf0dShAhCXE3sXLj created. Please visit the application to proceed\n"
     ]
    },
    {
     "name": "stdout",
     "output_type": "stream",
     "text": [
      "regression_model_svm_final.mdl\n"
     ]
    },
    {
     "name": "stderr",
     "output_type": "stream",
     "text": [
      "  2023-03-24 02:37:33,267 - INFO - Initializing load_model()\n",
      "  2023-03-24 02:37:33,270 - INFO - load_model(model_name=output/models/oxide/regression_model_svm_final.mdl, platform=None, authentication=None, verbose=True)\n"
     ]
    },
    {
     "name": "stdout",
     "output_type": "stream",
     "text": [
      "Transformation Pipeline and Model Successfully Loaded\n"
     ]
    },
    {
     "name": "stderr",
     "output_type": "stream",
     "text": [
      "100%|█████████████████████████████████████████████████████████████████████████████████████| 5/5 [00:22<00:00,  4.42s/it]\n",
      "  2023-03-24 02:37:55,685 - INFO - Model with id: 0TdQfzc2a2cSuTYDC3k6 created. Please visit the application to proceed\n"
     ]
    },
    {
     "name": "stdout",
     "output_type": "stream",
     "text": [
      "classification_model_et_final.mdl\n"
     ]
    },
    {
     "name": "stderr",
     "output_type": "stream",
     "text": [
      "  2023-03-24 02:37:55,694 - INFO - Initializing load_model()\n",
      "  2023-03-24 02:37:55,698 - INFO - load_model(model_name=output/models/quantum_dot/classification_model_et_final.mdl, platform=None, authentication=None, verbose=True)\n"
     ]
    },
    {
     "name": "stdout",
     "output_type": "stream",
     "text": [
      "Transformation Pipeline and Model Successfully Loaded\n"
     ]
    },
    {
     "name": "stderr",
     "output_type": "stream",
     "text": [
      "100%|███████████████████████████████████████████████████████████████████████████████████| 27/27 [01:48<00:00,  4.00s/it]\n",
      "  2023-03-24 02:39:44,338 - INFO - Model with id: EbJQ1HtvFJBQJeOtru99 created. Please visit the application to proceed\n"
     ]
    },
    {
     "name": "stdout",
     "output_type": "stream",
     "text": [
      "classification_model_gbc_final.mdl\n"
     ]
    },
    {
     "name": "stderr",
     "output_type": "stream",
     "text": [
      "  2023-03-24 02:39:44,344 - INFO - Initializing load_model()\n",
      "  2023-03-24 02:39:44,347 - INFO - load_model(model_name=output/models/quantum_dot/classification_model_gbc_final.mdl, platform=None, authentication=None, verbose=True)\n"
     ]
    },
    {
     "name": "stdout",
     "output_type": "stream",
     "text": [
      "Transformation Pipeline and Model Successfully Loaded\n"
     ]
    },
    {
     "name": "stderr",
     "output_type": "stream",
     "text": [
      "  2023-03-24 02:39:46,637 - INFO - Model with id: XyzVKqpIbNy1inNRLzTT created. Please visit the application to proceed\n"
     ]
    },
    {
     "name": "stdout",
     "output_type": "stream",
     "text": [
      "classification_model_knn_final.mdl\n"
     ]
    },
    {
     "name": "stderr",
     "output_type": "stream",
     "text": [
      "  2023-03-24 02:39:46,644 - INFO - Initializing load_model()\n",
      "  2023-03-24 02:39:46,649 - INFO - load_model(model_name=output/models/quantum_dot/classification_model_knn_final.mdl, platform=None, authentication=None, verbose=True)\n"
     ]
    },
    {
     "name": "stdout",
     "output_type": "stream",
     "text": [
      "Transformation Pipeline and Model Successfully Loaded\n"
     ]
    },
    {
     "name": "stderr",
     "output_type": "stream",
     "text": [
      "100%|█████████████████████████████████████████████████████████████████████████████████████| 9/9 [00:37<00:00,  4.15s/it]\n",
      "  2023-03-24 02:40:24,385 - INFO - Model with id: ZSMuUm3SNvfgB5tO2413 created. Please visit the application to proceed\n"
     ]
    },
    {
     "name": "stdout",
     "output_type": "stream",
     "text": [
      "classification_model_lightgbm_final.mdl\n"
     ]
    },
    {
     "name": "stderr",
     "output_type": "stream",
     "text": [
      "  2023-03-24 02:40:24,391 - INFO - Initializing load_model()\n",
      "  2023-03-24 02:40:24,395 - INFO - load_model(model_name=output/models/quantum_dot/classification_model_lightgbm_final.mdl, platform=None, authentication=None, verbose=True)\n"
     ]
    },
    {
     "name": "stdout",
     "output_type": "stream",
     "text": [
      "Transformation Pipeline and Model Successfully Loaded\n"
     ]
    },
    {
     "name": "stderr",
     "output_type": "stream",
     "text": [
      "  2023-03-24 02:40:25,859 - INFO - Model with id: FD2BT1m8R9bJMQfYbzWQ created. Please visit the application to proceed\n"
     ]
    },
    {
     "name": "stdout",
     "output_type": "stream",
     "text": [
      "classification_model_lr_final.mdl\n"
     ]
    },
    {
     "name": "stderr",
     "output_type": "stream",
     "text": [
      "  2023-03-24 02:40:25,866 - INFO - Initializing load_model()\n",
      "  2023-03-24 02:40:25,871 - INFO - load_model(model_name=output/models/quantum_dot/classification_model_lr_final.mdl, platform=None, authentication=None, verbose=True)\n"
     ]
    },
    {
     "name": "stdout",
     "output_type": "stream",
     "text": [
      "Transformation Pipeline and Model Successfully Loaded\n"
     ]
    },
    {
     "name": "stderr",
     "output_type": "stream",
     "text": [
      "  2023-03-24 02:40:26,304 - INFO - Model with id: 1nhKog4vg1aK5ZkAMNWg created. Please visit the application to proceed\n"
     ]
    },
    {
     "name": "stdout",
     "output_type": "stream",
     "text": [
      "classification_model_rf_final.mdl\n"
     ]
    },
    {
     "name": "stderr",
     "output_type": "stream",
     "text": [
      "  2023-03-24 02:40:26,312 - INFO - Initializing load_model()\n",
      "  2023-03-24 02:40:26,319 - INFO - load_model(model_name=output/models/quantum_dot/classification_model_rf_final.mdl, platform=None, authentication=None, verbose=True)\n"
     ]
    },
    {
     "name": "stdout",
     "output_type": "stream",
     "text": [
      "Transformation Pipeline and Model Successfully Loaded\n"
     ]
    },
    {
     "name": "stderr",
     "output_type": "stream",
     "text": [
      "100%|███████████████████████████████████████████████████████████████████████████████████| 14/14 [00:56<00:00,  4.02s/it]\n",
      "  2023-03-24 02:41:23,194 - INFO - Model with id: K9TK2kFkt1pc7FKd94Nz created. Please visit the application to proceed\n"
     ]
    },
    {
     "name": "stdout",
     "output_type": "stream",
     "text": [
      "classification_model_svm_final.mdl\n"
     ]
    },
    {
     "name": "stderr",
     "output_type": "stream",
     "text": [
      "  2023-03-24 02:41:23,198 - INFO - Initializing load_model()\n",
      "  2023-03-24 02:41:23,202 - INFO - load_model(model_name=output/models/quantum_dot/classification_model_svm_final.mdl, platform=None, authentication=None, verbose=True)\n"
     ]
    },
    {
     "name": "stdout",
     "output_type": "stream",
     "text": [
      "Transformation Pipeline and Model Successfully Loaded\n"
     ]
    },
    {
     "name": "stderr",
     "output_type": "stream",
     "text": [
      "  2023-03-24 02:41:24,389 - INFO - Model with id: qe6LstACZDNKHIBvuD9V created. Please visit the application to proceed\n"
     ]
    },
    {
     "name": "stdout",
     "output_type": "stream",
     "text": [
      "regression_model_et_final.mdl\n"
     ]
    },
    {
     "name": "stderr",
     "output_type": "stream",
     "text": [
      "  2023-03-24 02:41:24,394 - INFO - Initializing load_model()\n",
      "  2023-03-24 02:41:24,401 - INFO - load_model(model_name=output/models/quantum_dot/regression_model_et_final.mdl, platform=None, authentication=None, verbose=True)\n"
     ]
    },
    {
     "name": "stdout",
     "output_type": "stream",
     "text": [
      "Transformation Pipeline and Model Successfully Loaded\n"
     ]
    },
    {
     "name": "stderr",
     "output_type": "stream",
     "text": [
      "100%|█████████████████████████████████████████████████████████████████████████████████████| 5/5 [00:24<00:00,  4.85s/it]\n",
      "  2023-03-24 02:41:49,223 - INFO - Model with id: ZF34CdLY3I0FlXcsGtBa created. Please visit the application to proceed\n"
     ]
    },
    {
     "name": "stdout",
     "output_type": "stream",
     "text": [
      "regression_model_gbr_final.mdl\n"
     ]
    },
    {
     "name": "stderr",
     "output_type": "stream",
     "text": [
      "  2023-03-24 02:41:49,231 - INFO - Initializing load_model()\n",
      "  2023-03-24 02:41:49,239 - INFO - load_model(model_name=output/models/quantum_dot/regression_model_gbr_final.mdl, platform=None, authentication=None, verbose=True)\n"
     ]
    },
    {
     "name": "stdout",
     "output_type": "stream",
     "text": [
      "Transformation Pipeline and Model Successfully Loaded\n"
     ]
    },
    {
     "name": "stderr",
     "output_type": "stream",
     "text": [
      "100%|█████████████████████████████████████████████████████████████████████████████████████| 6/6 [00:24<00:00,  4.01s/it]\n",
      "  2023-03-24 02:42:13,797 - INFO - Model with id: anTsmHf598CMKs1j05Mt created. Please visit the application to proceed\n"
     ]
    },
    {
     "name": "stdout",
     "output_type": "stream",
     "text": [
      "regression_model_lasso_final.mdl\n"
     ]
    },
    {
     "name": "stderr",
     "output_type": "stream",
     "text": [
      "  2023-03-24 02:42:13,802 - INFO - Initializing load_model()\n",
      "  2023-03-24 02:42:13,805 - INFO - load_model(model_name=output/models/quantum_dot/regression_model_lasso_final.mdl, platform=None, authentication=None, verbose=True)\n"
     ]
    },
    {
     "name": "stdout",
     "output_type": "stream",
     "text": [
      "Transformation Pipeline and Model Successfully Loaded\n"
     ]
    },
    {
     "name": "stderr",
     "output_type": "stream",
     "text": [
      "  2023-03-24 02:42:14,253 - INFO - Model with id: jQO9eYzKgqdzKD62Szvq created. Please visit the application to proceed\n"
     ]
    },
    {
     "name": "stdout",
     "output_type": "stream",
     "text": [
      "regression_model_lightgbm_final.mdl\n"
     ]
    },
    {
     "name": "stderr",
     "output_type": "stream",
     "text": [
      "  2023-03-24 02:42:14,256 - INFO - Initializing load_model()\n",
      "  2023-03-24 02:42:14,260 - INFO - load_model(model_name=output/models/quantum_dot/regression_model_lightgbm_final.mdl, platform=None, authentication=None, verbose=True)\n"
     ]
    },
    {
     "name": "stdout",
     "output_type": "stream",
     "text": [
      "Transformation Pipeline and Model Successfully Loaded\n"
     ]
    },
    {
     "name": "stderr",
     "output_type": "stream",
     "text": [
      "  2023-03-24 02:42:15,695 - INFO - Model with id: mS4jjqb23JQ7LKVkLC3b created. Please visit the application to proceed\n"
     ]
    },
    {
     "name": "stdout",
     "output_type": "stream",
     "text": [
      "regression_model_lr_final.mdl\n"
     ]
    },
    {
     "name": "stderr",
     "output_type": "stream",
     "text": [
      "  2023-03-24 02:42:15,704 - INFO - Initializing load_model()\n",
      "  2023-03-24 02:42:15,709 - INFO - load_model(model_name=output/models/quantum_dot/regression_model_lr_final.mdl, platform=None, authentication=None, verbose=True)\n"
     ]
    },
    {
     "name": "stdout",
     "output_type": "stream",
     "text": [
      "Transformation Pipeline and Model Successfully Loaded\n"
     ]
    },
    {
     "name": "stderr",
     "output_type": "stream",
     "text": [
      "  2023-03-24 02:42:16,138 - INFO - Model with id: UB8IDo189pqjsjpQQyO5 created. Please visit the application to proceed\n"
     ]
    },
    {
     "name": "stdout",
     "output_type": "stream",
     "text": [
      "regression_model_rf_final.mdl\n"
     ]
    },
    {
     "name": "stderr",
     "output_type": "stream",
     "text": [
      "  2023-03-24 02:42:16,142 - INFO - Initializing load_model()\n",
      "  2023-03-24 02:42:16,145 - INFO - load_model(model_name=output/models/quantum_dot/regression_model_rf_final.mdl, platform=None, authentication=None, verbose=True)\n"
     ]
    },
    {
     "name": "stdout",
     "output_type": "stream",
     "text": [
      "Transformation Pipeline and Model Successfully Loaded\n"
     ]
    },
    {
     "name": "stderr",
     "output_type": "stream",
     "text": [
      "100%|███████████████████████████████████████████████████████████████████████████████████| 20/20 [01:19<00:00,  4.00s/it]\n",
      "  2023-03-24 02:43:36,612 - INFO - Model with id: jQVzjqwaQNrA9Wjw8MSZ created. Please visit the application to proceed\n"
     ]
    },
    {
     "name": "stdout",
     "output_type": "stream",
     "text": [
      "regression_model_ridge_final.mdl\n"
     ]
    },
    {
     "name": "stderr",
     "output_type": "stream",
     "text": [
      "  2023-03-24 02:43:36,627 - INFO - Initializing load_model()\n",
      "  2023-03-24 02:43:36,645 - INFO - load_model(model_name=output/models/quantum_dot/regression_model_ridge_final.mdl, platform=None, authentication=None, verbose=True)\n"
     ]
    },
    {
     "name": "stdout",
     "output_type": "stream",
     "text": [
      "Transformation Pipeline and Model Successfully Loaded\n"
     ]
    },
    {
     "name": "stderr",
     "output_type": "stream",
     "text": [
      "  2023-03-24 02:43:37,199 - INFO - Model with id: L6AseabnMYKHR4D94l55 created. Please visit the application to proceed\n"
     ]
    },
    {
     "name": "stdout",
     "output_type": "stream",
     "text": [
      "regression_model_svm_final.mdl\n"
     ]
    },
    {
     "name": "stderr",
     "output_type": "stream",
     "text": [
      "  2023-03-24 02:43:37,208 - INFO - Initializing load_model()\n",
      "  2023-03-24 02:43:37,218 - INFO - load_model(model_name=output/models/quantum_dot/regression_model_svm_final.mdl, platform=None, authentication=None, verbose=True)\n"
     ]
    },
    {
     "name": "stdout",
     "output_type": "stream",
     "text": [
      "Transformation Pipeline and Model Successfully Loaded\n"
     ]
    },
    {
     "name": "stderr",
     "output_type": "stream",
     "text": [
      "100%|█████████████████████████████████████████████████████████████████████████████████████| 4/4 [00:17<00:00,  4.34s/it]\n",
      "  2023-03-24 02:43:55,009 - INFO - Model with id: rkStUj3ppqhVAVN4ehnC created. Please visit the application to proceed\n"
     ]
    },
    {
     "name": "stdout",
     "output_type": "stream",
     "text": [
      "classification_model_gbc_final.mdl\n"
     ]
    },
    {
     "name": "stderr",
     "output_type": "stream",
     "text": [
      "  2023-03-24 02:43:55,032 - INFO - Initializing load_model()\n",
      "  2023-03-24 02:43:55,043 - INFO - load_model(model_name=output/models/universal/classification_model_gbc_final.mdl, platform=None, authentication=None, verbose=True)\n"
     ]
    },
    {
     "name": "stdout",
     "output_type": "stream",
     "text": [
      "Transformation Pipeline and Model Successfully Loaded\n"
     ]
    },
    {
     "name": "stderr",
     "output_type": "stream",
     "text": [
      "100%|█████████████████████████████████████████████████████████████████████████████████████| 5/5 [00:20<00:00,  4.18s/it]\n",
      "  2023-03-24 02:44:17,142 - INFO - Model with id: ymijs9OpSmVBQ8KcEnbE created. Please visit the application to proceed\n"
     ]
    },
    {
     "name": "stdout",
     "output_type": "stream",
     "text": [
      "classification_model_knn_final.mdl\n"
     ]
    },
    {
     "name": "stderr",
     "output_type": "stream",
     "text": [
      "  2023-03-24 02:44:17,155 - INFO - Initializing load_model()\n",
      "  2023-03-24 02:44:17,173 - INFO - load_model(model_name=output/models/universal/classification_model_knn_final.mdl, platform=None, authentication=None, verbose=True)\n"
     ]
    },
    {
     "name": "stdout",
     "output_type": "stream",
     "text": [
      "Transformation Pipeline and Model Successfully Loaded\n"
     ]
    },
    {
     "name": "stderr",
     "output_type": "stream",
     "text": [
      "100%|███████████████████████████████████████████████████████████████████████████████████| 63/63 [04:14<00:00,  4.05s/it]\n",
      "  2023-03-24 02:48:34,071 - INFO - Model with id: IfQmVv6ipTVVy888N7ea created. Please visit the application to proceed\n"
     ]
    },
    {
     "name": "stdout",
     "output_type": "stream",
     "text": [
      "classification_model_lightgbm_final.mdl\n"
     ]
    },
    {
     "name": "stderr",
     "output_type": "stream",
     "text": [
      "  2023-03-24 02:48:34,081 - INFO - Initializing load_model()\n",
      "  2023-03-24 02:48:34,088 - INFO - load_model(model_name=output/models/universal/classification_model_lightgbm_final.mdl, platform=None, authentication=None, verbose=True)\n"
     ]
    },
    {
     "name": "stdout",
     "output_type": "stream",
     "text": [
      "Transformation Pipeline and Model Successfully Loaded\n"
     ]
    },
    {
     "name": "stderr",
     "output_type": "stream",
     "text": [
      "  2023-03-24 02:48:35,361 - INFO - Model with id: nVLseMjyeryCGtFcKLsU created. Please visit the application to proceed\n"
     ]
    },
    {
     "name": "stdout",
     "output_type": "stream",
     "text": [
      "classification_model_lr_final.mdl\n"
     ]
    },
    {
     "name": "stderr",
     "output_type": "stream",
     "text": [
      "  2023-03-24 02:48:35,372 - INFO - Initializing load_model()\n",
      "  2023-03-24 02:48:35,382 - INFO - load_model(model_name=output/models/universal/classification_model_lr_final.mdl, platform=None, authentication=None, verbose=True)\n"
     ]
    },
    {
     "name": "stdout",
     "output_type": "stream",
     "text": [
      "Transformation Pipeline and Model Successfully Loaded\n"
     ]
    },
    {
     "name": "stderr",
     "output_type": "stream",
     "text": [
      "  2023-03-24 02:48:35,960 - INFO - Model with id: LMmNJ0sidLfJPHNqkS5a created. Please visit the application to proceed\n"
     ]
    },
    {
     "name": "stdout",
     "output_type": "stream",
     "text": [
      "classification_model_rf_final.mdl\n"
     ]
    },
    {
     "name": "stderr",
     "output_type": "stream",
     "text": [
      "  2023-03-24 02:48:35,968 - INFO - Initializing load_model()\n",
      "  2023-03-24 02:48:35,975 - INFO - load_model(model_name=output/models/universal/classification_model_rf_final.mdl, platform=None, authentication=None, verbose=True)\n"
     ]
    },
    {
     "name": "stdout",
     "output_type": "stream",
     "text": [
      "Transformation Pipeline and Model Successfully Loaded\n"
     ]
    },
    {
     "name": "stderr",
     "output_type": "stream",
     "text": [
      "100%|███████████████████████████████████████████████████████████████████████████████████| 40/40 [02:43<00:00,  4.10s/it]\n",
      "  2023-03-24 02:51:21,367 - INFO - Model with id: oYlpeEt5YFuy7S8wVbo8 created. Please visit the application to proceed\n"
     ]
    },
    {
     "name": "stdout",
     "output_type": "stream",
     "text": [
      "classification_model_svm_final.mdl\n"
     ]
    },
    {
     "name": "stderr",
     "output_type": "stream",
     "text": [
      "  2023-03-24 02:51:21,380 - INFO - Initializing load_model()\n",
      "  2023-03-24 02:51:21,391 - INFO - load_model(model_name=output/models/universal/classification_model_svm_final.mdl, platform=None, authentication=None, verbose=True)\n"
     ]
    },
    {
     "name": "stdout",
     "output_type": "stream",
     "text": [
      "Transformation Pipeline and Model Successfully Loaded\n"
     ]
    },
    {
     "name": "stderr",
     "output_type": "stream",
     "text": [
      "  2023-03-24 02:51:22,048 - INFO - Model with id: V9dE5KWK5f5CRNGiDeSW created. Please visit the application to proceed\n"
     ]
    },
    {
     "name": "stdout",
     "output_type": "stream",
     "text": [
      "regression_model_gbr_final.mdl\n"
     ]
    },
    {
     "name": "stderr",
     "output_type": "stream",
     "text": [
      "  2023-03-24 02:51:22,063 - INFO - Initializing load_model()\n",
      "  2023-03-24 02:51:22,073 - INFO - load_model(model_name=output/models/universal/regression_model_gbr_final.mdl, platform=None, authentication=None, verbose=True)\n"
     ]
    },
    {
     "name": "stdout",
     "output_type": "stream",
     "text": [
      "Transformation Pipeline and Model Successfully Loaded\n"
     ]
    },
    {
     "name": "stderr",
     "output_type": "stream",
     "text": [
      "100%|█████████████████████████████████████████████████████████████████████████████████████| 4/4 [00:17<00:00,  4.46s/it]\n",
      "  2023-03-24 02:51:41,063 - INFO - Model with id: bGnARRgttdLJMeE4LnZm created. Please visit the application to proceed\n"
     ]
    },
    {
     "name": "stdout",
     "output_type": "stream",
     "text": [
      "regression_model_lasso_final.mdl\n"
     ]
    },
    {
     "name": "stderr",
     "output_type": "stream",
     "text": [
      "  2023-03-24 02:51:41,076 - INFO - Initializing load_model()\n",
      "  2023-03-24 02:51:41,087 - INFO - load_model(model_name=output/models/universal/regression_model_lasso_final.mdl, platform=None, authentication=None, verbose=True)\n"
     ]
    },
    {
     "name": "stdout",
     "output_type": "stream",
     "text": [
      "Transformation Pipeline and Model Successfully Loaded\n"
     ]
    },
    {
     "name": "stderr",
     "output_type": "stream",
     "text": [
      "  2023-03-24 02:51:41,708 - INFO - Model with id: j6OmWXuPAS4x0yKWWXjb created. Please visit the application to proceed\n"
     ]
    },
    {
     "name": "stdout",
     "output_type": "stream",
     "text": [
      "regression_model_lightgbm_final.mdl\n"
     ]
    },
    {
     "name": "stderr",
     "output_type": "stream",
     "text": [
      "  2023-03-24 02:51:41,721 - INFO - Initializing load_model()\n",
      "  2023-03-24 02:51:41,733 - INFO - load_model(model_name=output/models/universal/regression_model_lightgbm_final.mdl, platform=None, authentication=None, verbose=True)\n"
     ]
    },
    {
     "name": "stdout",
     "output_type": "stream",
     "text": [
      "Transformation Pipeline and Model Successfully Loaded\n"
     ]
    },
    {
     "name": "stderr",
     "output_type": "stream",
     "text": [
      "100%|█████████████████████████████████████████████████████████████████████████████████████| 5/5 [00:21<00:00,  4.32s/it]\n",
      "  2023-03-24 02:52:03,866 - INFO - Model with id: MXzexjT70HElQKdNtV8i created. Please visit the application to proceed\n"
     ]
    },
    {
     "name": "stdout",
     "output_type": "stream",
     "text": [
      "regression_model_lr_final.mdl\n"
     ]
    },
    {
     "name": "stderr",
     "output_type": "stream",
     "text": [
      "  2023-03-24 02:52:03,878 - INFO - Initializing load_model()\n",
      "  2023-03-24 02:52:03,888 - INFO - load_model(model_name=output/models/universal/regression_model_lr_final.mdl, platform=None, authentication=None, verbose=True)\n"
     ]
    },
    {
     "name": "stdout",
     "output_type": "stream",
     "text": [
      "Transformation Pipeline and Model Successfully Loaded\n"
     ]
    },
    {
     "name": "stderr",
     "output_type": "stream",
     "text": [
      "  2023-03-24 02:52:04,527 - INFO - Model with id: g63pmNBG10mTZTxxmylJ created. Please visit the application to proceed\n"
     ]
    },
    {
     "name": "stdout",
     "output_type": "stream",
     "text": [
      "regression_model_ridge_final.mdl\n"
     ]
    },
    {
     "name": "stderr",
     "output_type": "stream",
     "text": [
      "  2023-03-24 02:52:04,537 - INFO - Initializing load_model()\n",
      "  2023-03-24 02:52:04,543 - INFO - load_model(model_name=output/models/universal/regression_model_ridge_final.mdl, platform=None, authentication=None, verbose=True)\n"
     ]
    },
    {
     "name": "stdout",
     "output_type": "stream",
     "text": [
      "Transformation Pipeline and Model Successfully Loaded\n"
     ]
    },
    {
     "name": "stderr",
     "output_type": "stream",
     "text": [
      "  2023-03-24 02:52:05,191 - INFO - Model with id: 2FYuhxgIrtSAjzsF5H37 created. Please visit the application to proceed\n"
     ]
    },
    {
     "name": "stdout",
     "output_type": "stream",
     "text": [
      "regression_model_svm_final.mdl\n"
     ]
    },
    {
     "name": "stderr",
     "output_type": "stream",
     "text": [
      "  2023-03-24 02:52:05,202 - INFO - Initializing load_model()\n",
      "  2023-03-24 02:52:05,210 - INFO - load_model(model_name=output/models/universal/regression_model_svm_final.mdl, platform=None, authentication=None, verbose=True)\n"
     ]
    },
    {
     "name": "stdout",
     "output_type": "stream",
     "text": [
      "Transformation Pipeline and Model Successfully Loaded\n"
     ]
    },
    {
     "name": "stderr",
     "output_type": "stream",
     "text": [
      "100%|███████████████████████████████████████████████████████████████████████████████████| 24/24 [01:42<00:00,  4.25s/it]\n",
      "  2023-03-24 02:53:48,206 - INFO - Model with id: XCacRg8l0niLZmmnEZZw created. Please visit the application to proceed\n"
     ]
    }
   ],
   "source": [
    "for t in ['carbon_based', 'nanotube', 'oxide', 'quantum_dot', 'universal']:\n",
    "    \n",
    "    list_files = os.listdir('output/models/'+t)\n",
    "    list_files = [f for f in list_files if(f.endswith('final.mdl.pkl'))]\n",
    "    \n",
    "    for f in list_files:\n",
    "        f = f.replace('.mdl.pkl', '.mdl')\n",
    "        print(f)\n",
    "        \n",
    "        loaded_model = load_model('output/models/'+t+'/'+f)\n",
    "        \n",
    "        f_terms = f.split('_')\n",
    "        \n",
    "        problem_type = f_terms[0]\n",
    "        model_type = f_terms[2]\n",
    "        \n",
    "        if(model_type == 'lightgbm'):\n",
    "            model_type = 'LightGBM'\n",
    "        elif(model_type == 'ridge'):\n",
    "            model_type = 'Ridge'\n",
    "        else:\n",
    "            model_type = model_type.upper()\n",
    "            \n",
    "        #problem_type = problem_type.capitalize()\n",
    "        \n",
    "        \n",
    "        jaqpot.deploy_sklearn(loaded_model, \n",
    "                              df, \n",
    "                              df, \n",
    "                              title= model_type + \" \" + problem_type+\" model to predict cell viability (\"+t+\")\", \n",
    "                              description= model_type + \" \" + problem_type+\" model to predict cell viability (\"+t+\")\")\n",
    "        "
   ]
  }
 ],
 "metadata": {
  "kernelspec": {
   "display_name": "Python 3 (ipykernel)",
   "language": "python",
   "name": "python3"
  },
  "language_info": {
   "codemirror_mode": {
    "name": "ipython",
    "version": 3
   },
   "file_extension": ".py",
   "mimetype": "text/x-python",
   "name": "python",
   "nbconvert_exporter": "python",
   "pygments_lexer": "ipython3",
   "version": "3.8.13"
  }
 },
 "nbformat": 4,
 "nbformat_minor": 5
}
