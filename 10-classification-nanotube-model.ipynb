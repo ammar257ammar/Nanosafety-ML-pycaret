{
 "cells": [
  {
   "cell_type": "markdown",
   "id": "c772a64f-823c-4973-bf41-3c9a239c601a",
   "metadata": {},
   "source": [
    "# Group-based Classification Models"
   ]
  },
  {
   "cell_type": "markdown",
   "id": "6cc25fc3-e84a-4d87-ace3-e947218d58aa",
   "metadata": {},
   "source": [
    "### Importing libraries and define functions"
   ]
  },
  {
   "cell_type": "code",
   "execution_count": 1,
   "id": "5e31b3ce-df35-4b10-a99a-2f753f523fb9",
   "metadata": {},
   "outputs": [],
   "source": [
    "import pandas as pd\n",
    "import numpy as np\n",
    "import scipy\n",
    "import math\n",
    "import os\n",
    "import sys"
   ]
  },
  {
   "cell_type": "code",
   "execution_count": 2,
   "id": "8375cb30",
   "metadata": {},
   "outputs": [],
   "source": [
    "# Managing Warnings \n",
    "import warnings\n",
    "warnings.filterwarnings('ignore')\n",
    "\n",
    "if not sys.warnoptions:\n",
    "    warnings.simplefilter(\"ignore\")\n",
    "    os.environ[\"PYTHONWARNINGS\"] = \"ignore\" # Also affect subprocesses"
   ]
  },
  {
   "cell_type": "code",
   "execution_count": 3,
   "id": "2d2c745b-9e8f-415c-a43c-f08fb5937b46",
   "metadata": {},
   "outputs": [],
   "source": [
    "import sklearn\n",
    "from sklearn.decomposition import PCA\n",
    "from sklearn import preprocessing\n",
    "from sklearn.impute import SimpleImputer\n",
    "from sklearn.model_selection import StratifiedKFold\n",
    "from sklearn.model_selection import cross_val_score\n",
    "from sklearn.model_selection import cross_validate"
   ]
  },
  {
   "cell_type": "code",
   "execution_count": 4,
   "id": "5b9378dc",
   "metadata": {},
   "outputs": [],
   "source": [
    "from yellowbrick.classifier import ROCAUC\n",
    "from yellowbrick.classifier import ClassPredictionError\n",
    "from yellowbrick.classifier import PrecisionRecallCurve\n",
    "from yellowbrick.classifier import ConfusionMatrix\n",
    "from yellowbrick.classifier import DiscriminationThreshold\n",
    "from yellowbrick.model_selection import FeatureImportances\n",
    "import matplotlib.pyplot as plt"
   ]
  },
  {
   "cell_type": "code",
   "execution_count": 5,
   "id": "03a6e29f",
   "metadata": {},
   "outputs": [],
   "source": [
    "from pycaret.classification import *"
   ]
  },
  {
   "cell_type": "code",
   "execution_count": 6,
   "id": "8d5a3c8a",
   "metadata": {},
   "outputs": [],
   "source": [
    "import functions as f"
   ]
  },
  {
   "cell_type": "code",
   "execution_count": 7,
   "id": "d563849c",
   "metadata": {},
   "outputs": [],
   "source": [
    "from copy import deepcopy"
   ]
  },
  {
   "cell_type": "markdown",
   "id": "ea5e030a",
   "metadata": {},
   "source": [
    "# Nanotubes classification model"
   ]
  },
  {
   "cell_type": "code",
   "execution_count": 8,
   "id": "a92e9968",
   "metadata": {},
   "outputs": [],
   "source": [
    "model_group_name = \"nanotube\"\n",
    "group_name = \"nanotubes\""
   ]
  },
  {
   "cell_type": "markdown",
   "id": "bf6d7f7e",
   "metadata": {},
   "source": [
    "### Load the data and filter instances"
   ]
  },
  {
   "cell_type": "code",
   "execution_count": 9,
   "id": "da49b7e9",
   "metadata": {},
   "outputs": [],
   "source": [
    "data_train_df = pd.read_csv(\"output/datasets/universal/data_classification_train_df.csv\", encoding=\"utf-8\")\n",
    "data_test_df = pd.read_csv(\"output/datasets/universal/data_classification_test_df.csv\", encoding=\"utf-8\")\n",
    "data_df = pd.concat([data_train_df,data_test_df])\n",
    "\n",
    "del data_train_df\n",
    "del data_test_df"
   ]
  },
  {
   "cell_type": "code",
   "execution_count": 10,
   "id": "f38a5c13",
   "metadata": {},
   "outputs": [
    {
     "data": {
      "text/plain": [
       "(11315, 20)"
      ]
     },
     "execution_count": 10,
     "metadata": {},
     "output_type": "execute_result"
    }
   ],
   "source": [
    "data_df.shape"
   ]
  },
  {
   "cell_type": "code",
   "execution_count": 11,
   "id": "c4e127fb",
   "metadata": {},
   "outputs": [],
   "source": [
    "data_group_df = data_df[data_df['nanomaterial_group'] == group_name]"
   ]
  },
  {
   "cell_type": "code",
   "execution_count": 12,
   "id": "037994ee",
   "metadata": {},
   "outputs": [
    {
     "data": {
      "text/plain": [
       "(675, 20)"
      ]
     },
     "execution_count": 12,
     "metadata": {},
     "output_type": "execute_result"
    }
   ],
   "source": [
    "data_group_df.shape"
   ]
  },
  {
   "cell_type": "code",
   "execution_count": 13,
   "id": "ea457428",
   "metadata": {},
   "outputs": [
    {
     "data": {
      "text/html": [
       "<div>\n",
       "<style scoped>\n",
       "    .dataframe tbody tr th:only-of-type {\n",
       "        vertical-align: middle;\n",
       "    }\n",
       "\n",
       "    .dataframe tbody tr th {\n",
       "        vertical-align: top;\n",
       "    }\n",
       "\n",
       "    .dataframe thead th {\n",
       "        text-align: right;\n",
       "    }\n",
       "</style>\n",
       "<table border=\"1\" class=\"dataframe\">\n",
       "  <thead>\n",
       "    <tr style=\"text-align: right;\">\n",
       "      <th></th>\n",
       "      <th>NP_type</th>\n",
       "      <th>Coating</th>\n",
       "      <th>core_size_nm</th>\n",
       "      <th>hydro_size_nm</th>\n",
       "      <th>Surf_charge_mV</th>\n",
       "      <th>Surface_area_m2_g</th>\n",
       "      <th>shape</th>\n",
       "      <th>Dose_microg_mL</th>\n",
       "      <th>Duration_h</th>\n",
       "      <th>Cell_name</th>\n",
       "      <th>Cell_species</th>\n",
       "      <th>cell_Organ</th>\n",
       "      <th>Cell_morphology</th>\n",
       "      <th>Cell_age</th>\n",
       "      <th>cell_type</th>\n",
       "      <th>sex</th>\n",
       "      <th>Assay</th>\n",
       "      <th>Test_indicator</th>\n",
       "      <th>nanomaterial_group</th>\n",
       "      <th>viability_class</th>\n",
       "    </tr>\n",
       "  </thead>\n",
       "  <tbody>\n",
       "    <tr>\n",
       "      <th>14</th>\n",
       "      <td>Nanotubes</td>\n",
       "      <td>None</td>\n",
       "      <td>68.0</td>\n",
       "      <td>NaN</td>\n",
       "      <td>NaN</td>\n",
       "      <td>NaN</td>\n",
       "      <td>NaN</td>\n",
       "      <td>0.00</td>\n",
       "      <td>96.0</td>\n",
       "      <td>HMM</td>\n",
       "      <td>Human</td>\n",
       "      <td>Blood</td>\n",
       "      <td>Monocyte/Macrophage</td>\n",
       "      <td>Adult</td>\n",
       "      <td>Normal</td>\n",
       "      <td>NaN</td>\n",
       "      <td>Live/Dead</td>\n",
       "      <td>toluylene red</td>\n",
       "      <td>nanotubes</td>\n",
       "      <td>NonToxic</td>\n",
       "    </tr>\n",
       "    <tr>\n",
       "      <th>33</th>\n",
       "      <td>MWCNT</td>\n",
       "      <td>None</td>\n",
       "      <td>74.0</td>\n",
       "      <td>NaN</td>\n",
       "      <td>NaN</td>\n",
       "      <td>22.0</td>\n",
       "      <td>NaN</td>\n",
       "      <td>190.00</td>\n",
       "      <td>4.0</td>\n",
       "      <td>BEAS_2B</td>\n",
       "      <td>Human</td>\n",
       "      <td>Lung</td>\n",
       "      <td>Epithelial</td>\n",
       "      <td>Adult</td>\n",
       "      <td>Normal</td>\n",
       "      <td>NaN</td>\n",
       "      <td>Trypan_Blue</td>\n",
       "      <td>Trypan_Blue</td>\n",
       "      <td>nanotubes</td>\n",
       "      <td>NonToxic</td>\n",
       "    </tr>\n",
       "    <tr>\n",
       "      <th>56</th>\n",
       "      <td>Nanotubes</td>\n",
       "      <td>metal catalyst residues</td>\n",
       "      <td>1.3</td>\n",
       "      <td>NaN</td>\n",
       "      <td>NaN</td>\n",
       "      <td>NaN</td>\n",
       "      <td>NaN</td>\n",
       "      <td>32.08</td>\n",
       "      <td>48.0</td>\n",
       "      <td>A549</td>\n",
       "      <td>Human</td>\n",
       "      <td>Lung</td>\n",
       "      <td>Epithelial</td>\n",
       "      <td>Adult</td>\n",
       "      <td>cancer</td>\n",
       "      <td>male</td>\n",
       "      <td>LDH</td>\n",
       "      <td>LDHrelease</td>\n",
       "      <td>nanotubes</td>\n",
       "      <td>NonToxic</td>\n",
       "    </tr>\n",
       "    <tr>\n",
       "      <th>66</th>\n",
       "      <td>MWCNT</td>\n",
       "      <td>None</td>\n",
       "      <td>17.4</td>\n",
       "      <td>NaN</td>\n",
       "      <td>-18.9</td>\n",
       "      <td>NaN</td>\n",
       "      <td>Needle</td>\n",
       "      <td>4.00</td>\n",
       "      <td>24.0</td>\n",
       "      <td>HUVEC</td>\n",
       "      <td>Human</td>\n",
       "      <td>Umbilical</td>\n",
       "      <td>Endothelial</td>\n",
       "      <td>fetus</td>\n",
       "      <td>Normal</td>\n",
       "      <td>NaN</td>\n",
       "      <td>NR</td>\n",
       "      <td>toluylene red</td>\n",
       "      <td>nanotubes</td>\n",
       "      <td>NonToxic</td>\n",
       "    </tr>\n",
       "    <tr>\n",
       "      <th>67</th>\n",
       "      <td>MWCNT</td>\n",
       "      <td>None</td>\n",
       "      <td>5.0</td>\n",
       "      <td>NaN</td>\n",
       "      <td>NaN</td>\n",
       "      <td>NaN</td>\n",
       "      <td>Needle</td>\n",
       "      <td>50.00</td>\n",
       "      <td>24.0</td>\n",
       "      <td>THP_1</td>\n",
       "      <td>Human</td>\n",
       "      <td>Blood</td>\n",
       "      <td>monocyte</td>\n",
       "      <td>neonate</td>\n",
       "      <td>cancer</td>\n",
       "      <td>male</td>\n",
       "      <td>WST-1</td>\n",
       "      <td>TetrazoliumSalt</td>\n",
       "      <td>nanotubes</td>\n",
       "      <td>Toxic</td>\n",
       "    </tr>\n",
       "  </tbody>\n",
       "</table>\n",
       "</div>"
      ],
      "text/plain": [
       "      NP_type                  Coating  core_size_nm  hydro_size_nm  \\\n",
       "14  Nanotubes                     None          68.0            NaN   \n",
       "33      MWCNT                     None          74.0            NaN   \n",
       "56  Nanotubes  metal catalyst residues           1.3            NaN   \n",
       "66      MWCNT                     None          17.4            NaN   \n",
       "67      MWCNT                     None           5.0            NaN   \n",
       "\n",
       "    Surf_charge_mV  Surface_area_m2_g   shape  Dose_microg_mL  Duration_h  \\\n",
       "14             NaN                NaN     NaN            0.00        96.0   \n",
       "33             NaN               22.0     NaN          190.00         4.0   \n",
       "56             NaN                NaN     NaN           32.08        48.0   \n",
       "66           -18.9                NaN  Needle            4.00        24.0   \n",
       "67             NaN                NaN  Needle           50.00        24.0   \n",
       "\n",
       "   Cell_name Cell_species cell_Organ      Cell_morphology Cell_age cell_type  \\\n",
       "14       HMM        Human      Blood  Monocyte/Macrophage    Adult    Normal   \n",
       "33   BEAS_2B        Human       Lung           Epithelial    Adult    Normal   \n",
       "56      A549        Human       Lung           Epithelial    Adult    cancer   \n",
       "66     HUVEC        Human  Umbilical          Endothelial    fetus    Normal   \n",
       "67     THP_1        Human      Blood             monocyte  neonate    cancer   \n",
       "\n",
       "     sex        Assay   Test_indicator nanomaterial_group viability_class  \n",
       "14   NaN    Live/Dead    toluylene red          nanotubes        NonToxic  \n",
       "33   NaN  Trypan_Blue      Trypan_Blue          nanotubes        NonToxic  \n",
       "56  male          LDH       LDHrelease          nanotubes        NonToxic  \n",
       "66   NaN           NR    toluylene red          nanotubes        NonToxic  \n",
       "67  male        WST-1  TetrazoliumSalt          nanotubes           Toxic  "
      ]
     },
     "execution_count": 13,
     "metadata": {},
     "output_type": "execute_result"
    }
   ],
   "source": [
    "data_group_df.head()"
   ]
  },
  {
   "cell_type": "markdown",
   "id": "25ca8bfa",
   "metadata": {},
   "source": [
    "### Create training set and test set"
   ]
  },
  {
   "cell_type": "code",
   "execution_count": 14,
   "id": "bcf76419",
   "metadata": {},
   "outputs": [
    {
     "data": {
      "text/html": [
       "<style type=\"text/css\">\n",
       "#T_da4d7_row5_col1 {\n",
       "  background-color: lightgreen;\n",
       "}\n",
       "</style>\n",
       "<table id=\"T_da4d7\">\n",
       "  <thead>\n",
       "    <tr>\n",
       "      <th class=\"blank level0\" >&nbsp;</th>\n",
       "      <th id=\"T_da4d7_level0_col0\" class=\"col_heading level0 col0\" >Description</th>\n",
       "      <th id=\"T_da4d7_level0_col1\" class=\"col_heading level0 col1\" >Value</th>\n",
       "    </tr>\n",
       "  </thead>\n",
       "  <tbody>\n",
       "    <tr>\n",
       "      <th id=\"T_da4d7_level0_row0\" class=\"row_heading level0 row0\" >0</th>\n",
       "      <td id=\"T_da4d7_row0_col0\" class=\"data row0 col0\" >session_id</td>\n",
       "      <td id=\"T_da4d7_row0_col1\" class=\"data row0 col1\" >123</td>\n",
       "    </tr>\n",
       "    <tr>\n",
       "      <th id=\"T_da4d7_level0_row1\" class=\"row_heading level0 row1\" >1</th>\n",
       "      <td id=\"T_da4d7_row1_col0\" class=\"data row1 col0\" >Target</td>\n",
       "      <td id=\"T_da4d7_row1_col1\" class=\"data row1 col1\" >viability_class</td>\n",
       "    </tr>\n",
       "    <tr>\n",
       "      <th id=\"T_da4d7_level0_row2\" class=\"row_heading level0 row2\" >2</th>\n",
       "      <td id=\"T_da4d7_row2_col0\" class=\"data row2 col0\" >Target Type</td>\n",
       "      <td id=\"T_da4d7_row2_col1\" class=\"data row2 col1\" >Binary</td>\n",
       "    </tr>\n",
       "    <tr>\n",
       "      <th id=\"T_da4d7_level0_row3\" class=\"row_heading level0 row3\" >3</th>\n",
       "      <td id=\"T_da4d7_row3_col0\" class=\"data row3 col0\" >Label Encoded</td>\n",
       "      <td id=\"T_da4d7_row3_col1\" class=\"data row3 col1\" >NonToxic: 0, Toxic: 1</td>\n",
       "    </tr>\n",
       "    <tr>\n",
       "      <th id=\"T_da4d7_level0_row4\" class=\"row_heading level0 row4\" >4</th>\n",
       "      <td id=\"T_da4d7_row4_col0\" class=\"data row4 col0\" >Original Data</td>\n",
       "      <td id=\"T_da4d7_row4_col1\" class=\"data row4 col1\" >(675, 20)</td>\n",
       "    </tr>\n",
       "    <tr>\n",
       "      <th id=\"T_da4d7_level0_row5\" class=\"row_heading level0 row5\" >5</th>\n",
       "      <td id=\"T_da4d7_row5_col0\" class=\"data row5 col0\" >Missing Values</td>\n",
       "      <td id=\"T_da4d7_row5_col1\" class=\"data row5 col1\" >True</td>\n",
       "    </tr>\n",
       "    <tr>\n",
       "      <th id=\"T_da4d7_level0_row6\" class=\"row_heading level0 row6\" >6</th>\n",
       "      <td id=\"T_da4d7_row6_col0\" class=\"data row6 col0\" >Numeric Features</td>\n",
       "      <td id=\"T_da4d7_row6_col1\" class=\"data row6 col1\" >6</td>\n",
       "    </tr>\n",
       "    <tr>\n",
       "      <th id=\"T_da4d7_level0_row7\" class=\"row_heading level0 row7\" >7</th>\n",
       "      <td id=\"T_da4d7_row7_col0\" class=\"data row7 col0\" >Categorical Features</td>\n",
       "      <td id=\"T_da4d7_row7_col1\" class=\"data row7 col1\" >13</td>\n",
       "    </tr>\n",
       "    <tr>\n",
       "      <th id=\"T_da4d7_level0_row8\" class=\"row_heading level0 row8\" >8</th>\n",
       "      <td id=\"T_da4d7_row8_col0\" class=\"data row8 col0\" >Transformed Train Set</td>\n",
       "      <td id=\"T_da4d7_row8_col1\" class=\"data row8 col1\" >(540, 19)</td>\n",
       "    </tr>\n",
       "    <tr>\n",
       "      <th id=\"T_da4d7_level0_row9\" class=\"row_heading level0 row9\" >9</th>\n",
       "      <td id=\"T_da4d7_row9_col0\" class=\"data row9 col0\" >Transformed Test Set</td>\n",
       "      <td id=\"T_da4d7_row9_col1\" class=\"data row9 col1\" >(135, 19)</td>\n",
       "    </tr>\n",
       "    <tr>\n",
       "      <th id=\"T_da4d7_level0_row10\" class=\"row_heading level0 row10\" >10</th>\n",
       "      <td id=\"T_da4d7_row10_col0\" class=\"data row10 col0\" >Shuffle Train-Test</td>\n",
       "      <td id=\"T_da4d7_row10_col1\" class=\"data row10 col1\" >True</td>\n",
       "    </tr>\n",
       "    <tr>\n",
       "      <th id=\"T_da4d7_level0_row11\" class=\"row_heading level0 row11\" >11</th>\n",
       "      <td id=\"T_da4d7_row11_col0\" class=\"data row11 col0\" >Stratify Train-Test</td>\n",
       "      <td id=\"T_da4d7_row11_col1\" class=\"data row11 col1\" >True</td>\n",
       "    </tr>\n",
       "    <tr>\n",
       "      <th id=\"T_da4d7_level0_row12\" class=\"row_heading level0 row12\" >12</th>\n",
       "      <td id=\"T_da4d7_row12_col0\" class=\"data row12 col0\" >Fold Generator</td>\n",
       "      <td id=\"T_da4d7_row12_col1\" class=\"data row12 col1\" >StratifiedKFold</td>\n",
       "    </tr>\n",
       "    <tr>\n",
       "      <th id=\"T_da4d7_level0_row13\" class=\"row_heading level0 row13\" >13</th>\n",
       "      <td id=\"T_da4d7_row13_col0\" class=\"data row13 col0\" >Fold Number</td>\n",
       "      <td id=\"T_da4d7_row13_col1\" class=\"data row13 col1\" >10</td>\n",
       "    </tr>\n",
       "    <tr>\n",
       "      <th id=\"T_da4d7_level0_row14\" class=\"row_heading level0 row14\" >14</th>\n",
       "      <td id=\"T_da4d7_row14_col0\" class=\"data row14 col0\" >CPU Jobs</td>\n",
       "      <td id=\"T_da4d7_row14_col1\" class=\"data row14 col1\" >-1</td>\n",
       "    </tr>\n",
       "    <tr>\n",
       "      <th id=\"T_da4d7_level0_row15\" class=\"row_heading level0 row15\" >15</th>\n",
       "      <td id=\"T_da4d7_row15_col0\" class=\"data row15 col0\" >Use GPU</td>\n",
       "      <td id=\"T_da4d7_row15_col1\" class=\"data row15 col1\" >False</td>\n",
       "    </tr>\n",
       "    <tr>\n",
       "      <th id=\"T_da4d7_level0_row16\" class=\"row_heading level0 row16\" >16</th>\n",
       "      <td id=\"T_da4d7_row16_col0\" class=\"data row16 col0\" >Log Experiment</td>\n",
       "      <td id=\"T_da4d7_row16_col1\" class=\"data row16 col1\" >False</td>\n",
       "    </tr>\n",
       "    <tr>\n",
       "      <th id=\"T_da4d7_level0_row17\" class=\"row_heading level0 row17\" >17</th>\n",
       "      <td id=\"T_da4d7_row17_col0\" class=\"data row17 col0\" >Experiment Name</td>\n",
       "      <td id=\"T_da4d7_row17_col1\" class=\"data row17 col1\" >splitter</td>\n",
       "    </tr>\n",
       "    <tr>\n",
       "      <th id=\"T_da4d7_level0_row18\" class=\"row_heading level0 row18\" >18</th>\n",
       "      <td id=\"T_da4d7_row18_col0\" class=\"data row18 col0\" >USI</td>\n",
       "      <td id=\"T_da4d7_row18_col1\" class=\"data row18 col1\" >fd42</td>\n",
       "    </tr>\n",
       "    <tr>\n",
       "      <th id=\"T_da4d7_level0_row19\" class=\"row_heading level0 row19\" >19</th>\n",
       "      <td id=\"T_da4d7_row19_col0\" class=\"data row19 col0\" >Fix Imbalance</td>\n",
       "      <td id=\"T_da4d7_row19_col1\" class=\"data row19 col1\" >False</td>\n",
       "    </tr>\n",
       "    <tr>\n",
       "      <th id=\"T_da4d7_level0_row20\" class=\"row_heading level0 row20\" >20</th>\n",
       "      <td id=\"T_da4d7_row20_col0\" class=\"data row20 col0\" >Fix Imbalance Method</td>\n",
       "      <td id=\"T_da4d7_row20_col1\" class=\"data row20 col1\" >SMOTE</td>\n",
       "    </tr>\n",
       "  </tbody>\n",
       "</table>\n"
      ],
      "text/plain": [
       "<pandas.io.formats.style.Styler at 0x7ff3c847deb0>"
      ]
     },
     "metadata": {},
     "output_type": "display_data"
    }
   ],
   "source": [
    "splitter = setup(data = data_group_df, target = 'viability_class',\n",
    "                 preprocess = False,\n",
    "                 train_size=0.8,\n",
    "                 data_split_stratify=True,\n",
    "                 # don't change the following\n",
    "                 session_id = 123,\n",
    "                 use_gpu=False,\n",
    "                 log_experiment = False,\n",
    "                 silent=True,\n",
    "                 experiment_name = 'splitter')"
   ]
  },
  {
   "cell_type": "code",
   "execution_count": 15,
   "id": "3898aa43",
   "metadata": {},
   "outputs": [],
   "source": [
    "data_group_train_df = get_config(variable=\"X_train\").copy()\n",
    "data_group_train_df['viability_class'] = get_config(variable=\"y_train\").copy()\n",
    "\n",
    "data_group_test_df = get_config(variable=\"X_test\").copy()\n",
    "data_group_test_df['viability_class'] = get_config(variable=\"y_test\").copy()"
   ]
  },
  {
   "cell_type": "code",
   "execution_count": 16,
   "id": "f0804450",
   "metadata": {},
   "outputs": [
    {
     "name": "stdout",
     "output_type": "stream",
     "text": [
      "(540, 20)\n",
      "(135, 20)\n"
     ]
    }
   ],
   "source": [
    "print(data_group_train_df.shape)\n",
    "print(data_group_test_df.shape)"
   ]
  },
  {
   "cell_type": "code",
   "execution_count": 17,
   "id": "e53cd4f1",
   "metadata": {},
   "outputs": [
    {
     "data": {
      "image/png": "[encoded data removed]",
      "text/plain": [
       "<Figure size 2000x3000 with 7 Axes>"
      ]
     },
     "metadata": {},
     "output_type": "display_data"
    }
   ],
   "source": [
    "f.plot_distribution_train_test(data_group_train_df, data_group_test_df)"
   ]
  },
  {
   "cell_type": "markdown",
   "id": "8b9b00e8",
   "metadata": {},
   "source": [
    "### Save cleaned datasets"
   ]
  },
  {
   "cell_type": "code",
   "execution_count": 18,
   "id": "d2f791ac",
   "metadata": {},
   "outputs": [],
   "source": [
    "data_group_train_df.to_csv('output/datasets/'+model_group_name+'/data_classification_train_df.csv', encoding='utf-8', index=False)"
   ]
  },
  {
   "cell_type": "code",
   "execution_count": 19,
   "id": "28b9aa49",
   "metadata": {},
   "outputs": [],
   "source": [
    "data_group_test_df.to_csv('output/datasets/'+model_group_name+'/data_classification_test_df.csv', encoding='utf-8', index=False)"
   ]
  },
  {
   "cell_type": "markdown",
   "id": "cffe023c-bf03-4ba8-a278-8b1261da6572",
   "metadata": {},
   "source": [
    "### Use the best scenario identified in step 01"
   ]
  },
  {
   "cell_type": "code",
   "execution_count": 20,
   "id": "2cf8d7ef",
   "metadata": {},
   "outputs": [],
   "source": [
    "sc_ignore_features = ['nanomaterial_group', 'Coating', 'Cell_name']\n",
    "sc_bin_numeric_features = None\n",
    "sc_high_cardinality_features = None\n",
    "\n",
    "sc_imputation_type = 'simple'\n",
    "sc_numeric_imputation = 'median'\n",
    "\n",
    "sc_normalize = True\n",
    "sc_remove_outliers = False"
   ]
  },
  {
   "cell_type": "markdown",
   "id": "eb0fb96c",
   "metadata": {},
   "source": [
    "### Define seeds"
   ]
  },
  {
   "cell_type": "code",
   "execution_count": 21,
   "id": "7db1802e",
   "metadata": {},
   "outputs": [],
   "source": [
    "cv_inner_seed = 834\n",
    "cv_outer_seed = 123"
   ]
  },
  {
   "cell_type": "markdown",
   "id": "b866744f",
   "metadata": {},
   "source": [
    "### Data Preprcoessing"
   ]
  },
  {
   "cell_type": "code",
   "execution_count": 22,
   "id": "cb2a02f9",
   "metadata": {},
   "outputs": [
    {
     "data": {
      "text/html": [
       "<style type=\"text/css\">\n",
       "#T_e2d6e_row5_col1, #T_e2d6e_row29_col1, #T_e2d6e_row36_col1, #T_e2d6e_row44_col1, #T_e2d6e_row58_col1 {\n",
       "  background-color: lightgreen;\n",
       "}\n",
       "</style>\n",
       "<table id=\"T_e2d6e\">\n",
       "  <thead>\n",
       "    <tr>\n",
       "      <th class=\"blank level0\" >&nbsp;</th>\n",
       "      <th id=\"T_e2d6e_level0_col0\" class=\"col_heading level0 col0\" >Description</th>\n",
       "      <th id=\"T_e2d6e_level0_col1\" class=\"col_heading level0 col1\" >Value</th>\n",
       "    </tr>\n",
       "  </thead>\n",
       "  <tbody>\n",
       "    <tr>\n",
       "      <th id=\"T_e2d6e_level0_row0\" class=\"row_heading level0 row0\" >0</th>\n",
       "      <td id=\"T_e2d6e_row0_col0\" class=\"data row0 col0\" >session_id</td>\n",
       "      <td id=\"T_e2d6e_row0_col1\" class=\"data row0 col1\" >834</td>\n",
       "    </tr>\n",
       "    <tr>\n",
       "      <th id=\"T_e2d6e_level0_row1\" class=\"row_heading level0 row1\" >1</th>\n",
       "      <td id=\"T_e2d6e_row1_col0\" class=\"data row1 col0\" >Target</td>\n",
       "      <td id=\"T_e2d6e_row1_col1\" class=\"data row1 col1\" >viability_class</td>\n",
       "    </tr>\n",
       "    <tr>\n",
       "      <th id=\"T_e2d6e_level0_row2\" class=\"row_heading level0 row2\" >2</th>\n",
       "      <td id=\"T_e2d6e_row2_col0\" class=\"data row2 col0\" >Target Type</td>\n",
       "      <td id=\"T_e2d6e_row2_col1\" class=\"data row2 col1\" >Binary</td>\n",
       "    </tr>\n",
       "    <tr>\n",
       "      <th id=\"T_e2d6e_level0_row3\" class=\"row_heading level0 row3\" >3</th>\n",
       "      <td id=\"T_e2d6e_row3_col0\" class=\"data row3 col0\" >Label Encoded</td>\n",
       "      <td id=\"T_e2d6e_row3_col1\" class=\"data row3 col1\" >None</td>\n",
       "    </tr>\n",
       "    <tr>\n",
       "      <th id=\"T_e2d6e_level0_row4\" class=\"row_heading level0 row4\" >4</th>\n",
       "      <td id=\"T_e2d6e_row4_col0\" class=\"data row4 col0\" >Original Data</td>\n",
       "      <td id=\"T_e2d6e_row4_col1\" class=\"data row4 col1\" >(540, 20)</td>\n",
       "    </tr>\n",
       "    <tr>\n",
       "      <th id=\"T_e2d6e_level0_row5\" class=\"row_heading level0 row5\" >5</th>\n",
       "      <td id=\"T_e2d6e_row5_col0\" class=\"data row5 col0\" >Missing Values</td>\n",
       "      <td id=\"T_e2d6e_row5_col1\" class=\"data row5 col1\" >True</td>\n",
       "    </tr>\n",
       "    <tr>\n",
       "      <th id=\"T_e2d6e_level0_row6\" class=\"row_heading level0 row6\" >6</th>\n",
       "      <td id=\"T_e2d6e_row6_col0\" class=\"data row6 col0\" >Numeric Features</td>\n",
       "      <td id=\"T_e2d6e_row6_col1\" class=\"data row6 col1\" >6</td>\n",
       "    </tr>\n",
       "    <tr>\n",
       "      <th id=\"T_e2d6e_level0_row7\" class=\"row_heading level0 row7\" >7</th>\n",
       "      <td id=\"T_e2d6e_row7_col0\" class=\"data row7 col0\" >Categorical Features</td>\n",
       "      <td id=\"T_e2d6e_row7_col1\" class=\"data row7 col1\" >10</td>\n",
       "    </tr>\n",
       "    <tr>\n",
       "      <th id=\"T_e2d6e_level0_row8\" class=\"row_heading level0 row8\" >8</th>\n",
       "      <td id=\"T_e2d6e_row8_col0\" class=\"data row8 col0\" >Ordinal Features</td>\n",
       "      <td id=\"T_e2d6e_row8_col1\" class=\"data row8 col1\" >False</td>\n",
       "    </tr>\n",
       "    <tr>\n",
       "      <th id=\"T_e2d6e_level0_row9\" class=\"row_heading level0 row9\" >9</th>\n",
       "      <td id=\"T_e2d6e_row9_col0\" class=\"data row9 col0\" >High Cardinality Features</td>\n",
       "      <td id=\"T_e2d6e_row9_col1\" class=\"data row9 col1\" >False</td>\n",
       "    </tr>\n",
       "    <tr>\n",
       "      <th id=\"T_e2d6e_level0_row10\" class=\"row_heading level0 row10\" >10</th>\n",
       "      <td id=\"T_e2d6e_row10_col0\" class=\"data row10 col0\" >High Cardinality Method</td>\n",
       "      <td id=\"T_e2d6e_row10_col1\" class=\"data row10 col1\" >None</td>\n",
       "    </tr>\n",
       "    <tr>\n",
       "      <th id=\"T_e2d6e_level0_row11\" class=\"row_heading level0 row11\" >11</th>\n",
       "      <td id=\"T_e2d6e_row11_col0\" class=\"data row11 col0\" >Transformed Train Set</td>\n",
       "      <td id=\"T_e2d6e_row11_col1\" class=\"data row11 col1\" >(540, 52)</td>\n",
       "    </tr>\n",
       "    <tr>\n",
       "      <th id=\"T_e2d6e_level0_row12\" class=\"row_heading level0 row12\" >12</th>\n",
       "      <td id=\"T_e2d6e_row12_col0\" class=\"data row12 col0\" >Transformed Test Set</td>\n",
       "      <td id=\"T_e2d6e_row12_col1\" class=\"data row12 col1\" >(135, 52)</td>\n",
       "    </tr>\n",
       "    <tr>\n",
       "      <th id=\"T_e2d6e_level0_row13\" class=\"row_heading level0 row13\" >13</th>\n",
       "      <td id=\"T_e2d6e_row13_col0\" class=\"data row13 col0\" >Shuffle Train-Test</td>\n",
       "      <td id=\"T_e2d6e_row13_col1\" class=\"data row13 col1\" >True</td>\n",
       "    </tr>\n",
       "    <tr>\n",
       "      <th id=\"T_e2d6e_level0_row14\" class=\"row_heading level0 row14\" >14</th>\n",
       "      <td id=\"T_e2d6e_row14_col0\" class=\"data row14 col0\" >Stratify Train-Test</td>\n",
       "      <td id=\"T_e2d6e_row14_col1\" class=\"data row14 col1\" >False</td>\n",
       "    </tr>\n",
       "    <tr>\n",
       "      <th id=\"T_e2d6e_level0_row15\" class=\"row_heading level0 row15\" >15</th>\n",
       "      <td id=\"T_e2d6e_row15_col0\" class=\"data row15 col0\" >Fold Generator</td>\n",
       "      <td id=\"T_e2d6e_row15_col1\" class=\"data row15 col1\" >StratifiedKFold</td>\n",
       "    </tr>\n",
       "    <tr>\n",
       "      <th id=\"T_e2d6e_level0_row16\" class=\"row_heading level0 row16\" >16</th>\n",
       "      <td id=\"T_e2d6e_row16_col0\" class=\"data row16 col0\" >Fold Number</td>\n",
       "      <td id=\"T_e2d6e_row16_col1\" class=\"data row16 col1\" >5</td>\n",
       "    </tr>\n",
       "    <tr>\n",
       "      <th id=\"T_e2d6e_level0_row17\" class=\"row_heading level0 row17\" >17</th>\n",
       "      <td id=\"T_e2d6e_row17_col0\" class=\"data row17 col0\" >CPU Jobs</td>\n",
       "      <td id=\"T_e2d6e_row17_col1\" class=\"data row17 col1\" >-1</td>\n",
       "    </tr>\n",
       "    <tr>\n",
       "      <th id=\"T_e2d6e_level0_row18\" class=\"row_heading level0 row18\" >18</th>\n",
       "      <td id=\"T_e2d6e_row18_col0\" class=\"data row18 col0\" >Use GPU</td>\n",
       "      <td id=\"T_e2d6e_row18_col1\" class=\"data row18 col1\" >False</td>\n",
       "    </tr>\n",
       "    <tr>\n",
       "      <th id=\"T_e2d6e_level0_row19\" class=\"row_heading level0 row19\" >19</th>\n",
       "      <td id=\"T_e2d6e_row19_col0\" class=\"data row19 col0\" >Log Experiment</td>\n",
       "      <td id=\"T_e2d6e_row19_col1\" class=\"data row19 col1\" >False</td>\n",
       "    </tr>\n",
       "    <tr>\n",
       "      <th id=\"T_e2d6e_level0_row20\" class=\"row_heading level0 row20\" >20</th>\n",
       "      <td id=\"T_e2d6e_row20_col0\" class=\"data row20 col0\" >Experiment Name</td>\n",
       "      <td id=\"T_e2d6e_row20_col1\" class=\"data row20 col1\" >group_based</td>\n",
       "    </tr>\n",
       "    <tr>\n",
       "      <th id=\"T_e2d6e_level0_row21\" class=\"row_heading level0 row21\" >21</th>\n",
       "      <td id=\"T_e2d6e_row21_col0\" class=\"data row21 col0\" >USI</td>\n",
       "      <td id=\"T_e2d6e_row21_col1\" class=\"data row21 col1\" >06d3</td>\n",
       "    </tr>\n",
       "    <tr>\n",
       "      <th id=\"T_e2d6e_level0_row22\" class=\"row_heading level0 row22\" >22</th>\n",
       "      <td id=\"T_e2d6e_row22_col0\" class=\"data row22 col0\" >Imputation Type</td>\n",
       "      <td id=\"T_e2d6e_row22_col1\" class=\"data row22 col1\" >simple</td>\n",
       "    </tr>\n",
       "    <tr>\n",
       "      <th id=\"T_e2d6e_level0_row23\" class=\"row_heading level0 row23\" >23</th>\n",
       "      <td id=\"T_e2d6e_row23_col0\" class=\"data row23 col0\" >Iterative Imputation Iteration</td>\n",
       "      <td id=\"T_e2d6e_row23_col1\" class=\"data row23 col1\" >None</td>\n",
       "    </tr>\n",
       "    <tr>\n",
       "      <th id=\"T_e2d6e_level0_row24\" class=\"row_heading level0 row24\" >24</th>\n",
       "      <td id=\"T_e2d6e_row24_col0\" class=\"data row24 col0\" >Numeric Imputer</td>\n",
       "      <td id=\"T_e2d6e_row24_col1\" class=\"data row24 col1\" >median</td>\n",
       "    </tr>\n",
       "    <tr>\n",
       "      <th id=\"T_e2d6e_level0_row25\" class=\"row_heading level0 row25\" >25</th>\n",
       "      <td id=\"T_e2d6e_row25_col0\" class=\"data row25 col0\" >Iterative Imputation Numeric Model</td>\n",
       "      <td id=\"T_e2d6e_row25_col1\" class=\"data row25 col1\" >None</td>\n",
       "    </tr>\n",
       "    <tr>\n",
       "      <th id=\"T_e2d6e_level0_row26\" class=\"row_heading level0 row26\" >26</th>\n",
       "      <td id=\"T_e2d6e_row26_col0\" class=\"data row26 col0\" >Categorical Imputer</td>\n",
       "      <td id=\"T_e2d6e_row26_col1\" class=\"data row26 col1\" >constant</td>\n",
       "    </tr>\n",
       "    <tr>\n",
       "      <th id=\"T_e2d6e_level0_row27\" class=\"row_heading level0 row27\" >27</th>\n",
       "      <td id=\"T_e2d6e_row27_col0\" class=\"data row27 col0\" >Iterative Imputation Categorical Model</td>\n",
       "      <td id=\"T_e2d6e_row27_col1\" class=\"data row27 col1\" >None</td>\n",
       "    </tr>\n",
       "    <tr>\n",
       "      <th id=\"T_e2d6e_level0_row28\" class=\"row_heading level0 row28\" >28</th>\n",
       "      <td id=\"T_e2d6e_row28_col0\" class=\"data row28 col0\" >Unknown Categoricals Handling</td>\n",
       "      <td id=\"T_e2d6e_row28_col1\" class=\"data row28 col1\" >least_frequent</td>\n",
       "    </tr>\n",
       "    <tr>\n",
       "      <th id=\"T_e2d6e_level0_row29\" class=\"row_heading level0 row29\" >29</th>\n",
       "      <td id=\"T_e2d6e_row29_col0\" class=\"data row29 col0\" >Normalize</td>\n",
       "      <td id=\"T_e2d6e_row29_col1\" class=\"data row29 col1\" >True</td>\n",
       "    </tr>\n",
       "    <tr>\n",
       "      <th id=\"T_e2d6e_level0_row30\" class=\"row_heading level0 row30\" >30</th>\n",
       "      <td id=\"T_e2d6e_row30_col0\" class=\"data row30 col0\" >Normalize Method</td>\n",
       "      <td id=\"T_e2d6e_row30_col1\" class=\"data row30 col1\" >zscore</td>\n",
       "    </tr>\n",
       "    <tr>\n",
       "      <th id=\"T_e2d6e_level0_row31\" class=\"row_heading level0 row31\" >31</th>\n",
       "      <td id=\"T_e2d6e_row31_col0\" class=\"data row31 col0\" >Transformation</td>\n",
       "      <td id=\"T_e2d6e_row31_col1\" class=\"data row31 col1\" >False</td>\n",
       "    </tr>\n",
       "    <tr>\n",
       "      <th id=\"T_e2d6e_level0_row32\" class=\"row_heading level0 row32\" >32</th>\n",
       "      <td id=\"T_e2d6e_row32_col0\" class=\"data row32 col0\" >Transformation Method</td>\n",
       "      <td id=\"T_e2d6e_row32_col1\" class=\"data row32 col1\" >None</td>\n",
       "    </tr>\n",
       "    <tr>\n",
       "      <th id=\"T_e2d6e_level0_row33\" class=\"row_heading level0 row33\" >33</th>\n",
       "      <td id=\"T_e2d6e_row33_col0\" class=\"data row33 col0\" >PCA</td>\n",
       "      <td id=\"T_e2d6e_row33_col1\" class=\"data row33 col1\" >False</td>\n",
       "    </tr>\n",
       "    <tr>\n",
       "      <th id=\"T_e2d6e_level0_row34\" class=\"row_heading level0 row34\" >34</th>\n",
       "      <td id=\"T_e2d6e_row34_col0\" class=\"data row34 col0\" >PCA Method</td>\n",
       "      <td id=\"T_e2d6e_row34_col1\" class=\"data row34 col1\" >None</td>\n",
       "    </tr>\n",
       "    <tr>\n",
       "      <th id=\"T_e2d6e_level0_row35\" class=\"row_heading level0 row35\" >35</th>\n",
       "      <td id=\"T_e2d6e_row35_col0\" class=\"data row35 col0\" >PCA Components</td>\n",
       "      <td id=\"T_e2d6e_row35_col1\" class=\"data row35 col1\" >None</td>\n",
       "    </tr>\n",
       "    <tr>\n",
       "      <th id=\"T_e2d6e_level0_row36\" class=\"row_heading level0 row36\" >36</th>\n",
       "      <td id=\"T_e2d6e_row36_col0\" class=\"data row36 col0\" >Ignore Low Variance</td>\n",
       "      <td id=\"T_e2d6e_row36_col1\" class=\"data row36 col1\" >True</td>\n",
       "    </tr>\n",
       "    <tr>\n",
       "      <th id=\"T_e2d6e_level0_row37\" class=\"row_heading level0 row37\" >37</th>\n",
       "      <td id=\"T_e2d6e_row37_col0\" class=\"data row37 col0\" >Combine Rare Levels</td>\n",
       "      <td id=\"T_e2d6e_row37_col1\" class=\"data row37 col1\" >False</td>\n",
       "    </tr>\n",
       "    <tr>\n",
       "      <th id=\"T_e2d6e_level0_row38\" class=\"row_heading level0 row38\" >38</th>\n",
       "      <td id=\"T_e2d6e_row38_col0\" class=\"data row38 col0\" >Rare Level Threshold</td>\n",
       "      <td id=\"T_e2d6e_row38_col1\" class=\"data row38 col1\" >None</td>\n",
       "    </tr>\n",
       "    <tr>\n",
       "      <th id=\"T_e2d6e_level0_row39\" class=\"row_heading level0 row39\" >39</th>\n",
       "      <td id=\"T_e2d6e_row39_col0\" class=\"data row39 col0\" >Numeric Binning</td>\n",
       "      <td id=\"T_e2d6e_row39_col1\" class=\"data row39 col1\" >False</td>\n",
       "    </tr>\n",
       "    <tr>\n",
       "      <th id=\"T_e2d6e_level0_row40\" class=\"row_heading level0 row40\" >40</th>\n",
       "      <td id=\"T_e2d6e_row40_col0\" class=\"data row40 col0\" >Remove Outliers</td>\n",
       "      <td id=\"T_e2d6e_row40_col1\" class=\"data row40 col1\" >False</td>\n",
       "    </tr>\n",
       "    <tr>\n",
       "      <th id=\"T_e2d6e_level0_row41\" class=\"row_heading level0 row41\" >41</th>\n",
       "      <td id=\"T_e2d6e_row41_col0\" class=\"data row41 col0\" >Outliers Threshold</td>\n",
       "      <td id=\"T_e2d6e_row41_col1\" class=\"data row41 col1\" >None</td>\n",
       "    </tr>\n",
       "    <tr>\n",
       "      <th id=\"T_e2d6e_level0_row42\" class=\"row_heading level0 row42\" >42</th>\n",
       "      <td id=\"T_e2d6e_row42_col0\" class=\"data row42 col0\" >Remove Multicollinearity</td>\n",
       "      <td id=\"T_e2d6e_row42_col1\" class=\"data row42 col1\" >False</td>\n",
       "    </tr>\n",
       "    <tr>\n",
       "      <th id=\"T_e2d6e_level0_row43\" class=\"row_heading level0 row43\" >43</th>\n",
       "      <td id=\"T_e2d6e_row43_col0\" class=\"data row43 col0\" >Multicollinearity Threshold</td>\n",
       "      <td id=\"T_e2d6e_row43_col1\" class=\"data row43 col1\" >None</td>\n",
       "    </tr>\n",
       "    <tr>\n",
       "      <th id=\"T_e2d6e_level0_row44\" class=\"row_heading level0 row44\" >44</th>\n",
       "      <td id=\"T_e2d6e_row44_col0\" class=\"data row44 col0\" >Remove Perfect Collinearity</td>\n",
       "      <td id=\"T_e2d6e_row44_col1\" class=\"data row44 col1\" >True</td>\n",
       "    </tr>\n",
       "    <tr>\n",
       "      <th id=\"T_e2d6e_level0_row45\" class=\"row_heading level0 row45\" >45</th>\n",
       "      <td id=\"T_e2d6e_row45_col0\" class=\"data row45 col0\" >Clustering</td>\n",
       "      <td id=\"T_e2d6e_row45_col1\" class=\"data row45 col1\" >False</td>\n",
       "    </tr>\n",
       "    <tr>\n",
       "      <th id=\"T_e2d6e_level0_row46\" class=\"row_heading level0 row46\" >46</th>\n",
       "      <td id=\"T_e2d6e_row46_col0\" class=\"data row46 col0\" >Clustering Iteration</td>\n",
       "      <td id=\"T_e2d6e_row46_col1\" class=\"data row46 col1\" >None</td>\n",
       "    </tr>\n",
       "    <tr>\n",
       "      <th id=\"T_e2d6e_level0_row47\" class=\"row_heading level0 row47\" >47</th>\n",
       "      <td id=\"T_e2d6e_row47_col0\" class=\"data row47 col0\" >Polynomial Features</td>\n",
       "      <td id=\"T_e2d6e_row47_col1\" class=\"data row47 col1\" >False</td>\n",
       "    </tr>\n",
       "    <tr>\n",
       "      <th id=\"T_e2d6e_level0_row48\" class=\"row_heading level0 row48\" >48</th>\n",
       "      <td id=\"T_e2d6e_row48_col0\" class=\"data row48 col0\" >Polynomial Degree</td>\n",
       "      <td id=\"T_e2d6e_row48_col1\" class=\"data row48 col1\" >None</td>\n",
       "    </tr>\n",
       "    <tr>\n",
       "      <th id=\"T_e2d6e_level0_row49\" class=\"row_heading level0 row49\" >49</th>\n",
       "      <td id=\"T_e2d6e_row49_col0\" class=\"data row49 col0\" >Trignometry Features</td>\n",
       "      <td id=\"T_e2d6e_row49_col1\" class=\"data row49 col1\" >False</td>\n",
       "    </tr>\n",
       "    <tr>\n",
       "      <th id=\"T_e2d6e_level0_row50\" class=\"row_heading level0 row50\" >50</th>\n",
       "      <td id=\"T_e2d6e_row50_col0\" class=\"data row50 col0\" >Polynomial Threshold</td>\n",
       "      <td id=\"T_e2d6e_row50_col1\" class=\"data row50 col1\" >None</td>\n",
       "    </tr>\n",
       "    <tr>\n",
       "      <th id=\"T_e2d6e_level0_row51\" class=\"row_heading level0 row51\" >51</th>\n",
       "      <td id=\"T_e2d6e_row51_col0\" class=\"data row51 col0\" >Group Features</td>\n",
       "      <td id=\"T_e2d6e_row51_col1\" class=\"data row51 col1\" >False</td>\n",
       "    </tr>\n",
       "    <tr>\n",
       "      <th id=\"T_e2d6e_level0_row52\" class=\"row_heading level0 row52\" >52</th>\n",
       "      <td id=\"T_e2d6e_row52_col0\" class=\"data row52 col0\" >Feature Selection</td>\n",
       "      <td id=\"T_e2d6e_row52_col1\" class=\"data row52 col1\" >False</td>\n",
       "    </tr>\n",
       "    <tr>\n",
       "      <th id=\"T_e2d6e_level0_row53\" class=\"row_heading level0 row53\" >53</th>\n",
       "      <td id=\"T_e2d6e_row53_col0\" class=\"data row53 col0\" >Feature Selection Method</td>\n",
       "      <td id=\"T_e2d6e_row53_col1\" class=\"data row53 col1\" >classic</td>\n",
       "    </tr>\n",
       "    <tr>\n",
       "      <th id=\"T_e2d6e_level0_row54\" class=\"row_heading level0 row54\" >54</th>\n",
       "      <td id=\"T_e2d6e_row54_col0\" class=\"data row54 col0\" >Features Selection Threshold</td>\n",
       "      <td id=\"T_e2d6e_row54_col1\" class=\"data row54 col1\" >None</td>\n",
       "    </tr>\n",
       "    <tr>\n",
       "      <th id=\"T_e2d6e_level0_row55\" class=\"row_heading level0 row55\" >55</th>\n",
       "      <td id=\"T_e2d6e_row55_col0\" class=\"data row55 col0\" >Feature Interaction</td>\n",
       "      <td id=\"T_e2d6e_row55_col1\" class=\"data row55 col1\" >False</td>\n",
       "    </tr>\n",
       "    <tr>\n",
       "      <th id=\"T_e2d6e_level0_row56\" class=\"row_heading level0 row56\" >56</th>\n",
       "      <td id=\"T_e2d6e_row56_col0\" class=\"data row56 col0\" >Feature Ratio</td>\n",
       "      <td id=\"T_e2d6e_row56_col1\" class=\"data row56 col1\" >False</td>\n",
       "    </tr>\n",
       "    <tr>\n",
       "      <th id=\"T_e2d6e_level0_row57\" class=\"row_heading level0 row57\" >57</th>\n",
       "      <td id=\"T_e2d6e_row57_col0\" class=\"data row57 col0\" >Interaction Threshold</td>\n",
       "      <td id=\"T_e2d6e_row57_col1\" class=\"data row57 col1\" >None</td>\n",
       "    </tr>\n",
       "    <tr>\n",
       "      <th id=\"T_e2d6e_level0_row58\" class=\"row_heading level0 row58\" >58</th>\n",
       "      <td id=\"T_e2d6e_row58_col0\" class=\"data row58 col0\" >Fix Imbalance</td>\n",
       "      <td id=\"T_e2d6e_row58_col1\" class=\"data row58 col1\" >True</td>\n",
       "    </tr>\n",
       "    <tr>\n",
       "      <th id=\"T_e2d6e_level0_row59\" class=\"row_heading level0 row59\" >59</th>\n",
       "      <td id=\"T_e2d6e_row59_col0\" class=\"data row59 col0\" >Fix Imbalance Method</td>\n",
       "      <td id=\"T_e2d6e_row59_col1\" class=\"data row59 col1\" >SMOTE</td>\n",
       "    </tr>\n",
       "  </tbody>\n",
       "</table>\n"
      ],
      "text/plain": [
       "<pandas.io.formats.style.Styler at 0x7ff3a81d0af0>"
      ]
     },
     "metadata": {},
     "output_type": "display_data"
    }
   ],
   "source": [
    "stup = setup(data = data_group_train_df, target = 'viability_class', \n",
    "              \n",
    "        test_data = data_group_test_df,\n",
    "\n",
    "        imputation_type = sc_imputation_type, \n",
    "        numeric_imputation = sc_numeric_imputation, #default: mean\n",
    "\n",
    "        ignore_features = sc_ignore_features,\n",
    "        bin_numeric_features = sc_bin_numeric_features,\n",
    "        high_cardinality_features = sc_high_cardinality_features,\n",
    "\n",
    "        normalize = sc_normalize, #default: False\n",
    "        remove_outliers= sc_remove_outliers, #default: False\n",
    "\n",
    "        transformation= False, #default\n",
    "        transformation_method = 'yeo-johnson', #default\n",
    "        combine_rare_levels = False,\n",
    "        rare_level_threshold = 0.1, #default: 0.1\n",
    "\n",
    "        remove_multicollinearity = False, #default \n",
    "        multicollinearity_threshold = 0.9, #default\n",
    "\n",
    "        ignore_low_variance = True, \n",
    "\n",
    "        feature_interaction = False, \n",
    "        feature_ratio = False,\n",
    "        polynomial_features = False, \n",
    "        trigonometry_features = False,\n",
    "\n",
    "        fix_imbalance = True,\n",
    "        fold = 5,\n",
    "\n",
    "        # don't change the following\n",
    "        session_id = cv_inner_seed,\n",
    "        use_gpu=False,\n",
    "        log_experiment = False,\n",
    "        silent=True,\n",
    "        experiment_name = 'group_based')\n",
    "\n",
    "set_config('seed', cv_inner_seed)"
   ]
  },
  {
   "cell_type": "code",
   "execution_count": 23,
   "id": "ebe27ee8",
   "metadata": {},
   "outputs": [
    {
     "name": "stdout",
     "output_type": "stream",
     "text": [
      "(540, 52)\n",
      "(540,)\n"
     ]
    }
   ],
   "source": [
    "print(get_config(variable=\"X_train\").shape)\n",
    "print(get_config(variable=\"y_train\").shape)"
   ]
  },
  {
   "cell_type": "code",
   "execution_count": 24,
   "id": "34f3d922",
   "metadata": {},
   "outputs": [
    {
     "name": "stdout",
     "output_type": "stream",
     "text": [
      "(540, 52)\n",
      "(540,)\n"
     ]
    }
   ],
   "source": [
    "print(get_config(variable=\"X\").shape)\n",
    "print(get_config(variable=\"y\").shape)"
   ]
  },
  {
   "cell_type": "code",
   "execution_count": 25,
   "id": "f8e4ec4d",
   "metadata": {},
   "outputs": [],
   "source": [
    "#set_config('X_train', get_config(variable=\"X\").copy()) \n",
    "#set_config('y_train', get_config(variable=\"y\").copy()) \n",
    "#print(get_config(variable=\"X_train\").shape)\n",
    "#print(get_config(variable=\"y_train\").shape)"
   ]
  },
  {
   "cell_type": "code",
   "execution_count": 26,
   "id": "1b417175",
   "metadata": {},
   "outputs": [
    {
     "name": "stdout",
     "output_type": "stream",
     "text": [
      "(135, 52)\n",
      "(135,)\n"
     ]
    }
   ],
   "source": [
    "print(get_config(variable=\"X_test\").shape)\n",
    "print(get_config(variable=\"y_test\").shape)"
   ]
  },
  {
   "cell_type": "code",
   "execution_count": 27,
   "id": "e4387c1e",
   "metadata": {},
   "outputs": [],
   "source": [
    "#load_config('output/models/universal_classification_config.cfg')"
   ]
  },
  {
   "cell_type": "code",
   "execution_count": 28,
   "id": "6fff2182",
   "metadata": {},
   "outputs": [],
   "source": [
    "data_train_transformed_df = get_config(variable=\"X\").copy()\n",
    "data_train_transformed_df['Viability'] = get_config(variable=\"y\").copy()"
   ]
  },
  {
   "cell_type": "code",
   "execution_count": 29,
   "id": "cf253b28",
   "metadata": {},
   "outputs": [],
   "source": [
    "data_test_transformed_df = get_config(variable=\"X_test\").copy()\n",
    "data_test_transformed_df['Viability'] = get_config(variable=\"y_test\").copy()"
   ]
  },
  {
   "cell_type": "code",
   "execution_count": 30,
   "id": "43f293b7",
   "metadata": {},
   "outputs": [],
   "source": [
    "data_train_transformed_df.to_csv('output/datasets/'+model_group_name+'/transformed/data_classification_train_transformed_df.csv', encoding='utf-8', index=False)\n",
    "data_test_transformed_df.to_csv('output/datasets/'+model_group_name+'/transformed/data_classification_test_transformed_df.csv', encoding='utf-8', index=False)"
   ]
  },
  {
   "cell_type": "markdown",
   "id": "fe54e2d4",
   "metadata": {},
   "source": [
    "## Double cross-validation"
   ]
  },
  {
   "cell_type": "markdown",
   "id": "9db53e62",
   "metadata": {},
   "source": [
    "### Inner CV: 5-fold cross-validation for model selection / hyperparameter tuning for 7 models"
   ]
  },
  {
   "cell_type": "code",
   "execution_count": 31,
   "id": "8922c9c0",
   "metadata": {},
   "outputs": [],
   "source": [
    "model_names = ['lr', 'knn', 'svm', 'rf', 'et', 'gbc', 'lightgbm']"
   ]
  },
  {
   "cell_type": "code",
   "execution_count": 32,
   "id": "69c30960",
   "metadata": {},
   "outputs": [],
   "source": [
    "inner_results = dict()\n",
    "inner_results_tuned = dict()\n",
    "outer_results = dict()\n",
    "predicted_results = dict()\n",
    "tuned_models = dict()\n",
    "final_models = dict()"
   ]
  },
  {
   "cell_type": "code",
   "execution_count": 33,
   "id": "c2a73417",
   "metadata": {},
   "outputs": [
    {
     "data": {
      "text/html": [
       "<style type=\"text/css\">\n",
       "#T_d6cf2_row5_col0, #T_d6cf2_row5_col1, #T_d6cf2_row5_col2, #T_d6cf2_row5_col3, #T_d6cf2_row5_col4, #T_d6cf2_row5_col5, #T_d6cf2_row5_col6 {\n",
       "  background: yellow;\n",
       "}\n",
       "</style>\n",
       "<table id=\"T_d6cf2\">\n",
       "  <thead>\n",
       "    <tr>\n",
       "      <th class=\"blank level0\" >&nbsp;</th>\n",
       "      <th id=\"T_d6cf2_level0_col0\" class=\"col_heading level0 col0\" >Accuracy</th>\n",
       "      <th id=\"T_d6cf2_level0_col1\" class=\"col_heading level0 col1\" >AUC</th>\n",
       "      <th id=\"T_d6cf2_level0_col2\" class=\"col_heading level0 col2\" >Recall</th>\n",
       "      <th id=\"T_d6cf2_level0_col3\" class=\"col_heading level0 col3\" >Prec.</th>\n",
       "      <th id=\"T_d6cf2_level0_col4\" class=\"col_heading level0 col4\" >F1</th>\n",
       "      <th id=\"T_d6cf2_level0_col5\" class=\"col_heading level0 col5\" >Kappa</th>\n",
       "      <th id=\"T_d6cf2_level0_col6\" class=\"col_heading level0 col6\" >MCC</th>\n",
       "    </tr>\n",
       "    <tr>\n",
       "      <th class=\"index_name level0\" >Fold</th>\n",
       "      <th class=\"blank col0\" >&nbsp;</th>\n",
       "      <th class=\"blank col1\" >&nbsp;</th>\n",
       "      <th class=\"blank col2\" >&nbsp;</th>\n",
       "      <th class=\"blank col3\" >&nbsp;</th>\n",
       "      <th class=\"blank col4\" >&nbsp;</th>\n",
       "      <th class=\"blank col5\" >&nbsp;</th>\n",
       "      <th class=\"blank col6\" >&nbsp;</th>\n",
       "    </tr>\n",
       "  </thead>\n",
       "  <tbody>\n",
       "    <tr>\n",
       "      <th id=\"T_d6cf2_level0_row0\" class=\"row_heading level0 row0\" >0</th>\n",
       "      <td id=\"T_d6cf2_row0_col0\" class=\"data row0 col0\" >0.90</td>\n",
       "      <td id=\"T_d6cf2_row0_col1\" class=\"data row0 col1\" >0.94</td>\n",
       "      <td id=\"T_d6cf2_row0_col2\" class=\"data row0 col2\" >0.82</td>\n",
       "      <td id=\"T_d6cf2_row0_col3\" class=\"data row0 col3\" >0.84</td>\n",
       "      <td id=\"T_d6cf2_row0_col4\" class=\"data row0 col4\" >0.83</td>\n",
       "      <td id=\"T_d6cf2_row0_col5\" class=\"data row0 col5\" >0.76</td>\n",
       "      <td id=\"T_d6cf2_row0_col6\" class=\"data row0 col6\" >0.76</td>\n",
       "    </tr>\n",
       "    <tr>\n",
       "      <th id=\"T_d6cf2_level0_row1\" class=\"row_heading level0 row1\" >1</th>\n",
       "      <td id=\"T_d6cf2_row1_col0\" class=\"data row1 col0\" >0.91</td>\n",
       "      <td id=\"T_d6cf2_row1_col1\" class=\"data row1 col1\" >0.98</td>\n",
       "      <td id=\"T_d6cf2_row1_col2\" class=\"data row1 col2\" >0.94</td>\n",
       "      <td id=\"T_d6cf2_row1_col3\" class=\"data row1 col3\" >0.79</td>\n",
       "      <td id=\"T_d6cf2_row1_col4\" class=\"data row1 col4\" >0.86</td>\n",
       "      <td id=\"T_d6cf2_row1_col5\" class=\"data row1 col5\" >0.79</td>\n",
       "      <td id=\"T_d6cf2_row1_col6\" class=\"data row1 col6\" >0.80</td>\n",
       "    </tr>\n",
       "    <tr>\n",
       "      <th id=\"T_d6cf2_level0_row2\" class=\"row_heading level0 row2\" >2</th>\n",
       "      <td id=\"T_d6cf2_row2_col0\" class=\"data row2 col0\" >0.88</td>\n",
       "      <td id=\"T_d6cf2_row2_col1\" class=\"data row2 col1\" >0.96</td>\n",
       "      <td id=\"T_d6cf2_row2_col2\" class=\"data row2 col2\" >0.73</td>\n",
       "      <td id=\"T_d6cf2_row2_col3\" class=\"data row2 col3\" >0.86</td>\n",
       "      <td id=\"T_d6cf2_row2_col4\" class=\"data row2 col4\" >0.79</td>\n",
       "      <td id=\"T_d6cf2_row2_col5\" class=\"data row2 col5\" >0.70</td>\n",
       "      <td id=\"T_d6cf2_row2_col6\" class=\"data row2 col6\" >0.71</td>\n",
       "    </tr>\n",
       "    <tr>\n",
       "      <th id=\"T_d6cf2_level0_row3\" class=\"row_heading level0 row3\" >3</th>\n",
       "      <td id=\"T_d6cf2_row3_col0\" class=\"data row3 col0\" >0.92</td>\n",
       "      <td id=\"T_d6cf2_row3_col1\" class=\"data row3 col1\" >0.95</td>\n",
       "      <td id=\"T_d6cf2_row3_col2\" class=\"data row3 col2\" >0.85</td>\n",
       "      <td id=\"T_d6cf2_row3_col3\" class=\"data row3 col3\" >0.88</td>\n",
       "      <td id=\"T_d6cf2_row3_col4\" class=\"data row3 col4\" >0.86</td>\n",
       "      <td id=\"T_d6cf2_row3_col5\" class=\"data row3 col5\" >0.80</td>\n",
       "      <td id=\"T_d6cf2_row3_col6\" class=\"data row3 col6\" >0.80</td>\n",
       "    </tr>\n",
       "    <tr>\n",
       "      <th id=\"T_d6cf2_level0_row4\" class=\"row_heading level0 row4\" >4</th>\n",
       "      <td id=\"T_d6cf2_row4_col0\" class=\"data row4 col0\" >0.94</td>\n",
       "      <td id=\"T_d6cf2_row4_col1\" class=\"data row4 col1\" >0.99</td>\n",
       "      <td id=\"T_d6cf2_row4_col2\" class=\"data row4 col2\" >0.91</td>\n",
       "      <td id=\"T_d6cf2_row4_col3\" class=\"data row4 col3\" >0.89</td>\n",
       "      <td id=\"T_d6cf2_row4_col4\" class=\"data row4 col4\" >0.90</td>\n",
       "      <td id=\"T_d6cf2_row4_col5\" class=\"data row4 col5\" >0.85</td>\n",
       "      <td id=\"T_d6cf2_row4_col6\" class=\"data row4 col6\" >0.85</td>\n",
       "    </tr>\n",
       "    <tr>\n",
       "      <th id=\"T_d6cf2_level0_row5\" class=\"row_heading level0 row5\" >Mean</th>\n",
       "      <td id=\"T_d6cf2_row5_col0\" class=\"data row5 col0\" >0.91</td>\n",
       "      <td id=\"T_d6cf2_row5_col1\" class=\"data row5 col1\" >0.96</td>\n",
       "      <td id=\"T_d6cf2_row5_col2\" class=\"data row5 col2\" >0.85</td>\n",
       "      <td id=\"T_d6cf2_row5_col3\" class=\"data row5 col3\" >0.85</td>\n",
       "      <td id=\"T_d6cf2_row5_col4\" class=\"data row5 col4\" >0.85</td>\n",
       "      <td id=\"T_d6cf2_row5_col5\" class=\"data row5 col5\" >0.78</td>\n",
       "      <td id=\"T_d6cf2_row5_col6\" class=\"data row5 col6\" >0.78</td>\n",
       "    </tr>\n",
       "    <tr>\n",
       "      <th id=\"T_d6cf2_level0_row6\" class=\"row_heading level0 row6\" >Std</th>\n",
       "      <td id=\"T_d6cf2_row6_col0\" class=\"data row6 col0\" >0.02</td>\n",
       "      <td id=\"T_d6cf2_row6_col1\" class=\"data row6 col1\" >0.02</td>\n",
       "      <td id=\"T_d6cf2_row6_col2\" class=\"data row6 col2\" >0.07</td>\n",
       "      <td id=\"T_d6cf2_row6_col3\" class=\"data row6 col3\" >0.03</td>\n",
       "      <td id=\"T_d6cf2_row6_col4\" class=\"data row6 col4\" >0.04</td>\n",
       "      <td id=\"T_d6cf2_row6_col5\" class=\"data row6 col5\" >0.05</td>\n",
       "      <td id=\"T_d6cf2_row6_col6\" class=\"data row6 col6\" >0.05</td>\n",
       "    </tr>\n",
       "  </tbody>\n",
       "</table>\n"
      ],
      "text/plain": [
       "<pandas.io.formats.style.Styler at 0x7ff3fa10c6a0>"
      ]
     },
     "metadata": {},
     "output_type": "display_data"
    }
   ],
   "source": [
    "for model_name in model_names:\n",
    "\n",
    "    default_model = create_model(model_name, round=2)\n",
    "\n",
    "    results_df = pull()\n",
    "    results_df = results_df.reset_index(level=0)\n",
    "    \n",
    "    inner_results[model_name] = results_df.copy()\n",
    "    results_df.to_csv('output/models_results/'+model_group_name+'/' + \"classification_model_\"+model_name+\"_inner_cross_validation_results.tsv\", \n",
    "                    index=False, encoding=\"utf-8\", sep=\"\\t\")\n",
    "\n",
    "\n",
    "    tuned_model = tune_model(default_model, choose_better = True, search_library = 'optuna', n_iter = 50, round=2)\n",
    "\n",
    "    results_df = pull()\n",
    "    results_df = results_df.reset_index(level=0)\n",
    "    \n",
    "    inner_results_tuned[model_name] = results_df.copy()\n",
    "    results_df.to_csv('output/models_results/'+model_group_name+'/' + \"classification_model_\"+model_name+\"_tuned_inner_cross_validation_results.tsv\", \n",
    "                    index=False, encoding=\"utf-8\", sep=\"\\t\")\n",
    "    \n",
    "    tuned_models[model_name] = deepcopy(tuned_model)"
   ]
  },
  {
   "cell_type": "markdown",
   "id": "2543bed8",
   "metadata": {},
   "source": [
    "### Outer CV: 10-fold cross-validation for the tuned model"
   ]
  },
  {
   "cell_type": "code",
   "execution_count": 34,
   "id": "7d9c9302",
   "metadata": {},
   "outputs": [],
   "source": [
    "X = get_config(variable=\"X_train\").copy()\n",
    "y = get_config(variable=\"y_train\").copy()"
   ]
  },
  {
   "cell_type": "code",
   "execution_count": 35,
   "id": "3c21760e",
   "metadata": {},
   "outputs": [
    {
     "data": {
      "text/plain": [
       "(540, 52)"
      ]
     },
     "execution_count": 35,
     "metadata": {},
     "output_type": "execute_result"
    }
   ],
   "source": [
    "X.shape"
   ]
  },
  {
   "cell_type": "code",
   "execution_count": 36,
   "id": "5a9c93d9",
   "metadata": {},
   "outputs": [
    {
     "data": {
      "text/plain": [
       "(540,)"
      ]
     },
     "execution_count": 36,
     "metadata": {},
     "output_type": "execute_result"
    }
   ],
   "source": [
    "y.shape"
   ]
  },
  {
   "cell_type": "code",
   "execution_count": 37,
   "id": "f052eebd",
   "metadata": {},
   "outputs": [],
   "source": [
    "cv_outer = StratifiedKFold(n_splits=10, shuffle=True, random_state=cv_outer_seed)"
   ]
  },
  {
   "cell_type": "code",
   "execution_count": 54,
   "id": "564a8934",
   "metadata": {},
   "outputs": [
    {
     "name": "stdout",
     "output_type": "stream",
     "text": [
      "lr scores: 0.71, 0.8, 0.79, 0.8, 0.85, 0.87, 0.83, 0.7, 0.73, 0.75\n",
      "lr mean/std: 0.78 / 0.06\n",
      "knn scores: 0.9, 0.79, 0.9, 0.79, 0.91, 0.81, 0.81, 0.82, 0.71, 0.75\n",
      "knn mean/std: 0.82 / 0.06\n",
      "svm scores: 0.77, 0.84, 0.8, 0.78, 0.91, 0.87, 0.88, 0.68, 0.69, 0.69\n",
      "svm mean/std: 0.79 / 0.08\n",
      "rf scores: 0.94, 0.8, 0.97, 0.81, 0.94, 0.8, 0.91, 0.78, 0.73, 0.79\n",
      "rf mean/std: 0.85 / 0.08\n",
      "et scores: 0.94, 0.83, 0.9, 0.83, 0.91, 0.77, 0.91, 0.78, 0.77, 0.79\n",
      "et mean/std: 0.84 / 0.06\n",
      "gbc scores: 0.94, 0.77, 0.94, 0.81, 0.94, 0.87, 0.91, 0.8, 0.84, 0.67\n",
      "gbc mean/std: 0.85 / 0.08\n",
      "lightgbm scores: 0.91, 0.8, 0.88, 0.79, 0.91, 0.87, 0.86, 0.8, 0.81, 0.79\n",
      "lightgbm mean/std: 0.84 / 0.05\n"
     ]
    }
   ],
   "source": [
    "for model_name in model_names:\n",
    "    scores = cross_validate(tuned_models[model_name], X, y, cv=cv_outer, scoring=('f1','accuracy','roc_auc'))\n",
    "    scores_f1 = np.round(scores['test_f1'], 2);\n",
    "    scores_accuracy = np.round(scores['test_accuracy'], 2);\n",
    "    scores_roc_auc = np.round(scores['test_roc_auc'], 2);\n",
    "    outer_results[model_name] = scores.copy()\n",
    "    \n",
    "    with open('output/models_results/'+model_group_name+'/' + \"classification_model_\"+model_name+\"_tuned_outer_cross_validation_results.tsv\", 'w', newline='') as file:\n",
    "        file.write('F1\\tAccuracy\\tAUC' + \"\\n\")\n",
    "        for idx, x in enumerate(scores_f1):\n",
    "            file.write(str(scores_f1[idx]) + '\\t' + str(scores_accuracy[idx]) + '\\t' + str(scores_roc_auc[idx]) + \"\\n\")\n",
    "\n",
    "    print(model_name + \" scores: \" + ', '.join(scores_f1.astype('str')))\n",
    "    print(model_name + \" mean/std: \" + str(np.round(scores_f1.mean(),2)) + \" / \" + str(np.round(scores_f1.std(), 2)))\n",
    "    \n",
    "    #with open(the_filename, 'r') as f:\n",
    "    #    my_list = [line.rstrip('\\n') for line in f]"
   ]
  },
  {
   "cell_type": "markdown",
   "id": "567af0bf",
   "metadata": {},
   "source": [
    "### Finalize the models and evaluate on the test set"
   ]
  },
  {
   "cell_type": "code",
   "execution_count": 39,
   "id": "bfae263b",
   "metadata": {},
   "outputs": [
    {
     "data": {
      "text/html": [
       "<style type=\"text/css\">\n",
       "</style>\n",
       "<table id=\"T_d00ce\">\n",
       "  <thead>\n",
       "    <tr>\n",
       "      <th class=\"blank level0\" >&nbsp;</th>\n",
       "      <th id=\"T_d00ce_level0_col0\" class=\"col_heading level0 col0\" >Model</th>\n",
       "      <th id=\"T_d00ce_level0_col1\" class=\"col_heading level0 col1\" >Accuracy</th>\n",
       "      <th id=\"T_d00ce_level0_col2\" class=\"col_heading level0 col2\" >AUC</th>\n",
       "      <th id=\"T_d00ce_level0_col3\" class=\"col_heading level0 col3\" >Recall</th>\n",
       "      <th id=\"T_d00ce_level0_col4\" class=\"col_heading level0 col4\" >Prec.</th>\n",
       "      <th id=\"T_d00ce_level0_col5\" class=\"col_heading level0 col5\" >F1</th>\n",
       "      <th id=\"T_d00ce_level0_col6\" class=\"col_heading level0 col6\" >Kappa</th>\n",
       "      <th id=\"T_d00ce_level0_col7\" class=\"col_heading level0 col7\" >MCC</th>\n",
       "    </tr>\n",
       "  </thead>\n",
       "  <tbody>\n",
       "    <tr>\n",
       "      <th id=\"T_d00ce_level0_row0\" class=\"row_heading level0 row0\" >0</th>\n",
       "      <td id=\"T_d00ce_row0_col0\" class=\"data row0 col0\" >Logistic Regression</td>\n",
       "      <td id=\"T_d00ce_row0_col1\" class=\"data row0 col1\" >0.85</td>\n",
       "      <td id=\"T_d00ce_row0_col2\" class=\"data row0 col2\" >0.94</td>\n",
       "      <td id=\"T_d00ce_row0_col3\" class=\"data row0 col3\" >0.79</td>\n",
       "      <td id=\"T_d00ce_row0_col4\" class=\"data row0 col4\" >0.75</td>\n",
       "      <td id=\"T_d00ce_row0_col5\" class=\"data row0 col5\" >0.77</td>\n",
       "      <td id=\"T_d00ce_row0_col6\" class=\"data row0 col6\" >0.66</td>\n",
       "      <td id=\"T_d00ce_row0_col7\" class=\"data row0 col7\" >0.66</td>\n",
       "    </tr>\n",
       "  </tbody>\n",
       "</table>\n"
      ],
      "text/plain": [
       "<pandas.io.formats.style.Styler at 0x7ff3a7dc74c0>"
      ]
     },
     "metadata": {},
     "output_type": "display_data"
    },
    {
     "data": {
      "text/html": [
       "<style type=\"text/css\">\n",
       "</style>\n",
       "<table id=\"T_c1bf1\">\n",
       "  <thead>\n",
       "    <tr>\n",
       "      <th class=\"blank level0\" >&nbsp;</th>\n",
       "      <th id=\"T_c1bf1_level0_col0\" class=\"col_heading level0 col0\" >Model</th>\n",
       "      <th id=\"T_c1bf1_level0_col1\" class=\"col_heading level0 col1\" >Accuracy</th>\n",
       "      <th id=\"T_c1bf1_level0_col2\" class=\"col_heading level0 col2\" >AUC</th>\n",
       "      <th id=\"T_c1bf1_level0_col3\" class=\"col_heading level0 col3\" >Recall</th>\n",
       "      <th id=\"T_c1bf1_level0_col4\" class=\"col_heading level0 col4\" >Prec.</th>\n",
       "      <th id=\"T_c1bf1_level0_col5\" class=\"col_heading level0 col5\" >F1</th>\n",
       "      <th id=\"T_c1bf1_level0_col6\" class=\"col_heading level0 col6\" >Kappa</th>\n",
       "      <th id=\"T_c1bf1_level0_col7\" class=\"col_heading level0 col7\" >MCC</th>\n",
       "    </tr>\n",
       "  </thead>\n",
       "  <tbody>\n",
       "    <tr>\n",
       "      <th id=\"T_c1bf1_level0_row0\" class=\"row_heading level0 row0\" >0</th>\n",
       "      <td id=\"T_c1bf1_row0_col0\" class=\"data row0 col0\" >K Neighbors Classifier</td>\n",
       "      <td id=\"T_c1bf1_row0_col1\" class=\"data row0 col1\" >0.90</td>\n",
       "      <td id=\"T_c1bf1_row0_col2\" class=\"data row0 col2\" >0.92</td>\n",
       "      <td id=\"T_c1bf1_row0_col3\" class=\"data row0 col3\" >0.83</td>\n",
       "      <td id=\"T_c1bf1_row0_col4\" class=\"data row0 col4\" >0.85</td>\n",
       "      <td id=\"T_c1bf1_row0_col5\" class=\"data row0 col5\" >0.84</td>\n",
       "      <td id=\"T_c1bf1_row0_col6\" class=\"data row0 col6\" >0.77</td>\n",
       "      <td id=\"T_c1bf1_row0_col7\" class=\"data row0 col7\" >0.77</td>\n",
       "    </tr>\n",
       "  </tbody>\n",
       "</table>\n"
      ],
      "text/plain": [
       "<pandas.io.formats.style.Styler at 0x7ff3a7f90e80>"
      ]
     },
     "metadata": {},
     "output_type": "display_data"
    },
    {
     "data": {
      "text/html": [
       "<style type=\"text/css\">\n",
       "</style>\n",
       "<table id=\"T_10576\">\n",
       "  <thead>\n",
       "    <tr>\n",
       "      <th class=\"blank level0\" >&nbsp;</th>\n",
       "      <th id=\"T_10576_level0_col0\" class=\"col_heading level0 col0\" >Model</th>\n",
       "      <th id=\"T_10576_level0_col1\" class=\"col_heading level0 col1\" >Accuracy</th>\n",
       "      <th id=\"T_10576_level0_col2\" class=\"col_heading level0 col2\" >AUC</th>\n",
       "      <th id=\"T_10576_level0_col3\" class=\"col_heading level0 col3\" >Recall</th>\n",
       "      <th id=\"T_10576_level0_col4\" class=\"col_heading level0 col4\" >Prec.</th>\n",
       "      <th id=\"T_10576_level0_col5\" class=\"col_heading level0 col5\" >F1</th>\n",
       "      <th id=\"T_10576_level0_col6\" class=\"col_heading level0 col6\" >Kappa</th>\n",
       "      <th id=\"T_10576_level0_col7\" class=\"col_heading level0 col7\" >MCC</th>\n",
       "    </tr>\n",
       "  </thead>\n",
       "  <tbody>\n",
       "    <tr>\n",
       "      <th id=\"T_10576_level0_row0\" class=\"row_heading level0 row0\" >0</th>\n",
       "      <td id=\"T_10576_row0_col0\" class=\"data row0 col0\" >SVM - Linear Kernel</td>\n",
       "      <td id=\"T_10576_row0_col1\" class=\"data row0 col1\" >0.85</td>\n",
       "      <td id=\"T_10576_row0_col2\" class=\"data row0 col2\" >0.84</td>\n",
       "      <td id=\"T_10576_row0_col3\" class=\"data row0 col3\" >0.81</td>\n",
       "      <td id=\"T_10576_row0_col4\" class=\"data row0 col4\" >0.74</td>\n",
       "      <td id=\"T_10576_row0_col5\" class=\"data row0 col5\" >0.77</td>\n",
       "      <td id=\"T_10576_row0_col6\" class=\"data row0 col6\" >0.66</td>\n",
       "      <td id=\"T_10576_row0_col7\" class=\"data row0 col7\" >0.66</td>\n",
       "    </tr>\n",
       "  </tbody>\n",
       "</table>\n"
      ],
      "text/plain": [
       "<pandas.io.formats.style.Styler at 0x7ff3fa058340>"
      ]
     },
     "metadata": {},
     "output_type": "display_data"
    },
    {
     "data": {
      "text/html": [
       "<style type=\"text/css\">\n",
       "</style>\n",
       "<table id=\"T_f081d\">\n",
       "  <thead>\n",
       "    <tr>\n",
       "      <th class=\"blank level0\" >&nbsp;</th>\n",
       "      <th id=\"T_f081d_level0_col0\" class=\"col_heading level0 col0\" >Model</th>\n",
       "      <th id=\"T_f081d_level0_col1\" class=\"col_heading level0 col1\" >Accuracy</th>\n",
       "      <th id=\"T_f081d_level0_col2\" class=\"col_heading level0 col2\" >AUC</th>\n",
       "      <th id=\"T_f081d_level0_col3\" class=\"col_heading level0 col3\" >Recall</th>\n",
       "      <th id=\"T_f081d_level0_col4\" class=\"col_heading level0 col4\" >Prec.</th>\n",
       "      <th id=\"T_f081d_level0_col5\" class=\"col_heading level0 col5\" >F1</th>\n",
       "      <th id=\"T_f081d_level0_col6\" class=\"col_heading level0 col6\" >Kappa</th>\n",
       "      <th id=\"T_f081d_level0_col7\" class=\"col_heading level0 col7\" >MCC</th>\n",
       "    </tr>\n",
       "  </thead>\n",
       "  <tbody>\n",
       "    <tr>\n",
       "      <th id=\"T_f081d_level0_row0\" class=\"row_heading level0 row0\" >0</th>\n",
       "      <td id=\"T_f081d_row0_col0\" class=\"data row0 col0\" >Random Forest Classifier</td>\n",
       "      <td id=\"T_f081d_row0_col1\" class=\"data row0 col1\" >0.92</td>\n",
       "      <td id=\"T_f081d_row0_col2\" class=\"data row0 col2\" >0.96</td>\n",
       "      <td id=\"T_f081d_row0_col3\" class=\"data row0 col3\" >0.83</td>\n",
       "      <td id=\"T_f081d_row0_col4\" class=\"data row0 col4\" >0.90</td>\n",
       "      <td id=\"T_f081d_row0_col5\" class=\"data row0 col5\" >0.86</td>\n",
       "      <td id=\"T_f081d_row0_col6\" class=\"data row0 col6\" >0.81</td>\n",
       "      <td id=\"T_f081d_row0_col7\" class=\"data row0 col7\" >0.81</td>\n",
       "    </tr>\n",
       "  </tbody>\n",
       "</table>\n"
      ],
      "text/plain": [
       "<pandas.io.formats.style.Styler at 0x7ff3fa1bd7f0>"
      ]
     },
     "metadata": {},
     "output_type": "display_data"
    },
    {
     "data": {
      "text/html": [
       "<style type=\"text/css\">\n",
       "</style>\n",
       "<table id=\"T_68582\">\n",
       "  <thead>\n",
       "    <tr>\n",
       "      <th class=\"blank level0\" >&nbsp;</th>\n",
       "      <th id=\"T_68582_level0_col0\" class=\"col_heading level0 col0\" >Model</th>\n",
       "      <th id=\"T_68582_level0_col1\" class=\"col_heading level0 col1\" >Accuracy</th>\n",
       "      <th id=\"T_68582_level0_col2\" class=\"col_heading level0 col2\" >AUC</th>\n",
       "      <th id=\"T_68582_level0_col3\" class=\"col_heading level0 col3\" >Recall</th>\n",
       "      <th id=\"T_68582_level0_col4\" class=\"col_heading level0 col4\" >Prec.</th>\n",
       "      <th id=\"T_68582_level0_col5\" class=\"col_heading level0 col5\" >F1</th>\n",
       "      <th id=\"T_68582_level0_col6\" class=\"col_heading level0 col6\" >Kappa</th>\n",
       "      <th id=\"T_68582_level0_col7\" class=\"col_heading level0 col7\" >MCC</th>\n",
       "    </tr>\n",
       "  </thead>\n",
       "  <tbody>\n",
       "    <tr>\n",
       "      <th id=\"T_68582_level0_row0\" class=\"row_heading level0 row0\" >0</th>\n",
       "      <td id=\"T_68582_row0_col0\" class=\"data row0 col0\" >Extra Trees Classifier</td>\n",
       "      <td id=\"T_68582_row0_col1\" class=\"data row0 col1\" >0.93</td>\n",
       "      <td id=\"T_68582_row0_col2\" class=\"data row0 col2\" >0.95</td>\n",
       "      <td id=\"T_68582_row0_col3\" class=\"data row0 col3\" >0.83</td>\n",
       "      <td id=\"T_68582_row0_col4\" class=\"data row0 col4\" >0.92</td>\n",
       "      <td id=\"T_68582_row0_col5\" class=\"data row0 col5\" >0.88</td>\n",
       "      <td id=\"T_68582_row0_col6\" class=\"data row0 col6\" >0.82</td>\n",
       "      <td id=\"T_68582_row0_col7\" class=\"data row0 col7\" >0.82</td>\n",
       "    </tr>\n",
       "  </tbody>\n",
       "</table>\n"
      ],
      "text/plain": [
       "<pandas.io.formats.style.Styler at 0x7ff4602c6460>"
      ]
     },
     "metadata": {},
     "output_type": "display_data"
    },
    {
     "data": {
      "text/html": [
       "<style type=\"text/css\">\n",
       "</style>\n",
       "<table id=\"T_9dffa\">\n",
       "  <thead>\n",
       "    <tr>\n",
       "      <th class=\"blank level0\" >&nbsp;</th>\n",
       "      <th id=\"T_9dffa_level0_col0\" class=\"col_heading level0 col0\" >Model</th>\n",
       "      <th id=\"T_9dffa_level0_col1\" class=\"col_heading level0 col1\" >Accuracy</th>\n",
       "      <th id=\"T_9dffa_level0_col2\" class=\"col_heading level0 col2\" >AUC</th>\n",
       "      <th id=\"T_9dffa_level0_col3\" class=\"col_heading level0 col3\" >Recall</th>\n",
       "      <th id=\"T_9dffa_level0_col4\" class=\"col_heading level0 col4\" >Prec.</th>\n",
       "      <th id=\"T_9dffa_level0_col5\" class=\"col_heading level0 col5\" >F1</th>\n",
       "      <th id=\"T_9dffa_level0_col6\" class=\"col_heading level0 col6\" >Kappa</th>\n",
       "      <th id=\"T_9dffa_level0_col7\" class=\"col_heading level0 col7\" >MCC</th>\n",
       "    </tr>\n",
       "  </thead>\n",
       "  <tbody>\n",
       "    <tr>\n",
       "      <th id=\"T_9dffa_level0_row0\" class=\"row_heading level0 row0\" >0</th>\n",
       "      <td id=\"T_9dffa_row0_col0\" class=\"data row0 col0\" >Gradient Boosting Classifier</td>\n",
       "      <td id=\"T_9dffa_row0_col1\" class=\"data row0 col1\" >0.90</td>\n",
       "      <td id=\"T_9dffa_row0_col2\" class=\"data row0 col2\" >0.97</td>\n",
       "      <td id=\"T_9dffa_row0_col3\" class=\"data row0 col3\" >0.83</td>\n",
       "      <td id=\"T_9dffa_row0_col4\" class=\"data row0 col4\" >0.85</td>\n",
       "      <td id=\"T_9dffa_row0_col5\" class=\"data row0 col5\" >0.84</td>\n",
       "      <td id=\"T_9dffa_row0_col6\" class=\"data row0 col6\" >0.77</td>\n",
       "      <td id=\"T_9dffa_row0_col7\" class=\"data row0 col7\" >0.77</td>\n",
       "    </tr>\n",
       "  </tbody>\n",
       "</table>\n"
      ],
      "text/plain": [
       "<pandas.io.formats.style.Styler at 0x7ff3a7e2e730>"
      ]
     },
     "metadata": {},
     "output_type": "display_data"
    },
    {
     "data": {
      "text/html": [
       "<style type=\"text/css\">\n",
       "</style>\n",
       "<table id=\"T_9bf9a\">\n",
       "  <thead>\n",
       "    <tr>\n",
       "      <th class=\"blank level0\" >&nbsp;</th>\n",
       "      <th id=\"T_9bf9a_level0_col0\" class=\"col_heading level0 col0\" >Model</th>\n",
       "      <th id=\"T_9bf9a_level0_col1\" class=\"col_heading level0 col1\" >Accuracy</th>\n",
       "      <th id=\"T_9bf9a_level0_col2\" class=\"col_heading level0 col2\" >AUC</th>\n",
       "      <th id=\"T_9bf9a_level0_col3\" class=\"col_heading level0 col3\" >Recall</th>\n",
       "      <th id=\"T_9bf9a_level0_col4\" class=\"col_heading level0 col4\" >Prec.</th>\n",
       "      <th id=\"T_9bf9a_level0_col5\" class=\"col_heading level0 col5\" >F1</th>\n",
       "      <th id=\"T_9bf9a_level0_col6\" class=\"col_heading level0 col6\" >Kappa</th>\n",
       "      <th id=\"T_9bf9a_level0_col7\" class=\"col_heading level0 col7\" >MCC</th>\n",
       "    </tr>\n",
       "  </thead>\n",
       "  <tbody>\n",
       "    <tr>\n",
       "      <th id=\"T_9bf9a_level0_row0\" class=\"row_heading level0 row0\" >0</th>\n",
       "      <td id=\"T_9bf9a_row0_col0\" class=\"data row0 col0\" >Light Gradient Boosting Machine</td>\n",
       "      <td id=\"T_9bf9a_row0_col1\" class=\"data row0 col1\" >0.90</td>\n",
       "      <td id=\"T_9bf9a_row0_col2\" class=\"data row0 col2\" >0.96</td>\n",
       "      <td id=\"T_9bf9a_row0_col3\" class=\"data row0 col3\" >0.83</td>\n",
       "      <td id=\"T_9bf9a_row0_col4\" class=\"data row0 col4\" >0.85</td>\n",
       "      <td id=\"T_9bf9a_row0_col5\" class=\"data row0 col5\" >0.84</td>\n",
       "      <td id=\"T_9bf9a_row0_col6\" class=\"data row0 col6\" >0.77</td>\n",
       "      <td id=\"T_9bf9a_row0_col7\" class=\"data row0 col7\" >0.77</td>\n",
       "    </tr>\n",
       "  </tbody>\n",
       "</table>\n"
      ],
      "text/plain": [
       "<pandas.io.formats.style.Styler at 0x7ff3fa641e80>"
      ]
     },
     "metadata": {},
     "output_type": "display_data"
    }
   ],
   "source": [
    "for model_name in model_names:\n",
    "\n",
    "    final_model = finalize_model(tuned_models[model_name])\n",
    "    \n",
    "    final_models[model_name] = deepcopy(final_model)\n",
    "    \n",
    "    hyperparams = pd.DataFrame.from_dict(final_model.get_params(), orient='index', columns=['parameter_value'])\n",
    "    hyperparams = hyperparams.reset_index(level=0)\n",
    "    hyperparams.to_csv('output/models_parameters/'+model_group_name+'/' + \"classification_model_\"+model_name+\"_hyperparams.tsv\", \n",
    "                    index=False, encoding=\"utf-8\", sep=\"\\t\")\n",
    "    \n",
    "    model_predict = predict_model(final_model, round=2)\n",
    "    \n",
    "    results_df = pull()\n",
    "    results_df = results_df.reset_index(level=0)\n",
    "    \n",
    "    predicted_results[model_name] = results_df.copy()\n",
    "    results_df.to_csv('output/models_results/'+model_group_name+'/' + \"classification_model_\"+model_name+\"_test_set_validation_results.tsv\", \n",
    "                    index=False, encoding=\"utf-8\", sep=\"\\t\")"
   ]
  },
  {
   "cell_type": "markdown",
   "id": "7cef3c2f",
   "metadata": {},
   "source": [
    "### Save models and configs"
   ]
  },
  {
   "cell_type": "code",
   "execution_count": 40,
   "id": "f7dbf7e3",
   "metadata": {},
   "outputs": [
    {
     "name": "stdout",
     "output_type": "stream",
     "text": [
      "Transformation Pipeline and Model Successfully Saved\n",
      "Transformation Pipeline and Model Successfully Saved\n",
      "Transformation Pipeline and Model Successfully Saved\n",
      "Transformation Pipeline and Model Successfully Saved\n",
      "Transformation Pipeline and Model Successfully Saved\n",
      "Transformation Pipeline and Model Successfully Saved\n",
      "Transformation Pipeline and Model Successfully Saved\n",
      "Transformation Pipeline and Model Successfully Saved\n",
      "Transformation Pipeline and Model Successfully Saved\n",
      "Transformation Pipeline and Model Successfully Saved\n",
      "Transformation Pipeline and Model Successfully Saved\n",
      "Transformation Pipeline and Model Successfully Saved\n",
      "Transformation Pipeline and Model Successfully Saved\n",
      "Transformation Pipeline and Model Successfully Saved\n"
     ]
    }
   ],
   "source": [
    "save_config('output/models/'+model_group_name+'/classification_config.cfg')\n",
    "\n",
    "for model_name in model_names:\n",
    "    save_model(tuned_models[model_name], 'output/models/'+model_group_name+'/classification_model_'+model_name+'_tuned.mdl')\n",
    "    save_model(final_models[model_name], 'output/models/'+model_group_name+'/classification_model_'+model_name+'_final.mdl')"
   ]
  },
  {
   "cell_type": "markdown",
   "id": "5f8dee9d",
   "metadata": {},
   "source": [
    "### Create Plots"
   ]
  },
  {
   "cell_type": "code",
   "execution_count": 41,
   "id": "521ec3e3",
   "metadata": {},
   "outputs": [],
   "source": [
    "X_test = get_config(variable=\"X_test\").copy()\n",
    "y_test = get_config(variable=\"y_test\").copy()"
   ]
  },
  {
   "cell_type": "code",
   "execution_count": 42,
   "id": "44efd5ca",
   "metadata": {},
   "outputs": [
    {
     "data": {
      "text/plain": [
       "<Figure size 800x550 with 0 Axes>"
      ]
     },
     "metadata": {},
     "output_type": "display_data"
    }
   ],
   "source": [
    "for model_name in ['rf', 'et', 'gbc', 'lr']:\n",
    "    \n",
    "    #import matplotlib.pyplot as plt\n",
    "    #plt.rcParams[\"figure.figsize\"] = [16,9]\n",
    "\n",
    "    visualizer1 = FeatureImportances(final_models[model_name], size=(800,550), topn=10)\n",
    "    visualizer1.fit(X, y)\n",
    "    visualizer1.show(outpath='output/plots/'+model_group_name+'/' + \"classification_model_\"+model_name+\"_feature_importance_plot.png\",dpi = 300)\n",
    "\n",
    "    plt.clf() "
   ]
  },
  {
   "cell_type": "code",
   "execution_count": 43,
   "id": "b4489866",
   "metadata": {},
   "outputs": [
    {
     "data": {
      "text/plain": [
       "<Figure size 800x550 with 0 Axes>"
      ]
     },
     "metadata": {},
     "output_type": "display_data"
    }
   ],
   "source": [
    "for model_name in model_names:\n",
    "\n",
    "    visualizer2 = PrecisionRecallCurve(final_models[model_name], hist=False, qqplot=True, size=(800,550))\n",
    "    visualizer2.fit(X, y)\n",
    "    visualizer2.score(X_test, y_test)\n",
    "    visualizer2.show(outpath='output/plots/'+model_group_name+'/' + \"classification_model_\"+model_name+\"_PrecisionRecallCurve_plot.png\",dpi = 300)\n",
    "    \n",
    "    plt.clf() "
   ]
  },
  {
   "cell_type": "code",
   "execution_count": 44,
   "id": "1a279e6d",
   "metadata": {},
   "outputs": [
    {
     "data": {
      "text/plain": [
       "<Figure size 800x550 with 0 Axes>"
      ]
     },
     "metadata": {},
     "output_type": "display_data"
    }
   ],
   "source": [
    "for model_name in model_names:\n",
    "\n",
    "    visualizer3 = ClassPredictionError(final_models[model_name], size=(800,550))\n",
    "    visualizer3.fit(X, y)\n",
    "    visualizer3.score(X_test, y_test)\n",
    "    visualizer3.show(outpath='output/plots/'+model_group_name+'/' + \"classification_model_\"+model_name+\"_error_plot.png\",dpi = 300)    \n",
    "    \n",
    "    plt.clf()"
   ]
  },
  {
   "cell_type": "code",
   "execution_count": 55,
   "id": "23777c4f",
   "metadata": {},
   "outputs": [
    {
     "data": {
      "text/plain": [
       "<Figure size 800x550 with 0 Axes>"
      ]
     },
     "metadata": {},
     "output_type": "display_data"
    }
   ],
   "source": [
    "for model_name in model_names:\n",
    "\n",
    "    visualizer4 = ConfusionMatrix(final_models[model_name], size=(800,550), percent=True)\n",
    "    visualizer4.fit(X, y)\n",
    "    visualizer4.score(X_test, y_test)\n",
    "    for label in visualizer4.ax.texts:\n",
    "        label.set_size(18)\n",
    "    visualizer4.show(outpath='output/plots/'+model_group_name+'/' + \"classification_model_\"+model_name+\"_ConfusionMatrix_plot.png\",dpi = 300)    \n",
    "    \n",
    "    plt.clf()"
   ]
  },
  {
   "cell_type": "code",
   "execution_count": 46,
   "id": "ef7e1f19",
   "metadata": {
    "scrolled": false
   },
   "outputs": [
    {
     "data": {
      "text/plain": [
       "<Figure size 800x550 with 0 Axes>"
      ]
     },
     "metadata": {},
     "output_type": "display_data"
    }
   ],
   "source": [
    "for model_name in model_names:\n",
    "\n",
    "    visualizer5 = DiscriminationThreshold(final_models[model_name], size=(800,550))\n",
    "    visualizer5.fit(X, y)\n",
    "    visualizer5.score(X_test, y_test)\n",
    "    visualizer5.show(outpath='output/plots/'+model_group_name+'/' + \"classification_model_\"+model_name+\"_DiscriminationThreshold_plot.png\",dpi = 300)    \n",
    "    \n",
    "    plt.clf()"
   ]
  },
  {
   "cell_type": "code",
   "execution_count": 47,
   "id": "cf552eb5",
   "metadata": {},
   "outputs": [
    {
     "data": {
      "text/plain": [
       "<Figure size 800x550 with 0 Axes>"
      ]
     },
     "metadata": {},
     "output_type": "display_data"
    }
   ],
   "source": [
    "for model_name in ['lr', 'knn', 'rf', 'et', 'gbc', 'lightgbm']:\n",
    "    \n",
    "    visualizer6 = ROCAUC(final_models[model_name], size=(800,550))\n",
    "    visualizer6.fit(X, y)\n",
    "    visualizer6.score(X_test, y_test)\n",
    "    visualizer6.show(outpath='output/plots/'+model_group_name+'/' + \"classification_model_\"+model_name+\"_ROCAUC_plot.png\",dpi = 300)    \n",
    "    \n",
    "    plt.clf()"
   ]
  },
  {
   "cell_type": "markdown",
   "id": "3a2eafd5",
   "metadata": {},
   "source": [
    "### Load model"
   ]
  },
  {
   "cell_type": "code",
   "execution_count": 48,
   "id": "2406f629",
   "metadata": {},
   "outputs": [],
   "source": [
    "model_names = ['lr', 'knn', 'svm', 'rf', 'et', 'gbc', 'lightgbm']"
   ]
  },
  {
   "cell_type": "code",
   "execution_count": 49,
   "id": "6f5acd9b",
   "metadata": {},
   "outputs": [],
   "source": [
    "final_config = load_config('output/models/'+model_group_name+'/classification_config.cfg')"
   ]
  },
  {
   "cell_type": "code",
   "execution_count": 50,
   "id": "7503a083",
   "metadata": {},
   "outputs": [],
   "source": [
    "tuned_models_load = dict()\n",
    "final_models_load = dict()"
   ]
  },
  {
   "cell_type": "code",
   "execution_count": 51,
   "id": "af29b475",
   "metadata": {},
   "outputs": [
    {
     "name": "stdout",
     "output_type": "stream",
     "text": [
      "Transformation Pipeline and Model Successfully Loaded\n",
      "Transformation Pipeline and Model Successfully Loaded\n",
      "Transformation Pipeline and Model Successfully Loaded\n",
      "Transformation Pipeline and Model Successfully Loaded\n",
      "Transformation Pipeline and Model Successfully Loaded\n",
      "Transformation Pipeline and Model Successfully Loaded\n",
      "Transformation Pipeline and Model Successfully Loaded\n",
      "Transformation Pipeline and Model Successfully Loaded\n",
      "Transformation Pipeline and Model Successfully Loaded\n",
      "Transformation Pipeline and Model Successfully Loaded\n",
      "Transformation Pipeline and Model Successfully Loaded\n",
      "Transformation Pipeline and Model Successfully Loaded\n",
      "Transformation Pipeline and Model Successfully Loaded\n",
      "Transformation Pipeline and Model Successfully Loaded\n"
     ]
    }
   ],
   "source": [
    "for model_name in model_names:\n",
    "    tuned_models_load[model_name] = load_model('output/models/'+model_group_name+'/classification_model_'+model_name+'_tuned.mdl')\n",
    "    final_models_load[model_name] = load_model('output/models/'+model_group_name+'/classification_model_'+model_name+'_final.mdl')"
   ]
  },
  {
   "cell_type": "code",
   "execution_count": 52,
   "id": "acba0082",
   "metadata": {},
   "outputs": [
    {
     "data": {
      "text/plain": [
       "{'boosting_type': 'gbdt',\n",
       " 'objective': None,\n",
       " 'num_leaves': 31,\n",
       " 'max_depth': -1,\n",
       " 'learning_rate': 0.1,\n",
       " 'n_estimators': 100,\n",
       " 'subsample_for_bin': 200000,\n",
       " 'min_split_gain': 0.0,\n",
       " 'min_child_weight': 0.001,\n",
       " 'min_child_samples': 20,\n",
       " 'subsample': 1.0,\n",
       " 'subsample_freq': 0,\n",
       " 'colsample_bytree': 1.0,\n",
       " 'reg_alpha': 0.0,\n",
       " 'reg_lambda': 0.0,\n",
       " 'random_state': 834,\n",
       " 'n_jobs': -1,\n",
       " 'silent': 'warn',\n",
       " 'importance_type': 'split',\n",
       " '_Booster': <lightgbm.basic.Booster at 0x7ff3a7e90d60>,\n",
       " '_evals_result': None,\n",
       " '_best_score': defaultdict(collections.OrderedDict, {}),\n",
       " '_best_iteration': None,\n",
       " '_other_params': {},\n",
       " '_objective': 'binary',\n",
       " 'class_weight': None,\n",
       " '_class_weight': None,\n",
       " '_class_map': {0: 0, 1: 1},\n",
       " '_n_features': 52,\n",
       " '_n_features_in': 52,\n",
       " '_classes': array([0, 1]),\n",
       " '_n_classes': 2,\n",
       " '_le': LabelEncoder(),\n",
       " '_fobj': None,\n",
       " 'fitted_': True}"
      ]
     },
     "execution_count": 52,
     "metadata": {},
     "output_type": "execute_result"
    }
   ],
   "source": [
    "vars(final_models_load['lightgbm']._final_estimator)"
   ]
  },
  {
   "cell_type": "code",
   "execution_count": 53,
   "id": "2a1bbb79",
   "metadata": {},
   "outputs": [
    {
     "data": {
      "image/png": "[encoded data removed]",
      "text/plain": [
       "<Figure size 800x500 with 1 Axes>"
      ]
     },
     "metadata": {},
     "output_type": "display_data"
    },
    {
     "name": "stdout",
     "output_type": "stream",
     "text": [
      "[LightGBM] [Warning] bagging_fraction is set=0.7346785768733907, subsample=1.0 will be ignored. Current value: bagging_fraction=0.7346785768733907\n",
      "[LightGBM] [Warning] feature_fraction is set=0.6582542672212363, colsample_bytree=1.0 will be ignored. Current value: feature_fraction=0.6582542672212363\n",
      "[LightGBM] [Warning] bagging_freq is set=1, subsample_freq=0 will be ignored. Current value: bagging_freq=1\n",
      "[LightGBM] [Warning] bagging_fraction is set=0.7346785768733907, subsample=1.0 will be ignored. Current value: bagging_fraction=0.7346785768733907\n",
      "[LightGBM] [Warning] feature_fraction is set=0.6582542672212363, colsample_bytree=1.0 will be ignored. Current value: feature_fraction=0.6582542672212363\n",
      "[LightGBM] [Warning] bagging_freq is set=1, subsample_freq=0 will be ignored. Current value: bagging_freq=1\n",
      "[LightGBM] [Warning] bagging_fraction is set=0.7346785768733907, subsample=1.0 will be ignored. Current value: bagging_fraction=0.7346785768733907\n",
      "[LightGBM] [Warning] feature_fraction is set=0.6582542672212363, colsample_bytree=1.0 will be ignored. Current value: feature_fraction=0.6582542672212363\n",
      "[LightGBM] [Warning] bagging_freq is set=1, subsample_freq=0 will be ignored. Current value: bagging_freq=1\n",
      "[LightGBM] [Warning] bagging_fraction is set=0.7346785768733907, subsample=1.0 will be ignored. Current value: bagging_fraction=0.7346785768733907\n",
      "[LightGBM] [Warning] feature_fraction is set=0.6582542672212363, colsample_bytree=1.0 will be ignored. Current value: feature_fraction=0.6582542672212363\n",
      "[LightGBM] [Warning] bagging_freq is set=1, subsample_freq=0 will be ignored. Current value: bagging_freq=1\n",
      "[LightGBM] [Warning] bagging_fraction is set=0.7346785768733907, subsample=1.0 will be ignored. Current value: bagging_fraction=0.7346785768733907\n",
      "[LightGBM] [Warning] feature_fraction is set=0.6582542672212363, colsample_bytree=1.0 will be ignored. Current value: feature_fraction=0.6582542672212363\n",
      "[LightGBM] [Warning] bagging_freq is set=1, subsample_freq=0 will be ignored. Current value: bagging_freq=1\n"
     ]
    }
   ],
   "source": [
    "plot_model(tuned_models_load['lightgbm']._final_estimator, 'feature')"
   ]
  },
  {
   "cell_type": "code",
   "execution_count": null,
   "id": "2fc4157c",
   "metadata": {},
   "outputs": [],
   "source": []
  }
 ],
 "metadata": {
  "kernelspec": {
   "display_name": "Python 3 (ipykernel)",
   "language": "python",
   "name": "python3"
  },
  "language_info": {
   "codemirror_mode": {
    "name": "ipython",
    "version": 3
   },
   "file_extension": ".py",
   "mimetype": "text/x-python",
   "name": "python",
   "nbconvert_exporter": "python",
   "pygments_lexer": "ipython3",
   "version": "3.8.13"
  }
 },
 "nbformat": 4,
 "nbformat_minor": 5
}
