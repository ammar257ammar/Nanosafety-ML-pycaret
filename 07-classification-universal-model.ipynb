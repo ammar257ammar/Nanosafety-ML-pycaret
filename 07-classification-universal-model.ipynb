{
 "cells": [
  {
   "cell_type": "markdown",
   "id": "c772a64f-823c-4973-bf41-3c9a239c601a",
   "metadata": {},
   "source": [
    "# Universal Classification Model"
   ]
  },
  {
   "cell_type": "markdown",
   "id": "6cc25fc3-e84a-4d87-ace3-e947218d58aa",
   "metadata": {},
   "source": [
    "### Importing libraries and define functions"
   ]
  },
  {
   "cell_type": "code",
   "execution_count": 1,
   "id": "5e31b3ce-df35-4b10-a99a-2f753f523fb9",
   "metadata": {},
   "outputs": [],
   "source": [
    "import pandas as pd\n",
    "import numpy as np\n",
    "import scipy\n",
    "import math\n",
    "import os\n",
    "import sys"
   ]
  },
  {
   "cell_type": "code",
   "execution_count": 2,
   "id": "8375cb30",
   "metadata": {},
   "outputs": [],
   "source": [
    "# Managing Warnings \n",
    "import warnings\n",
    "warnings.filterwarnings('ignore')\n",
    "\n",
    "if not sys.warnoptions:\n",
    "    warnings.simplefilter(\"ignore\")\n",
    "    os.environ[\"PYTHONWARNINGS\"] = \"ignore\" # Also affect subprocesses"
   ]
  },
  {
   "cell_type": "code",
   "execution_count": 64,
   "id": "2d2c745b-9e8f-415c-a43c-f08fb5937b46",
   "metadata": {},
   "outputs": [],
   "source": [
    "import sklearn\n",
    "from sklearn.decomposition import PCA\n",
    "from sklearn import preprocessing\n",
    "from sklearn.impute import SimpleImputer\n",
    "from sklearn.model_selection import StratifiedKFold\n",
    "from sklearn.model_selection import cross_val_score\n",
    "from sklearn.model_selection import cross_validate"
   ]
  },
  {
   "cell_type": "code",
   "execution_count": 4,
   "id": "5b9378dc",
   "metadata": {},
   "outputs": [],
   "source": [
    "from yellowbrick.classifier import ROCAUC\n",
    "from yellowbrick.classifier import ClassPredictionError\n",
    "from yellowbrick.classifier import PrecisionRecallCurve\n",
    "from yellowbrick.classifier import ConfusionMatrix\n",
    "from yellowbrick.classifier import DiscriminationThreshold\n",
    "from yellowbrick.model_selection import FeatureImportances\n",
    "import matplotlib.pyplot as plt"
   ]
  },
  {
   "cell_type": "code",
   "execution_count": 5,
   "id": "03a6e29f",
   "metadata": {},
   "outputs": [],
   "source": [
    "from pycaret.classification import *"
   ]
  },
  {
   "cell_type": "code",
   "execution_count": 6,
   "id": "8d5a3c8a",
   "metadata": {},
   "outputs": [],
   "source": [
    "import functions as f"
   ]
  },
  {
   "cell_type": "code",
   "execution_count": 7,
   "id": "d563849c",
   "metadata": {},
   "outputs": [],
   "source": [
    "from copy import deepcopy"
   ]
  },
  {
   "cell_type": "markdown",
   "id": "bf6d7f7e",
   "metadata": {},
   "source": [
    "### Loading the train data into the data frame."
   ]
  },
  {
   "cell_type": "code",
   "execution_count": 8,
   "id": "da49b7e9",
   "metadata": {},
   "outputs": [],
   "source": [
    "data_train_df = pd.read_csv(\"output/datasets/universal/data_classification_train_df.csv\", encoding=\"utf-8\")"
   ]
  },
  {
   "cell_type": "code",
   "execution_count": 9,
   "id": "f38a5c13",
   "metadata": {},
   "outputs": [
    {
     "data": {
      "text/plain": [
       "NP_type                object\n",
       "Coating                object\n",
       "core_size_nm          float64\n",
       "hydro_size_nm         float64\n",
       "Surf_charge_mV        float64\n",
       "Surface_area_m2_g     float64\n",
       "shape                  object\n",
       "Dose_microg_mL        float64\n",
       "Duration_h            float64\n",
       "Cell_name              object\n",
       "Cell_species           object\n",
       "cell_Organ             object\n",
       "Cell_morphology        object\n",
       "Cell_age               object\n",
       "cell_type              object\n",
       "sex                    object\n",
       "Assay                  object\n",
       "Test_indicator         object\n",
       "nanomaterial_group     object\n",
       "viability_class        object\n",
       "dtype: object"
      ]
     },
     "execution_count": 9,
     "metadata": {},
     "output_type": "execute_result"
    }
   ],
   "source": [
    "data_train_df.dtypes"
   ]
  },
  {
   "cell_type": "code",
   "execution_count": 10,
   "id": "2d093a1e",
   "metadata": {},
   "outputs": [
    {
     "data": {
      "text/plain": [
       "(9052, 20)"
      ]
     },
     "execution_count": 10,
     "metadata": {},
     "output_type": "execute_result"
    }
   ],
   "source": [
    "data_train_df.shape"
   ]
  },
  {
   "cell_type": "code",
   "execution_count": 11,
   "id": "ebeeb573",
   "metadata": {},
   "outputs": [
    {
     "data": {
      "text/html": [
       "<div>\n",
       "<style scoped>\n",
       "    .dataframe tbody tr th:only-of-type {\n",
       "        vertical-align: middle;\n",
       "    }\n",
       "\n",
       "    .dataframe tbody tr th {\n",
       "        vertical-align: top;\n",
       "    }\n",
       "\n",
       "    .dataframe thead th {\n",
       "        text-align: right;\n",
       "    }\n",
       "</style>\n",
       "<table border=\"1\" class=\"dataframe\">\n",
       "  <thead>\n",
       "    <tr style=\"text-align: right;\">\n",
       "      <th></th>\n",
       "      <th>NP_type</th>\n",
       "      <th>Coating</th>\n",
       "      <th>core_size_nm</th>\n",
       "      <th>hydro_size_nm</th>\n",
       "      <th>Surf_charge_mV</th>\n",
       "      <th>Surface_area_m2_g</th>\n",
       "      <th>shape</th>\n",
       "      <th>Dose_microg_mL</th>\n",
       "      <th>Duration_h</th>\n",
       "      <th>Cell_name</th>\n",
       "      <th>Cell_species</th>\n",
       "      <th>cell_Organ</th>\n",
       "      <th>Cell_morphology</th>\n",
       "      <th>Cell_age</th>\n",
       "      <th>cell_type</th>\n",
       "      <th>sex</th>\n",
       "      <th>Assay</th>\n",
       "      <th>Test_indicator</th>\n",
       "      <th>nanomaterial_group</th>\n",
       "      <th>viability_class</th>\n",
       "    </tr>\n",
       "  </thead>\n",
       "  <tbody>\n",
       "    <tr>\n",
       "      <th>0</th>\n",
       "      <td>CdTe</td>\n",
       "      <td>Ganciclovir</td>\n",
       "      <td>3.90</td>\n",
       "      <td>NaN</td>\n",
       "      <td>NaN</td>\n",
       "      <td>NaN</td>\n",
       "      <td>NaN</td>\n",
       "      <td>1.00</td>\n",
       "      <td>96.0</td>\n",
       "      <td>HeLa</td>\n",
       "      <td>Human</td>\n",
       "      <td>Cervix</td>\n",
       "      <td>Epithelial</td>\n",
       "      <td>Adult</td>\n",
       "      <td>cancer</td>\n",
       "      <td>female</td>\n",
       "      <td>MTT</td>\n",
       "      <td>TetrazoliumSalt</td>\n",
       "      <td>quantum_dots</td>\n",
       "      <td>Toxic</td>\n",
       "    </tr>\n",
       "    <tr>\n",
       "      <th>1</th>\n",
       "      <td>TiO2</td>\n",
       "      <td>None</td>\n",
       "      <td>10.00</td>\n",
       "      <td>1457.0</td>\n",
       "      <td>-11.0</td>\n",
       "      <td>NaN</td>\n",
       "      <td>NaN</td>\n",
       "      <td>10.00</td>\n",
       "      <td>NaN</td>\n",
       "      <td>BEAS_2B</td>\n",
       "      <td>Human</td>\n",
       "      <td>Lung</td>\n",
       "      <td>Epithelial</td>\n",
       "      <td>Adult</td>\n",
       "      <td>Normal</td>\n",
       "      <td>NaN</td>\n",
       "      <td>MTS</td>\n",
       "      <td>TetrazoliumSalt</td>\n",
       "      <td>meta_oxide</td>\n",
       "      <td>NonToxic</td>\n",
       "    </tr>\n",
       "    <tr>\n",
       "      <th>2</th>\n",
       "      <td>CdSe</td>\n",
       "      <td>None</td>\n",
       "      <td>2.77</td>\n",
       "      <td>NaN</td>\n",
       "      <td>NaN</td>\n",
       "      <td>NaN</td>\n",
       "      <td>NaN</td>\n",
       "      <td>9.04</td>\n",
       "      <td>100.0</td>\n",
       "      <td>T-Thermophila-BF5</td>\n",
       "      <td>Protozoa</td>\n",
       "      <td>Microorganism</td>\n",
       "      <td>Somatic</td>\n",
       "      <td>NaN</td>\n",
       "      <td>Normal</td>\n",
       "      <td>NaN</td>\n",
       "      <td>Others</td>\n",
       "      <td>NaN</td>\n",
       "      <td>quantum_dots</td>\n",
       "      <td>Toxic</td>\n",
       "    </tr>\n",
       "    <tr>\n",
       "      <th>3</th>\n",
       "      <td>Hydroxyapatite</td>\n",
       "      <td>None</td>\n",
       "      <td>20.00</td>\n",
       "      <td>NaN</td>\n",
       "      <td>-5.3</td>\n",
       "      <td>NaN</td>\n",
       "      <td>Rod</td>\n",
       "      <td>300.00</td>\n",
       "      <td>24.0</td>\n",
       "      <td>RAW 264.7</td>\n",
       "      <td>Mouse</td>\n",
       "      <td>Blood</td>\n",
       "      <td>Macrophage</td>\n",
       "      <td>Adult</td>\n",
       "      <td>cancer</td>\n",
       "      <td>male</td>\n",
       "      <td>CCK_8</td>\n",
       "      <td>TetrazoliumSalt</td>\n",
       "      <td>other</td>\n",
       "      <td>NonToxic</td>\n",
       "    </tr>\n",
       "    <tr>\n",
       "      <th>4</th>\n",
       "      <td>TiO2</td>\n",
       "      <td>None</td>\n",
       "      <td>5.00</td>\n",
       "      <td>NaN</td>\n",
       "      <td>NaN</td>\n",
       "      <td>NaN</td>\n",
       "      <td>Lentil</td>\n",
       "      <td>10.00</td>\n",
       "      <td>24.0</td>\n",
       "      <td>SH­SY5Y</td>\n",
       "      <td>Human</td>\n",
       "      <td>BoneMarrow</td>\n",
       "      <td>Epithelial</td>\n",
       "      <td>Young</td>\n",
       "      <td>cancer</td>\n",
       "      <td>female</td>\n",
       "      <td>MTT</td>\n",
       "      <td>TetrazoliumSalt</td>\n",
       "      <td>meta_oxide</td>\n",
       "      <td>NonToxic</td>\n",
       "    </tr>\n",
       "  </tbody>\n",
       "</table>\n",
       "</div>"
      ],
      "text/plain": [
       "          NP_type      Coating  core_size_nm  hydro_size_nm  Surf_charge_mV  \\\n",
       "0            CdTe  Ganciclovir          3.90            NaN             NaN   \n",
       "1            TiO2         None         10.00         1457.0           -11.0   \n",
       "2            CdSe         None          2.77            NaN             NaN   \n",
       "3  Hydroxyapatite         None         20.00            NaN            -5.3   \n",
       "4            TiO2         None          5.00            NaN             NaN   \n",
       "\n",
       "   Surface_area_m2_g   shape  Dose_microg_mL  Duration_h          Cell_name  \\\n",
       "0                NaN     NaN            1.00        96.0               HeLa   \n",
       "1                NaN     NaN           10.00         NaN            BEAS_2B   \n",
       "2                NaN     NaN            9.04       100.0  T-Thermophila-BF5   \n",
       "3                NaN     Rod          300.00        24.0          RAW 264.7   \n",
       "4                NaN  Lentil           10.00        24.0            SH­SY5Y   \n",
       "\n",
       "  Cell_species     cell_Organ Cell_morphology Cell_age cell_type     sex  \\\n",
       "0        Human         Cervix      Epithelial    Adult    cancer  female   \n",
       "1        Human           Lung      Epithelial    Adult    Normal     NaN   \n",
       "2     Protozoa  Microorganism         Somatic      NaN    Normal     NaN   \n",
       "3        Mouse          Blood      Macrophage    Adult    cancer    male   \n",
       "4        Human     BoneMarrow      Epithelial    Young    cancer  female   \n",
       "\n",
       "    Assay   Test_indicator nanomaterial_group viability_class  \n",
       "0     MTT  TetrazoliumSalt       quantum_dots           Toxic  \n",
       "1     MTS  TetrazoliumSalt         meta_oxide        NonToxic  \n",
       "2  Others              NaN       quantum_dots           Toxic  \n",
       "3   CCK_8  TetrazoliumSalt              other        NonToxic  \n",
       "4     MTT  TetrazoliumSalt         meta_oxide        NonToxic  "
      ]
     },
     "execution_count": 11,
     "metadata": {},
     "output_type": "execute_result"
    }
   ],
   "source": [
    "data_train_df.head()"
   ]
  },
  {
   "cell_type": "code",
   "execution_count": 12,
   "id": "19b3d57d",
   "metadata": {},
   "outputs": [],
   "source": [
    "#data_train_df_clean = data_train_df.dropna(thresh=data_train_df.shape[1]-3, axis=0)\n",
    "#print(data_train_df_clean.shape)"
   ]
  },
  {
   "cell_type": "markdown",
   "id": "4e176266",
   "metadata": {},
   "source": [
    "### Loading the test data into the data frame."
   ]
  },
  {
   "cell_type": "code",
   "execution_count": 13,
   "id": "3f3fa90b",
   "metadata": {},
   "outputs": [],
   "source": [
    "data_test_df = pd.read_csv(\"output/datasets/universal/data_classification_test_df.csv\", encoding=\"utf-8\")"
   ]
  },
  {
   "cell_type": "code",
   "execution_count": 14,
   "id": "52dadafb",
   "metadata": {},
   "outputs": [
    {
     "data": {
      "text/plain": [
       "NP_type                object\n",
       "Coating                object\n",
       "core_size_nm          float64\n",
       "hydro_size_nm         float64\n",
       "Surf_charge_mV        float64\n",
       "Surface_area_m2_g     float64\n",
       "shape                  object\n",
       "Dose_microg_mL        float64\n",
       "Duration_h            float64\n",
       "Cell_name              object\n",
       "Cell_species           object\n",
       "cell_Organ             object\n",
       "Cell_morphology        object\n",
       "Cell_age               object\n",
       "cell_type              object\n",
       "sex                    object\n",
       "Assay                  object\n",
       "Test_indicator         object\n",
       "nanomaterial_group     object\n",
       "viability_class        object\n",
       "dtype: object"
      ]
     },
     "execution_count": 14,
     "metadata": {},
     "output_type": "execute_result"
    }
   ],
   "source": [
    "data_test_df.dtypes"
   ]
  },
  {
   "cell_type": "code",
   "execution_count": 15,
   "id": "d29ca572",
   "metadata": {},
   "outputs": [
    {
     "data": {
      "text/plain": [
       "(2263, 20)"
      ]
     },
     "execution_count": 15,
     "metadata": {},
     "output_type": "execute_result"
    }
   ],
   "source": [
    "data_test_df.shape"
   ]
  },
  {
   "cell_type": "code",
   "execution_count": 16,
   "id": "fd043ed7",
   "metadata": {},
   "outputs": [
    {
     "data": {
      "text/html": [
       "<div>\n",
       "<style scoped>\n",
       "    .dataframe tbody tr th:only-of-type {\n",
       "        vertical-align: middle;\n",
       "    }\n",
       "\n",
       "    .dataframe tbody tr th {\n",
       "        vertical-align: top;\n",
       "    }\n",
       "\n",
       "    .dataframe thead th {\n",
       "        text-align: right;\n",
       "    }\n",
       "</style>\n",
       "<table border=\"1\" class=\"dataframe\">\n",
       "  <thead>\n",
       "    <tr style=\"text-align: right;\">\n",
       "      <th></th>\n",
       "      <th>NP_type</th>\n",
       "      <th>Coating</th>\n",
       "      <th>core_size_nm</th>\n",
       "      <th>hydro_size_nm</th>\n",
       "      <th>Surf_charge_mV</th>\n",
       "      <th>Surface_area_m2_g</th>\n",
       "      <th>shape</th>\n",
       "      <th>Dose_microg_mL</th>\n",
       "      <th>Duration_h</th>\n",
       "      <th>Cell_name</th>\n",
       "      <th>Cell_species</th>\n",
       "      <th>cell_Organ</th>\n",
       "      <th>Cell_morphology</th>\n",
       "      <th>Cell_age</th>\n",
       "      <th>cell_type</th>\n",
       "      <th>sex</th>\n",
       "      <th>Assay</th>\n",
       "      <th>Test_indicator</th>\n",
       "      <th>nanomaterial_group</th>\n",
       "      <th>viability_class</th>\n",
       "    </tr>\n",
       "  </thead>\n",
       "  <tbody>\n",
       "    <tr>\n",
       "      <th>0</th>\n",
       "      <td>Ni</td>\n",
       "      <td>None</td>\n",
       "      <td>65.17</td>\n",
       "      <td>NaN</td>\n",
       "      <td>NaN</td>\n",
       "      <td>NaN</td>\n",
       "      <td>Sphere</td>\n",
       "      <td>5.00</td>\n",
       "      <td>24.0</td>\n",
       "      <td>A549</td>\n",
       "      <td>Human</td>\n",
       "      <td>Lung</td>\n",
       "      <td>Epithelial</td>\n",
       "      <td>Adult</td>\n",
       "      <td>cancer</td>\n",
       "      <td>male</td>\n",
       "      <td>MTT</td>\n",
       "      <td>TetrazoliumSalt</td>\n",
       "      <td>other</td>\n",
       "      <td>NonToxic</td>\n",
       "    </tr>\n",
       "    <tr>\n",
       "      <th>1</th>\n",
       "      <td>CdSe</td>\n",
       "      <td>Glycine</td>\n",
       "      <td>2.40</td>\n",
       "      <td>NaN</td>\n",
       "      <td>NaN</td>\n",
       "      <td>NaN</td>\n",
       "      <td>NaN</td>\n",
       "      <td>0.15</td>\n",
       "      <td>72.0</td>\n",
       "      <td>HeLa</td>\n",
       "      <td>Human</td>\n",
       "      <td>Cervix</td>\n",
       "      <td>Epithelial</td>\n",
       "      <td>Adult</td>\n",
       "      <td>cancer</td>\n",
       "      <td>female</td>\n",
       "      <td>WST-1</td>\n",
       "      <td>TetrazoliumSalt</td>\n",
       "      <td>quantum_dots</td>\n",
       "      <td>NonToxic</td>\n",
       "    </tr>\n",
       "    <tr>\n",
       "      <th>2</th>\n",
       "      <td>Dendrimer</td>\n",
       "      <td>None</td>\n",
       "      <td>49.20</td>\n",
       "      <td>NaN</td>\n",
       "      <td>-5.38</td>\n",
       "      <td>NaN</td>\n",
       "      <td>NaN</td>\n",
       "      <td>0.02</td>\n",
       "      <td>96.0</td>\n",
       "      <td>HaCat</td>\n",
       "      <td>Human</td>\n",
       "      <td>Skin</td>\n",
       "      <td>Keratinocyte</td>\n",
       "      <td>Adult</td>\n",
       "      <td>Normal</td>\n",
       "      <td>male</td>\n",
       "      <td>Alamar_Blue</td>\n",
       "      <td>AlamarBlue</td>\n",
       "      <td>other</td>\n",
       "      <td>NonToxic</td>\n",
       "    </tr>\n",
       "    <tr>\n",
       "      <th>3</th>\n",
       "      <td>PLGA</td>\n",
       "      <td>Poloxamer</td>\n",
       "      <td>112.00</td>\n",
       "      <td>NaN</td>\n",
       "      <td>-21.00</td>\n",
       "      <td>NaN</td>\n",
       "      <td>Sphere</td>\n",
       "      <td>5000.00</td>\n",
       "      <td>24.0</td>\n",
       "      <td>Calu-3</td>\n",
       "      <td>Human</td>\n",
       "      <td>Lung</td>\n",
       "      <td>Epithelial</td>\n",
       "      <td>Adult</td>\n",
       "      <td>cancer</td>\n",
       "      <td>male</td>\n",
       "      <td>MTT</td>\n",
       "      <td>TetrazoliumSalt</td>\n",
       "      <td>other</td>\n",
       "      <td>NonToxic</td>\n",
       "    </tr>\n",
       "    <tr>\n",
       "      <th>4</th>\n",
       "      <td>Pt</td>\n",
       "      <td>PVP</td>\n",
       "      <td>4.00</td>\n",
       "      <td>13.5</td>\n",
       "      <td>-8.00</td>\n",
       "      <td>NaN</td>\n",
       "      <td>NaN</td>\n",
       "      <td>0.00</td>\n",
       "      <td>48.0</td>\n",
       "      <td>IMR90</td>\n",
       "      <td>Human</td>\n",
       "      <td>Lung</td>\n",
       "      <td>Fibroblast</td>\n",
       "      <td>neonate</td>\n",
       "      <td>Normal</td>\n",
       "      <td>female</td>\n",
       "      <td>CellTiter_Glo</td>\n",
       "      <td>luciferase</td>\n",
       "      <td>other</td>\n",
       "      <td>NonToxic</td>\n",
       "    </tr>\n",
       "  </tbody>\n",
       "</table>\n",
       "</div>"
      ],
      "text/plain": [
       "     NP_type    Coating  core_size_nm  hydro_size_nm  Surf_charge_mV  \\\n",
       "0         Ni       None         65.17            NaN             NaN   \n",
       "1       CdSe    Glycine          2.40            NaN             NaN   \n",
       "2  Dendrimer       None         49.20            NaN           -5.38   \n",
       "3       PLGA  Poloxamer        112.00            NaN          -21.00   \n",
       "4         Pt        PVP          4.00           13.5           -8.00   \n",
       "\n",
       "   Surface_area_m2_g   shape  Dose_microg_mL  Duration_h Cell_name  \\\n",
       "0                NaN  Sphere            5.00        24.0      A549   \n",
       "1                NaN     NaN            0.15        72.0      HeLa   \n",
       "2                NaN     NaN            0.02        96.0     HaCat   \n",
       "3                NaN  Sphere         5000.00        24.0    Calu-3   \n",
       "4                NaN     NaN            0.00        48.0     IMR90   \n",
       "\n",
       "  Cell_species cell_Organ Cell_morphology Cell_age cell_type     sex  \\\n",
       "0        Human       Lung      Epithelial    Adult    cancer    male   \n",
       "1        Human     Cervix      Epithelial    Adult    cancer  female   \n",
       "2        Human       Skin    Keratinocyte    Adult    Normal    male   \n",
       "3        Human       Lung      Epithelial    Adult    cancer    male   \n",
       "4        Human       Lung      Fibroblast  neonate    Normal  female   \n",
       "\n",
       "           Assay   Test_indicator nanomaterial_group viability_class  \n",
       "0            MTT  TetrazoliumSalt              other        NonToxic  \n",
       "1          WST-1  TetrazoliumSalt       quantum_dots        NonToxic  \n",
       "2    Alamar_Blue       AlamarBlue              other        NonToxic  \n",
       "3            MTT  TetrazoliumSalt              other        NonToxic  \n",
       "4  CellTiter_Glo       luciferase              other        NonToxic  "
      ]
     },
     "execution_count": 16,
     "metadata": {},
     "output_type": "execute_result"
    }
   ],
   "source": [
    "data_test_df.head()"
   ]
  },
  {
   "cell_type": "code",
   "execution_count": 17,
   "id": "c9e19bb8",
   "metadata": {},
   "outputs": [],
   "source": [
    "#data_test_df_clean = data_test_df.dropna(thresh=data_test_df.shape[1]-3, axis=0)\n",
    "#print(data_test_df_clean.shape)"
   ]
  },
  {
   "cell_type": "markdown",
   "id": "cffe023c-bf03-4ba8-a278-8b1261da6572",
   "metadata": {},
   "source": [
    "### Use the best scenario identified in step 01"
   ]
  },
  {
   "cell_type": "code",
   "execution_count": 18,
   "id": "2cf8d7ef",
   "metadata": {},
   "outputs": [],
   "source": [
    "sc_ignore_features = ['nanomaterial_group', 'Coating', 'Cell_name']\n",
    "sc_bin_numeric_features = None\n",
    "sc_high_cardinality_features = None\n",
    "\n",
    "sc_imputation_type = 'simple'\n",
    "sc_numeric_imputation = 'median'\n",
    "\n",
    "sc_normalize = True\n",
    "sc_remove_outliers = False"
   ]
  },
  {
   "cell_type": "markdown",
   "id": "eb0fb96c",
   "metadata": {},
   "source": [
    "### Define seeds"
   ]
  },
  {
   "cell_type": "code",
   "execution_count": 19,
   "id": "7db1802e",
   "metadata": {},
   "outputs": [],
   "source": [
    "cv_inner_seed = 834\n",
    "cv_outer_seed = 123"
   ]
  },
  {
   "cell_type": "markdown",
   "id": "b866744f",
   "metadata": {},
   "source": [
    "### The Universal Classification Model: Data Preprcoessing"
   ]
  },
  {
   "cell_type": "code",
   "execution_count": 20,
   "id": "cb2a02f9",
   "metadata": {},
   "outputs": [
    {
     "data": {
      "text/html": [
       "<style type=\"text/css\">\n",
       "#T_bbe69_row5_col1, #T_bbe69_row29_col1, #T_bbe69_row36_col1, #T_bbe69_row44_col1, #T_bbe69_row58_col1 {\n",
       "  background-color: lightgreen;\n",
       "}\n",
       "</style>\n",
       "<table id=\"T_bbe69\">\n",
       "  <thead>\n",
       "    <tr>\n",
       "      <th class=\"blank level0\" >&nbsp;</th>\n",
       "      <th id=\"T_bbe69_level0_col0\" class=\"col_heading level0 col0\" >Description</th>\n",
       "      <th id=\"T_bbe69_level0_col1\" class=\"col_heading level0 col1\" >Value</th>\n",
       "    </tr>\n",
       "  </thead>\n",
       "  <tbody>\n",
       "    <tr>\n",
       "      <th id=\"T_bbe69_level0_row0\" class=\"row_heading level0 row0\" >0</th>\n",
       "      <td id=\"T_bbe69_row0_col0\" class=\"data row0 col0\" >session_id</td>\n",
       "      <td id=\"T_bbe69_row0_col1\" class=\"data row0 col1\" >834</td>\n",
       "    </tr>\n",
       "    <tr>\n",
       "      <th id=\"T_bbe69_level0_row1\" class=\"row_heading level0 row1\" >1</th>\n",
       "      <td id=\"T_bbe69_row1_col0\" class=\"data row1 col0\" >Target</td>\n",
       "      <td id=\"T_bbe69_row1_col1\" class=\"data row1 col1\" >viability_class</td>\n",
       "    </tr>\n",
       "    <tr>\n",
       "      <th id=\"T_bbe69_level0_row2\" class=\"row_heading level0 row2\" >2</th>\n",
       "      <td id=\"T_bbe69_row2_col0\" class=\"data row2 col0\" >Target Type</td>\n",
       "      <td id=\"T_bbe69_row2_col1\" class=\"data row2 col1\" >Binary</td>\n",
       "    </tr>\n",
       "    <tr>\n",
       "      <th id=\"T_bbe69_level0_row3\" class=\"row_heading level0 row3\" >3</th>\n",
       "      <td id=\"T_bbe69_row3_col0\" class=\"data row3 col0\" >Label Encoded</td>\n",
       "      <td id=\"T_bbe69_row3_col1\" class=\"data row3 col1\" >NonToxic: 0, Toxic: 1</td>\n",
       "    </tr>\n",
       "    <tr>\n",
       "      <th id=\"T_bbe69_level0_row4\" class=\"row_heading level0 row4\" >4</th>\n",
       "      <td id=\"T_bbe69_row4_col0\" class=\"data row4 col0\" >Original Data</td>\n",
       "      <td id=\"T_bbe69_row4_col1\" class=\"data row4 col1\" >(9052, 20)</td>\n",
       "    </tr>\n",
       "    <tr>\n",
       "      <th id=\"T_bbe69_level0_row5\" class=\"row_heading level0 row5\" >5</th>\n",
       "      <td id=\"T_bbe69_row5_col0\" class=\"data row5 col0\" >Missing Values</td>\n",
       "      <td id=\"T_bbe69_row5_col1\" class=\"data row5 col1\" >True</td>\n",
       "    </tr>\n",
       "    <tr>\n",
       "      <th id=\"T_bbe69_level0_row6\" class=\"row_heading level0 row6\" >6</th>\n",
       "      <td id=\"T_bbe69_row6_col0\" class=\"data row6 col0\" >Numeric Features</td>\n",
       "      <td id=\"T_bbe69_row6_col1\" class=\"data row6 col1\" >6</td>\n",
       "    </tr>\n",
       "    <tr>\n",
       "      <th id=\"T_bbe69_level0_row7\" class=\"row_heading level0 row7\" >7</th>\n",
       "      <td id=\"T_bbe69_row7_col0\" class=\"data row7 col0\" >Categorical Features</td>\n",
       "      <td id=\"T_bbe69_row7_col1\" class=\"data row7 col1\" >10</td>\n",
       "    </tr>\n",
       "    <tr>\n",
       "      <th id=\"T_bbe69_level0_row8\" class=\"row_heading level0 row8\" >8</th>\n",
       "      <td id=\"T_bbe69_row8_col0\" class=\"data row8 col0\" >Ordinal Features</td>\n",
       "      <td id=\"T_bbe69_row8_col1\" class=\"data row8 col1\" >False</td>\n",
       "    </tr>\n",
       "    <tr>\n",
       "      <th id=\"T_bbe69_level0_row9\" class=\"row_heading level0 row9\" >9</th>\n",
       "      <td id=\"T_bbe69_row9_col0\" class=\"data row9 col0\" >High Cardinality Features</td>\n",
       "      <td id=\"T_bbe69_row9_col1\" class=\"data row9 col1\" >False</td>\n",
       "    </tr>\n",
       "    <tr>\n",
       "      <th id=\"T_bbe69_level0_row10\" class=\"row_heading level0 row10\" >10</th>\n",
       "      <td id=\"T_bbe69_row10_col0\" class=\"data row10 col0\" >High Cardinality Method</td>\n",
       "      <td id=\"T_bbe69_row10_col1\" class=\"data row10 col1\" >None</td>\n",
       "    </tr>\n",
       "    <tr>\n",
       "      <th id=\"T_bbe69_level0_row11\" class=\"row_heading level0 row11\" >11</th>\n",
       "      <td id=\"T_bbe69_row11_col0\" class=\"data row11 col0\" >Transformed Train Set</td>\n",
       "      <td id=\"T_bbe69_row11_col1\" class=\"data row11 col1\" >(9052, 266)</td>\n",
       "    </tr>\n",
       "    <tr>\n",
       "      <th id=\"T_bbe69_level0_row12\" class=\"row_heading level0 row12\" >12</th>\n",
       "      <td id=\"T_bbe69_row12_col0\" class=\"data row12 col0\" >Transformed Test Set</td>\n",
       "      <td id=\"T_bbe69_row12_col1\" class=\"data row12 col1\" >(2263, 266)</td>\n",
       "    </tr>\n",
       "    <tr>\n",
       "      <th id=\"T_bbe69_level0_row13\" class=\"row_heading level0 row13\" >13</th>\n",
       "      <td id=\"T_bbe69_row13_col0\" class=\"data row13 col0\" >Shuffle Train-Test</td>\n",
       "      <td id=\"T_bbe69_row13_col1\" class=\"data row13 col1\" >True</td>\n",
       "    </tr>\n",
       "    <tr>\n",
       "      <th id=\"T_bbe69_level0_row14\" class=\"row_heading level0 row14\" >14</th>\n",
       "      <td id=\"T_bbe69_row14_col0\" class=\"data row14 col0\" >Stratify Train-Test</td>\n",
       "      <td id=\"T_bbe69_row14_col1\" class=\"data row14 col1\" >False</td>\n",
       "    </tr>\n",
       "    <tr>\n",
       "      <th id=\"T_bbe69_level0_row15\" class=\"row_heading level0 row15\" >15</th>\n",
       "      <td id=\"T_bbe69_row15_col0\" class=\"data row15 col0\" >Fold Generator</td>\n",
       "      <td id=\"T_bbe69_row15_col1\" class=\"data row15 col1\" >StratifiedKFold</td>\n",
       "    </tr>\n",
       "    <tr>\n",
       "      <th id=\"T_bbe69_level0_row16\" class=\"row_heading level0 row16\" >16</th>\n",
       "      <td id=\"T_bbe69_row16_col0\" class=\"data row16 col0\" >Fold Number</td>\n",
       "      <td id=\"T_bbe69_row16_col1\" class=\"data row16 col1\" >5</td>\n",
       "    </tr>\n",
       "    <tr>\n",
       "      <th id=\"T_bbe69_level0_row17\" class=\"row_heading level0 row17\" >17</th>\n",
       "      <td id=\"T_bbe69_row17_col0\" class=\"data row17 col0\" >CPU Jobs</td>\n",
       "      <td id=\"T_bbe69_row17_col1\" class=\"data row17 col1\" >-1</td>\n",
       "    </tr>\n",
       "    <tr>\n",
       "      <th id=\"T_bbe69_level0_row18\" class=\"row_heading level0 row18\" >18</th>\n",
       "      <td id=\"T_bbe69_row18_col0\" class=\"data row18 col0\" >Use GPU</td>\n",
       "      <td id=\"T_bbe69_row18_col1\" class=\"data row18 col1\" >False</td>\n",
       "    </tr>\n",
       "    <tr>\n",
       "      <th id=\"T_bbe69_level0_row19\" class=\"row_heading level0 row19\" >19</th>\n",
       "      <td id=\"T_bbe69_row19_col0\" class=\"data row19 col0\" >Log Experiment</td>\n",
       "      <td id=\"T_bbe69_row19_col1\" class=\"data row19 col1\" >False</td>\n",
       "    </tr>\n",
       "    <tr>\n",
       "      <th id=\"T_bbe69_level0_row20\" class=\"row_heading level0 row20\" >20</th>\n",
       "      <td id=\"T_bbe69_row20_col0\" class=\"data row20 col0\" >Experiment Name</td>\n",
       "      <td id=\"T_bbe69_row20_col1\" class=\"data row20 col1\" >universal</td>\n",
       "    </tr>\n",
       "    <tr>\n",
       "      <th id=\"T_bbe69_level0_row21\" class=\"row_heading level0 row21\" >21</th>\n",
       "      <td id=\"T_bbe69_row21_col0\" class=\"data row21 col0\" >USI</td>\n",
       "      <td id=\"T_bbe69_row21_col1\" class=\"data row21 col1\" >ca34</td>\n",
       "    </tr>\n",
       "    <tr>\n",
       "      <th id=\"T_bbe69_level0_row22\" class=\"row_heading level0 row22\" >22</th>\n",
       "      <td id=\"T_bbe69_row22_col0\" class=\"data row22 col0\" >Imputation Type</td>\n",
       "      <td id=\"T_bbe69_row22_col1\" class=\"data row22 col1\" >simple</td>\n",
       "    </tr>\n",
       "    <tr>\n",
       "      <th id=\"T_bbe69_level0_row23\" class=\"row_heading level0 row23\" >23</th>\n",
       "      <td id=\"T_bbe69_row23_col0\" class=\"data row23 col0\" >Iterative Imputation Iteration</td>\n",
       "      <td id=\"T_bbe69_row23_col1\" class=\"data row23 col1\" >None</td>\n",
       "    </tr>\n",
       "    <tr>\n",
       "      <th id=\"T_bbe69_level0_row24\" class=\"row_heading level0 row24\" >24</th>\n",
       "      <td id=\"T_bbe69_row24_col0\" class=\"data row24 col0\" >Numeric Imputer</td>\n",
       "      <td id=\"T_bbe69_row24_col1\" class=\"data row24 col1\" >median</td>\n",
       "    </tr>\n",
       "    <tr>\n",
       "      <th id=\"T_bbe69_level0_row25\" class=\"row_heading level0 row25\" >25</th>\n",
       "      <td id=\"T_bbe69_row25_col0\" class=\"data row25 col0\" >Iterative Imputation Numeric Model</td>\n",
       "      <td id=\"T_bbe69_row25_col1\" class=\"data row25 col1\" >None</td>\n",
       "    </tr>\n",
       "    <tr>\n",
       "      <th id=\"T_bbe69_level0_row26\" class=\"row_heading level0 row26\" >26</th>\n",
       "      <td id=\"T_bbe69_row26_col0\" class=\"data row26 col0\" >Categorical Imputer</td>\n",
       "      <td id=\"T_bbe69_row26_col1\" class=\"data row26 col1\" >constant</td>\n",
       "    </tr>\n",
       "    <tr>\n",
       "      <th id=\"T_bbe69_level0_row27\" class=\"row_heading level0 row27\" >27</th>\n",
       "      <td id=\"T_bbe69_row27_col0\" class=\"data row27 col0\" >Iterative Imputation Categorical Model</td>\n",
       "      <td id=\"T_bbe69_row27_col1\" class=\"data row27 col1\" >None</td>\n",
       "    </tr>\n",
       "    <tr>\n",
       "      <th id=\"T_bbe69_level0_row28\" class=\"row_heading level0 row28\" >28</th>\n",
       "      <td id=\"T_bbe69_row28_col0\" class=\"data row28 col0\" >Unknown Categoricals Handling</td>\n",
       "      <td id=\"T_bbe69_row28_col1\" class=\"data row28 col1\" >least_frequent</td>\n",
       "    </tr>\n",
       "    <tr>\n",
       "      <th id=\"T_bbe69_level0_row29\" class=\"row_heading level0 row29\" >29</th>\n",
       "      <td id=\"T_bbe69_row29_col0\" class=\"data row29 col0\" >Normalize</td>\n",
       "      <td id=\"T_bbe69_row29_col1\" class=\"data row29 col1\" >True</td>\n",
       "    </tr>\n",
       "    <tr>\n",
       "      <th id=\"T_bbe69_level0_row30\" class=\"row_heading level0 row30\" >30</th>\n",
       "      <td id=\"T_bbe69_row30_col0\" class=\"data row30 col0\" >Normalize Method</td>\n",
       "      <td id=\"T_bbe69_row30_col1\" class=\"data row30 col1\" >zscore</td>\n",
       "    </tr>\n",
       "    <tr>\n",
       "      <th id=\"T_bbe69_level0_row31\" class=\"row_heading level0 row31\" >31</th>\n",
       "      <td id=\"T_bbe69_row31_col0\" class=\"data row31 col0\" >Transformation</td>\n",
       "      <td id=\"T_bbe69_row31_col1\" class=\"data row31 col1\" >False</td>\n",
       "    </tr>\n",
       "    <tr>\n",
       "      <th id=\"T_bbe69_level0_row32\" class=\"row_heading level0 row32\" >32</th>\n",
       "      <td id=\"T_bbe69_row32_col0\" class=\"data row32 col0\" >Transformation Method</td>\n",
       "      <td id=\"T_bbe69_row32_col1\" class=\"data row32 col1\" >None</td>\n",
       "    </tr>\n",
       "    <tr>\n",
       "      <th id=\"T_bbe69_level0_row33\" class=\"row_heading level0 row33\" >33</th>\n",
       "      <td id=\"T_bbe69_row33_col0\" class=\"data row33 col0\" >PCA</td>\n",
       "      <td id=\"T_bbe69_row33_col1\" class=\"data row33 col1\" >False</td>\n",
       "    </tr>\n",
       "    <tr>\n",
       "      <th id=\"T_bbe69_level0_row34\" class=\"row_heading level0 row34\" >34</th>\n",
       "      <td id=\"T_bbe69_row34_col0\" class=\"data row34 col0\" >PCA Method</td>\n",
       "      <td id=\"T_bbe69_row34_col1\" class=\"data row34 col1\" >None</td>\n",
       "    </tr>\n",
       "    <tr>\n",
       "      <th id=\"T_bbe69_level0_row35\" class=\"row_heading level0 row35\" >35</th>\n",
       "      <td id=\"T_bbe69_row35_col0\" class=\"data row35 col0\" >PCA Components</td>\n",
       "      <td id=\"T_bbe69_row35_col1\" class=\"data row35 col1\" >None</td>\n",
       "    </tr>\n",
       "    <tr>\n",
       "      <th id=\"T_bbe69_level0_row36\" class=\"row_heading level0 row36\" >36</th>\n",
       "      <td id=\"T_bbe69_row36_col0\" class=\"data row36 col0\" >Ignore Low Variance</td>\n",
       "      <td id=\"T_bbe69_row36_col1\" class=\"data row36 col1\" >True</td>\n",
       "    </tr>\n",
       "    <tr>\n",
       "      <th id=\"T_bbe69_level0_row37\" class=\"row_heading level0 row37\" >37</th>\n",
       "      <td id=\"T_bbe69_row37_col0\" class=\"data row37 col0\" >Combine Rare Levels</td>\n",
       "      <td id=\"T_bbe69_row37_col1\" class=\"data row37 col1\" >False</td>\n",
       "    </tr>\n",
       "    <tr>\n",
       "      <th id=\"T_bbe69_level0_row38\" class=\"row_heading level0 row38\" >38</th>\n",
       "      <td id=\"T_bbe69_row38_col0\" class=\"data row38 col0\" >Rare Level Threshold</td>\n",
       "      <td id=\"T_bbe69_row38_col1\" class=\"data row38 col1\" >None</td>\n",
       "    </tr>\n",
       "    <tr>\n",
       "      <th id=\"T_bbe69_level0_row39\" class=\"row_heading level0 row39\" >39</th>\n",
       "      <td id=\"T_bbe69_row39_col0\" class=\"data row39 col0\" >Numeric Binning</td>\n",
       "      <td id=\"T_bbe69_row39_col1\" class=\"data row39 col1\" >False</td>\n",
       "    </tr>\n",
       "    <tr>\n",
       "      <th id=\"T_bbe69_level0_row40\" class=\"row_heading level0 row40\" >40</th>\n",
       "      <td id=\"T_bbe69_row40_col0\" class=\"data row40 col0\" >Remove Outliers</td>\n",
       "      <td id=\"T_bbe69_row40_col1\" class=\"data row40 col1\" >False</td>\n",
       "    </tr>\n",
       "    <tr>\n",
       "      <th id=\"T_bbe69_level0_row41\" class=\"row_heading level0 row41\" >41</th>\n",
       "      <td id=\"T_bbe69_row41_col0\" class=\"data row41 col0\" >Outliers Threshold</td>\n",
       "      <td id=\"T_bbe69_row41_col1\" class=\"data row41 col1\" >None</td>\n",
       "    </tr>\n",
       "    <tr>\n",
       "      <th id=\"T_bbe69_level0_row42\" class=\"row_heading level0 row42\" >42</th>\n",
       "      <td id=\"T_bbe69_row42_col0\" class=\"data row42 col0\" >Remove Multicollinearity</td>\n",
       "      <td id=\"T_bbe69_row42_col1\" class=\"data row42 col1\" >False</td>\n",
       "    </tr>\n",
       "    <tr>\n",
       "      <th id=\"T_bbe69_level0_row43\" class=\"row_heading level0 row43\" >43</th>\n",
       "      <td id=\"T_bbe69_row43_col0\" class=\"data row43 col0\" >Multicollinearity Threshold</td>\n",
       "      <td id=\"T_bbe69_row43_col1\" class=\"data row43 col1\" >None</td>\n",
       "    </tr>\n",
       "    <tr>\n",
       "      <th id=\"T_bbe69_level0_row44\" class=\"row_heading level0 row44\" >44</th>\n",
       "      <td id=\"T_bbe69_row44_col0\" class=\"data row44 col0\" >Remove Perfect Collinearity</td>\n",
       "      <td id=\"T_bbe69_row44_col1\" class=\"data row44 col1\" >True</td>\n",
       "    </tr>\n",
       "    <tr>\n",
       "      <th id=\"T_bbe69_level0_row45\" class=\"row_heading level0 row45\" >45</th>\n",
       "      <td id=\"T_bbe69_row45_col0\" class=\"data row45 col0\" >Clustering</td>\n",
       "      <td id=\"T_bbe69_row45_col1\" class=\"data row45 col1\" >False</td>\n",
       "    </tr>\n",
       "    <tr>\n",
       "      <th id=\"T_bbe69_level0_row46\" class=\"row_heading level0 row46\" >46</th>\n",
       "      <td id=\"T_bbe69_row46_col0\" class=\"data row46 col0\" >Clustering Iteration</td>\n",
       "      <td id=\"T_bbe69_row46_col1\" class=\"data row46 col1\" >None</td>\n",
       "    </tr>\n",
       "    <tr>\n",
       "      <th id=\"T_bbe69_level0_row47\" class=\"row_heading level0 row47\" >47</th>\n",
       "      <td id=\"T_bbe69_row47_col0\" class=\"data row47 col0\" >Polynomial Features</td>\n",
       "      <td id=\"T_bbe69_row47_col1\" class=\"data row47 col1\" >False</td>\n",
       "    </tr>\n",
       "    <tr>\n",
       "      <th id=\"T_bbe69_level0_row48\" class=\"row_heading level0 row48\" >48</th>\n",
       "      <td id=\"T_bbe69_row48_col0\" class=\"data row48 col0\" >Polynomial Degree</td>\n",
       "      <td id=\"T_bbe69_row48_col1\" class=\"data row48 col1\" >None</td>\n",
       "    </tr>\n",
       "    <tr>\n",
       "      <th id=\"T_bbe69_level0_row49\" class=\"row_heading level0 row49\" >49</th>\n",
       "      <td id=\"T_bbe69_row49_col0\" class=\"data row49 col0\" >Trignometry Features</td>\n",
       "      <td id=\"T_bbe69_row49_col1\" class=\"data row49 col1\" >False</td>\n",
       "    </tr>\n",
       "    <tr>\n",
       "      <th id=\"T_bbe69_level0_row50\" class=\"row_heading level0 row50\" >50</th>\n",
       "      <td id=\"T_bbe69_row50_col0\" class=\"data row50 col0\" >Polynomial Threshold</td>\n",
       "      <td id=\"T_bbe69_row50_col1\" class=\"data row50 col1\" >None</td>\n",
       "    </tr>\n",
       "    <tr>\n",
       "      <th id=\"T_bbe69_level0_row51\" class=\"row_heading level0 row51\" >51</th>\n",
       "      <td id=\"T_bbe69_row51_col0\" class=\"data row51 col0\" >Group Features</td>\n",
       "      <td id=\"T_bbe69_row51_col1\" class=\"data row51 col1\" >False</td>\n",
       "    </tr>\n",
       "    <tr>\n",
       "      <th id=\"T_bbe69_level0_row52\" class=\"row_heading level0 row52\" >52</th>\n",
       "      <td id=\"T_bbe69_row52_col0\" class=\"data row52 col0\" >Feature Selection</td>\n",
       "      <td id=\"T_bbe69_row52_col1\" class=\"data row52 col1\" >False</td>\n",
       "    </tr>\n",
       "    <tr>\n",
       "      <th id=\"T_bbe69_level0_row53\" class=\"row_heading level0 row53\" >53</th>\n",
       "      <td id=\"T_bbe69_row53_col0\" class=\"data row53 col0\" >Feature Selection Method</td>\n",
       "      <td id=\"T_bbe69_row53_col1\" class=\"data row53 col1\" >classic</td>\n",
       "    </tr>\n",
       "    <tr>\n",
       "      <th id=\"T_bbe69_level0_row54\" class=\"row_heading level0 row54\" >54</th>\n",
       "      <td id=\"T_bbe69_row54_col0\" class=\"data row54 col0\" >Features Selection Threshold</td>\n",
       "      <td id=\"T_bbe69_row54_col1\" class=\"data row54 col1\" >None</td>\n",
       "    </tr>\n",
       "    <tr>\n",
       "      <th id=\"T_bbe69_level0_row55\" class=\"row_heading level0 row55\" >55</th>\n",
       "      <td id=\"T_bbe69_row55_col0\" class=\"data row55 col0\" >Feature Interaction</td>\n",
       "      <td id=\"T_bbe69_row55_col1\" class=\"data row55 col1\" >False</td>\n",
       "    </tr>\n",
       "    <tr>\n",
       "      <th id=\"T_bbe69_level0_row56\" class=\"row_heading level0 row56\" >56</th>\n",
       "      <td id=\"T_bbe69_row56_col0\" class=\"data row56 col0\" >Feature Ratio</td>\n",
       "      <td id=\"T_bbe69_row56_col1\" class=\"data row56 col1\" >False</td>\n",
       "    </tr>\n",
       "    <tr>\n",
       "      <th id=\"T_bbe69_level0_row57\" class=\"row_heading level0 row57\" >57</th>\n",
       "      <td id=\"T_bbe69_row57_col0\" class=\"data row57 col0\" >Interaction Threshold</td>\n",
       "      <td id=\"T_bbe69_row57_col1\" class=\"data row57 col1\" >None</td>\n",
       "    </tr>\n",
       "    <tr>\n",
       "      <th id=\"T_bbe69_level0_row58\" class=\"row_heading level0 row58\" >58</th>\n",
       "      <td id=\"T_bbe69_row58_col0\" class=\"data row58 col0\" >Fix Imbalance</td>\n",
       "      <td id=\"T_bbe69_row58_col1\" class=\"data row58 col1\" >True</td>\n",
       "    </tr>\n",
       "    <tr>\n",
       "      <th id=\"T_bbe69_level0_row59\" class=\"row_heading level0 row59\" >59</th>\n",
       "      <td id=\"T_bbe69_row59_col0\" class=\"data row59 col0\" >Fix Imbalance Method</td>\n",
       "      <td id=\"T_bbe69_row59_col1\" class=\"data row59 col1\" >SMOTE</td>\n",
       "    </tr>\n",
       "  </tbody>\n",
       "</table>\n"
      ],
      "text/plain": [
       "<pandas.io.formats.style.Styler at 0x7fbe6edcb190>"
      ]
     },
     "metadata": {},
     "output_type": "display_data"
    }
   ],
   "source": [
    "stup = setup(data = data_train_df, target = 'viability_class', \n",
    "              \n",
    "        test_data = data_test_df,\n",
    "\n",
    "        imputation_type = sc_imputation_type, \n",
    "        numeric_imputation = sc_numeric_imputation, #default: mean\n",
    "\n",
    "        ignore_features = sc_ignore_features,\n",
    "        bin_numeric_features = sc_bin_numeric_features,\n",
    "        high_cardinality_features = sc_high_cardinality_features,\n",
    "\n",
    "        normalize = sc_normalize, #default: False\n",
    "        remove_outliers= sc_remove_outliers, #default: False\n",
    "\n",
    "        transformation= False, #default\n",
    "        transformation_method = 'yeo-johnson', #default\n",
    "        combine_rare_levels = False,\n",
    "        rare_level_threshold = 0.1, #default: 0.1\n",
    "\n",
    "        remove_multicollinearity = False, #default \n",
    "        multicollinearity_threshold = 0.9, #default\n",
    "\n",
    "        ignore_low_variance = True, \n",
    "\n",
    "        feature_interaction = False, \n",
    "        feature_ratio = False,\n",
    "        polynomial_features = False, \n",
    "        trigonometry_features = False,\n",
    "\n",
    "        fix_imbalance = True,\n",
    "        fold = 5,\n",
    "\n",
    "        # don't change the following\n",
    "        session_id = cv_inner_seed,\n",
    "        use_gpu=False,\n",
    "        log_experiment = False,\n",
    "        silent=True,\n",
    "        experiment_name = 'universal')\n",
    "\n",
    "set_config('seed', cv_inner_seed)"
   ]
  },
  {
   "cell_type": "code",
   "execution_count": 21,
   "id": "ebe27ee8",
   "metadata": {},
   "outputs": [
    {
     "name": "stdout",
     "output_type": "stream",
     "text": [
      "(9052, 266)\n",
      "(9052,)\n"
     ]
    }
   ],
   "source": [
    "print(get_config(variable=\"X_train\").shape)\n",
    "print(get_config(variable=\"y_train\").shape)"
   ]
  },
  {
   "cell_type": "code",
   "execution_count": 22,
   "id": "34f3d922",
   "metadata": {},
   "outputs": [
    {
     "name": "stdout",
     "output_type": "stream",
     "text": [
      "(9052, 266)\n",
      "(9052,)\n"
     ]
    }
   ],
   "source": [
    "print(get_config(variable=\"X\").shape)\n",
    "print(get_config(variable=\"y\").shape)"
   ]
  },
  {
   "cell_type": "code",
   "execution_count": 23,
   "id": "f8e4ec4d",
   "metadata": {},
   "outputs": [],
   "source": [
    "#set_config('X_train', get_config(variable=\"X\").copy()) \n",
    "#set_config('y_train', get_config(variable=\"y\").copy()) \n",
    "#print(get_config(variable=\"X_train\").shape)\n",
    "#print(get_config(variable=\"y_train\").shape)"
   ]
  },
  {
   "cell_type": "code",
   "execution_count": 24,
   "id": "1b417175",
   "metadata": {},
   "outputs": [
    {
     "name": "stdout",
     "output_type": "stream",
     "text": [
      "(2263, 266)\n",
      "(2263,)\n"
     ]
    }
   ],
   "source": [
    "print(get_config(variable=\"X_test\").shape)\n",
    "print(get_config(variable=\"y_test\").shape)"
   ]
  },
  {
   "cell_type": "code",
   "execution_count": 25,
   "id": "e4387c1e",
   "metadata": {},
   "outputs": [],
   "source": [
    "#load_config('output/models/universal_classification_config.cfg')"
   ]
  },
  {
   "cell_type": "code",
   "execution_count": 26,
   "id": "6fff2182",
   "metadata": {},
   "outputs": [],
   "source": [
    "data_train_transformed_df = get_config(variable=\"X\").copy()\n",
    "data_train_transformed_df['Viability'] = get_config(variable=\"y\").copy()"
   ]
  },
  {
   "cell_type": "code",
   "execution_count": 27,
   "id": "cf253b28",
   "metadata": {},
   "outputs": [],
   "source": [
    "data_test_transformed_df = get_config(variable=\"X_test\").copy()\n",
    "data_test_transformed_df['Viability'] = get_config(variable=\"y_test\").copy()"
   ]
  },
  {
   "cell_type": "code",
   "execution_count": 28,
   "id": "43f293b7",
   "metadata": {},
   "outputs": [],
   "source": [
    "data_train_transformed_df.to_csv('output/datasets/universal/transformed/data_classification_train_transformed_df.csv', encoding='utf-8', index=False)\n",
    "data_test_transformed_df.to_csv('output/datasets/universal/transformed/data_classification_test_transformed_df.csv', encoding='utf-8', index=False)"
   ]
  },
  {
   "cell_type": "markdown",
   "id": "fe54e2d4",
   "metadata": {},
   "source": [
    "## Double cross-validation"
   ]
  },
  {
   "cell_type": "markdown",
   "id": "9db53e62",
   "metadata": {},
   "source": [
    "### Inner CV: 5-fold cross-validation for model selection / hyperparameter tuning for 7 models"
   ]
  },
  {
   "cell_type": "code",
   "execution_count": 33,
   "id": "8922c9c0",
   "metadata": {},
   "outputs": [],
   "source": [
    "model_names = ['lr', 'knn', 'svm', 'rf', 'et', 'gbc', 'lightgbm']"
   ]
  },
  {
   "cell_type": "code",
   "execution_count": 30,
   "id": "69c30960",
   "metadata": {},
   "outputs": [],
   "source": [
    "inner_results = dict()\n",
    "inner_results_tuned = dict()\n",
    "outer_results = dict()\n",
    "predicted_results = dict()\n",
    "tuned_models = dict()\n",
    "final_models = dict()"
   ]
  },
  {
   "cell_type": "code",
   "execution_count": 34,
   "id": "c2a73417",
   "metadata": {},
   "outputs": [
    {
     "data": {
      "text/html": [
       "<style type=\"text/css\">\n",
       "#T_8dacc_row5_col0, #T_8dacc_row5_col1, #T_8dacc_row5_col2, #T_8dacc_row5_col3, #T_8dacc_row5_col4, #T_8dacc_row5_col5, #T_8dacc_row5_col6 {\n",
       "  background: yellow;\n",
       "}\n",
       "</style>\n",
       "<table id=\"T_8dacc\">\n",
       "  <thead>\n",
       "    <tr>\n",
       "      <th class=\"blank level0\" >&nbsp;</th>\n",
       "      <th id=\"T_8dacc_level0_col0\" class=\"col_heading level0 col0\" >Accuracy</th>\n",
       "      <th id=\"T_8dacc_level0_col1\" class=\"col_heading level0 col1\" >AUC</th>\n",
       "      <th id=\"T_8dacc_level0_col2\" class=\"col_heading level0 col2\" >Recall</th>\n",
       "      <th id=\"T_8dacc_level0_col3\" class=\"col_heading level0 col3\" >Prec.</th>\n",
       "      <th id=\"T_8dacc_level0_col4\" class=\"col_heading level0 col4\" >F1</th>\n",
       "      <th id=\"T_8dacc_level0_col5\" class=\"col_heading level0 col5\" >Kappa</th>\n",
       "      <th id=\"T_8dacc_level0_col6\" class=\"col_heading level0 col6\" >MCC</th>\n",
       "    </tr>\n",
       "    <tr>\n",
       "      <th class=\"index_name level0\" >Fold</th>\n",
       "      <th class=\"blank col0\" >&nbsp;</th>\n",
       "      <th class=\"blank col1\" >&nbsp;</th>\n",
       "      <th class=\"blank col2\" >&nbsp;</th>\n",
       "      <th class=\"blank col3\" >&nbsp;</th>\n",
       "      <th class=\"blank col4\" >&nbsp;</th>\n",
       "      <th class=\"blank col5\" >&nbsp;</th>\n",
       "      <th class=\"blank col6\" >&nbsp;</th>\n",
       "    </tr>\n",
       "  </thead>\n",
       "  <tbody>\n",
       "    <tr>\n",
       "      <th id=\"T_8dacc_level0_row0\" class=\"row_heading level0 row0\" >0</th>\n",
       "      <td id=\"T_8dacc_row0_col0\" class=\"data row0 col0\" >0.85</td>\n",
       "      <td id=\"T_8dacc_row0_col1\" class=\"data row0 col1\" >0.90</td>\n",
       "      <td id=\"T_8dacc_row0_col2\" class=\"data row0 col2\" >0.69</td>\n",
       "      <td id=\"T_8dacc_row0_col3\" class=\"data row0 col3\" >0.66</td>\n",
       "      <td id=\"T_8dacc_row0_col4\" class=\"data row0 col4\" >0.68</td>\n",
       "      <td id=\"T_8dacc_row0_col5\" class=\"data row0 col5\" >0.58</td>\n",
       "      <td id=\"T_8dacc_row0_col6\" class=\"data row0 col6\" >0.58</td>\n",
       "    </tr>\n",
       "    <tr>\n",
       "      <th id=\"T_8dacc_level0_row1\" class=\"row_heading level0 row1\" >1</th>\n",
       "      <td id=\"T_8dacc_row1_col0\" class=\"data row1 col0\" >0.86</td>\n",
       "      <td id=\"T_8dacc_row1_col1\" class=\"data row1 col1\" >0.91</td>\n",
       "      <td id=\"T_8dacc_row1_col2\" class=\"data row1 col2\" >0.70</td>\n",
       "      <td id=\"T_8dacc_row1_col3\" class=\"data row1 col3\" >0.70</td>\n",
       "      <td id=\"T_8dacc_row1_col4\" class=\"data row1 col4\" >0.70</td>\n",
       "      <td id=\"T_8dacc_row1_col5\" class=\"data row1 col5\" >0.61</td>\n",
       "      <td id=\"T_8dacc_row1_col6\" class=\"data row1 col6\" >0.61</td>\n",
       "    </tr>\n",
       "    <tr>\n",
       "      <th id=\"T_8dacc_level0_row2\" class=\"row_heading level0 row2\" >2</th>\n",
       "      <td id=\"T_8dacc_row2_col0\" class=\"data row2 col0\" >0.85</td>\n",
       "      <td id=\"T_8dacc_row2_col1\" class=\"data row2 col1\" >0.90</td>\n",
       "      <td id=\"T_8dacc_row2_col2\" class=\"data row2 col2\" >0.67</td>\n",
       "      <td id=\"T_8dacc_row2_col3\" class=\"data row2 col3\" >0.67</td>\n",
       "      <td id=\"T_8dacc_row2_col4\" class=\"data row2 col4\" >0.67</td>\n",
       "      <td id=\"T_8dacc_row2_col5\" class=\"data row2 col5\" >0.57</td>\n",
       "      <td id=\"T_8dacc_row2_col6\" class=\"data row2 col6\" >0.57</td>\n",
       "    </tr>\n",
       "    <tr>\n",
       "      <th id=\"T_8dacc_level0_row3\" class=\"row_heading level0 row3\" >3</th>\n",
       "      <td id=\"T_8dacc_row3_col0\" class=\"data row3 col0\" >0.87</td>\n",
       "      <td id=\"T_8dacc_row3_col1\" class=\"data row3 col1\" >0.90</td>\n",
       "      <td id=\"T_8dacc_row3_col2\" class=\"data row3 col2\" >0.69</td>\n",
       "      <td id=\"T_8dacc_row3_col3\" class=\"data row3 col3\" >0.71</td>\n",
       "      <td id=\"T_8dacc_row3_col4\" class=\"data row3 col4\" >0.70</td>\n",
       "      <td id=\"T_8dacc_row3_col5\" class=\"data row3 col5\" >0.62</td>\n",
       "      <td id=\"T_8dacc_row3_col6\" class=\"data row3 col6\" >0.62</td>\n",
       "    </tr>\n",
       "    <tr>\n",
       "      <th id=\"T_8dacc_level0_row4\" class=\"row_heading level0 row4\" >4</th>\n",
       "      <td id=\"T_8dacc_row4_col0\" class=\"data row4 col0\" >0.84</td>\n",
       "      <td id=\"T_8dacc_row4_col1\" class=\"data row4 col1\" >0.88</td>\n",
       "      <td id=\"T_8dacc_row4_col2\" class=\"data row4 col2\" >0.62</td>\n",
       "      <td id=\"T_8dacc_row4_col3\" class=\"data row4 col3\" >0.67</td>\n",
       "      <td id=\"T_8dacc_row4_col4\" class=\"data row4 col4\" >0.65</td>\n",
       "      <td id=\"T_8dacc_row4_col5\" class=\"data row4 col5\" >0.55</td>\n",
       "      <td id=\"T_8dacc_row4_col6\" class=\"data row4 col6\" >0.55</td>\n",
       "    </tr>\n",
       "    <tr>\n",
       "      <th id=\"T_8dacc_level0_row5\" class=\"row_heading level0 row5\" >Mean</th>\n",
       "      <td id=\"T_8dacc_row5_col0\" class=\"data row5 col0\" >0.85</td>\n",
       "      <td id=\"T_8dacc_row5_col1\" class=\"data row5 col1\" >0.90</td>\n",
       "      <td id=\"T_8dacc_row5_col2\" class=\"data row5 col2\" >0.67</td>\n",
       "      <td id=\"T_8dacc_row5_col3\" class=\"data row5 col3\" >0.68</td>\n",
       "      <td id=\"T_8dacc_row5_col4\" class=\"data row5 col4\" >0.68</td>\n",
       "      <td id=\"T_8dacc_row5_col5\" class=\"data row5 col5\" >0.58</td>\n",
       "      <td id=\"T_8dacc_row5_col6\" class=\"data row5 col6\" >0.58</td>\n",
       "    </tr>\n",
       "    <tr>\n",
       "      <th id=\"T_8dacc_level0_row6\" class=\"row_heading level0 row6\" >Std</th>\n",
       "      <td id=\"T_8dacc_row6_col0\" class=\"data row6 col0\" >0.01</td>\n",
       "      <td id=\"T_8dacc_row6_col1\" class=\"data row6 col1\" >0.01</td>\n",
       "      <td id=\"T_8dacc_row6_col2\" class=\"data row6 col2\" >0.03</td>\n",
       "      <td id=\"T_8dacc_row6_col3\" class=\"data row6 col3\" >0.02</td>\n",
       "      <td id=\"T_8dacc_row6_col4\" class=\"data row6 col4\" >0.02</td>\n",
       "      <td id=\"T_8dacc_row6_col5\" class=\"data row6 col5\" >0.03</td>\n",
       "      <td id=\"T_8dacc_row6_col6\" class=\"data row6 col6\" >0.03</td>\n",
       "    </tr>\n",
       "  </tbody>\n",
       "</table>\n"
      ],
      "text/plain": [
       "<pandas.io.formats.style.Styler at 0x7fbeeca2e250>"
      ]
     },
     "metadata": {},
     "output_type": "display_data"
    }
   ],
   "source": [
    "for model_name in model_names:\n",
    "\n",
    "    default_model = create_model(model_name, round=2)\n",
    "\n",
    "    results_df = pull()\n",
    "    results_df = results_df.reset_index(level=0)\n",
    "    \n",
    "    inner_results[model_name] = results_df.copy()\n",
    "    results_df.to_csv(\"output/models_results/universal/\" + \"classification_model_\"+model_name+\"_inner_cross_validation_results.tsv\", \n",
    "                    index=False, encoding=\"utf-8\", sep=\"\\t\")\n",
    "\n",
    "\n",
    "    tuned_model = tune_model(default_model, choose_better = True, search_library = 'optuna', n_iter = 50, round=2)\n",
    "\n",
    "    results_df = pull()\n",
    "    results_df = results_df.reset_index(level=0)\n",
    "    \n",
    "    inner_results_tuned[model_name] = results_df.copy()\n",
    "    results_df.to_csv(\"output/models_results/universal/\" + \"classification_model_\"+model_name+\"_tuned_inner_cross_validation_results.tsv\", \n",
    "                    index=False, encoding=\"utf-8\", sep=\"\\t\")\n",
    "    \n",
    "    tuned_models[model_name] = deepcopy(tuned_model)"
   ]
  },
  {
   "cell_type": "markdown",
   "id": "2543bed8",
   "metadata": {},
   "source": [
    "### Outer CV: 10-fold cross-validation for the tuned model"
   ]
  },
  {
   "cell_type": "code",
   "execution_count": 71,
   "id": "7d9c9302",
   "metadata": {},
   "outputs": [],
   "source": [
    "X = get_config(variable=\"X_train\").copy()\n",
    "y = get_config(variable=\"y_train\").copy()"
   ]
  },
  {
   "cell_type": "code",
   "execution_count": 72,
   "id": "3c21760e",
   "metadata": {},
   "outputs": [
    {
     "data": {
      "text/plain": [
       "(9052, 266)"
      ]
     },
     "execution_count": 72,
     "metadata": {},
     "output_type": "execute_result"
    }
   ],
   "source": [
    "X.shape"
   ]
  },
  {
   "cell_type": "code",
   "execution_count": 73,
   "id": "5a9c93d9",
   "metadata": {},
   "outputs": [
    {
     "data": {
      "text/plain": [
       "(9052,)"
      ]
     },
     "execution_count": 73,
     "metadata": {},
     "output_type": "execute_result"
    }
   ],
   "source": [
    "y.shape"
   ]
  },
  {
   "cell_type": "code",
   "execution_count": 74,
   "id": "f052eebd",
   "metadata": {},
   "outputs": [],
   "source": [
    "cv_outer = StratifiedKFold(n_splits=10, shuffle=True, random_state=cv_outer_seed)"
   ]
  },
  {
   "cell_type": "code",
   "execution_count": 106,
   "id": "564a8934",
   "metadata": {},
   "outputs": [
    {
     "name": "stdout",
     "output_type": "stream",
     "text": [
      "lr scores: 0.31, 0.37, 0.35, 0.31, 0.38, 0.37, 0.42, 0.36, 0.35, 0.36\n",
      "lr mean/std: 0.36 / 0.03\n",
      "knn scores: 0.55, 0.54, 0.52, 0.55, 0.56, 0.56, 0.5, 0.57, 0.55, 0.51\n",
      "knn mean/std: 0.54 / 0.02\n",
      "svm scores: 0.0, 0.0, 0.0, 0.0, 0.0, 0.0, 0.0, 0.0, 0.0, 0.0\n",
      "svm mean/std: 0.0 / 0.0\n",
      "rf scores: 0.72, 0.7, 0.64, 0.72, 0.65, 0.7, 0.64, 0.71, 0.66, 0.68\n",
      "rf mean/std: 0.68 / 0.03\n",
      "et scores: 0.71, 0.67, 0.62, 0.68, 0.66, 0.66, 0.65, 0.68, 0.66, 0.65\n",
      "et mean/std: 0.66 / 0.02\n",
      "gbc scores: 0.73, 0.69, 0.68, 0.72, 0.7, 0.67, 0.69, 0.71, 0.69, 0.7\n",
      "gbc mean/std: 0.7 / 0.02\n",
      "[LightGBM] [Warning] bagging_fraction is set=0.6291910427818465, subsample=1.0 will be ignored. Current value: bagging_fraction=0.6291910427818465\n",
      "[LightGBM] [Warning] feature_fraction is set=0.9604822404977342, colsample_bytree=1.0 will be ignored. Current value: feature_fraction=0.9604822404977342\n",
      "[LightGBM] [Warning] bagging_freq is set=4, subsample_freq=0 will be ignored. Current value: bagging_freq=4\n",
      "[LightGBM] [Warning] bagging_fraction is set=0.6291910427818465, subsample=1.0 will be ignored. Current value: bagging_fraction=0.6291910427818465\n",
      "[LightGBM] [Warning] feature_fraction is set=0.9604822404977342, colsample_bytree=1.0 will be ignored. Current value: feature_fraction=0.9604822404977342\n",
      "[LightGBM] [Warning] bagging_freq is set=4, subsample_freq=0 will be ignored. Current value: bagging_freq=4\n",
      "[LightGBM] [Warning] bagging_fraction is set=0.6291910427818465, subsample=1.0 will be ignored. Current value: bagging_fraction=0.6291910427818465\n",
      "[LightGBM] [Warning] feature_fraction is set=0.9604822404977342, colsample_bytree=1.0 will be ignored. Current value: feature_fraction=0.9604822404977342\n",
      "[LightGBM] [Warning] bagging_freq is set=4, subsample_freq=0 will be ignored. Current value: bagging_freq=4\n",
      "[LightGBM] [Warning] bagging_fraction is set=0.6291910427818465, subsample=1.0 will be ignored. Current value: bagging_fraction=0.6291910427818465\n",
      "[LightGBM] [Warning] feature_fraction is set=0.9604822404977342, colsample_bytree=1.0 will be ignored. Current value: feature_fraction=0.9604822404977342\n",
      "[LightGBM] [Warning] bagging_freq is set=4, subsample_freq=0 will be ignored. Current value: bagging_freq=4\n",
      "[LightGBM] [Warning] bagging_fraction is set=0.6291910427818465, subsample=1.0 will be ignored. Current value: bagging_fraction=0.6291910427818465\n",
      "[LightGBM] [Warning] feature_fraction is set=0.9604822404977342, colsample_bytree=1.0 will be ignored. Current value: feature_fraction=0.9604822404977342\n",
      "[LightGBM] [Warning] bagging_freq is set=4, subsample_freq=0 will be ignored. Current value: bagging_freq=4\n",
      "[LightGBM] [Warning] bagging_fraction is set=0.6291910427818465, subsample=1.0 will be ignored. Current value: bagging_fraction=0.6291910427818465\n",
      "[LightGBM] [Warning] feature_fraction is set=0.9604822404977342, colsample_bytree=1.0 will be ignored. Current value: feature_fraction=0.9604822404977342\n",
      "[LightGBM] [Warning] bagging_freq is set=4, subsample_freq=0 will be ignored. Current value: bagging_freq=4\n",
      "[LightGBM] [Warning] bagging_fraction is set=0.6291910427818465, subsample=1.0 will be ignored. Current value: bagging_fraction=0.6291910427818465\n",
      "[LightGBM] [Warning] feature_fraction is set=0.9604822404977342, colsample_bytree=1.0 will be ignored. Current value: feature_fraction=0.9604822404977342\n",
      "[LightGBM] [Warning] bagging_freq is set=4, subsample_freq=0 will be ignored. Current value: bagging_freq=4\n",
      "[LightGBM] [Warning] bagging_fraction is set=0.6291910427818465, subsample=1.0 will be ignored. Current value: bagging_fraction=0.6291910427818465\n",
      "[LightGBM] [Warning] feature_fraction is set=0.9604822404977342, colsample_bytree=1.0 will be ignored. Current value: feature_fraction=0.9604822404977342\n",
      "[LightGBM] [Warning] bagging_freq is set=4, subsample_freq=0 will be ignored. Current value: bagging_freq=4\n",
      "[LightGBM] [Warning] bagging_fraction is set=0.6291910427818465, subsample=1.0 will be ignored. Current value: bagging_fraction=0.6291910427818465\n",
      "[LightGBM] [Warning] feature_fraction is set=0.9604822404977342, colsample_bytree=1.0 will be ignored. Current value: feature_fraction=0.9604822404977342\n",
      "[LightGBM] [Warning] bagging_freq is set=4, subsample_freq=0 will be ignored. Current value: bagging_freq=4\n",
      "[LightGBM] [Warning] bagging_fraction is set=0.6291910427818465, subsample=1.0 will be ignored. Current value: bagging_fraction=0.6291910427818465\n",
      "[LightGBM] [Warning] feature_fraction is set=0.9604822404977342, colsample_bytree=1.0 will be ignored. Current value: feature_fraction=0.9604822404977342\n",
      "[LightGBM] [Warning] bagging_freq is set=4, subsample_freq=0 will be ignored. Current value: bagging_freq=4\n",
      "lightgbm scores: 0.68, 0.67, 0.64, 0.63, 0.64, 0.67, 0.64, 0.71, 0.67, 0.64\n",
      "lightgbm mean/std: 0.66 / 0.02\n"
     ]
    }
   ],
   "source": [
    "for model_name in model_names:\n",
    "    scores = cross_validate(tuned_models[model_name], X, y, cv=cv_outer, scoring=('f1','accuracy','roc_auc'))\n",
    "    scores_f1 = np.round(scores['test_f1'], 2);\n",
    "    scores_accuracy = np.round(scores['test_accuracy'], 2);\n",
    "    scores_roc_auc = np.round(scores['test_roc_auc'], 2);\n",
    "    outer_results[model_name] = scores.copy()\n",
    "    \n",
    "    with open(\"output/models_results/universal/\" + \"classification_model_\"+model_name+\"_tuned_outer_cross_validation_results.tsv\", 'w', newline='') as file:\n",
    "        file.write('F1\\tAccuracy\\tAUC' + \"\\n\")\n",
    "        for idx, x in enumerate(scores_f1):\n",
    "            file.write(str(scores_f1[idx]) + '\\t' + str(scores_accuracy[idx]) + '\\t' + str(scores_roc_auc[idx]) + \"\\n\")\n",
    "\n",
    "    print(model_name + \" scores: \" + ', '.join(scores_f1.astype('str')))\n",
    "    print(model_name + \" mean/std: \" + str(np.round(scores_f1.mean(),2)) + \" / \" + str(np.round(scores_f1.std(), 2)))\n",
    "    \n",
    "    #with open(the_filename, 'r') as f:\n",
    "    #    my_list = [line.rstrip('\\n') for line in f]"
   ]
  },
  {
   "cell_type": "markdown",
   "id": "567af0bf",
   "metadata": {},
   "source": [
    "### Finalize the models and evaluate on the test set"
   ]
  },
  {
   "cell_type": "code",
   "execution_count": 76,
   "id": "bfae263b",
   "metadata": {},
   "outputs": [
    {
     "data": {
      "text/html": [
       "<style type=\"text/css\">\n",
       "</style>\n",
       "<table id=\"T_600f7\">\n",
       "  <thead>\n",
       "    <tr>\n",
       "      <th class=\"blank level0\" >&nbsp;</th>\n",
       "      <th id=\"T_600f7_level0_col0\" class=\"col_heading level0 col0\" >Model</th>\n",
       "      <th id=\"T_600f7_level0_col1\" class=\"col_heading level0 col1\" >Accuracy</th>\n",
       "      <th id=\"T_600f7_level0_col2\" class=\"col_heading level0 col2\" >AUC</th>\n",
       "      <th id=\"T_600f7_level0_col3\" class=\"col_heading level0 col3\" >Recall</th>\n",
       "      <th id=\"T_600f7_level0_col4\" class=\"col_heading level0 col4\" >Prec.</th>\n",
       "      <th id=\"T_600f7_level0_col5\" class=\"col_heading level0 col5\" >F1</th>\n",
       "      <th id=\"T_600f7_level0_col6\" class=\"col_heading level0 col6\" >Kappa</th>\n",
       "      <th id=\"T_600f7_level0_col7\" class=\"col_heading level0 col7\" >MCC</th>\n",
       "    </tr>\n",
       "  </thead>\n",
       "  <tbody>\n",
       "    <tr>\n",
       "      <th id=\"T_600f7_level0_row0\" class=\"row_heading level0 row0\" >0</th>\n",
       "      <td id=\"T_600f7_row0_col0\" class=\"data row0 col0\" >Logistic Regression</td>\n",
       "      <td id=\"T_600f7_row0_col1\" class=\"data row0 col1\" >0.69</td>\n",
       "      <td id=\"T_600f7_row0_col2\" class=\"data row0 col2\" >0.76</td>\n",
       "      <td id=\"T_600f7_row0_col3\" class=\"data row0 col3\" >0.71</td>\n",
       "      <td id=\"T_600f7_row0_col4\" class=\"data row0 col4\" >0.40</td>\n",
       "      <td id=\"T_600f7_row0_col5\" class=\"data row0 col5\" >0.51</td>\n",
       "      <td id=\"T_600f7_row0_col6\" class=\"data row0 col6\" >0.31</td>\n",
       "      <td id=\"T_600f7_row0_col7\" class=\"data row0 col7\" >0.33</td>\n",
       "    </tr>\n",
       "  </tbody>\n",
       "</table>\n"
      ],
      "text/plain": [
       "<pandas.io.formats.style.Styler at 0x7fbe6ede2bb0>"
      ]
     },
     "metadata": {},
     "output_type": "display_data"
    },
    {
     "data": {
      "text/html": [
       "<style type=\"text/css\">\n",
       "</style>\n",
       "<table id=\"T_f88ba\">\n",
       "  <thead>\n",
       "    <tr>\n",
       "      <th class=\"blank level0\" >&nbsp;</th>\n",
       "      <th id=\"T_f88ba_level0_col0\" class=\"col_heading level0 col0\" >Model</th>\n",
       "      <th id=\"T_f88ba_level0_col1\" class=\"col_heading level0 col1\" >Accuracy</th>\n",
       "      <th id=\"T_f88ba_level0_col2\" class=\"col_heading level0 col2\" >AUC</th>\n",
       "      <th id=\"T_f88ba_level0_col3\" class=\"col_heading level0 col3\" >Recall</th>\n",
       "      <th id=\"T_f88ba_level0_col4\" class=\"col_heading level0 col4\" >Prec.</th>\n",
       "      <th id=\"T_f88ba_level0_col5\" class=\"col_heading level0 col5\" >F1</th>\n",
       "      <th id=\"T_f88ba_level0_col6\" class=\"col_heading level0 col6\" >Kappa</th>\n",
       "      <th id=\"T_f88ba_level0_col7\" class=\"col_heading level0 col7\" >MCC</th>\n",
       "    </tr>\n",
       "  </thead>\n",
       "  <tbody>\n",
       "    <tr>\n",
       "      <th id=\"T_f88ba_level0_row0\" class=\"row_heading level0 row0\" >0</th>\n",
       "      <td id=\"T_f88ba_row0_col0\" class=\"data row0 col0\" >K Neighbors Classifier</td>\n",
       "      <td id=\"T_f88ba_row0_col1\" class=\"data row0 col1\" >0.84</td>\n",
       "      <td id=\"T_f88ba_row0_col2\" class=\"data row0 col2\" >0.81</td>\n",
       "      <td id=\"T_f88ba_row0_col3\" class=\"data row0 col3\" >0.51</td>\n",
       "      <td id=\"T_f88ba_row0_col4\" class=\"data row0 col4\" >0.72</td>\n",
       "      <td id=\"T_f88ba_row0_col5\" class=\"data row0 col5\" >0.60</td>\n",
       "      <td id=\"T_f88ba_row0_col6\" class=\"data row0 col6\" >0.50</td>\n",
       "      <td id=\"T_f88ba_row0_col7\" class=\"data row0 col7\" >0.52</td>\n",
       "    </tr>\n",
       "  </tbody>\n",
       "</table>\n"
      ],
      "text/plain": [
       "<pandas.io.formats.style.Styler at 0x7fbe1d071100>"
      ]
     },
     "metadata": {},
     "output_type": "display_data"
    },
    {
     "data": {
      "text/html": [
       "<style type=\"text/css\">\n",
       "</style>\n",
       "<table id=\"T_43f24\">\n",
       "  <thead>\n",
       "    <tr>\n",
       "      <th class=\"blank level0\" >&nbsp;</th>\n",
       "      <th id=\"T_43f24_level0_col0\" class=\"col_heading level0 col0\" >Model</th>\n",
       "      <th id=\"T_43f24_level0_col1\" class=\"col_heading level0 col1\" >Accuracy</th>\n",
       "      <th id=\"T_43f24_level0_col2\" class=\"col_heading level0 col2\" >AUC</th>\n",
       "      <th id=\"T_43f24_level0_col3\" class=\"col_heading level0 col3\" >Recall</th>\n",
       "      <th id=\"T_43f24_level0_col4\" class=\"col_heading level0 col4\" >Prec.</th>\n",
       "      <th id=\"T_43f24_level0_col5\" class=\"col_heading level0 col5\" >F1</th>\n",
       "      <th id=\"T_43f24_level0_col6\" class=\"col_heading level0 col6\" >Kappa</th>\n",
       "      <th id=\"T_43f24_level0_col7\" class=\"col_heading level0 col7\" >MCC</th>\n",
       "    </tr>\n",
       "  </thead>\n",
       "  <tbody>\n",
       "    <tr>\n",
       "      <th id=\"T_43f24_level0_row0\" class=\"row_heading level0 row0\" >0</th>\n",
       "      <td id=\"T_43f24_row0_col0\" class=\"data row0 col0\" >SVM - Linear Kernel</td>\n",
       "      <td id=\"T_43f24_row0_col1\" class=\"data row0 col1\" >0.23</td>\n",
       "      <td id=\"T_43f24_row0_col2\" class=\"data row0 col2\" >0.50</td>\n",
       "      <td id=\"T_43f24_row0_col3\" class=\"data row0 col3\" >1.00</td>\n",
       "      <td id=\"T_43f24_row0_col4\" class=\"data row0 col4\" >0.23</td>\n",
       "      <td id=\"T_43f24_row0_col5\" class=\"data row0 col5\" >0.37</td>\n",
       "      <td id=\"T_43f24_row0_col6\" class=\"data row0 col6\" >0.00</td>\n",
       "      <td id=\"T_43f24_row0_col7\" class=\"data row0 col7\" >0.00</td>\n",
       "    </tr>\n",
       "  </tbody>\n",
       "</table>\n"
      ],
      "text/plain": [
       "<pandas.io.formats.style.Styler at 0x7fbe6ef69fd0>"
      ]
     },
     "metadata": {},
     "output_type": "display_data"
    },
    {
     "data": {
      "text/html": [
       "<style type=\"text/css\">\n",
       "</style>\n",
       "<table id=\"T_d799c\">\n",
       "  <thead>\n",
       "    <tr>\n",
       "      <th class=\"blank level0\" >&nbsp;</th>\n",
       "      <th id=\"T_d799c_level0_col0\" class=\"col_heading level0 col0\" >Model</th>\n",
       "      <th id=\"T_d799c_level0_col1\" class=\"col_heading level0 col1\" >Accuracy</th>\n",
       "      <th id=\"T_d799c_level0_col2\" class=\"col_heading level0 col2\" >AUC</th>\n",
       "      <th id=\"T_d799c_level0_col3\" class=\"col_heading level0 col3\" >Recall</th>\n",
       "      <th id=\"T_d799c_level0_col4\" class=\"col_heading level0 col4\" >Prec.</th>\n",
       "      <th id=\"T_d799c_level0_col5\" class=\"col_heading level0 col5\" >F1</th>\n",
       "      <th id=\"T_d799c_level0_col6\" class=\"col_heading level0 col6\" >Kappa</th>\n",
       "      <th id=\"T_d799c_level0_col7\" class=\"col_heading level0 col7\" >MCC</th>\n",
       "    </tr>\n",
       "  </thead>\n",
       "  <tbody>\n",
       "    <tr>\n",
       "      <th id=\"T_d799c_level0_row0\" class=\"row_heading level0 row0\" >0</th>\n",
       "      <td id=\"T_d799c_row0_col0\" class=\"data row0 col0\" >Random Forest Classifier</td>\n",
       "      <td id=\"T_d799c_row0_col1\" class=\"data row0 col1\" >0.85</td>\n",
       "      <td id=\"T_d799c_row0_col2\" class=\"data row0 col2\" >0.89</td>\n",
       "      <td id=\"T_d799c_row0_col3\" class=\"data row0 col3\" >0.66</td>\n",
       "      <td id=\"T_d799c_row0_col4\" class=\"data row0 col4\" >0.68</td>\n",
       "      <td id=\"T_d799c_row0_col5\" class=\"data row0 col5\" >0.67</td>\n",
       "      <td id=\"T_d799c_row0_col6\" class=\"data row0 col6\" >0.57</td>\n",
       "      <td id=\"T_d799c_row0_col7\" class=\"data row0 col7\" >0.57</td>\n",
       "    </tr>\n",
       "  </tbody>\n",
       "</table>\n"
      ],
      "text/plain": [
       "<pandas.io.formats.style.Styler at 0x7fbf17257160>"
      ]
     },
     "metadata": {},
     "output_type": "display_data"
    },
    {
     "data": {
      "text/html": [
       "<style type=\"text/css\">\n",
       "</style>\n",
       "<table id=\"T_db2f0\">\n",
       "  <thead>\n",
       "    <tr>\n",
       "      <th class=\"blank level0\" >&nbsp;</th>\n",
       "      <th id=\"T_db2f0_level0_col0\" class=\"col_heading level0 col0\" >Model</th>\n",
       "      <th id=\"T_db2f0_level0_col1\" class=\"col_heading level0 col1\" >Accuracy</th>\n",
       "      <th id=\"T_db2f0_level0_col2\" class=\"col_heading level0 col2\" >AUC</th>\n",
       "      <th id=\"T_db2f0_level0_col3\" class=\"col_heading level0 col3\" >Recall</th>\n",
       "      <th id=\"T_db2f0_level0_col4\" class=\"col_heading level0 col4\" >Prec.</th>\n",
       "      <th id=\"T_db2f0_level0_col5\" class=\"col_heading level0 col5\" >F1</th>\n",
       "      <th id=\"T_db2f0_level0_col6\" class=\"col_heading level0 col6\" >Kappa</th>\n",
       "      <th id=\"T_db2f0_level0_col7\" class=\"col_heading level0 col7\" >MCC</th>\n",
       "    </tr>\n",
       "  </thead>\n",
       "  <tbody>\n",
       "    <tr>\n",
       "      <th id=\"T_db2f0_level0_row0\" class=\"row_heading level0 row0\" >0</th>\n",
       "      <td id=\"T_db2f0_row0_col0\" class=\"data row0 col0\" >Extra Trees Classifier</td>\n",
       "      <td id=\"T_db2f0_row0_col1\" class=\"data row0 col1\" >0.86</td>\n",
       "      <td id=\"T_db2f0_row0_col2\" class=\"data row0 col2\" >0.87</td>\n",
       "      <td id=\"T_db2f0_row0_col3\" class=\"data row0 col3\" >0.65</td>\n",
       "      <td id=\"T_db2f0_row0_col4\" class=\"data row0 col4\" >0.69</td>\n",
       "      <td id=\"T_db2f0_row0_col5\" class=\"data row0 col5\" >0.67</td>\n",
       "      <td id=\"T_db2f0_row0_col6\" class=\"data row0 col6\" >0.58</td>\n",
       "      <td id=\"T_db2f0_row0_col7\" class=\"data row0 col7\" >0.58</td>\n",
       "    </tr>\n",
       "  </tbody>\n",
       "</table>\n"
      ],
      "text/plain": [
       "<pandas.io.formats.style.Styler at 0x7fbe6edb0340>"
      ]
     },
     "metadata": {},
     "output_type": "display_data"
    },
    {
     "data": {
      "text/html": [
       "<style type=\"text/css\">\n",
       "</style>\n",
       "<table id=\"T_051fe\">\n",
       "  <thead>\n",
       "    <tr>\n",
       "      <th class=\"blank level0\" >&nbsp;</th>\n",
       "      <th id=\"T_051fe_level0_col0\" class=\"col_heading level0 col0\" >Model</th>\n",
       "      <th id=\"T_051fe_level0_col1\" class=\"col_heading level0 col1\" >Accuracy</th>\n",
       "      <th id=\"T_051fe_level0_col2\" class=\"col_heading level0 col2\" >AUC</th>\n",
       "      <th id=\"T_051fe_level0_col3\" class=\"col_heading level0 col3\" >Recall</th>\n",
       "      <th id=\"T_051fe_level0_col4\" class=\"col_heading level0 col4\" >Prec.</th>\n",
       "      <th id=\"T_051fe_level0_col5\" class=\"col_heading level0 col5\" >F1</th>\n",
       "      <th id=\"T_051fe_level0_col6\" class=\"col_heading level0 col6\" >Kappa</th>\n",
       "      <th id=\"T_051fe_level0_col7\" class=\"col_heading level0 col7\" >MCC</th>\n",
       "    </tr>\n",
       "  </thead>\n",
       "  <tbody>\n",
       "    <tr>\n",
       "      <th id=\"T_051fe_level0_row0\" class=\"row_heading level0 row0\" >0</th>\n",
       "      <td id=\"T_051fe_row0_col0\" class=\"data row0 col0\" >Gradient Boosting Classifier</td>\n",
       "      <td id=\"T_051fe_row0_col1\" class=\"data row0 col1\" >0.87</td>\n",
       "      <td id=\"T_051fe_row0_col2\" class=\"data row0 col2\" >0.91</td>\n",
       "      <td id=\"T_051fe_row0_col3\" class=\"data row0 col3\" >0.72</td>\n",
       "      <td id=\"T_051fe_row0_col4\" class=\"data row0 col4\" >0.71</td>\n",
       "      <td id=\"T_051fe_row0_col5\" class=\"data row0 col5\" >0.71</td>\n",
       "      <td id=\"T_051fe_row0_col6\" class=\"data row0 col6\" >0.63</td>\n",
       "      <td id=\"T_051fe_row0_col7\" class=\"data row0 col7\" >0.63</td>\n",
       "    </tr>\n",
       "  </tbody>\n",
       "</table>\n"
      ],
      "text/plain": [
       "<pandas.io.formats.style.Styler at 0x7fbe79fe72e0>"
      ]
     },
     "metadata": {},
     "output_type": "display_data"
    },
    {
     "data": {
      "text/html": [
       "<style type=\"text/css\">\n",
       "</style>\n",
       "<table id=\"T_09e13\">\n",
       "  <thead>\n",
       "    <tr>\n",
       "      <th class=\"blank level0\" >&nbsp;</th>\n",
       "      <th id=\"T_09e13_level0_col0\" class=\"col_heading level0 col0\" >Model</th>\n",
       "      <th id=\"T_09e13_level0_col1\" class=\"col_heading level0 col1\" >Accuracy</th>\n",
       "      <th id=\"T_09e13_level0_col2\" class=\"col_heading level0 col2\" >AUC</th>\n",
       "      <th id=\"T_09e13_level0_col3\" class=\"col_heading level0 col3\" >Recall</th>\n",
       "      <th id=\"T_09e13_level0_col4\" class=\"col_heading level0 col4\" >Prec.</th>\n",
       "      <th id=\"T_09e13_level0_col5\" class=\"col_heading level0 col5\" >F1</th>\n",
       "      <th id=\"T_09e13_level0_col6\" class=\"col_heading level0 col6\" >Kappa</th>\n",
       "      <th id=\"T_09e13_level0_col7\" class=\"col_heading level0 col7\" >MCC</th>\n",
       "    </tr>\n",
       "  </thead>\n",
       "  <tbody>\n",
       "    <tr>\n",
       "      <th id=\"T_09e13_level0_row0\" class=\"row_heading level0 row0\" >0</th>\n",
       "      <td id=\"T_09e13_row0_col0\" class=\"data row0 col0\" >Light Gradient Boosting Machine</td>\n",
       "      <td id=\"T_09e13_row0_col1\" class=\"data row0 col1\" >0.86</td>\n",
       "      <td id=\"T_09e13_row0_col2\" class=\"data row0 col2\" >0.90</td>\n",
       "      <td id=\"T_09e13_row0_col3\" class=\"data row0 col3\" >0.67</td>\n",
       "      <td id=\"T_09e13_row0_col4\" class=\"data row0 col4\" >0.69</td>\n",
       "      <td id=\"T_09e13_row0_col5\" class=\"data row0 col5\" >0.68</td>\n",
       "      <td id=\"T_09e13_row0_col6\" class=\"data row0 col6\" >0.59</td>\n",
       "      <td id=\"T_09e13_row0_col7\" class=\"data row0 col7\" >0.59</td>\n",
       "    </tr>\n",
       "  </tbody>\n",
       "</table>\n"
      ],
      "text/plain": [
       "<pandas.io.formats.style.Styler at 0x7fbe6edb0340>"
      ]
     },
     "metadata": {},
     "output_type": "display_data"
    }
   ],
   "source": [
    "for model_name in model_names:\n",
    "\n",
    "    final_model = finalize_model(tuned_models[model_name])\n",
    "    \n",
    "    final_models[model_name] = deepcopy(final_model)\n",
    "    \n",
    "    hyperparams = pd.DataFrame.from_dict(final_model.get_params(), orient='index', columns=['parameter_value'])\n",
    "    hyperparams = hyperparams.reset_index(level=0)\n",
    "    hyperparams.to_csv(\"output/models_parameters/universal/\" + \"classification_model_\"+model_name+\"_hyperparams.tsv\", \n",
    "                    index=False, encoding=\"utf-8\", sep=\"\\t\")\n",
    "    \n",
    "    model_predict = predict_model(final_model, round=2)\n",
    "    \n",
    "    results_df = pull()\n",
    "    results_df = results_df.reset_index(level=0)\n",
    "    \n",
    "    predicted_results[model_name] = results_df.copy()\n",
    "    results_df.to_csv(\"output/models_results/universal/\" + \"classification_model_\"+model_name+\"_test_set_validation_results.tsv\", \n",
    "                    index=False, encoding=\"utf-8\", sep=\"\\t\")"
   ]
  },
  {
   "cell_type": "markdown",
   "id": "7cef3c2f",
   "metadata": {},
   "source": [
    "### Save models and configs"
   ]
  },
  {
   "cell_type": "code",
   "execution_count": 77,
   "id": "f7dbf7e3",
   "metadata": {},
   "outputs": [
    {
     "name": "stdout",
     "output_type": "stream",
     "text": [
      "Transformation Pipeline and Model Successfully Saved\n",
      "Transformation Pipeline and Model Successfully Saved\n",
      "Transformation Pipeline and Model Successfully Saved\n",
      "Transformation Pipeline and Model Successfully Saved\n",
      "Transformation Pipeline and Model Successfully Saved\n",
      "Transformation Pipeline and Model Successfully Saved\n",
      "Transformation Pipeline and Model Successfully Saved\n",
      "Transformation Pipeline and Model Successfully Saved\n",
      "Transformation Pipeline and Model Successfully Saved\n",
      "Transformation Pipeline and Model Successfully Saved\n",
      "Transformation Pipeline and Model Successfully Saved\n",
      "Transformation Pipeline and Model Successfully Saved\n",
      "Transformation Pipeline and Model Successfully Saved\n",
      "Transformation Pipeline and Model Successfully Saved\n"
     ]
    }
   ],
   "source": [
    "save_config('output/models/universal/classification_config.cfg')\n",
    "\n",
    "for model_name in model_names:\n",
    "    save_model(tuned_models[model_name], 'output/models/universal/classification_model_'+model_name+'_tuned.mdl')\n",
    "    save_model(final_models[model_name], 'output/models/universal/classification_model_'+model_name+'_final.mdl')"
   ]
  },
  {
   "cell_type": "markdown",
   "id": "5f8dee9d",
   "metadata": {},
   "source": [
    "### Create Plots"
   ]
  },
  {
   "cell_type": "code",
   "execution_count": 78,
   "id": "521ec3e3",
   "metadata": {},
   "outputs": [],
   "source": [
    "X_test = get_config(variable=\"X_test\").copy()\n",
    "y_test = get_config(variable=\"y_test\").copy()"
   ]
  },
  {
   "cell_type": "code",
   "execution_count": 79,
   "id": "44efd5ca",
   "metadata": {},
   "outputs": [
    {
     "data": {
      "text/plain": [
       "<Figure size 800x550 with 0 Axes>"
      ]
     },
     "metadata": {},
     "output_type": "display_data"
    }
   ],
   "source": [
    "for model_name in ['rf', 'et', 'gbc', 'lr']:\n",
    "    \n",
    "    #import matplotlib.pyplot as plt\n",
    "    #plt.rcParams[\"figure.figsize\"] = [16,9]\n",
    "\n",
    "    visualizer1 = FeatureImportances(final_models[model_name], size=(800,550), topn=10)\n",
    "    visualizer1.fit(X, y)\n",
    "    visualizer1.show(outpath=\"output/plots/universal/\" + \"classification_model_\"+model_name+\"_feature_importance_plot.png\",dpi = 300)\n",
    "\n",
    "    plt.clf() "
   ]
  },
  {
   "cell_type": "code",
   "execution_count": 80,
   "id": "b4489866",
   "metadata": {},
   "outputs": [
    {
     "data": {
      "text/plain": [
       "<Figure size 800x550 with 0 Axes>"
      ]
     },
     "metadata": {},
     "output_type": "display_data"
    }
   ],
   "source": [
    "for model_name in model_names:\n",
    "\n",
    "    visualizer2 = PrecisionRecallCurve(final_models[model_name], hist=False, qqplot=True, size=(800,550))\n",
    "    visualizer2.fit(X, y)\n",
    "    visualizer2.score(X_test, y_test)\n",
    "    visualizer2.show(outpath=\"output/plots/universal/\" + \"classification_model_\"+model_name+\"_PrecisionRecallCurve_plot.png\",dpi = 300)\n",
    "    \n",
    "    plt.clf() "
   ]
  },
  {
   "cell_type": "code",
   "execution_count": 81,
   "id": "1a279e6d",
   "metadata": {},
   "outputs": [
    {
     "data": {
      "text/plain": [
       "<Figure size 800x550 with 0 Axes>"
      ]
     },
     "metadata": {},
     "output_type": "display_data"
    }
   ],
   "source": [
    "for model_name in model_names:\n",
    "\n",
    "    visualizer3 = ClassPredictionError(final_models[model_name], size=(800,550))\n",
    "    visualizer3.fit(X, y)\n",
    "    visualizer3.score(X_test, y_test)\n",
    "    visualizer3.show(outpath=\"output/plots/universal/\" + \"classification_model_\"+model_name+\"_error_plot.png\",dpi = 300)    \n",
    "    \n",
    "    plt.clf()"
   ]
  },
  {
   "cell_type": "code",
   "execution_count": 111,
   "id": "23777c4f",
   "metadata": {},
   "outputs": [
    {
     "data": {
      "text/plain": [
       "<Figure size 800x550 with 0 Axes>"
      ]
     },
     "metadata": {},
     "output_type": "display_data"
    }
   ],
   "source": [
    "for model_name in model_names:\n",
    "\n",
    "    visualizer4 = ConfusionMatrix(final_models[model_name], size=(800,550), percent=True)\n",
    "    visualizer4.fit(X, y)\n",
    "    visualizer4.score(X_test, y_test)\n",
    "    for label in visualizer4.ax.texts:\n",
    "        label.set_size(18)\n",
    "    visualizer4.show(outpath=\"output/plots/universal/\" + \"classification_model_\"+model_name+\"_ConfusionMatrix_plot.png\",dpi = 300)    \n",
    "    \n",
    "    plt.clf()"
   ]
  },
  {
   "cell_type": "code",
   "execution_count": 83,
   "id": "ef7e1f19",
   "metadata": {
    "scrolled": false
   },
   "outputs": [
    {
     "name": "stdout",
     "output_type": "stream",
     "text": [
      "[LightGBM] [Warning] bagging_fraction is set=0.6291910427818465, subsample=1.0 will be ignored. Current value: bagging_fraction=0.6291910427818465\n",
      "[LightGBM] [Warning] feature_fraction is set=0.9604822404977342, colsample_bytree=1.0 will be ignored. Current value: feature_fraction=0.9604822404977342\n",
      "[LightGBM] [Warning] bagging_freq is set=4, subsample_freq=0 will be ignored. Current value: bagging_freq=4\n",
      "[LightGBM] [Warning] bagging_fraction is set=0.6291910427818465, subsample=1.0 will be ignored. Current value: bagging_fraction=0.6291910427818465\n",
      "[LightGBM] [Warning] feature_fraction is set=0.9604822404977342, colsample_bytree=1.0 will be ignored. Current value: feature_fraction=0.9604822404977342\n",
      "[LightGBM] [Warning] bagging_freq is set=4, subsample_freq=0 will be ignored. Current value: bagging_freq=4\n",
      "[LightGBM] [Warning] bagging_fraction is set=0.6291910427818465, subsample=1.0 will be ignored. Current value: bagging_fraction=0.6291910427818465\n",
      "[LightGBM] [Warning] feature_fraction is set=0.9604822404977342, colsample_bytree=1.0 will be ignored. Current value: feature_fraction=0.9604822404977342\n",
      "[LightGBM] [Warning] bagging_freq is set=4, subsample_freq=0 will be ignored. Current value: bagging_freq=4\n",
      "[LightGBM] [Warning] bagging_fraction is set=0.6291910427818465, subsample=1.0 will be ignored. Current value: bagging_fraction=0.6291910427818465\n",
      "[LightGBM] [Warning] feature_fraction is set=0.9604822404977342, colsample_bytree=1.0 will be ignored. Current value: feature_fraction=0.9604822404977342\n",
      "[LightGBM] [Warning] bagging_freq is set=4, subsample_freq=0 will be ignored. Current value: bagging_freq=4\n",
      "[LightGBM] [Warning] bagging_fraction is set=0.6291910427818465, subsample=1.0 will be ignored. Current value: bagging_fraction=0.6291910427818465\n",
      "[LightGBM] [Warning] feature_fraction is set=0.9604822404977342, colsample_bytree=1.0 will be ignored. Current value: feature_fraction=0.9604822404977342\n",
      "[LightGBM] [Warning] bagging_freq is set=4, subsample_freq=0 will be ignored. Current value: bagging_freq=4\n",
      "[LightGBM] [Warning] bagging_fraction is set=0.6291910427818465, subsample=1.0 will be ignored. Current value: bagging_fraction=0.6291910427818465\n",
      "[LightGBM] [Warning] feature_fraction is set=0.9604822404977342, colsample_bytree=1.0 will be ignored. Current value: feature_fraction=0.9604822404977342\n",
      "[LightGBM] [Warning] bagging_freq is set=4, subsample_freq=0 will be ignored. Current value: bagging_freq=4\n",
      "[LightGBM] [Warning] bagging_fraction is set=0.6291910427818465, subsample=1.0 will be ignored. Current value: bagging_fraction=0.6291910427818465\n",
      "[LightGBM] [Warning] feature_fraction is set=0.9604822404977342, colsample_bytree=1.0 will be ignored. Current value: feature_fraction=0.9604822404977342\n",
      "[LightGBM] [Warning] bagging_freq is set=4, subsample_freq=0 will be ignored. Current value: bagging_freq=4\n",
      "[LightGBM] [Warning] bagging_fraction is set=0.6291910427818465, subsample=1.0 will be ignored. Current value: bagging_fraction=0.6291910427818465\n",
      "[LightGBM] [Warning] feature_fraction is set=0.9604822404977342, colsample_bytree=1.0 will be ignored. Current value: feature_fraction=0.9604822404977342\n",
      "[LightGBM] [Warning] bagging_freq is set=4, subsample_freq=0 will be ignored. Current value: bagging_freq=4\n",
      "[LightGBM] [Warning] bagging_fraction is set=0.6291910427818465, subsample=1.0 will be ignored. Current value: bagging_fraction=0.6291910427818465\n",
      "[LightGBM] [Warning] feature_fraction is set=0.9604822404977342, colsample_bytree=1.0 will be ignored. Current value: feature_fraction=0.9604822404977342\n",
      "[LightGBM] [Warning] bagging_freq is set=4, subsample_freq=0 will be ignored. Current value: bagging_freq=4\n",
      "[LightGBM] [Warning] bagging_fraction is set=0.6291910427818465, subsample=1.0 will be ignored. Current value: bagging_fraction=0.6291910427818465\n",
      "[LightGBM] [Warning] feature_fraction is set=0.9604822404977342, colsample_bytree=1.0 will be ignored. Current value: feature_fraction=0.9604822404977342\n",
      "[LightGBM] [Warning] bagging_freq is set=4, subsample_freq=0 will be ignored. Current value: bagging_freq=4\n",
      "[LightGBM] [Warning] bagging_fraction is set=0.6291910427818465, subsample=1.0 will be ignored. Current value: bagging_fraction=0.6291910427818465\n",
      "[LightGBM] [Warning] feature_fraction is set=0.9604822404977342, colsample_bytree=1.0 will be ignored. Current value: feature_fraction=0.9604822404977342\n",
      "[LightGBM] [Warning] bagging_freq is set=4, subsample_freq=0 will be ignored. Current value: bagging_freq=4\n",
      "[LightGBM] [Warning] bagging_fraction is set=0.6291910427818465, subsample=1.0 will be ignored. Current value: bagging_fraction=0.6291910427818465\n",
      "[LightGBM] [Warning] feature_fraction is set=0.9604822404977342, colsample_bytree=1.0 will be ignored. Current value: feature_fraction=0.9604822404977342\n",
      "[LightGBM] [Warning] bagging_freq is set=4, subsample_freq=0 will be ignored. Current value: bagging_freq=4\n",
      "[LightGBM] [Warning] bagging_fraction is set=0.6291910427818465, subsample=1.0 will be ignored. Current value: bagging_fraction=0.6291910427818465\n",
      "[LightGBM] [Warning] feature_fraction is set=0.9604822404977342, colsample_bytree=1.0 will be ignored. Current value: feature_fraction=0.9604822404977342\n",
      "[LightGBM] [Warning] bagging_freq is set=4, subsample_freq=0 will be ignored. Current value: bagging_freq=4\n",
      "[LightGBM] [Warning] bagging_fraction is set=0.6291910427818465, subsample=1.0 will be ignored. Current value: bagging_fraction=0.6291910427818465\n",
      "[LightGBM] [Warning] feature_fraction is set=0.9604822404977342, colsample_bytree=1.0 will be ignored. Current value: feature_fraction=0.9604822404977342\n",
      "[LightGBM] [Warning] bagging_freq is set=4, subsample_freq=0 will be ignored. Current value: bagging_freq=4\n",
      "[LightGBM] [Warning] bagging_fraction is set=0.6291910427818465, subsample=1.0 will be ignored. Current value: bagging_fraction=0.6291910427818465\n",
      "[LightGBM] [Warning] feature_fraction is set=0.9604822404977342, colsample_bytree=1.0 will be ignored. Current value: feature_fraction=0.9604822404977342\n",
      "[LightGBM] [Warning] bagging_freq is set=4, subsample_freq=0 will be ignored. Current value: bagging_freq=4\n",
      "[LightGBM] [Warning] bagging_fraction is set=0.6291910427818465, subsample=1.0 will be ignored. Current value: bagging_fraction=0.6291910427818465\n",
      "[LightGBM] [Warning] feature_fraction is set=0.9604822404977342, colsample_bytree=1.0 will be ignored. Current value: feature_fraction=0.9604822404977342\n",
      "[LightGBM] [Warning] bagging_freq is set=4, subsample_freq=0 will be ignored. Current value: bagging_freq=4\n",
      "[LightGBM] [Warning] bagging_fraction is set=0.6291910427818465, subsample=1.0 will be ignored. Current value: bagging_fraction=0.6291910427818465\n",
      "[LightGBM] [Warning] feature_fraction is set=0.9604822404977342, colsample_bytree=1.0 will be ignored. Current value: feature_fraction=0.9604822404977342\n",
      "[LightGBM] [Warning] bagging_freq is set=4, subsample_freq=0 will be ignored. Current value: bagging_freq=4\n",
      "[LightGBM] [Warning] bagging_fraction is set=0.6291910427818465, subsample=1.0 will be ignored. Current value: bagging_fraction=0.6291910427818465\n",
      "[LightGBM] [Warning] feature_fraction is set=0.9604822404977342, colsample_bytree=1.0 will be ignored. Current value: feature_fraction=0.9604822404977342\n",
      "[LightGBM] [Warning] bagging_freq is set=4, subsample_freq=0 will be ignored. Current value: bagging_freq=4\n",
      "[LightGBM] [Warning] bagging_fraction is set=0.6291910427818465, subsample=1.0 will be ignored. Current value: bagging_fraction=0.6291910427818465\n",
      "[LightGBM] [Warning] feature_fraction is set=0.9604822404977342, colsample_bytree=1.0 will be ignored. Current value: feature_fraction=0.9604822404977342\n",
      "[LightGBM] [Warning] bagging_freq is set=4, subsample_freq=0 will be ignored. Current value: bagging_freq=4\n",
      "[LightGBM] [Warning] bagging_fraction is set=0.6291910427818465, subsample=1.0 will be ignored. Current value: bagging_fraction=0.6291910427818465\n",
      "[LightGBM] [Warning] feature_fraction is set=0.9604822404977342, colsample_bytree=1.0 will be ignored. Current value: feature_fraction=0.9604822404977342\n",
      "[LightGBM] [Warning] bagging_freq is set=4, subsample_freq=0 will be ignored. Current value: bagging_freq=4\n",
      "[LightGBM] [Warning] bagging_fraction is set=0.6291910427818465, subsample=1.0 will be ignored. Current value: bagging_fraction=0.6291910427818465\n",
      "[LightGBM] [Warning] feature_fraction is set=0.9604822404977342, colsample_bytree=1.0 will be ignored. Current value: feature_fraction=0.9604822404977342\n",
      "[LightGBM] [Warning] bagging_freq is set=4, subsample_freq=0 will be ignored. Current value: bagging_freq=4\n"
     ]
    },
    {
     "name": "stdout",
     "output_type": "stream",
     "text": [
      "[LightGBM] [Warning] bagging_fraction is set=0.6291910427818465, subsample=1.0 will be ignored. Current value: bagging_fraction=0.6291910427818465\n",
      "[LightGBM] [Warning] feature_fraction is set=0.9604822404977342, colsample_bytree=1.0 will be ignored. Current value: feature_fraction=0.9604822404977342\n",
      "[LightGBM] [Warning] bagging_freq is set=4, subsample_freq=0 will be ignored. Current value: bagging_freq=4\n",
      "[LightGBM] [Warning] bagging_fraction is set=0.6291910427818465, subsample=1.0 will be ignored. Current value: bagging_fraction=0.6291910427818465\n",
      "[LightGBM] [Warning] feature_fraction is set=0.9604822404977342, colsample_bytree=1.0 will be ignored. Current value: feature_fraction=0.9604822404977342\n",
      "[LightGBM] [Warning] bagging_freq is set=4, subsample_freq=0 will be ignored. Current value: bagging_freq=4\n",
      "[LightGBM] [Warning] bagging_fraction is set=0.6291910427818465, subsample=1.0 will be ignored. Current value: bagging_fraction=0.6291910427818465\n",
      "[LightGBM] [Warning] feature_fraction is set=0.9604822404977342, colsample_bytree=1.0 will be ignored. Current value: feature_fraction=0.9604822404977342\n",
      "[LightGBM] [Warning] bagging_freq is set=4, subsample_freq=0 will be ignored. Current value: bagging_freq=4\n",
      "[LightGBM] [Warning] bagging_fraction is set=0.6291910427818465, subsample=1.0 will be ignored. Current value: bagging_fraction=0.6291910427818465\n",
      "[LightGBM] [Warning] feature_fraction is set=0.9604822404977342, colsample_bytree=1.0 will be ignored. Current value: feature_fraction=0.9604822404977342\n",
      "[LightGBM] [Warning] bagging_freq is set=4, subsample_freq=0 will be ignored. Current value: bagging_freq=4\n",
      "[LightGBM] [Warning] bagging_fraction is set=0.6291910427818465, subsample=1.0 will be ignored. Current value: bagging_fraction=0.6291910427818465\n",
      "[LightGBM] [Warning] feature_fraction is set=0.9604822404977342, colsample_bytree=1.0 will be ignored. Current value: feature_fraction=0.9604822404977342\n",
      "[LightGBM] [Warning] bagging_freq is set=4, subsample_freq=0 will be ignored. Current value: bagging_freq=4\n",
      "[LightGBM] [Warning] bagging_fraction is set=0.6291910427818465, subsample=1.0 will be ignored. Current value: bagging_fraction=0.6291910427818465\n",
      "[LightGBM] [Warning] feature_fraction is set=0.9604822404977342, colsample_bytree=1.0 will be ignored. Current value: feature_fraction=0.9604822404977342\n",
      "[LightGBM] [Warning] bagging_freq is set=4, subsample_freq=0 will be ignored. Current value: bagging_freq=4\n",
      "[LightGBM] [Warning] bagging_fraction is set=0.6291910427818465, subsample=1.0 will be ignored. Current value: bagging_fraction=0.6291910427818465\n",
      "[LightGBM] [Warning] feature_fraction is set=0.9604822404977342, colsample_bytree=1.0 will be ignored. Current value: feature_fraction=0.9604822404977342\n",
      "[LightGBM] [Warning] bagging_freq is set=4, subsample_freq=0 will be ignored. Current value: bagging_freq=4\n",
      "[LightGBM] [Warning] bagging_fraction is set=0.6291910427818465, subsample=1.0 will be ignored. Current value: bagging_fraction=0.6291910427818465\n",
      "[LightGBM] [Warning] feature_fraction is set=0.9604822404977342, colsample_bytree=1.0 will be ignored. Current value: feature_fraction=0.9604822404977342\n",
      "[LightGBM] [Warning] bagging_freq is set=4, subsample_freq=0 will be ignored. Current value: bagging_freq=4\n",
      "[LightGBM] [Warning] bagging_fraction is set=0.6291910427818465, subsample=1.0 will be ignored. Current value: bagging_fraction=0.6291910427818465\n",
      "[LightGBM] [Warning] feature_fraction is set=0.9604822404977342, colsample_bytree=1.0 will be ignored. Current value: feature_fraction=0.9604822404977342\n",
      "[LightGBM] [Warning] bagging_freq is set=4, subsample_freq=0 will be ignored. Current value: bagging_freq=4\n",
      "[LightGBM] [Warning] bagging_fraction is set=0.6291910427818465, subsample=1.0 will be ignored. Current value: bagging_fraction=0.6291910427818465\n",
      "[LightGBM] [Warning] feature_fraction is set=0.9604822404977342, colsample_bytree=1.0 will be ignored. Current value: feature_fraction=0.9604822404977342\n",
      "[LightGBM] [Warning] bagging_freq is set=4, subsample_freq=0 will be ignored. Current value: bagging_freq=4\n",
      "[LightGBM] [Warning] bagging_fraction is set=0.6291910427818465, subsample=1.0 will be ignored. Current value: bagging_fraction=0.6291910427818465\n",
      "[LightGBM] [Warning] feature_fraction is set=0.9604822404977342, colsample_bytree=1.0 will be ignored. Current value: feature_fraction=0.9604822404977342\n",
      "[LightGBM] [Warning] bagging_freq is set=4, subsample_freq=0 will be ignored. Current value: bagging_freq=4\n",
      "[LightGBM] [Warning] bagging_fraction is set=0.6291910427818465, subsample=1.0 will be ignored. Current value: bagging_fraction=0.6291910427818465\n",
      "[LightGBM] [Warning] feature_fraction is set=0.9604822404977342, colsample_bytree=1.0 will be ignored. Current value: feature_fraction=0.9604822404977342\n",
      "[LightGBM] [Warning] bagging_freq is set=4, subsample_freq=0 will be ignored. Current value: bagging_freq=4\n",
      "[LightGBM] [Warning] bagging_fraction is set=0.6291910427818465, subsample=1.0 will be ignored. Current value: bagging_fraction=0.6291910427818465\n",
      "[LightGBM] [Warning] feature_fraction is set=0.9604822404977342, colsample_bytree=1.0 will be ignored. Current value: feature_fraction=0.9604822404977342\n",
      "[LightGBM] [Warning] bagging_freq is set=4, subsample_freq=0 will be ignored. Current value: bagging_freq=4\n",
      "[LightGBM] [Warning] bagging_fraction is set=0.6291910427818465, subsample=1.0 will be ignored. Current value: bagging_fraction=0.6291910427818465\n",
      "[LightGBM] [Warning] feature_fraction is set=0.9604822404977342, colsample_bytree=1.0 will be ignored. Current value: feature_fraction=0.9604822404977342\n",
      "[LightGBM] [Warning] bagging_freq is set=4, subsample_freq=0 will be ignored. Current value: bagging_freq=4\n",
      "[LightGBM] [Warning] bagging_fraction is set=0.6291910427818465, subsample=1.0 will be ignored. Current value: bagging_fraction=0.6291910427818465\n",
      "[LightGBM] [Warning] feature_fraction is set=0.9604822404977342, colsample_bytree=1.0 will be ignored. Current value: feature_fraction=0.9604822404977342\n",
      "[LightGBM] [Warning] bagging_freq is set=4, subsample_freq=0 will be ignored. Current value: bagging_freq=4\n",
      "[LightGBM] [Warning] bagging_fraction is set=0.6291910427818465, subsample=1.0 will be ignored. Current value: bagging_fraction=0.6291910427818465\n",
      "[LightGBM] [Warning] feature_fraction is set=0.9604822404977342, colsample_bytree=1.0 will be ignored. Current value: feature_fraction=0.9604822404977342\n",
      "[LightGBM] [Warning] bagging_freq is set=4, subsample_freq=0 will be ignored. Current value: bagging_freq=4\n",
      "[LightGBM] [Warning] bagging_fraction is set=0.6291910427818465, subsample=1.0 will be ignored. Current value: bagging_fraction=0.6291910427818465\n",
      "[LightGBM] [Warning] feature_fraction is set=0.9604822404977342, colsample_bytree=1.0 will be ignored. Current value: feature_fraction=0.9604822404977342\n",
      "[LightGBM] [Warning] bagging_freq is set=4, subsample_freq=0 will be ignored. Current value: bagging_freq=4\n",
      "[LightGBM] [Warning] bagging_fraction is set=0.6291910427818465, subsample=1.0 will be ignored. Current value: bagging_fraction=0.6291910427818465\n",
      "[LightGBM] [Warning] feature_fraction is set=0.9604822404977342, colsample_bytree=1.0 will be ignored. Current value: feature_fraction=0.9604822404977342\n",
      "[LightGBM] [Warning] bagging_freq is set=4, subsample_freq=0 will be ignored. Current value: bagging_freq=4\n",
      "[LightGBM] [Warning] bagging_fraction is set=0.6291910427818465, subsample=1.0 will be ignored. Current value: bagging_fraction=0.6291910427818465\n",
      "[LightGBM] [Warning] feature_fraction is set=0.9604822404977342, colsample_bytree=1.0 will be ignored. Current value: feature_fraction=0.9604822404977342\n",
      "[LightGBM] [Warning] bagging_freq is set=4, subsample_freq=0 will be ignored. Current value: bagging_freq=4\n",
      "[LightGBM] [Warning] bagging_fraction is set=0.6291910427818465, subsample=1.0 will be ignored. Current value: bagging_fraction=0.6291910427818465\n",
      "[LightGBM] [Warning] feature_fraction is set=0.9604822404977342, colsample_bytree=1.0 will be ignored. Current value: feature_fraction=0.9604822404977342\n",
      "[LightGBM] [Warning] bagging_freq is set=4, subsample_freq=0 will be ignored. Current value: bagging_freq=4\n",
      "[LightGBM] [Warning] bagging_fraction is set=0.6291910427818465, subsample=1.0 will be ignored. Current value: bagging_fraction=0.6291910427818465\n",
      "[LightGBM] [Warning] feature_fraction is set=0.9604822404977342, colsample_bytree=1.0 will be ignored. Current value: feature_fraction=0.9604822404977342\n",
      "[LightGBM] [Warning] bagging_freq is set=4, subsample_freq=0 will be ignored. Current value: bagging_freq=4\n",
      "[LightGBM] [Warning] bagging_fraction is set=0.6291910427818465, subsample=1.0 will be ignored. Current value: bagging_fraction=0.6291910427818465\n",
      "[LightGBM] [Warning] feature_fraction is set=0.9604822404977342, colsample_bytree=1.0 will be ignored. Current value: feature_fraction=0.9604822404977342\n",
      "[LightGBM] [Warning] bagging_freq is set=4, subsample_freq=0 will be ignored. Current value: bagging_freq=4\n"
     ]
    },
    {
     "name": "stdout",
     "output_type": "stream",
     "text": [
      "[LightGBM] [Warning] bagging_fraction is set=0.6291910427818465, subsample=1.0 will be ignored. Current value: bagging_fraction=0.6291910427818465\n",
      "[LightGBM] [Warning] feature_fraction is set=0.9604822404977342, colsample_bytree=1.0 will be ignored. Current value: feature_fraction=0.9604822404977342\n",
      "[LightGBM] [Warning] bagging_freq is set=4, subsample_freq=0 will be ignored. Current value: bagging_freq=4\n",
      "[LightGBM] [Warning] bagging_fraction is set=0.6291910427818465, subsample=1.0 will be ignored. Current value: bagging_fraction=0.6291910427818465\n",
      "[LightGBM] [Warning] feature_fraction is set=0.9604822404977342, colsample_bytree=1.0 will be ignored. Current value: feature_fraction=0.9604822404977342\n",
      "[LightGBM] [Warning] bagging_freq is set=4, subsample_freq=0 will be ignored. Current value: bagging_freq=4\n",
      "[LightGBM] [Warning] bagging_fraction is set=0.6291910427818465, subsample=1.0 will be ignored. Current value: bagging_fraction=0.6291910427818465\n",
      "[LightGBM] [Warning] feature_fraction is set=0.9604822404977342, colsample_bytree=1.0 will be ignored. Current value: feature_fraction=0.9604822404977342\n",
      "[LightGBM] [Warning] bagging_freq is set=4, subsample_freq=0 will be ignored. Current value: bagging_freq=4\n",
      "[LightGBM] [Warning] bagging_fraction is set=0.6291910427818465, subsample=1.0 will be ignored. Current value: bagging_fraction=0.6291910427818465\n",
      "[LightGBM] [Warning] feature_fraction is set=0.9604822404977342, colsample_bytree=1.0 will be ignored. Current value: feature_fraction=0.9604822404977342\n",
      "[LightGBM] [Warning] bagging_freq is set=4, subsample_freq=0 will be ignored. Current value: bagging_freq=4\n",
      "[LightGBM] [Warning] bagging_fraction is set=0.6291910427818465, subsample=1.0 will be ignored. Current value: bagging_fraction=0.6291910427818465\n",
      "[LightGBM] [Warning] feature_fraction is set=0.9604822404977342, colsample_bytree=1.0 will be ignored. Current value: feature_fraction=0.9604822404977342\n",
      "[LightGBM] [Warning] bagging_freq is set=4, subsample_freq=0 will be ignored. Current value: bagging_freq=4\n",
      "[LightGBM] [Warning] bagging_fraction is set=0.6291910427818465, subsample=1.0 will be ignored. Current value: bagging_fraction=0.6291910427818465\n",
      "[LightGBM] [Warning] feature_fraction is set=0.9604822404977342, colsample_bytree=1.0 will be ignored. Current value: feature_fraction=0.9604822404977342\n",
      "[LightGBM] [Warning] bagging_freq is set=4, subsample_freq=0 will be ignored. Current value: bagging_freq=4\n",
      "[LightGBM] [Warning] bagging_fraction is set=0.6291910427818465, subsample=1.0 will be ignored. Current value: bagging_fraction=0.6291910427818465\n",
      "[LightGBM] [Warning] feature_fraction is set=0.9604822404977342, colsample_bytree=1.0 will be ignored. Current value: feature_fraction=0.9604822404977342\n",
      "[LightGBM] [Warning] bagging_freq is set=4, subsample_freq=0 will be ignored. Current value: bagging_freq=4\n",
      "[LightGBM] [Warning] bagging_fraction is set=0.6291910427818465, subsample=1.0 will be ignored. Current value: bagging_fraction=0.6291910427818465\n",
      "[LightGBM] [Warning] feature_fraction is set=0.9604822404977342, colsample_bytree=1.0 will be ignored. Current value: feature_fraction=0.9604822404977342\n",
      "[LightGBM] [Warning] bagging_freq is set=4, subsample_freq=0 will be ignored. Current value: bagging_freq=4\n",
      "[LightGBM] [Warning] bagging_fraction is set=0.6291910427818465, subsample=1.0 will be ignored. Current value: bagging_fraction=0.6291910427818465\n",
      "[LightGBM] [Warning] feature_fraction is set=0.9604822404977342, colsample_bytree=1.0 will be ignored. Current value: feature_fraction=0.9604822404977342\n",
      "[LightGBM] [Warning] bagging_freq is set=4, subsample_freq=0 will be ignored. Current value: bagging_freq=4\n",
      "[LightGBM] [Warning] bagging_fraction is set=0.6291910427818465, subsample=1.0 will be ignored. Current value: bagging_fraction=0.6291910427818465\n",
      "[LightGBM] [Warning] feature_fraction is set=0.9604822404977342, colsample_bytree=1.0 will be ignored. Current value: feature_fraction=0.9604822404977342\n",
      "[LightGBM] [Warning] bagging_freq is set=4, subsample_freq=0 will be ignored. Current value: bagging_freq=4\n",
      "[LightGBM] [Warning] bagging_fraction is set=0.6291910427818465, subsample=1.0 will be ignored. Current value: bagging_fraction=0.6291910427818465\n",
      "[LightGBM] [Warning] feature_fraction is set=0.9604822404977342, colsample_bytree=1.0 will be ignored. Current value: feature_fraction=0.9604822404977342\n",
      "[LightGBM] [Warning] bagging_freq is set=4, subsample_freq=0 will be ignored. Current value: bagging_freq=4\n",
      "[LightGBM] [Warning] bagging_fraction is set=0.6291910427818465, subsample=1.0 will be ignored. Current value: bagging_fraction=0.6291910427818465\n",
      "[LightGBM] [Warning] feature_fraction is set=0.9604822404977342, colsample_bytree=1.0 will be ignored. Current value: feature_fraction=0.9604822404977342\n",
      "[LightGBM] [Warning] bagging_freq is set=4, subsample_freq=0 will be ignored. Current value: bagging_freq=4\n"
     ]
    },
    {
     "data": {
      "text/plain": [
       "<Figure size 800x550 with 0 Axes>"
      ]
     },
     "metadata": {},
     "output_type": "display_data"
    }
   ],
   "source": [
    "for model_name in model_names:\n",
    "\n",
    "    visualizer5 = DiscriminationThreshold(final_models[model_name], size=(800,550))\n",
    "    visualizer5.fit(X, y)\n",
    "    visualizer5.score(X_test, y_test)\n",
    "    visualizer5.show(outpath=\"output/plots/universal/\" + \"classification_model_\"+model_name+\"_DiscriminationThreshold_plot.png\",dpi = 300)    \n",
    "    \n",
    "    plt.clf()"
   ]
  },
  {
   "cell_type": "code",
   "execution_count": 89,
   "id": "cf552eb5",
   "metadata": {},
   "outputs": [
    {
     "data": {
      "text/plain": [
       "<Figure size 800x550 with 0 Axes>"
      ]
     },
     "metadata": {},
     "output_type": "display_data"
    }
   ],
   "source": [
    "for model_name in ['lr', 'knn', 'rf', 'et', 'gbc', 'lightgbm']:\n",
    "\n",
    "    visualizer6 = ROCAUC(final_models[model_name], size=(800,550))\n",
    "    visualizer6.fit(X, y)\n",
    "    visualizer6.score(X_test, y_test)\n",
    "    visualizer6.show(outpath=\"output/plots/universal/\" + \"classification_model_\"+model_name+\"_ROCAUC_plot.png\",dpi = 300)    \n",
    "    \n",
    "    plt.clf()"
   ]
  },
  {
   "cell_type": "markdown",
   "id": "3a2eafd5",
   "metadata": {},
   "source": [
    "### Load model"
   ]
  },
  {
   "cell_type": "code",
   "execution_count": 94,
   "id": "2406f629",
   "metadata": {},
   "outputs": [],
   "source": [
    "model_names = ['lr', 'knn', 'svm', 'rf', 'et', 'gbc', 'lightgbm']"
   ]
  },
  {
   "cell_type": "code",
   "execution_count": 95,
   "id": "6f5acd9b",
   "metadata": {},
   "outputs": [],
   "source": [
    "final_config = load_config('output/models/universal/classification_config.cfg')"
   ]
  },
  {
   "cell_type": "code",
   "execution_count": 96,
   "id": "7503a083",
   "metadata": {},
   "outputs": [],
   "source": [
    "tuned_models_load = dict()\n",
    "final_models_load = dict()"
   ]
  },
  {
   "cell_type": "code",
   "execution_count": 97,
   "id": "af29b475",
   "metadata": {},
   "outputs": [
    {
     "name": "stdout",
     "output_type": "stream",
     "text": [
      "Transformation Pipeline and Model Successfully Loaded\n",
      "Transformation Pipeline and Model Successfully Loaded\n",
      "Transformation Pipeline and Model Successfully Loaded\n",
      "Transformation Pipeline and Model Successfully Loaded\n",
      "Transformation Pipeline and Model Successfully Loaded\n",
      "Transformation Pipeline and Model Successfully Loaded\n",
      "Transformation Pipeline and Model Successfully Loaded\n",
      "Transformation Pipeline and Model Successfully Loaded\n",
      "Transformation Pipeline and Model Successfully Loaded\n",
      "Transformation Pipeline and Model Successfully Loaded\n",
      "Transformation Pipeline and Model Successfully Loaded\n",
      "Transformation Pipeline and Model Successfully Loaded\n",
      "Transformation Pipeline and Model Successfully Loaded\n",
      "Transformation Pipeline and Model Successfully Loaded\n"
     ]
    }
   ],
   "source": [
    "for model_name in model_names:\n",
    "    tuned_models_load[model_name] = load_model('output/models/universal/classification_model_'+model_name+'_tuned.mdl')\n",
    "    final_models_load[model_name] = load_model('output/models/universal/classification_model_'+model_name+'_final.mdl')"
   ]
  },
  {
   "cell_type": "code",
   "execution_count": 103,
   "id": "acba0082",
   "metadata": {},
   "outputs": [
    {
     "data": {
      "text/plain": [
       "{'boosting_type': 'gbdt',\n",
       " 'objective': None,\n",
       " 'num_leaves': 227,\n",
       " 'max_depth': -1,\n",
       " 'learning_rate': 0.1564753010297142,\n",
       " 'n_estimators': 86,\n",
       " 'subsample_for_bin': 200000,\n",
       " 'min_split_gain': 0.9096981909518245,\n",
       " 'min_child_weight': 0.001,\n",
       " 'min_child_samples': 9,\n",
       " 'subsample': 1.0,\n",
       " 'subsample_freq': 0,\n",
       " 'colsample_bytree': 1.0,\n",
       " 'reg_alpha': 3.527042251277355e-06,\n",
       " 'reg_lambda': 0.012050978949079394,\n",
       " 'random_state': 834,\n",
       " 'n_jobs': -1,\n",
       " 'silent': 'warn',\n",
       " 'importance_type': 'split',\n",
       " '_Booster': <lightgbm.basic.Booster at 0x7fbe992e6fa0>,\n",
       " '_evals_result': None,\n",
       " '_best_score': defaultdict(collections.OrderedDict, {}),\n",
       " '_best_iteration': None,\n",
       " '_other_params': {'feature_fraction': 0.9604822404977342,\n",
       "  'bagging_fraction': 0.6291910427818465,\n",
       "  'bagging_freq': 4},\n",
       " '_objective': 'binary',\n",
       " 'class_weight': None,\n",
       " '_class_weight': None,\n",
       " '_class_map': {0: 0, 1: 1},\n",
       " '_n_features': 266,\n",
       " '_n_features_in': 266,\n",
       " '_classes': array([0, 1]),\n",
       " '_n_classes': 2,\n",
       " 'feature_fraction': 0.9604822404977342,\n",
       " 'bagging_fraction': 0.6291910427818465,\n",
       " 'bagging_freq': 4,\n",
       " '_le': LabelEncoder(),\n",
       " '_fobj': None,\n",
       " 'fitted_': True}"
      ]
     },
     "execution_count": 103,
     "metadata": {},
     "output_type": "execute_result"
    }
   ],
   "source": [
    "vars(final_models_load['lightgbm']._final_estimator)"
   ]
  },
  {
   "cell_type": "code",
   "execution_count": 105,
   "id": "2a1bbb79",
   "metadata": {},
   "outputs": [
    {
     "data": {
      "image/png": "[encoded data removed]",
      "text/plain": [
       "<Figure size 800x500 with 1 Axes>"
      ]
     },
     "metadata": {},
     "output_type": "display_data"
    }
   ],
   "source": [
    "plot_model(tuned_models_load['lightgbm']._final_estimator, 'feature')"
   ]
  }
 ],
 "metadata": {
  "kernelspec": {
   "display_name": "Python 3 (ipykernel)",
   "language": "python",
   "name": "python3"
  },
  "language_info": {
   "codemirror_mode": {
    "name": "ipython",
    "version": 3
   },
   "file_extension": ".py",
   "mimetype": "text/x-python",
   "name": "python",
   "nbconvert_exporter": "python",
   "pygments_lexer": "ipython3",
   "version": "3.8.13"
  }
 },
 "nbformat": 4,
 "nbformat_minor": 5
}
