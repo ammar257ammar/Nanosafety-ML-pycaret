{
 "cells": [
  {
   "cell_type": "markdown",
   "id": "c772a64f-823c-4973-bf41-3c9a239c601a",
   "metadata": {},
   "source": [
    "# Universal Classification Model"
   ]
  },
  {
   "cell_type": "markdown",
   "id": "6cc25fc3-e84a-4d87-ace3-e947218d58aa",
   "metadata": {},
   "source": [
    "### Importing libraries and define functions"
   ]
  },
  {
   "cell_type": "code",
   "execution_count": 1,
   "id": "5e31b3ce-df35-4b10-a99a-2f753f523fb9",
   "metadata": {},
   "outputs": [],
   "source": [
    "import pandas as pd\n",
    "import numpy as np\n",
    "import scipy\n",
    "import math\n",
    "import os\n",
    "import sys"
   ]
  },
  {
   "cell_type": "code",
   "execution_count": 2,
   "id": "8375cb30",
   "metadata": {},
   "outputs": [],
   "source": [
    "# Managing Warnings \n",
    "import warnings\n",
    "warnings.filterwarnings('ignore')\n",
    "\n",
    "if not sys.warnoptions:\n",
    "    warnings.simplefilter(\"ignore\")\n",
    "    os.environ[\"PYTHONWARNINGS\"] = \"ignore\" # Also affect subprocesses"
   ]
  },
  {
   "cell_type": "code",
   "execution_count": 3,
   "id": "2d2c745b-9e8f-415c-a43c-f08fb5937b46",
   "metadata": {},
   "outputs": [],
   "source": [
    "import sklearn\n",
    "from sklearn.decomposition import PCA\n",
    "from sklearn import preprocessing\n",
    "from sklearn.impute import SimpleImputer\n",
    "from sklearn.model_selection import StratifiedKFold\n",
    "from sklearn.model_selection import cross_val_score\n",
    "from sklearn.model_selection import cross_validate"
   ]
  },
  {
   "cell_type": "code",
   "execution_count": 4,
   "id": "5b9378dc",
   "metadata": {},
   "outputs": [],
   "source": [
    "from yellowbrick.classifier import ROCAUC\n",
    "from yellowbrick.classifier import ClassPredictionError\n",
    "from yellowbrick.classifier import PrecisionRecallCurve\n",
    "from yellowbrick.classifier import ConfusionMatrix\n",
    "from yellowbrick.classifier import DiscriminationThreshold\n",
    "from yellowbrick.model_selection import FeatureImportances\n",
    "import matplotlib.pyplot as plt"
   ]
  },
  {
   "cell_type": "code",
   "execution_count": 5,
   "id": "03a6e29f",
   "metadata": {},
   "outputs": [],
   "source": [
    "from pycaret.classification import *"
   ]
  },
  {
   "cell_type": "code",
   "execution_count": 6,
   "id": "8d5a3c8a",
   "metadata": {},
   "outputs": [],
   "source": [
    "import functions as f"
   ]
  },
  {
   "cell_type": "code",
   "execution_count": 7,
   "id": "d563849c",
   "metadata": {},
   "outputs": [],
   "source": [
    "from copy import deepcopy"
   ]
  },
  {
   "cell_type": "markdown",
   "id": "bf6d7f7e",
   "metadata": {},
   "source": [
    "### Loading the train data into the data frame."
   ]
  },
  {
   "cell_type": "code",
   "execution_count": 8,
   "id": "da49b7e9",
   "metadata": {},
   "outputs": [],
   "source": [
    "data_train_df = pd.read_csv(\"output/datasets/universal/data_classification_train_df.csv\", encoding=\"utf-8\")"
   ]
  },
  {
   "cell_type": "code",
   "execution_count": 9,
   "id": "f38a5c13",
   "metadata": {},
   "outputs": [
    {
     "data": {
      "text/plain": [
       "NP_type                object\n",
       "Coating                object\n",
       "core_size_nm          float64\n",
       "hydro_size_nm         float64\n",
       "Surf_charge_mV        float64\n",
       "Surface_area_m2_g     float64\n",
       "shape                  object\n",
       "Dose_microg_mL        float64\n",
       "Duration_h            float64\n",
       "Cell_name              object\n",
       "Cell_species           object\n",
       "cell_Organ             object\n",
       "Cell_morphology        object\n",
       "Cell_age               object\n",
       "cell_type              object\n",
       "sex                    object\n",
       "Assay                  object\n",
       "Test_indicator         object\n",
       "nanomaterial_group     object\n",
       "viability_class        object\n",
       "dtype: object"
      ]
     },
     "execution_count": 9,
     "metadata": {},
     "output_type": "execute_result"
    }
   ],
   "source": [
    "data_train_df.dtypes"
   ]
  },
  {
   "cell_type": "code",
   "execution_count": 10,
   "id": "2d093a1e",
   "metadata": {},
   "outputs": [
    {
     "data": {
      "text/plain": [
       "(3724, 20)"
      ]
     },
     "execution_count": 10,
     "metadata": {},
     "output_type": "execute_result"
    }
   ],
   "source": [
    "data_train_df.shape"
   ]
  },
  {
   "cell_type": "code",
   "execution_count": 11,
   "id": "ebeeb573",
   "metadata": {},
   "outputs": [
    {
     "data": {
      "text/html": [
       "<div>\n",
       "<style scoped>\n",
       "    .dataframe tbody tr th:only-of-type {\n",
       "        vertical-align: middle;\n",
       "    }\n",
       "\n",
       "    .dataframe tbody tr th {\n",
       "        vertical-align: top;\n",
       "    }\n",
       "\n",
       "    .dataframe thead th {\n",
       "        text-align: right;\n",
       "    }\n",
       "</style>\n",
       "<table border=\"1\" class=\"dataframe\">\n",
       "  <thead>\n",
       "    <tr style=\"text-align: right;\">\n",
       "      <th></th>\n",
       "      <th>NP_type</th>\n",
       "      <th>Coating</th>\n",
       "      <th>core_size_nm</th>\n",
       "      <th>hydro_size_nm</th>\n",
       "      <th>Surf_charge_mV</th>\n",
       "      <th>Surface_area_m2_g</th>\n",
       "      <th>shape</th>\n",
       "      <th>Dose_microg_mL</th>\n",
       "      <th>Duration_h</th>\n",
       "      <th>Cell_name</th>\n",
       "      <th>Cell_species</th>\n",
       "      <th>cell_Organ</th>\n",
       "      <th>Cell_morphology</th>\n",
       "      <th>Cell_age</th>\n",
       "      <th>cell_type</th>\n",
       "      <th>sex</th>\n",
       "      <th>Assay</th>\n",
       "      <th>Test_indicator</th>\n",
       "      <th>nanomaterial_group</th>\n",
       "      <th>viability_class</th>\n",
       "    </tr>\n",
       "  </thead>\n",
       "  <tbody>\n",
       "    <tr>\n",
       "      <th>0</th>\n",
       "      <td>Carbon</td>\n",
       "      <td>None</td>\n",
       "      <td>53.7</td>\n",
       "      <td>NaN</td>\n",
       "      <td>-39.90</td>\n",
       "      <td>NaN</td>\n",
       "      <td>Sphere</td>\n",
       "      <td>50.00</td>\n",
       "      <td>24.0</td>\n",
       "      <td>THP_1</td>\n",
       "      <td>Human</td>\n",
       "      <td>Blood</td>\n",
       "      <td>monocyte</td>\n",
       "      <td>neonate</td>\n",
       "      <td>cancer</td>\n",
       "      <td>male</td>\n",
       "      <td>MTT</td>\n",
       "      <td>TetrazoliumSalt</td>\n",
       "      <td>carbon</td>\n",
       "      <td>NonToxic</td>\n",
       "    </tr>\n",
       "    <tr>\n",
       "      <th>1</th>\n",
       "      <td>TiO2</td>\n",
       "      <td>None</td>\n",
       "      <td>30.6</td>\n",
       "      <td>266.0</td>\n",
       "      <td>NaN</td>\n",
       "      <td>NaN</td>\n",
       "      <td>Sphere</td>\n",
       "      <td>2.50</td>\n",
       "      <td>24.0</td>\n",
       "      <td>WISH</td>\n",
       "      <td>Human</td>\n",
       "      <td>Amniotic-membrane</td>\n",
       "      <td>Epithelial</td>\n",
       "      <td>fetus</td>\n",
       "      <td>cancer</td>\n",
       "      <td>NaN</td>\n",
       "      <td>MTT</td>\n",
       "      <td>TetrazoliumSalt</td>\n",
       "      <td>meta_oxide</td>\n",
       "      <td>NonToxic</td>\n",
       "    </tr>\n",
       "    <tr>\n",
       "      <th>2</th>\n",
       "      <td>IronOxide</td>\n",
       "      <td>PEG_based</td>\n",
       "      <td>35.8</td>\n",
       "      <td>NaN</td>\n",
       "      <td>-0.52</td>\n",
       "      <td>NaN</td>\n",
       "      <td>Sphere</td>\n",
       "      <td>6.25</td>\n",
       "      <td>48.0</td>\n",
       "      <td>SKOV­3</td>\n",
       "      <td>Human</td>\n",
       "      <td>Ovary</td>\n",
       "      <td>Epithelial</td>\n",
       "      <td>Young</td>\n",
       "      <td>cancer</td>\n",
       "      <td>female</td>\n",
       "      <td>MTS</td>\n",
       "      <td>TetrazoliumSalt</td>\n",
       "      <td>meta_oxide</td>\n",
       "      <td>NonToxic</td>\n",
       "    </tr>\n",
       "    <tr>\n",
       "      <th>3</th>\n",
       "      <td>ZnO</td>\n",
       "      <td>None</td>\n",
       "      <td>141.0</td>\n",
       "      <td>404.0</td>\n",
       "      <td>NaN</td>\n",
       "      <td>NaN</td>\n",
       "      <td>Sphere</td>\n",
       "      <td>10.00</td>\n",
       "      <td>9.0</td>\n",
       "      <td>SIRC</td>\n",
       "      <td>Rabbit</td>\n",
       "      <td>Cornea</td>\n",
       "      <td>Fibroblast</td>\n",
       "      <td>Adult</td>\n",
       "      <td>Normal</td>\n",
       "      <td>NaN</td>\n",
       "      <td>MTT</td>\n",
       "      <td>TetrazoliumSalt</td>\n",
       "      <td>meta_oxide</td>\n",
       "      <td>NonToxic</td>\n",
       "    </tr>\n",
       "    <tr>\n",
       "      <th>4</th>\n",
       "      <td>TiO2</td>\n",
       "      <td>None</td>\n",
       "      <td>40.0</td>\n",
       "      <td>322.3</td>\n",
       "      <td>-25.27</td>\n",
       "      <td>50.0</td>\n",
       "      <td>NaN</td>\n",
       "      <td>0.00</td>\n",
       "      <td>12.0</td>\n",
       "      <td>L-02</td>\n",
       "      <td>Human</td>\n",
       "      <td>Liver</td>\n",
       "      <td>Epithelial</td>\n",
       "      <td>Adult</td>\n",
       "      <td>cancer</td>\n",
       "      <td>female</td>\n",
       "      <td>ATPLite</td>\n",
       "      <td>luciferase</td>\n",
       "      <td>meta_oxide</td>\n",
       "      <td>NonToxic</td>\n",
       "    </tr>\n",
       "  </tbody>\n",
       "</table>\n",
       "</div>"
      ],
      "text/plain": [
       "     NP_type    Coating  core_size_nm  hydro_size_nm  Surf_charge_mV  \\\n",
       "0     Carbon       None          53.7            NaN          -39.90   \n",
       "1       TiO2       None          30.6          266.0             NaN   \n",
       "2  IronOxide  PEG_based          35.8            NaN           -0.52   \n",
       "3        ZnO       None         141.0          404.0             NaN   \n",
       "4       TiO2       None          40.0          322.3          -25.27   \n",
       "\n",
       "   Surface_area_m2_g   shape  Dose_microg_mL  Duration_h Cell_name  \\\n",
       "0                NaN  Sphere           50.00        24.0     THP_1   \n",
       "1                NaN  Sphere            2.50        24.0      WISH   \n",
       "2                NaN  Sphere            6.25        48.0    SKOV­3   \n",
       "3                NaN  Sphere           10.00         9.0      SIRC   \n",
       "4               50.0     NaN            0.00        12.0      L-02   \n",
       "\n",
       "  Cell_species         cell_Organ Cell_morphology Cell_age cell_type     sex  \\\n",
       "0        Human              Blood        monocyte  neonate    cancer    male   \n",
       "1        Human  Amniotic-membrane      Epithelial    fetus    cancer     NaN   \n",
       "2        Human              Ovary      Epithelial    Young    cancer  female   \n",
       "3       Rabbit             Cornea      Fibroblast    Adult    Normal     NaN   \n",
       "4        Human              Liver      Epithelial    Adult    cancer  female   \n",
       "\n",
       "     Assay   Test_indicator nanomaterial_group viability_class  \n",
       "0      MTT  TetrazoliumSalt             carbon        NonToxic  \n",
       "1      MTT  TetrazoliumSalt         meta_oxide        NonToxic  \n",
       "2      MTS  TetrazoliumSalt         meta_oxide        NonToxic  \n",
       "3      MTT  TetrazoliumSalt         meta_oxide        NonToxic  \n",
       "4  ATPLite       luciferase         meta_oxide        NonToxic  "
      ]
     },
     "execution_count": 11,
     "metadata": {},
     "output_type": "execute_result"
    }
   ],
   "source": [
    "data_train_df.head()"
   ]
  },
  {
   "cell_type": "code",
   "execution_count": 12,
   "id": "19b3d57d",
   "metadata": {},
   "outputs": [],
   "source": [
    "#data_train_df_clean = data_train_df.dropna(thresh=data_train_df.shape[1]-3, axis=0)\n",
    "#print(data_train_df_clean.shape)"
   ]
  },
  {
   "cell_type": "markdown",
   "id": "4e176266",
   "metadata": {},
   "source": [
    "### Loading the test data into the data frame."
   ]
  },
  {
   "cell_type": "code",
   "execution_count": 13,
   "id": "3f3fa90b",
   "metadata": {},
   "outputs": [],
   "source": [
    "data_test_df = pd.read_csv(\"output/datasets/universal/data_classification_test_df.csv\", encoding=\"utf-8\")"
   ]
  },
  {
   "cell_type": "code",
   "execution_count": 14,
   "id": "52dadafb",
   "metadata": {},
   "outputs": [
    {
     "data": {
      "text/plain": [
       "NP_type                object\n",
       "Coating                object\n",
       "core_size_nm          float64\n",
       "hydro_size_nm         float64\n",
       "Surf_charge_mV        float64\n",
       "Surface_area_m2_g     float64\n",
       "shape                  object\n",
       "Dose_microg_mL        float64\n",
       "Duration_h            float64\n",
       "Cell_name              object\n",
       "Cell_species           object\n",
       "cell_Organ             object\n",
       "Cell_morphology        object\n",
       "Cell_age               object\n",
       "cell_type              object\n",
       "sex                    object\n",
       "Assay                  object\n",
       "Test_indicator         object\n",
       "nanomaterial_group     object\n",
       "viability_class        object\n",
       "dtype: object"
      ]
     },
     "execution_count": 14,
     "metadata": {},
     "output_type": "execute_result"
    }
   ],
   "source": [
    "data_test_df.dtypes"
   ]
  },
  {
   "cell_type": "code",
   "execution_count": 15,
   "id": "d29ca572",
   "metadata": {},
   "outputs": [
    {
     "data": {
      "text/plain": [
       "(932, 20)"
      ]
     },
     "execution_count": 15,
     "metadata": {},
     "output_type": "execute_result"
    }
   ],
   "source": [
    "data_test_df.shape"
   ]
  },
  {
   "cell_type": "code",
   "execution_count": 16,
   "id": "fd043ed7",
   "metadata": {},
   "outputs": [
    {
     "data": {
      "text/html": [
       "<div>\n",
       "<style scoped>\n",
       "    .dataframe tbody tr th:only-of-type {\n",
       "        vertical-align: middle;\n",
       "    }\n",
       "\n",
       "    .dataframe tbody tr th {\n",
       "        vertical-align: top;\n",
       "    }\n",
       "\n",
       "    .dataframe thead th {\n",
       "        text-align: right;\n",
       "    }\n",
       "</style>\n",
       "<table border=\"1\" class=\"dataframe\">\n",
       "  <thead>\n",
       "    <tr style=\"text-align: right;\">\n",
       "      <th></th>\n",
       "      <th>NP_type</th>\n",
       "      <th>Coating</th>\n",
       "      <th>core_size_nm</th>\n",
       "      <th>hydro_size_nm</th>\n",
       "      <th>Surf_charge_mV</th>\n",
       "      <th>Surface_area_m2_g</th>\n",
       "      <th>shape</th>\n",
       "      <th>Dose_microg_mL</th>\n",
       "      <th>Duration_h</th>\n",
       "      <th>Cell_name</th>\n",
       "      <th>Cell_species</th>\n",
       "      <th>cell_Organ</th>\n",
       "      <th>Cell_morphology</th>\n",
       "      <th>Cell_age</th>\n",
       "      <th>cell_type</th>\n",
       "      <th>sex</th>\n",
       "      <th>Assay</th>\n",
       "      <th>Test_indicator</th>\n",
       "      <th>nanomaterial_group</th>\n",
       "      <th>viability_class</th>\n",
       "    </tr>\n",
       "  </thead>\n",
       "  <tbody>\n",
       "    <tr>\n",
       "      <th>0</th>\n",
       "      <td>SWCNT</td>\n",
       "      <td>None</td>\n",
       "      <td>16.4</td>\n",
       "      <td>NaN</td>\n",
       "      <td>-9.72</td>\n",
       "      <td>NaN</td>\n",
       "      <td>Needle</td>\n",
       "      <td>200.0</td>\n",
       "      <td>24.0</td>\n",
       "      <td>A549</td>\n",
       "      <td>Human</td>\n",
       "      <td>Lung</td>\n",
       "      <td>Epithelial</td>\n",
       "      <td>Adult</td>\n",
       "      <td>cancer</td>\n",
       "      <td>male</td>\n",
       "      <td>MTS</td>\n",
       "      <td>TetrazoliumSalt</td>\n",
       "      <td>nanotubes</td>\n",
       "      <td>NonToxic</td>\n",
       "    </tr>\n",
       "    <tr>\n",
       "      <th>1</th>\n",
       "      <td>ZnO</td>\n",
       "      <td>None</td>\n",
       "      <td>100.0</td>\n",
       "      <td>258.55</td>\n",
       "      <td>-9.96</td>\n",
       "      <td>NaN</td>\n",
       "      <td>Sphere</td>\n",
       "      <td>80.0</td>\n",
       "      <td>24.0</td>\n",
       "      <td>SH­SY5Y</td>\n",
       "      <td>Human</td>\n",
       "      <td>BoneMarrow</td>\n",
       "      <td>Epithelial</td>\n",
       "      <td>Young</td>\n",
       "      <td>cancer</td>\n",
       "      <td>female</td>\n",
       "      <td>MTT</td>\n",
       "      <td>TetrazoliumSalt</td>\n",
       "      <td>meta_oxide</td>\n",
       "      <td>Toxic</td>\n",
       "    </tr>\n",
       "    <tr>\n",
       "      <th>2</th>\n",
       "      <td>SiO2</td>\n",
       "      <td>NH2</td>\n",
       "      <td>NaN</td>\n",
       "      <td>437.00</td>\n",
       "      <td>21.70</td>\n",
       "      <td>NaN</td>\n",
       "      <td>NaN</td>\n",
       "      <td>0.0</td>\n",
       "      <td>12.0</td>\n",
       "      <td>PC12</td>\n",
       "      <td>Rat</td>\n",
       "      <td>Adrenal-gland</td>\n",
       "      <td>Irregular</td>\n",
       "      <td>Adult</td>\n",
       "      <td>cancer</td>\n",
       "      <td>male</td>\n",
       "      <td>MTT</td>\n",
       "      <td>TetrazoliumSalt</td>\n",
       "      <td>meta_oxide</td>\n",
       "      <td>NonToxic</td>\n",
       "    </tr>\n",
       "    <tr>\n",
       "      <th>3</th>\n",
       "      <td>Ag</td>\n",
       "      <td>Citrate_based</td>\n",
       "      <td>50.0</td>\n",
       "      <td>NaN</td>\n",
       "      <td>-20.00</td>\n",
       "      <td>NaN</td>\n",
       "      <td>Sphere</td>\n",
       "      <td>12.5</td>\n",
       "      <td>24.0</td>\n",
       "      <td>HDF</td>\n",
       "      <td>Human</td>\n",
       "      <td>Skin</td>\n",
       "      <td>Fibroblast</td>\n",
       "      <td>Adult</td>\n",
       "      <td>Normal</td>\n",
       "      <td>NaN</td>\n",
       "      <td>MTS</td>\n",
       "      <td>TetrazoliumSalt</td>\n",
       "      <td>other</td>\n",
       "      <td>NonToxic</td>\n",
       "    </tr>\n",
       "    <tr>\n",
       "      <th>4</th>\n",
       "      <td>ZrO2</td>\n",
       "      <td>None</td>\n",
       "      <td>40.1</td>\n",
       "      <td>508.80</td>\n",
       "      <td>-14.85</td>\n",
       "      <td>NaN</td>\n",
       "      <td>Monoclinic</td>\n",
       "      <td>12.5</td>\n",
       "      <td>24.0</td>\n",
       "      <td>THP_1</td>\n",
       "      <td>Human</td>\n",
       "      <td>Blood</td>\n",
       "      <td>monocyte</td>\n",
       "      <td>neonate</td>\n",
       "      <td>cancer</td>\n",
       "      <td>male</td>\n",
       "      <td>MTS</td>\n",
       "      <td>TetrazoliumSalt</td>\n",
       "      <td>meta_oxide</td>\n",
       "      <td>NonToxic</td>\n",
       "    </tr>\n",
       "  </tbody>\n",
       "</table>\n",
       "</div>"
      ],
      "text/plain": [
       "  NP_type        Coating  core_size_nm  hydro_size_nm  Surf_charge_mV  \\\n",
       "0   SWCNT           None          16.4            NaN           -9.72   \n",
       "1     ZnO           None         100.0         258.55           -9.96   \n",
       "2    SiO2            NH2           NaN         437.00           21.70   \n",
       "3      Ag  Citrate_based          50.0            NaN          -20.00   \n",
       "4    ZrO2           None          40.1         508.80          -14.85   \n",
       "\n",
       "   Surface_area_m2_g       shape  Dose_microg_mL  Duration_h Cell_name  \\\n",
       "0                NaN      Needle           200.0        24.0      A549   \n",
       "1                NaN      Sphere            80.0        24.0   SH­SY5Y   \n",
       "2                NaN         NaN             0.0        12.0      PC12   \n",
       "3                NaN      Sphere            12.5        24.0       HDF   \n",
       "4                NaN  Monoclinic            12.5        24.0     THP_1   \n",
       "\n",
       "  Cell_species     cell_Organ Cell_morphology Cell_age cell_type     sex  \\\n",
       "0        Human           Lung      Epithelial    Adult    cancer    male   \n",
       "1        Human     BoneMarrow      Epithelial    Young    cancer  female   \n",
       "2          Rat  Adrenal-gland       Irregular    Adult    cancer    male   \n",
       "3        Human           Skin      Fibroblast    Adult    Normal     NaN   \n",
       "4        Human          Blood        monocyte  neonate    cancer    male   \n",
       "\n",
       "  Assay   Test_indicator nanomaterial_group viability_class  \n",
       "0   MTS  TetrazoliumSalt          nanotubes        NonToxic  \n",
       "1   MTT  TetrazoliumSalt         meta_oxide           Toxic  \n",
       "2   MTT  TetrazoliumSalt         meta_oxide        NonToxic  \n",
       "3   MTS  TetrazoliumSalt              other        NonToxic  \n",
       "4   MTS  TetrazoliumSalt         meta_oxide        NonToxic  "
      ]
     },
     "execution_count": 16,
     "metadata": {},
     "output_type": "execute_result"
    }
   ],
   "source": [
    "data_test_df.head()"
   ]
  },
  {
   "cell_type": "code",
   "execution_count": 17,
   "id": "c9e19bb8",
   "metadata": {},
   "outputs": [],
   "source": [
    "#data_test_df_clean = data_test_df.dropna(thresh=data_test_df.shape[1]-3, axis=0)\n",
    "#print(data_test_df_clean.shape)"
   ]
  },
  {
   "cell_type": "markdown",
   "id": "cffe023c-bf03-4ba8-a278-8b1261da6572",
   "metadata": {},
   "source": [
    "### Use the best scenario identified in step 01"
   ]
  },
  {
   "cell_type": "code",
   "execution_count": 18,
   "id": "2cf8d7ef",
   "metadata": {},
   "outputs": [],
   "source": [
    "sc_ignore_features = None\n",
    "sc_bin_numeric_features = None\n",
    "sc_high_cardinality_features = None\n",
    "\n",
    "sc_imputation_type = 'simple'\n",
    "sc_numeric_imputation = 'mean'\n",
    "\n",
    "sc_normalize = True\n",
    "sc_remove_outliers = False"
   ]
  },
  {
   "cell_type": "markdown",
   "id": "eb0fb96c",
   "metadata": {},
   "source": [
    "### Define seeds"
   ]
  },
  {
   "cell_type": "code",
   "execution_count": 19,
   "id": "7db1802e",
   "metadata": {},
   "outputs": [],
   "source": [
    "cv_inner_seed = 834\n",
    "cv_outer_seed = 123"
   ]
  },
  {
   "cell_type": "markdown",
   "id": "b866744f",
   "metadata": {},
   "source": [
    "### The Universal Classification Model: Data Preprcoessing"
   ]
  },
  {
   "cell_type": "code",
   "execution_count": 20,
   "id": "cb2a02f9",
   "metadata": {},
   "outputs": [
    {
     "data": {
      "text/html": [
       "<style type=\"text/css\">\n",
       "#T_56dd3_row5_col1, #T_56dd3_row29_col1, #T_56dd3_row36_col1, #T_56dd3_row44_col1, #T_56dd3_row58_col1 {\n",
       "  background-color: lightgreen;\n",
       "}\n",
       "</style>\n",
       "<table id=\"T_56dd3\">\n",
       "  <thead>\n",
       "    <tr>\n",
       "      <th class=\"blank level0\" >&nbsp;</th>\n",
       "      <th id=\"T_56dd3_level0_col0\" class=\"col_heading level0 col0\" >Description</th>\n",
       "      <th id=\"T_56dd3_level0_col1\" class=\"col_heading level0 col1\" >Value</th>\n",
       "    </tr>\n",
       "  </thead>\n",
       "  <tbody>\n",
       "    <tr>\n",
       "      <th id=\"T_56dd3_level0_row0\" class=\"row_heading level0 row0\" >0</th>\n",
       "      <td id=\"T_56dd3_row0_col0\" class=\"data row0 col0\" >session_id</td>\n",
       "      <td id=\"T_56dd3_row0_col1\" class=\"data row0 col1\" >834</td>\n",
       "    </tr>\n",
       "    <tr>\n",
       "      <th id=\"T_56dd3_level0_row1\" class=\"row_heading level0 row1\" >1</th>\n",
       "      <td id=\"T_56dd3_row1_col0\" class=\"data row1 col0\" >Target</td>\n",
       "      <td id=\"T_56dd3_row1_col1\" class=\"data row1 col1\" >viability_class</td>\n",
       "    </tr>\n",
       "    <tr>\n",
       "      <th id=\"T_56dd3_level0_row2\" class=\"row_heading level0 row2\" >2</th>\n",
       "      <td id=\"T_56dd3_row2_col0\" class=\"data row2 col0\" >Target Type</td>\n",
       "      <td id=\"T_56dd3_row2_col1\" class=\"data row2 col1\" >Binary</td>\n",
       "    </tr>\n",
       "    <tr>\n",
       "      <th id=\"T_56dd3_level0_row3\" class=\"row_heading level0 row3\" >3</th>\n",
       "      <td id=\"T_56dd3_row3_col0\" class=\"data row3 col0\" >Label Encoded</td>\n",
       "      <td id=\"T_56dd3_row3_col1\" class=\"data row3 col1\" >NonToxic: 0, Toxic: 1</td>\n",
       "    </tr>\n",
       "    <tr>\n",
       "      <th id=\"T_56dd3_level0_row4\" class=\"row_heading level0 row4\" >4</th>\n",
       "      <td id=\"T_56dd3_row4_col0\" class=\"data row4 col0\" >Original Data</td>\n",
       "      <td id=\"T_56dd3_row4_col1\" class=\"data row4 col1\" >(3724, 20)</td>\n",
       "    </tr>\n",
       "    <tr>\n",
       "      <th id=\"T_56dd3_level0_row5\" class=\"row_heading level0 row5\" >5</th>\n",
       "      <td id=\"T_56dd3_row5_col0\" class=\"data row5 col0\" >Missing Values</td>\n",
       "      <td id=\"T_56dd3_row5_col1\" class=\"data row5 col1\" >True</td>\n",
       "    </tr>\n",
       "    <tr>\n",
       "      <th id=\"T_56dd3_level0_row6\" class=\"row_heading level0 row6\" >6</th>\n",
       "      <td id=\"T_56dd3_row6_col0\" class=\"data row6 col0\" >Numeric Features</td>\n",
       "      <td id=\"T_56dd3_row6_col1\" class=\"data row6 col1\" >5</td>\n",
       "    </tr>\n",
       "    <tr>\n",
       "      <th id=\"T_56dd3_level0_row7\" class=\"row_heading level0 row7\" >7</th>\n",
       "      <td id=\"T_56dd3_row7_col0\" class=\"data row7 col0\" >Categorical Features</td>\n",
       "      <td id=\"T_56dd3_row7_col1\" class=\"data row7 col1\" >14</td>\n",
       "    </tr>\n",
       "    <tr>\n",
       "      <th id=\"T_56dd3_level0_row8\" class=\"row_heading level0 row8\" >8</th>\n",
       "      <td id=\"T_56dd3_row8_col0\" class=\"data row8 col0\" >Ordinal Features</td>\n",
       "      <td id=\"T_56dd3_row8_col1\" class=\"data row8 col1\" >False</td>\n",
       "    </tr>\n",
       "    <tr>\n",
       "      <th id=\"T_56dd3_level0_row9\" class=\"row_heading level0 row9\" >9</th>\n",
       "      <td id=\"T_56dd3_row9_col0\" class=\"data row9 col0\" >High Cardinality Features</td>\n",
       "      <td id=\"T_56dd3_row9_col1\" class=\"data row9 col1\" >False</td>\n",
       "    </tr>\n",
       "    <tr>\n",
       "      <th id=\"T_56dd3_level0_row10\" class=\"row_heading level0 row10\" >10</th>\n",
       "      <td id=\"T_56dd3_row10_col0\" class=\"data row10 col0\" >High Cardinality Method</td>\n",
       "      <td id=\"T_56dd3_row10_col1\" class=\"data row10 col1\" >None</td>\n",
       "    </tr>\n",
       "    <tr>\n",
       "      <th id=\"T_56dd3_level0_row11\" class=\"row_heading level0 row11\" >11</th>\n",
       "      <td id=\"T_56dd3_row11_col0\" class=\"data row11 col0\" >Transformed Train Set</td>\n",
       "      <td id=\"T_56dd3_row11_col1\" class=\"data row11 col1\" >(3724, 258)</td>\n",
       "    </tr>\n",
       "    <tr>\n",
       "      <th id=\"T_56dd3_level0_row12\" class=\"row_heading level0 row12\" >12</th>\n",
       "      <td id=\"T_56dd3_row12_col0\" class=\"data row12 col0\" >Transformed Test Set</td>\n",
       "      <td id=\"T_56dd3_row12_col1\" class=\"data row12 col1\" >(932, 258)</td>\n",
       "    </tr>\n",
       "    <tr>\n",
       "      <th id=\"T_56dd3_level0_row13\" class=\"row_heading level0 row13\" >13</th>\n",
       "      <td id=\"T_56dd3_row13_col0\" class=\"data row13 col0\" >Shuffle Train-Test</td>\n",
       "      <td id=\"T_56dd3_row13_col1\" class=\"data row13 col1\" >True</td>\n",
       "    </tr>\n",
       "    <tr>\n",
       "      <th id=\"T_56dd3_level0_row14\" class=\"row_heading level0 row14\" >14</th>\n",
       "      <td id=\"T_56dd3_row14_col0\" class=\"data row14 col0\" >Stratify Train-Test</td>\n",
       "      <td id=\"T_56dd3_row14_col1\" class=\"data row14 col1\" >False</td>\n",
       "    </tr>\n",
       "    <tr>\n",
       "      <th id=\"T_56dd3_level0_row15\" class=\"row_heading level0 row15\" >15</th>\n",
       "      <td id=\"T_56dd3_row15_col0\" class=\"data row15 col0\" >Fold Generator</td>\n",
       "      <td id=\"T_56dd3_row15_col1\" class=\"data row15 col1\" >StratifiedKFold</td>\n",
       "    </tr>\n",
       "    <tr>\n",
       "      <th id=\"T_56dd3_level0_row16\" class=\"row_heading level0 row16\" >16</th>\n",
       "      <td id=\"T_56dd3_row16_col0\" class=\"data row16 col0\" >Fold Number</td>\n",
       "      <td id=\"T_56dd3_row16_col1\" class=\"data row16 col1\" >5</td>\n",
       "    </tr>\n",
       "    <tr>\n",
       "      <th id=\"T_56dd3_level0_row17\" class=\"row_heading level0 row17\" >17</th>\n",
       "      <td id=\"T_56dd3_row17_col0\" class=\"data row17 col0\" >CPU Jobs</td>\n",
       "      <td id=\"T_56dd3_row17_col1\" class=\"data row17 col1\" >-1</td>\n",
       "    </tr>\n",
       "    <tr>\n",
       "      <th id=\"T_56dd3_level0_row18\" class=\"row_heading level0 row18\" >18</th>\n",
       "      <td id=\"T_56dd3_row18_col0\" class=\"data row18 col0\" >Use GPU</td>\n",
       "      <td id=\"T_56dd3_row18_col1\" class=\"data row18 col1\" >False</td>\n",
       "    </tr>\n",
       "    <tr>\n",
       "      <th id=\"T_56dd3_level0_row19\" class=\"row_heading level0 row19\" >19</th>\n",
       "      <td id=\"T_56dd3_row19_col0\" class=\"data row19 col0\" >Log Experiment</td>\n",
       "      <td id=\"T_56dd3_row19_col1\" class=\"data row19 col1\" >False</td>\n",
       "    </tr>\n",
       "    <tr>\n",
       "      <th id=\"T_56dd3_level0_row20\" class=\"row_heading level0 row20\" >20</th>\n",
       "      <td id=\"T_56dd3_row20_col0\" class=\"data row20 col0\" >Experiment Name</td>\n",
       "      <td id=\"T_56dd3_row20_col1\" class=\"data row20 col1\" >universal</td>\n",
       "    </tr>\n",
       "    <tr>\n",
       "      <th id=\"T_56dd3_level0_row21\" class=\"row_heading level0 row21\" >21</th>\n",
       "      <td id=\"T_56dd3_row21_col0\" class=\"data row21 col0\" >USI</td>\n",
       "      <td id=\"T_56dd3_row21_col1\" class=\"data row21 col1\" >d046</td>\n",
       "    </tr>\n",
       "    <tr>\n",
       "      <th id=\"T_56dd3_level0_row22\" class=\"row_heading level0 row22\" >22</th>\n",
       "      <td id=\"T_56dd3_row22_col0\" class=\"data row22 col0\" >Imputation Type</td>\n",
       "      <td id=\"T_56dd3_row22_col1\" class=\"data row22 col1\" >simple</td>\n",
       "    </tr>\n",
       "    <tr>\n",
       "      <th id=\"T_56dd3_level0_row23\" class=\"row_heading level0 row23\" >23</th>\n",
       "      <td id=\"T_56dd3_row23_col0\" class=\"data row23 col0\" >Iterative Imputation Iteration</td>\n",
       "      <td id=\"T_56dd3_row23_col1\" class=\"data row23 col1\" >None</td>\n",
       "    </tr>\n",
       "    <tr>\n",
       "      <th id=\"T_56dd3_level0_row24\" class=\"row_heading level0 row24\" >24</th>\n",
       "      <td id=\"T_56dd3_row24_col0\" class=\"data row24 col0\" >Numeric Imputer</td>\n",
       "      <td id=\"T_56dd3_row24_col1\" class=\"data row24 col1\" >mean</td>\n",
       "    </tr>\n",
       "    <tr>\n",
       "      <th id=\"T_56dd3_level0_row25\" class=\"row_heading level0 row25\" >25</th>\n",
       "      <td id=\"T_56dd3_row25_col0\" class=\"data row25 col0\" >Iterative Imputation Numeric Model</td>\n",
       "      <td id=\"T_56dd3_row25_col1\" class=\"data row25 col1\" >None</td>\n",
       "    </tr>\n",
       "    <tr>\n",
       "      <th id=\"T_56dd3_level0_row26\" class=\"row_heading level0 row26\" >26</th>\n",
       "      <td id=\"T_56dd3_row26_col0\" class=\"data row26 col0\" >Categorical Imputer</td>\n",
       "      <td id=\"T_56dd3_row26_col1\" class=\"data row26 col1\" >constant</td>\n",
       "    </tr>\n",
       "    <tr>\n",
       "      <th id=\"T_56dd3_level0_row27\" class=\"row_heading level0 row27\" >27</th>\n",
       "      <td id=\"T_56dd3_row27_col0\" class=\"data row27 col0\" >Iterative Imputation Categorical Model</td>\n",
       "      <td id=\"T_56dd3_row27_col1\" class=\"data row27 col1\" >None</td>\n",
       "    </tr>\n",
       "    <tr>\n",
       "      <th id=\"T_56dd3_level0_row28\" class=\"row_heading level0 row28\" >28</th>\n",
       "      <td id=\"T_56dd3_row28_col0\" class=\"data row28 col0\" >Unknown Categoricals Handling</td>\n",
       "      <td id=\"T_56dd3_row28_col1\" class=\"data row28 col1\" >least_frequent</td>\n",
       "    </tr>\n",
       "    <tr>\n",
       "      <th id=\"T_56dd3_level0_row29\" class=\"row_heading level0 row29\" >29</th>\n",
       "      <td id=\"T_56dd3_row29_col0\" class=\"data row29 col0\" >Normalize</td>\n",
       "      <td id=\"T_56dd3_row29_col1\" class=\"data row29 col1\" >True</td>\n",
       "    </tr>\n",
       "    <tr>\n",
       "      <th id=\"T_56dd3_level0_row30\" class=\"row_heading level0 row30\" >30</th>\n",
       "      <td id=\"T_56dd3_row30_col0\" class=\"data row30 col0\" >Normalize Method</td>\n",
       "      <td id=\"T_56dd3_row30_col1\" class=\"data row30 col1\" >zscore</td>\n",
       "    </tr>\n",
       "    <tr>\n",
       "      <th id=\"T_56dd3_level0_row31\" class=\"row_heading level0 row31\" >31</th>\n",
       "      <td id=\"T_56dd3_row31_col0\" class=\"data row31 col0\" >Transformation</td>\n",
       "      <td id=\"T_56dd3_row31_col1\" class=\"data row31 col1\" >False</td>\n",
       "    </tr>\n",
       "    <tr>\n",
       "      <th id=\"T_56dd3_level0_row32\" class=\"row_heading level0 row32\" >32</th>\n",
       "      <td id=\"T_56dd3_row32_col0\" class=\"data row32 col0\" >Transformation Method</td>\n",
       "      <td id=\"T_56dd3_row32_col1\" class=\"data row32 col1\" >None</td>\n",
       "    </tr>\n",
       "    <tr>\n",
       "      <th id=\"T_56dd3_level0_row33\" class=\"row_heading level0 row33\" >33</th>\n",
       "      <td id=\"T_56dd3_row33_col0\" class=\"data row33 col0\" >PCA</td>\n",
       "      <td id=\"T_56dd3_row33_col1\" class=\"data row33 col1\" >False</td>\n",
       "    </tr>\n",
       "    <tr>\n",
       "      <th id=\"T_56dd3_level0_row34\" class=\"row_heading level0 row34\" >34</th>\n",
       "      <td id=\"T_56dd3_row34_col0\" class=\"data row34 col0\" >PCA Method</td>\n",
       "      <td id=\"T_56dd3_row34_col1\" class=\"data row34 col1\" >None</td>\n",
       "    </tr>\n",
       "    <tr>\n",
       "      <th id=\"T_56dd3_level0_row35\" class=\"row_heading level0 row35\" >35</th>\n",
       "      <td id=\"T_56dd3_row35_col0\" class=\"data row35 col0\" >PCA Components</td>\n",
       "      <td id=\"T_56dd3_row35_col1\" class=\"data row35 col1\" >None</td>\n",
       "    </tr>\n",
       "    <tr>\n",
       "      <th id=\"T_56dd3_level0_row36\" class=\"row_heading level0 row36\" >36</th>\n",
       "      <td id=\"T_56dd3_row36_col0\" class=\"data row36 col0\" >Ignore Low Variance</td>\n",
       "      <td id=\"T_56dd3_row36_col1\" class=\"data row36 col1\" >True</td>\n",
       "    </tr>\n",
       "    <tr>\n",
       "      <th id=\"T_56dd3_level0_row37\" class=\"row_heading level0 row37\" >37</th>\n",
       "      <td id=\"T_56dd3_row37_col0\" class=\"data row37 col0\" >Combine Rare Levels</td>\n",
       "      <td id=\"T_56dd3_row37_col1\" class=\"data row37 col1\" >False</td>\n",
       "    </tr>\n",
       "    <tr>\n",
       "      <th id=\"T_56dd3_level0_row38\" class=\"row_heading level0 row38\" >38</th>\n",
       "      <td id=\"T_56dd3_row38_col0\" class=\"data row38 col0\" >Rare Level Threshold</td>\n",
       "      <td id=\"T_56dd3_row38_col1\" class=\"data row38 col1\" >None</td>\n",
       "    </tr>\n",
       "    <tr>\n",
       "      <th id=\"T_56dd3_level0_row39\" class=\"row_heading level0 row39\" >39</th>\n",
       "      <td id=\"T_56dd3_row39_col0\" class=\"data row39 col0\" >Numeric Binning</td>\n",
       "      <td id=\"T_56dd3_row39_col1\" class=\"data row39 col1\" >False</td>\n",
       "    </tr>\n",
       "    <tr>\n",
       "      <th id=\"T_56dd3_level0_row40\" class=\"row_heading level0 row40\" >40</th>\n",
       "      <td id=\"T_56dd3_row40_col0\" class=\"data row40 col0\" >Remove Outliers</td>\n",
       "      <td id=\"T_56dd3_row40_col1\" class=\"data row40 col1\" >False</td>\n",
       "    </tr>\n",
       "    <tr>\n",
       "      <th id=\"T_56dd3_level0_row41\" class=\"row_heading level0 row41\" >41</th>\n",
       "      <td id=\"T_56dd3_row41_col0\" class=\"data row41 col0\" >Outliers Threshold</td>\n",
       "      <td id=\"T_56dd3_row41_col1\" class=\"data row41 col1\" >None</td>\n",
       "    </tr>\n",
       "    <tr>\n",
       "      <th id=\"T_56dd3_level0_row42\" class=\"row_heading level0 row42\" >42</th>\n",
       "      <td id=\"T_56dd3_row42_col0\" class=\"data row42 col0\" >Remove Multicollinearity</td>\n",
       "      <td id=\"T_56dd3_row42_col1\" class=\"data row42 col1\" >False</td>\n",
       "    </tr>\n",
       "    <tr>\n",
       "      <th id=\"T_56dd3_level0_row43\" class=\"row_heading level0 row43\" >43</th>\n",
       "      <td id=\"T_56dd3_row43_col0\" class=\"data row43 col0\" >Multicollinearity Threshold</td>\n",
       "      <td id=\"T_56dd3_row43_col1\" class=\"data row43 col1\" >None</td>\n",
       "    </tr>\n",
       "    <tr>\n",
       "      <th id=\"T_56dd3_level0_row44\" class=\"row_heading level0 row44\" >44</th>\n",
       "      <td id=\"T_56dd3_row44_col0\" class=\"data row44 col0\" >Remove Perfect Collinearity</td>\n",
       "      <td id=\"T_56dd3_row44_col1\" class=\"data row44 col1\" >True</td>\n",
       "    </tr>\n",
       "    <tr>\n",
       "      <th id=\"T_56dd3_level0_row45\" class=\"row_heading level0 row45\" >45</th>\n",
       "      <td id=\"T_56dd3_row45_col0\" class=\"data row45 col0\" >Clustering</td>\n",
       "      <td id=\"T_56dd3_row45_col1\" class=\"data row45 col1\" >False</td>\n",
       "    </tr>\n",
       "    <tr>\n",
       "      <th id=\"T_56dd3_level0_row46\" class=\"row_heading level0 row46\" >46</th>\n",
       "      <td id=\"T_56dd3_row46_col0\" class=\"data row46 col0\" >Clustering Iteration</td>\n",
       "      <td id=\"T_56dd3_row46_col1\" class=\"data row46 col1\" >None</td>\n",
       "    </tr>\n",
       "    <tr>\n",
       "      <th id=\"T_56dd3_level0_row47\" class=\"row_heading level0 row47\" >47</th>\n",
       "      <td id=\"T_56dd3_row47_col0\" class=\"data row47 col0\" >Polynomial Features</td>\n",
       "      <td id=\"T_56dd3_row47_col1\" class=\"data row47 col1\" >False</td>\n",
       "    </tr>\n",
       "    <tr>\n",
       "      <th id=\"T_56dd3_level0_row48\" class=\"row_heading level0 row48\" >48</th>\n",
       "      <td id=\"T_56dd3_row48_col0\" class=\"data row48 col0\" >Polynomial Degree</td>\n",
       "      <td id=\"T_56dd3_row48_col1\" class=\"data row48 col1\" >None</td>\n",
       "    </tr>\n",
       "    <tr>\n",
       "      <th id=\"T_56dd3_level0_row49\" class=\"row_heading level0 row49\" >49</th>\n",
       "      <td id=\"T_56dd3_row49_col0\" class=\"data row49 col0\" >Trignometry Features</td>\n",
       "      <td id=\"T_56dd3_row49_col1\" class=\"data row49 col1\" >False</td>\n",
       "    </tr>\n",
       "    <tr>\n",
       "      <th id=\"T_56dd3_level0_row50\" class=\"row_heading level0 row50\" >50</th>\n",
       "      <td id=\"T_56dd3_row50_col0\" class=\"data row50 col0\" >Polynomial Threshold</td>\n",
       "      <td id=\"T_56dd3_row50_col1\" class=\"data row50 col1\" >None</td>\n",
       "    </tr>\n",
       "    <tr>\n",
       "      <th id=\"T_56dd3_level0_row51\" class=\"row_heading level0 row51\" >51</th>\n",
       "      <td id=\"T_56dd3_row51_col0\" class=\"data row51 col0\" >Group Features</td>\n",
       "      <td id=\"T_56dd3_row51_col1\" class=\"data row51 col1\" >False</td>\n",
       "    </tr>\n",
       "    <tr>\n",
       "      <th id=\"T_56dd3_level0_row52\" class=\"row_heading level0 row52\" >52</th>\n",
       "      <td id=\"T_56dd3_row52_col0\" class=\"data row52 col0\" >Feature Selection</td>\n",
       "      <td id=\"T_56dd3_row52_col1\" class=\"data row52 col1\" >False</td>\n",
       "    </tr>\n",
       "    <tr>\n",
       "      <th id=\"T_56dd3_level0_row53\" class=\"row_heading level0 row53\" >53</th>\n",
       "      <td id=\"T_56dd3_row53_col0\" class=\"data row53 col0\" >Feature Selection Method</td>\n",
       "      <td id=\"T_56dd3_row53_col1\" class=\"data row53 col1\" >classic</td>\n",
       "    </tr>\n",
       "    <tr>\n",
       "      <th id=\"T_56dd3_level0_row54\" class=\"row_heading level0 row54\" >54</th>\n",
       "      <td id=\"T_56dd3_row54_col0\" class=\"data row54 col0\" >Features Selection Threshold</td>\n",
       "      <td id=\"T_56dd3_row54_col1\" class=\"data row54 col1\" >None</td>\n",
       "    </tr>\n",
       "    <tr>\n",
       "      <th id=\"T_56dd3_level0_row55\" class=\"row_heading level0 row55\" >55</th>\n",
       "      <td id=\"T_56dd3_row55_col0\" class=\"data row55 col0\" >Feature Interaction</td>\n",
       "      <td id=\"T_56dd3_row55_col1\" class=\"data row55 col1\" >False</td>\n",
       "    </tr>\n",
       "    <tr>\n",
       "      <th id=\"T_56dd3_level0_row56\" class=\"row_heading level0 row56\" >56</th>\n",
       "      <td id=\"T_56dd3_row56_col0\" class=\"data row56 col0\" >Feature Ratio</td>\n",
       "      <td id=\"T_56dd3_row56_col1\" class=\"data row56 col1\" >False</td>\n",
       "    </tr>\n",
       "    <tr>\n",
       "      <th id=\"T_56dd3_level0_row57\" class=\"row_heading level0 row57\" >57</th>\n",
       "      <td id=\"T_56dd3_row57_col0\" class=\"data row57 col0\" >Interaction Threshold</td>\n",
       "      <td id=\"T_56dd3_row57_col1\" class=\"data row57 col1\" >None</td>\n",
       "    </tr>\n",
       "    <tr>\n",
       "      <th id=\"T_56dd3_level0_row58\" class=\"row_heading level0 row58\" >58</th>\n",
       "      <td id=\"T_56dd3_row58_col0\" class=\"data row58 col0\" >Fix Imbalance</td>\n",
       "      <td id=\"T_56dd3_row58_col1\" class=\"data row58 col1\" >True</td>\n",
       "    </tr>\n",
       "    <tr>\n",
       "      <th id=\"T_56dd3_level0_row59\" class=\"row_heading level0 row59\" >59</th>\n",
       "      <td id=\"T_56dd3_row59_col0\" class=\"data row59 col0\" >Fix Imbalance Method</td>\n",
       "      <td id=\"T_56dd3_row59_col1\" class=\"data row59 col1\" >SMOTE</td>\n",
       "    </tr>\n",
       "  </tbody>\n",
       "</table>\n"
      ],
      "text/plain": [
       "<pandas.io.formats.style.Styler at 0x7f0c36036b50>"
      ]
     },
     "metadata": {},
     "output_type": "display_data"
    }
   ],
   "source": [
    "stup = setup(data = data_train_df, target = 'viability_class', \n",
    "              \n",
    "        test_data = data_test_df,\n",
    "\n",
    "        imputation_type = sc_imputation_type, \n",
    "        numeric_imputation = sc_numeric_imputation, #default: mean\n",
    "\n",
    "        ignore_features = sc_ignore_features,\n",
    "        bin_numeric_features = sc_bin_numeric_features,\n",
    "        high_cardinality_features = sc_high_cardinality_features,\n",
    "\n",
    "        normalize = sc_normalize, #default: False\n",
    "        remove_outliers= sc_remove_outliers, #default: False\n",
    "\n",
    "        transformation= False, #default\n",
    "        transformation_method = 'yeo-johnson', #default\n",
    "        combine_rare_levels = False,\n",
    "        rare_level_threshold = 0.1, #default: 0.1\n",
    "\n",
    "        remove_multicollinearity = False, #default \n",
    "        multicollinearity_threshold = 0.9, #default\n",
    "\n",
    "        ignore_low_variance = True, \n",
    "\n",
    "        feature_interaction = False, \n",
    "        feature_ratio = False,\n",
    "        polynomial_features = False, \n",
    "        trigonometry_features = False,\n",
    "\n",
    "        fix_imbalance = True,\n",
    "        fold = 5,\n",
    "\n",
    "        # don't change the following\n",
    "        session_id = cv_inner_seed,\n",
    "        use_gpu=False,\n",
    "        log_experiment = False,\n",
    "        silent=True,\n",
    "        experiment_name = 'universal')\n",
    "\n",
    "set_config('seed', cv_inner_seed)"
   ]
  },
  {
   "cell_type": "code",
   "execution_count": 21,
   "id": "ebe27ee8",
   "metadata": {},
   "outputs": [
    {
     "name": "stdout",
     "output_type": "stream",
     "text": [
      "(3724, 258)\n",
      "(3724,)\n"
     ]
    }
   ],
   "source": [
    "print(get_config(variable=\"X_train\").shape)\n",
    "print(get_config(variable=\"y_train\").shape)"
   ]
  },
  {
   "cell_type": "code",
   "execution_count": 22,
   "id": "34f3d922",
   "metadata": {},
   "outputs": [
    {
     "name": "stdout",
     "output_type": "stream",
     "text": [
      "(3724, 258)\n",
      "(3724,)\n"
     ]
    }
   ],
   "source": [
    "print(get_config(variable=\"X\").shape)\n",
    "print(get_config(variable=\"y\").shape)"
   ]
  },
  {
   "cell_type": "code",
   "execution_count": 23,
   "id": "f8e4ec4d",
   "metadata": {},
   "outputs": [],
   "source": [
    "#set_config('X_train', get_config(variable=\"X\").copy()) \n",
    "#set_config('y_train', get_config(variable=\"y\").copy()) \n",
    "#print(get_config(variable=\"X_train\").shape)\n",
    "#print(get_config(variable=\"y_train\").shape)"
   ]
  },
  {
   "cell_type": "code",
   "execution_count": 24,
   "id": "1b417175",
   "metadata": {},
   "outputs": [
    {
     "name": "stdout",
     "output_type": "stream",
     "text": [
      "(932, 258)\n",
      "(932,)\n"
     ]
    }
   ],
   "source": [
    "print(get_config(variable=\"X_test\").shape)\n",
    "print(get_config(variable=\"y_test\").shape)"
   ]
  },
  {
   "cell_type": "code",
   "execution_count": 25,
   "id": "e4387c1e",
   "metadata": {},
   "outputs": [],
   "source": [
    "#load_config('output/models/universal_classification_config.cfg')"
   ]
  },
  {
   "cell_type": "code",
   "execution_count": 26,
   "id": "6fff2182",
   "metadata": {},
   "outputs": [],
   "source": [
    "data_train_transformed_df = get_config(variable=\"X\").copy()\n",
    "data_train_transformed_df['Viability'] = get_config(variable=\"y\").copy()"
   ]
  },
  {
   "cell_type": "code",
   "execution_count": 27,
   "id": "cf253b28",
   "metadata": {},
   "outputs": [],
   "source": [
    "data_test_transformed_df = get_config(variable=\"X_test\").copy()\n",
    "data_test_transformed_df['Viability'] = get_config(variable=\"y_test\").copy()"
   ]
  },
  {
   "cell_type": "code",
   "execution_count": 28,
   "id": "43f293b7",
   "metadata": {},
   "outputs": [],
   "source": [
    "data_train_transformed_df.to_csv('output/datasets/universal/transformed/data_classification_train_transformed_df.csv', encoding='utf-8', index=False)\n",
    "data_test_transformed_df.to_csv('output/datasets/universal/transformed/data_classification_test_transformed_df.csv', encoding='utf-8', index=False)"
   ]
  },
  {
   "cell_type": "markdown",
   "id": "fe54e2d4",
   "metadata": {},
   "source": [
    "## Double cross-validation"
   ]
  },
  {
   "cell_type": "markdown",
   "id": "9db53e62",
   "metadata": {},
   "source": [
    "### Inner CV: 5-fold cross-validation for model selection / hyperparameter tuning for 7 models"
   ]
  },
  {
   "cell_type": "code",
   "execution_count": 29,
   "id": "8922c9c0",
   "metadata": {},
   "outputs": [],
   "source": [
    "model_names = ['lr', 'knn', 'svm', 'rf', 'et', 'gbc', 'lightgbm']"
   ]
  },
  {
   "cell_type": "code",
   "execution_count": 30,
   "id": "69c30960",
   "metadata": {},
   "outputs": [],
   "source": [
    "inner_results = dict()\n",
    "inner_results_tuned = dict()\n",
    "outer_results = dict()\n",
    "predicted_results = dict()\n",
    "tuned_models = dict()\n",
    "final_models = dict()"
   ]
  },
  {
   "cell_type": "code",
   "execution_count": 31,
   "id": "c2a73417",
   "metadata": {},
   "outputs": [
    {
     "data": {
      "text/html": [
       "<style type=\"text/css\">\n",
       "#T_b45a4_row5_col0, #T_b45a4_row5_col1, #T_b45a4_row5_col2, #T_b45a4_row5_col3, #T_b45a4_row5_col4, #T_b45a4_row5_col5, #T_b45a4_row5_col6 {\n",
       "  background: yellow;\n",
       "}\n",
       "</style>\n",
       "<table id=\"T_b45a4\">\n",
       "  <thead>\n",
       "    <tr>\n",
       "      <th class=\"blank level0\" >&nbsp;</th>\n",
       "      <th id=\"T_b45a4_level0_col0\" class=\"col_heading level0 col0\" >Accuracy</th>\n",
       "      <th id=\"T_b45a4_level0_col1\" class=\"col_heading level0 col1\" >AUC</th>\n",
       "      <th id=\"T_b45a4_level0_col2\" class=\"col_heading level0 col2\" >Recall</th>\n",
       "      <th id=\"T_b45a4_level0_col3\" class=\"col_heading level0 col3\" >Prec.</th>\n",
       "      <th id=\"T_b45a4_level0_col4\" class=\"col_heading level0 col4\" >F1</th>\n",
       "      <th id=\"T_b45a4_level0_col5\" class=\"col_heading level0 col5\" >Kappa</th>\n",
       "      <th id=\"T_b45a4_level0_col6\" class=\"col_heading level0 col6\" >MCC</th>\n",
       "    </tr>\n",
       "    <tr>\n",
       "      <th class=\"index_name level0\" >Fold</th>\n",
       "      <th class=\"blank col0\" >&nbsp;</th>\n",
       "      <th class=\"blank col1\" >&nbsp;</th>\n",
       "      <th class=\"blank col2\" >&nbsp;</th>\n",
       "      <th class=\"blank col3\" >&nbsp;</th>\n",
       "      <th class=\"blank col4\" >&nbsp;</th>\n",
       "      <th class=\"blank col5\" >&nbsp;</th>\n",
       "      <th class=\"blank col6\" >&nbsp;</th>\n",
       "    </tr>\n",
       "  </thead>\n",
       "  <tbody>\n",
       "    <tr>\n",
       "      <th id=\"T_b45a4_level0_row0\" class=\"row_heading level0 row0\" >0</th>\n",
       "      <td id=\"T_b45a4_row0_col0\" class=\"data row0 col0\" >0.92</td>\n",
       "      <td id=\"T_b45a4_row0_col1\" class=\"data row0 col1\" >0.95</td>\n",
       "      <td id=\"T_b45a4_row0_col2\" class=\"data row0 col2\" >0.81</td>\n",
       "      <td id=\"T_b45a4_row0_col3\" class=\"data row0 col3\" >0.81</td>\n",
       "      <td id=\"T_b45a4_row0_col4\" class=\"data row0 col4\" >0.81</td>\n",
       "      <td id=\"T_b45a4_row0_col5\" class=\"data row0 col5\" >0.76</td>\n",
       "      <td id=\"T_b45a4_row0_col6\" class=\"data row0 col6\" >0.76</td>\n",
       "    </tr>\n",
       "    <tr>\n",
       "      <th id=\"T_b45a4_level0_row1\" class=\"row_heading level0 row1\" >1</th>\n",
       "      <td id=\"T_b45a4_row1_col0\" class=\"data row1 col0\" >0.92</td>\n",
       "      <td id=\"T_b45a4_row1_col1\" class=\"data row1 col1\" >0.96</td>\n",
       "      <td id=\"T_b45a4_row1_col2\" class=\"data row1 col2\" >0.77</td>\n",
       "      <td id=\"T_b45a4_row1_col3\" class=\"data row1 col3\" >0.82</td>\n",
       "      <td id=\"T_b45a4_row1_col4\" class=\"data row1 col4\" >0.79</td>\n",
       "      <td id=\"T_b45a4_row1_col5\" class=\"data row1 col5\" >0.74</td>\n",
       "      <td id=\"T_b45a4_row1_col6\" class=\"data row1 col6\" >0.74</td>\n",
       "    </tr>\n",
       "    <tr>\n",
       "      <th id=\"T_b45a4_level0_row2\" class=\"row_heading level0 row2\" >2</th>\n",
       "      <td id=\"T_b45a4_row2_col0\" class=\"data row2 col0\" >0.93</td>\n",
       "      <td id=\"T_b45a4_row2_col1\" class=\"data row2 col1\" >0.96</td>\n",
       "      <td id=\"T_b45a4_row2_col2\" class=\"data row2 col2\" >0.78</td>\n",
       "      <td id=\"T_b45a4_row2_col3\" class=\"data row2 col3\" >0.86</td>\n",
       "      <td id=\"T_b45a4_row2_col4\" class=\"data row2 col4\" >0.82</td>\n",
       "      <td id=\"T_b45a4_row2_col5\" class=\"data row2 col5\" >0.77</td>\n",
       "      <td id=\"T_b45a4_row2_col6\" class=\"data row2 col6\" >0.77</td>\n",
       "    </tr>\n",
       "    <tr>\n",
       "      <th id=\"T_b45a4_level0_row3\" class=\"row_heading level0 row3\" >3</th>\n",
       "      <td id=\"T_b45a4_row3_col0\" class=\"data row3 col0\" >0.91</td>\n",
       "      <td id=\"T_b45a4_row3_col1\" class=\"data row3 col1\" >0.95</td>\n",
       "      <td id=\"T_b45a4_row3_col2\" class=\"data row3 col2\" >0.78</td>\n",
       "      <td id=\"T_b45a4_row3_col3\" class=\"data row3 col3\" >0.77</td>\n",
       "      <td id=\"T_b45a4_row3_col4\" class=\"data row3 col4\" >0.78</td>\n",
       "      <td id=\"T_b45a4_row3_col5\" class=\"data row3 col5\" >0.72</td>\n",
       "      <td id=\"T_b45a4_row3_col6\" class=\"data row3 col6\" >0.72</td>\n",
       "    </tr>\n",
       "    <tr>\n",
       "      <th id=\"T_b45a4_level0_row4\" class=\"row_heading level0 row4\" >4</th>\n",
       "      <td id=\"T_b45a4_row4_col0\" class=\"data row4 col0\" >0.93</td>\n",
       "      <td id=\"T_b45a4_row4_col1\" class=\"data row4 col1\" >0.95</td>\n",
       "      <td id=\"T_b45a4_row4_col2\" class=\"data row4 col2\" >0.81</td>\n",
       "      <td id=\"T_b45a4_row4_col3\" class=\"data row4 col3\" >0.85</td>\n",
       "      <td id=\"T_b45a4_row4_col4\" class=\"data row4 col4\" >0.83</td>\n",
       "      <td id=\"T_b45a4_row4_col5\" class=\"data row4 col5\" >0.79</td>\n",
       "      <td id=\"T_b45a4_row4_col6\" class=\"data row4 col6\" >0.79</td>\n",
       "    </tr>\n",
       "    <tr>\n",
       "      <th id=\"T_b45a4_level0_row5\" class=\"row_heading level0 row5\" >Mean</th>\n",
       "      <td id=\"T_b45a4_row5_col0\" class=\"data row5 col0\" >0.92</td>\n",
       "      <td id=\"T_b45a4_row5_col1\" class=\"data row5 col1\" >0.95</td>\n",
       "      <td id=\"T_b45a4_row5_col2\" class=\"data row5 col2\" >0.79</td>\n",
       "      <td id=\"T_b45a4_row5_col3\" class=\"data row5 col3\" >0.82</td>\n",
       "      <td id=\"T_b45a4_row5_col4\" class=\"data row5 col4\" >0.81</td>\n",
       "      <td id=\"T_b45a4_row5_col5\" class=\"data row5 col5\" >0.76</td>\n",
       "      <td id=\"T_b45a4_row5_col6\" class=\"data row5 col6\" >0.76</td>\n",
       "    </tr>\n",
       "    <tr>\n",
       "      <th id=\"T_b45a4_level0_row6\" class=\"row_heading level0 row6\" >Std</th>\n",
       "      <td id=\"T_b45a4_row6_col0\" class=\"data row6 col0\" >0.01</td>\n",
       "      <td id=\"T_b45a4_row6_col1\" class=\"data row6 col1\" >0.01</td>\n",
       "      <td id=\"T_b45a4_row6_col2\" class=\"data row6 col2\" >0.02</td>\n",
       "      <td id=\"T_b45a4_row6_col3\" class=\"data row6 col3\" >0.03</td>\n",
       "      <td id=\"T_b45a4_row6_col4\" class=\"data row6 col4\" >0.02</td>\n",
       "      <td id=\"T_b45a4_row6_col5\" class=\"data row6 col5\" >0.02</td>\n",
       "      <td id=\"T_b45a4_row6_col6\" class=\"data row6 col6\" >0.03</td>\n",
       "    </tr>\n",
       "  </tbody>\n",
       "</table>\n"
      ],
      "text/plain": [
       "<pandas.io.formats.style.Styler at 0x7f0bea5ad130>"
      ]
     },
     "metadata": {},
     "output_type": "display_data"
    }
   ],
   "source": [
    "for model_name in model_names:\n",
    "\n",
    "    default_model = create_model(model_name, round=2)\n",
    "\n",
    "    results_df = pull()\n",
    "    results_df = results_df.reset_index(level=0)\n",
    "    \n",
    "    inner_results[model_name] = results_df.copy()\n",
    "    results_df.to_csv(\"output/models_results/universal/\" + \"classification_model_\"+model_name+\"_inner_cross_validation_results.tsv\", \n",
    "                    index=False, encoding=\"utf-8\", sep=\"\\t\")\n",
    "\n",
    "\n",
    "    tuned_model = tune_model(default_model, choose_better = True, search_library = 'optuna', n_iter = 50, round=2)\n",
    "\n",
    "    results_df = pull()\n",
    "    results_df = results_df.reset_index(level=0)\n",
    "    \n",
    "    inner_results_tuned[model_name] = results_df.copy()\n",
    "    results_df.to_csv(\"output/models_results/universal/\" + \"classification_model_\"+model_name+\"_tuned_inner_cross_validation_results.tsv\", \n",
    "                    index=False, encoding=\"utf-8\", sep=\"\\t\")\n",
    "    \n",
    "    tuned_models[model_name] = deepcopy(tuned_model)"
   ]
  },
  {
   "cell_type": "markdown",
   "id": "2543bed8",
   "metadata": {},
   "source": [
    "### Outer CV: 10-fold cross-validation for the tuned model"
   ]
  },
  {
   "cell_type": "code",
   "execution_count": 32,
   "id": "7d9c9302",
   "metadata": {},
   "outputs": [],
   "source": [
    "X = get_config(variable=\"X_train\").copy()\n",
    "y = get_config(variable=\"y_train\").copy()"
   ]
  },
  {
   "cell_type": "code",
   "execution_count": 33,
   "id": "3c21760e",
   "metadata": {},
   "outputs": [
    {
     "data": {
      "text/plain": [
       "(3724, 258)"
      ]
     },
     "execution_count": 33,
     "metadata": {},
     "output_type": "execute_result"
    }
   ],
   "source": [
    "X.shape"
   ]
  },
  {
   "cell_type": "code",
   "execution_count": 34,
   "id": "5a9c93d9",
   "metadata": {},
   "outputs": [
    {
     "data": {
      "text/plain": [
       "(3724,)"
      ]
     },
     "execution_count": 34,
     "metadata": {},
     "output_type": "execute_result"
    }
   ],
   "source": [
    "y.shape"
   ]
  },
  {
   "cell_type": "code",
   "execution_count": 35,
   "id": "f052eebd",
   "metadata": {},
   "outputs": [],
   "source": [
    "cv_outer = StratifiedKFold(n_splits=10, shuffle=True, random_state=cv_outer_seed)"
   ]
  },
  {
   "cell_type": "code",
   "execution_count": 36,
   "id": "564a8934",
   "metadata": {},
   "outputs": [
    {
     "name": "stdout",
     "output_type": "stream",
     "text": [
      "lr scores: 0.66, 0.58, 0.64, 0.61, 0.69, 0.63, 0.65, 0.63, 0.52, 0.71\n",
      "lr mean/std: 0.63 / 0.05\n",
      "knn scores: 0.72, 0.69, 0.74, 0.7, 0.72, 0.71, 0.76, 0.71, 0.68, 0.72\n",
      "knn mean/std: 0.72 / 0.02\n",
      "svm scores: 0.65, 0.55, 0.65, 0.65, 0.63, 0.62, 0.64, 0.61, 0.54, 0.68\n",
      "svm mean/std: 0.62 / 0.04\n",
      "rf scores: 0.74, 0.74, 0.77, 0.68, 0.75, 0.74, 0.81, 0.75, 0.72, 0.75\n",
      "rf mean/std: 0.74 / 0.03\n",
      "et scores: 0.77, 0.74, 0.72, 0.68, 0.73, 0.74, 0.79, 0.73, 0.69, 0.73\n",
      "et mean/std: 0.73 / 0.03\n",
      "gbc scores: 0.79, 0.76, 0.78, 0.74, 0.86, 0.8, 0.87, 0.82, 0.82, 0.76\n",
      "gbc mean/std: 0.8 / 0.04\n",
      "[LightGBM] [Warning] bagging_fraction is set=0.43661682242349653, subsample=1.0 will be ignored. Current value: bagging_fraction=0.43661682242349653\n",
      "[LightGBM] [Warning] feature_fraction is set=0.8956163057563584, colsample_bytree=1.0 will be ignored. Current value: feature_fraction=0.8956163057563584\n",
      "[LightGBM] [Warning] bagging_freq is set=7, subsample_freq=0 will be ignored. Current value: bagging_freq=7\n",
      "[LightGBM] [Warning] bagging_fraction is set=0.43661682242349653, subsample=1.0 will be ignored. Current value: bagging_fraction=0.43661682242349653\n",
      "[LightGBM] [Warning] feature_fraction is set=0.8956163057563584, colsample_bytree=1.0 will be ignored. Current value: feature_fraction=0.8956163057563584\n",
      "[LightGBM] [Warning] bagging_freq is set=7, subsample_freq=0 will be ignored. Current value: bagging_freq=7\n",
      "[LightGBM] [Warning] bagging_fraction is set=0.43661682242349653, subsample=1.0 will be ignored. Current value: bagging_fraction=0.43661682242349653\n",
      "[LightGBM] [Warning] feature_fraction is set=0.8956163057563584, colsample_bytree=1.0 will be ignored. Current value: feature_fraction=0.8956163057563584\n",
      "[LightGBM] [Warning] bagging_freq is set=7, subsample_freq=0 will be ignored. Current value: bagging_freq=7\n",
      "[LightGBM] [Warning] bagging_fraction is set=0.43661682242349653, subsample=1.0 will be ignored. Current value: bagging_fraction=0.43661682242349653\n",
      "[LightGBM] [Warning] feature_fraction is set=0.8956163057563584, colsample_bytree=1.0 will be ignored. Current value: feature_fraction=0.8956163057563584\n",
      "[LightGBM] [Warning] bagging_freq is set=7, subsample_freq=0 will be ignored. Current value: bagging_freq=7\n",
      "[LightGBM] [Warning] bagging_fraction is set=0.43661682242349653, subsample=1.0 will be ignored. Current value: bagging_fraction=0.43661682242349653\n",
      "[LightGBM] [Warning] feature_fraction is set=0.8956163057563584, colsample_bytree=1.0 will be ignored. Current value: feature_fraction=0.8956163057563584\n",
      "[LightGBM] [Warning] bagging_freq is set=7, subsample_freq=0 will be ignored. Current value: bagging_freq=7\n",
      "[LightGBM] [Warning] bagging_fraction is set=0.43661682242349653, subsample=1.0 will be ignored. Current value: bagging_fraction=0.43661682242349653\n",
      "[LightGBM] [Warning] feature_fraction is set=0.8956163057563584, colsample_bytree=1.0 will be ignored. Current value: feature_fraction=0.8956163057563584\n",
      "[LightGBM] [Warning] bagging_freq is set=7, subsample_freq=0 will be ignored. Current value: bagging_freq=7\n",
      "[LightGBM] [Warning] bagging_fraction is set=0.43661682242349653, subsample=1.0 will be ignored. Current value: bagging_fraction=0.43661682242349653\n",
      "[LightGBM] [Warning] feature_fraction is set=0.8956163057563584, colsample_bytree=1.0 will be ignored. Current value: feature_fraction=0.8956163057563584\n",
      "[LightGBM] [Warning] bagging_freq is set=7, subsample_freq=0 will be ignored. Current value: bagging_freq=7\n",
      "[LightGBM] [Warning] bagging_fraction is set=0.43661682242349653, subsample=1.0 will be ignored. Current value: bagging_fraction=0.43661682242349653\n",
      "[LightGBM] [Warning] feature_fraction is set=0.8956163057563584, colsample_bytree=1.0 will be ignored. Current value: feature_fraction=0.8956163057563584\n",
      "[LightGBM] [Warning] bagging_freq is set=7, subsample_freq=0 will be ignored. Current value: bagging_freq=7\n",
      "[LightGBM] [Warning] bagging_fraction is set=0.43661682242349653, subsample=1.0 will be ignored. Current value: bagging_fraction=0.43661682242349653\n",
      "[LightGBM] [Warning] feature_fraction is set=0.8956163057563584, colsample_bytree=1.0 will be ignored. Current value: feature_fraction=0.8956163057563584\n",
      "[LightGBM] [Warning] bagging_freq is set=7, subsample_freq=0 will be ignored. Current value: bagging_freq=7\n",
      "lightgbm scores: 0.75, 0.78, 0.81, 0.76, 0.89, 0.78, 0.87, 0.79, 0.73, 0.83\n",
      "lightgbm mean/std: 0.8 / 0.05\n"
     ]
    }
   ],
   "source": [
    "for model_name in model_names:\n",
    "    scores = cross_validate(tuned_models[model_name], X, y, cv=cv_outer, scoring=('f1','accuracy','roc_auc'))\n",
    "    scores_f1 = np.round(scores['test_f1'], 2);\n",
    "    scores_accuracy = np.round(scores['test_accuracy'], 2);\n",
    "    scores_roc_auc = np.round(scores['test_roc_auc'], 2);\n",
    "    outer_results[model_name] = scores.copy()\n",
    "    \n",
    "    with open(\"output/models_results/universal/\" + \"classification_model_\"+model_name+\"_tuned_outer_cross_validation_results.tsv\", 'w', newline='') as file:\n",
    "        file.write('F1\\tAccuracy\\tAUC' + \"\\n\")\n",
    "        for idx, x in enumerate(scores_f1):\n",
    "            file.write(str(scores_f1[idx]) + '\\t' + str(scores_accuracy[idx]) + '\\t' + str(scores_roc_auc[idx]) + \"\\n\")\n",
    "\n",
    "    print(model_name + \" scores: \" + ', '.join(scores_f1.astype('str')))\n",
    "    print(model_name + \" mean/std: \" + str(np.round(scores_f1.mean(),2)) + \" / \" + str(np.round(scores_f1.std(), 2)))\n",
    "    \n",
    "    #with open(the_filename, 'r') as f:\n",
    "    #    my_list = [line.rstrip('\\n') for line in f]"
   ]
  },
  {
   "cell_type": "markdown",
   "id": "567af0bf",
   "metadata": {},
   "source": [
    "### Finalize the models and evaluate on the test set"
   ]
  },
  {
   "cell_type": "code",
   "execution_count": 37,
   "id": "bfae263b",
   "metadata": {},
   "outputs": [
    {
     "data": {
      "text/html": [
       "<style type=\"text/css\">\n",
       "</style>\n",
       "<table id=\"T_e2578\">\n",
       "  <thead>\n",
       "    <tr>\n",
       "      <th class=\"blank level0\" >&nbsp;</th>\n",
       "      <th id=\"T_e2578_level0_col0\" class=\"col_heading level0 col0\" >Model</th>\n",
       "      <th id=\"T_e2578_level0_col1\" class=\"col_heading level0 col1\" >Accuracy</th>\n",
       "      <th id=\"T_e2578_level0_col2\" class=\"col_heading level0 col2\" >AUC</th>\n",
       "      <th id=\"T_e2578_level0_col3\" class=\"col_heading level0 col3\" >Recall</th>\n",
       "      <th id=\"T_e2578_level0_col4\" class=\"col_heading level0 col4\" >Prec.</th>\n",
       "      <th id=\"T_e2578_level0_col5\" class=\"col_heading level0 col5\" >F1</th>\n",
       "      <th id=\"T_e2578_level0_col6\" class=\"col_heading level0 col6\" >Kappa</th>\n",
       "      <th id=\"T_e2578_level0_col7\" class=\"col_heading level0 col7\" >MCC</th>\n",
       "    </tr>\n",
       "  </thead>\n",
       "  <tbody>\n",
       "    <tr>\n",
       "      <th id=\"T_e2578_level0_row0\" class=\"row_heading level0 row0\" >0</th>\n",
       "      <td id=\"T_e2578_row0_col0\" class=\"data row0 col0\" >Logistic Regression</td>\n",
       "      <td id=\"T_e2578_row0_col1\" class=\"data row0 col1\" >0.80</td>\n",
       "      <td id=\"T_e2578_row0_col2\" class=\"data row0 col2\" >0.90</td>\n",
       "      <td id=\"T_e2578_row0_col3\" class=\"data row0 col3\" >0.82</td>\n",
       "      <td id=\"T_e2578_row0_col4\" class=\"data row0 col4\" >0.52</td>\n",
       "      <td id=\"T_e2578_row0_col5\" class=\"data row0 col5\" >0.63</td>\n",
       "      <td id=\"T_e2578_row0_col6\" class=\"data row0 col6\" >0.51</td>\n",
       "      <td id=\"T_e2578_row0_col7\" class=\"data row0 col7\" >0.53</td>\n",
       "    </tr>\n",
       "  </tbody>\n",
       "</table>\n"
      ],
      "text/plain": [
       "<pandas.io.formats.style.Styler at 0x7f0c3605de20>"
      ]
     },
     "metadata": {},
     "output_type": "display_data"
    },
    {
     "data": {
      "text/html": [
       "<style type=\"text/css\">\n",
       "</style>\n",
       "<table id=\"T_69be1\">\n",
       "  <thead>\n",
       "    <tr>\n",
       "      <th class=\"blank level0\" >&nbsp;</th>\n",
       "      <th id=\"T_69be1_level0_col0\" class=\"col_heading level0 col0\" >Model</th>\n",
       "      <th id=\"T_69be1_level0_col1\" class=\"col_heading level0 col1\" >Accuracy</th>\n",
       "      <th id=\"T_69be1_level0_col2\" class=\"col_heading level0 col2\" >AUC</th>\n",
       "      <th id=\"T_69be1_level0_col3\" class=\"col_heading level0 col3\" >Recall</th>\n",
       "      <th id=\"T_69be1_level0_col4\" class=\"col_heading level0 col4\" >Prec.</th>\n",
       "      <th id=\"T_69be1_level0_col5\" class=\"col_heading level0 col5\" >F1</th>\n",
       "      <th id=\"T_69be1_level0_col6\" class=\"col_heading level0 col6\" >Kappa</th>\n",
       "      <th id=\"T_69be1_level0_col7\" class=\"col_heading level0 col7\" >MCC</th>\n",
       "    </tr>\n",
       "  </thead>\n",
       "  <tbody>\n",
       "    <tr>\n",
       "      <th id=\"T_69be1_level0_row0\" class=\"row_heading level0 row0\" >0</th>\n",
       "      <td id=\"T_69be1_row0_col0\" class=\"data row0 col0\" >K Neighbors Classifier</td>\n",
       "      <td id=\"T_69be1_row0_col1\" class=\"data row0 col1\" >0.91</td>\n",
       "      <td id=\"T_69be1_row0_col2\" class=\"data row0 col2\" >0.84</td>\n",
       "      <td id=\"T_69be1_row0_col3\" class=\"data row0 col3\" >0.72</td>\n",
       "      <td id=\"T_69be1_row0_col4\" class=\"data row0 col4\" >0.81</td>\n",
       "      <td id=\"T_69be1_row0_col5\" class=\"data row0 col5\" >0.76</td>\n",
       "      <td id=\"T_69be1_row0_col6\" class=\"data row0 col6\" >0.71</td>\n",
       "      <td id=\"T_69be1_row0_col7\" class=\"data row0 col7\" >0.71</td>\n",
       "    </tr>\n",
       "  </tbody>\n",
       "</table>\n"
      ],
      "text/plain": [
       "<pandas.io.formats.style.Styler at 0x7f0c416d1fd0>"
      ]
     },
     "metadata": {},
     "output_type": "display_data"
    },
    {
     "data": {
      "text/html": [
       "<style type=\"text/css\">\n",
       "</style>\n",
       "<table id=\"T_9d3ec\">\n",
       "  <thead>\n",
       "    <tr>\n",
       "      <th class=\"blank level0\" >&nbsp;</th>\n",
       "      <th id=\"T_9d3ec_level0_col0\" class=\"col_heading level0 col0\" >Model</th>\n",
       "      <th id=\"T_9d3ec_level0_col1\" class=\"col_heading level0 col1\" >Accuracy</th>\n",
       "      <th id=\"T_9d3ec_level0_col2\" class=\"col_heading level0 col2\" >AUC</th>\n",
       "      <th id=\"T_9d3ec_level0_col3\" class=\"col_heading level0 col3\" >Recall</th>\n",
       "      <th id=\"T_9d3ec_level0_col4\" class=\"col_heading level0 col4\" >Prec.</th>\n",
       "      <th id=\"T_9d3ec_level0_col5\" class=\"col_heading level0 col5\" >F1</th>\n",
       "      <th id=\"T_9d3ec_level0_col6\" class=\"col_heading level0 col6\" >Kappa</th>\n",
       "      <th id=\"T_9d3ec_level0_col7\" class=\"col_heading level0 col7\" >MCC</th>\n",
       "    </tr>\n",
       "  </thead>\n",
       "  <tbody>\n",
       "    <tr>\n",
       "      <th id=\"T_9d3ec_level0_row0\" class=\"row_heading level0 row0\" >0</th>\n",
       "      <td id=\"T_9d3ec_row0_col0\" class=\"data row0 col0\" >SVM - Linear Kernel</td>\n",
       "      <td id=\"T_9d3ec_row0_col1\" class=\"data row0 col1\" >0.79</td>\n",
       "      <td id=\"T_9d3ec_row0_col2\" class=\"data row0 col2\" >0.81</td>\n",
       "      <td id=\"T_9d3ec_row0_col3\" class=\"data row0 col3\" >0.84</td>\n",
       "      <td id=\"T_9d3ec_row0_col4\" class=\"data row0 col4\" >0.50</td>\n",
       "      <td id=\"T_9d3ec_row0_col5\" class=\"data row0 col5\" >0.63</td>\n",
       "      <td id=\"T_9d3ec_row0_col6\" class=\"data row0 col6\" >0.49</td>\n",
       "      <td id=\"T_9d3ec_row0_col7\" class=\"data row0 col7\" >0.52</td>\n",
       "    </tr>\n",
       "  </tbody>\n",
       "</table>\n"
      ],
      "text/plain": [
       "<pandas.io.formats.style.Styler at 0x7f0bea5add90>"
      ]
     },
     "metadata": {},
     "output_type": "display_data"
    },
    {
     "data": {
      "text/html": [
       "<style type=\"text/css\">\n",
       "</style>\n",
       "<table id=\"T_ddfa8\">\n",
       "  <thead>\n",
       "    <tr>\n",
       "      <th class=\"blank level0\" >&nbsp;</th>\n",
       "      <th id=\"T_ddfa8_level0_col0\" class=\"col_heading level0 col0\" >Model</th>\n",
       "      <th id=\"T_ddfa8_level0_col1\" class=\"col_heading level0 col1\" >Accuracy</th>\n",
       "      <th id=\"T_ddfa8_level0_col2\" class=\"col_heading level0 col2\" >AUC</th>\n",
       "      <th id=\"T_ddfa8_level0_col3\" class=\"col_heading level0 col3\" >Recall</th>\n",
       "      <th id=\"T_ddfa8_level0_col4\" class=\"col_heading level0 col4\" >Prec.</th>\n",
       "      <th id=\"T_ddfa8_level0_col5\" class=\"col_heading level0 col5\" >F1</th>\n",
       "      <th id=\"T_ddfa8_level0_col6\" class=\"col_heading level0 col6\" >Kappa</th>\n",
       "      <th id=\"T_ddfa8_level0_col7\" class=\"col_heading level0 col7\" >MCC</th>\n",
       "    </tr>\n",
       "  </thead>\n",
       "  <tbody>\n",
       "    <tr>\n",
       "      <th id=\"T_ddfa8_level0_row0\" class=\"row_heading level0 row0\" >0</th>\n",
       "      <td id=\"T_ddfa8_row0_col0\" class=\"data row0 col0\" >Random Forest Classifier</td>\n",
       "      <td id=\"T_ddfa8_row0_col1\" class=\"data row0 col1\" >0.92</td>\n",
       "      <td id=\"T_ddfa8_row0_col2\" class=\"data row0 col2\" >0.96</td>\n",
       "      <td id=\"T_ddfa8_row0_col3\" class=\"data row0 col3\" >0.75</td>\n",
       "      <td id=\"T_ddfa8_row0_col4\" class=\"data row0 col4\" >0.86</td>\n",
       "      <td id=\"T_ddfa8_row0_col5\" class=\"data row0 col5\" >0.80</td>\n",
       "      <td id=\"T_ddfa8_row0_col6\" class=\"data row0 col6\" >0.75</td>\n",
       "      <td id=\"T_ddfa8_row0_col7\" class=\"data row0 col7\" >0.75</td>\n",
       "    </tr>\n",
       "  </tbody>\n",
       "</table>\n"
      ],
      "text/plain": [
       "<pandas.io.formats.style.Styler at 0x7f0bea672490>"
      ]
     },
     "metadata": {},
     "output_type": "display_data"
    },
    {
     "data": {
      "text/html": [
       "<style type=\"text/css\">\n",
       "</style>\n",
       "<table id=\"T_ed74f\">\n",
       "  <thead>\n",
       "    <tr>\n",
       "      <th class=\"blank level0\" >&nbsp;</th>\n",
       "      <th id=\"T_ed74f_level0_col0\" class=\"col_heading level0 col0\" >Model</th>\n",
       "      <th id=\"T_ed74f_level0_col1\" class=\"col_heading level0 col1\" >Accuracy</th>\n",
       "      <th id=\"T_ed74f_level0_col2\" class=\"col_heading level0 col2\" >AUC</th>\n",
       "      <th id=\"T_ed74f_level0_col3\" class=\"col_heading level0 col3\" >Recall</th>\n",
       "      <th id=\"T_ed74f_level0_col4\" class=\"col_heading level0 col4\" >Prec.</th>\n",
       "      <th id=\"T_ed74f_level0_col5\" class=\"col_heading level0 col5\" >F1</th>\n",
       "      <th id=\"T_ed74f_level0_col6\" class=\"col_heading level0 col6\" >Kappa</th>\n",
       "      <th id=\"T_ed74f_level0_col7\" class=\"col_heading level0 col7\" >MCC</th>\n",
       "    </tr>\n",
       "  </thead>\n",
       "  <tbody>\n",
       "    <tr>\n",
       "      <th id=\"T_ed74f_level0_row0\" class=\"row_heading level0 row0\" >0</th>\n",
       "      <td id=\"T_ed74f_row0_col0\" class=\"data row0 col0\" >Extra Trees Classifier</td>\n",
       "      <td id=\"T_ed74f_row0_col1\" class=\"data row0 col1\" >0.91</td>\n",
       "      <td id=\"T_ed74f_row0_col2\" class=\"data row0 col2\" >0.96</td>\n",
       "      <td id=\"T_ed74f_row0_col3\" class=\"data row0 col3\" >0.71</td>\n",
       "      <td id=\"T_ed74f_row0_col4\" class=\"data row0 col4\" >0.81</td>\n",
       "      <td id=\"T_ed74f_row0_col5\" class=\"data row0 col5\" >0.76</td>\n",
       "      <td id=\"T_ed74f_row0_col6\" class=\"data row0 col6\" >0.70</td>\n",
       "      <td id=\"T_ed74f_row0_col7\" class=\"data row0 col7\" >0.70</td>\n",
       "    </tr>\n",
       "  </tbody>\n",
       "</table>\n"
      ],
      "text/plain": [
       "<pandas.io.formats.style.Styler at 0x7f0c4167d970>"
      ]
     },
     "metadata": {},
     "output_type": "display_data"
    },
    {
     "data": {
      "text/html": [
       "<style type=\"text/css\">\n",
       "</style>\n",
       "<table id=\"T_8e962\">\n",
       "  <thead>\n",
       "    <tr>\n",
       "      <th class=\"blank level0\" >&nbsp;</th>\n",
       "      <th id=\"T_8e962_level0_col0\" class=\"col_heading level0 col0\" >Model</th>\n",
       "      <th id=\"T_8e962_level0_col1\" class=\"col_heading level0 col1\" >Accuracy</th>\n",
       "      <th id=\"T_8e962_level0_col2\" class=\"col_heading level0 col2\" >AUC</th>\n",
       "      <th id=\"T_8e962_level0_col3\" class=\"col_heading level0 col3\" >Recall</th>\n",
       "      <th id=\"T_8e962_level0_col4\" class=\"col_heading level0 col4\" >Prec.</th>\n",
       "      <th id=\"T_8e962_level0_col5\" class=\"col_heading level0 col5\" >F1</th>\n",
       "      <th id=\"T_8e962_level0_col6\" class=\"col_heading level0 col6\" >Kappa</th>\n",
       "      <th id=\"T_8e962_level0_col7\" class=\"col_heading level0 col7\" >MCC</th>\n",
       "    </tr>\n",
       "  </thead>\n",
       "  <tbody>\n",
       "    <tr>\n",
       "      <th id=\"T_8e962_level0_row0\" class=\"row_heading level0 row0\" >0</th>\n",
       "      <td id=\"T_8e962_row0_col0\" class=\"data row0 col0\" >Gradient Boosting Classifier</td>\n",
       "      <td id=\"T_8e962_row0_col1\" class=\"data row0 col1\" >0.93</td>\n",
       "      <td id=\"T_8e962_row0_col2\" class=\"data row0 col2\" >0.97</td>\n",
       "      <td id=\"T_8e962_row0_col3\" class=\"data row0 col3\" >0.86</td>\n",
       "      <td id=\"T_8e962_row0_col4\" class=\"data row0 col4\" >0.83</td>\n",
       "      <td id=\"T_8e962_row0_col5\" class=\"data row0 col5\" >0.84</td>\n",
       "      <td id=\"T_8e962_row0_col6\" class=\"data row0 col6\" >0.80</td>\n",
       "      <td id=\"T_8e962_row0_col7\" class=\"data row0 col7\" >0.80</td>\n",
       "    </tr>\n",
       "  </tbody>\n",
       "</table>\n"
      ],
      "text/plain": [
       "<pandas.io.formats.style.Styler at 0x7f0bea384e80>"
      ]
     },
     "metadata": {},
     "output_type": "display_data"
    },
    {
     "data": {
      "text/html": [
       "<style type=\"text/css\">\n",
       "</style>\n",
       "<table id=\"T_855af\">\n",
       "  <thead>\n",
       "    <tr>\n",
       "      <th class=\"blank level0\" >&nbsp;</th>\n",
       "      <th id=\"T_855af_level0_col0\" class=\"col_heading level0 col0\" >Model</th>\n",
       "      <th id=\"T_855af_level0_col1\" class=\"col_heading level0 col1\" >Accuracy</th>\n",
       "      <th id=\"T_855af_level0_col2\" class=\"col_heading level0 col2\" >AUC</th>\n",
       "      <th id=\"T_855af_level0_col3\" class=\"col_heading level0 col3\" >Recall</th>\n",
       "      <th id=\"T_855af_level0_col4\" class=\"col_heading level0 col4\" >Prec.</th>\n",
       "      <th id=\"T_855af_level0_col5\" class=\"col_heading level0 col5\" >F1</th>\n",
       "      <th id=\"T_855af_level0_col6\" class=\"col_heading level0 col6\" >Kappa</th>\n",
       "      <th id=\"T_855af_level0_col7\" class=\"col_heading level0 col7\" >MCC</th>\n",
       "    </tr>\n",
       "  </thead>\n",
       "  <tbody>\n",
       "    <tr>\n",
       "      <th id=\"T_855af_level0_row0\" class=\"row_heading level0 row0\" >0</th>\n",
       "      <td id=\"T_855af_row0_col0\" class=\"data row0 col0\" >Light Gradient Boosting Machine</td>\n",
       "      <td id=\"T_855af_row0_col1\" class=\"data row0 col1\" >0.92</td>\n",
       "      <td id=\"T_855af_row0_col2\" class=\"data row0 col2\" >0.97</td>\n",
       "      <td id=\"T_855af_row0_col3\" class=\"data row0 col3\" >0.85</td>\n",
       "      <td id=\"T_855af_row0_col4\" class=\"data row0 col4\" >0.79</td>\n",
       "      <td id=\"T_855af_row0_col5\" class=\"data row0 col5\" >0.82</td>\n",
       "      <td id=\"T_855af_row0_col6\" class=\"data row0 col6\" >0.77</td>\n",
       "      <td id=\"T_855af_row0_col7\" class=\"data row0 col7\" >0.77</td>\n",
       "    </tr>\n",
       "  </tbody>\n",
       "</table>\n"
      ],
      "text/plain": [
       "<pandas.io.formats.style.Styler at 0x7f0c213001c0>"
      ]
     },
     "metadata": {},
     "output_type": "display_data"
    }
   ],
   "source": [
    "for model_name in model_names:\n",
    "\n",
    "    final_model = finalize_model(tuned_models[model_name])\n",
    "    \n",
    "    final_models[model_name] = deepcopy(final_model)\n",
    "    \n",
    "    hyperparams = pd.DataFrame.from_dict(final_model.get_params(), orient='index', columns=['parameter_value'])\n",
    "    hyperparams = hyperparams.reset_index(level=0)\n",
    "    hyperparams.to_csv(\"output/models_parameters/universal/\" + \"classification_model_\"+model_name+\"_hyperparams.tsv\", \n",
    "                    index=False, encoding=\"utf-8\", sep=\"\\t\")\n",
    "    \n",
    "    model_predict = predict_model(final_model, round=2)\n",
    "    \n",
    "    results_df = pull()\n",
    "    results_df = results_df.reset_index(level=0)\n",
    "    \n",
    "    predicted_results[model_name] = results_df.copy()\n",
    "    results_df.to_csv(\"output/models_results/universal/\" + \"classification_model_\"+model_name+\"_test_set_validation_results.tsv\", \n",
    "                    index=False, encoding=\"utf-8\", sep=\"\\t\")"
   ]
  },
  {
   "cell_type": "markdown",
   "id": "7cef3c2f",
   "metadata": {},
   "source": [
    "### Save models and configs"
   ]
  },
  {
   "cell_type": "code",
   "execution_count": 38,
   "id": "f7dbf7e3",
   "metadata": {},
   "outputs": [
    {
     "name": "stdout",
     "output_type": "stream",
     "text": [
      "Transformation Pipeline and Model Successfully Saved\n",
      "Transformation Pipeline and Model Successfully Saved\n",
      "Transformation Pipeline and Model Successfully Saved\n",
      "Transformation Pipeline and Model Successfully Saved\n",
      "Transformation Pipeline and Model Successfully Saved\n",
      "Transformation Pipeline and Model Successfully Saved\n",
      "Transformation Pipeline and Model Successfully Saved\n",
      "Transformation Pipeline and Model Successfully Saved\n",
      "Transformation Pipeline and Model Successfully Saved\n",
      "Transformation Pipeline and Model Successfully Saved\n",
      "Transformation Pipeline and Model Successfully Saved\n",
      "Transformation Pipeline and Model Successfully Saved\n",
      "Transformation Pipeline and Model Successfully Saved\n",
      "Transformation Pipeline and Model Successfully Saved\n"
     ]
    }
   ],
   "source": [
    "save_config('output/models/universal/classification_config.cfg')\n",
    "\n",
    "for model_name in model_names:\n",
    "    save_model(tuned_models[model_name], 'output/models/universal/classification_model_'+model_name+'_tuned.mdl')\n",
    "    save_model(final_models[model_name], 'output/models/universal/classification_model_'+model_name+'_final.mdl')"
   ]
  },
  {
   "cell_type": "markdown",
   "id": "5f8dee9d",
   "metadata": {},
   "source": [
    "### Create Plots"
   ]
  },
  {
   "cell_type": "code",
   "execution_count": 39,
   "id": "521ec3e3",
   "metadata": {},
   "outputs": [],
   "source": [
    "X_test = get_config(variable=\"X_test\").copy()\n",
    "y_test = get_config(variable=\"y_test\").copy()"
   ]
  },
  {
   "cell_type": "code",
   "execution_count": 40,
   "id": "44efd5ca",
   "metadata": {},
   "outputs": [
    {
     "data": {
      "text/plain": [
       "<Figure size 800x550 with 0 Axes>"
      ]
     },
     "metadata": {},
     "output_type": "display_data"
    }
   ],
   "source": [
    "for model_name in ['rf', 'et', 'gbc', 'lr']:\n",
    "    \n",
    "    #import matplotlib.pyplot as plt\n",
    "    #plt.rcParams[\"figure.figsize\"] = [16,9]\n",
    "\n",
    "    visualizer1 = FeatureImportances(final_models[model_name], size=(800,550), topn=10)\n",
    "    visualizer1.fit(X, y)\n",
    "    visualizer1.show(outpath=\"output/plots/universal/\" + \"classification_model_\"+model_name+\"_feature_importance_plot.png\",dpi = 300)\n",
    "\n",
    "    plt.clf() "
   ]
  },
  {
   "cell_type": "code",
   "execution_count": 41,
   "id": "b4489866",
   "metadata": {},
   "outputs": [
    {
     "data": {
      "text/plain": [
       "<Figure size 800x550 with 0 Axes>"
      ]
     },
     "metadata": {},
     "output_type": "display_data"
    }
   ],
   "source": [
    "for model_name in model_names:\n",
    "\n",
    "    visualizer2 = PrecisionRecallCurve(final_models[model_name], hist=False, qqplot=True, size=(800,550))\n",
    "    visualizer2.fit(X, y)\n",
    "    visualizer2.score(X_test, y_test)\n",
    "    visualizer2.show(outpath=\"output/plots/universal/\" + \"classification_model_\"+model_name+\"_PrecisionRecallCurve_plot.png\",dpi = 300)\n",
    "    \n",
    "    plt.clf() "
   ]
  },
  {
   "cell_type": "code",
   "execution_count": 42,
   "id": "1a279e6d",
   "metadata": {},
   "outputs": [
    {
     "data": {
      "text/plain": [
       "<Figure size 800x550 with 0 Axes>"
      ]
     },
     "metadata": {},
     "output_type": "display_data"
    }
   ],
   "source": [
    "for model_name in model_names:\n",
    "\n",
    "    visualizer3 = ClassPredictionError(final_models[model_name], size=(800,550))\n",
    "    visualizer3.fit(X, y)\n",
    "    visualizer3.score(X_test, y_test)\n",
    "    visualizer3.show(outpath=\"output/plots/universal/\" + \"classification_model_\"+model_name+\"_error_plot.png\",dpi = 300)    \n",
    "    \n",
    "    plt.clf()"
   ]
  },
  {
   "cell_type": "code",
   "execution_count": 43,
   "id": "23777c4f",
   "metadata": {},
   "outputs": [
    {
     "data": {
      "text/plain": [
       "<Figure size 800x550 with 0 Axes>"
      ]
     },
     "metadata": {},
     "output_type": "display_data"
    }
   ],
   "source": [
    "for model_name in model_names:\n",
    "\n",
    "    visualizer4 = ConfusionMatrix(final_models[model_name], size=(800,550), percent=True)\n",
    "    visualizer4.fit(X, y)\n",
    "    visualizer4.score(X_test, y_test)\n",
    "    for label in visualizer4.ax.texts:\n",
    "        label.set_size(18)\n",
    "    visualizer4.show(outpath=\"output/plots/universal/\" + \"classification_model_\"+model_name+\"_ConfusionMatrix_plot.png\",dpi = 300)    \n",
    "    \n",
    "    plt.clf()"
   ]
  },
  {
   "cell_type": "code",
   "execution_count": 44,
   "id": "ef7e1f19",
   "metadata": {
    "scrolled": false
   },
   "outputs": [
    {
     "name": "stdout",
     "output_type": "stream",
     "text": [
      "[LightGBM] [Warning] bagging_fraction is set=0.43661682242349653, subsample=1.0 will be ignored. Current value: bagging_fraction=0.43661682242349653\n",
      "[LightGBM] [Warning] feature_fraction is set=0.8956163057563584, colsample_bytree=1.0 will be ignored. Current value: feature_fraction=0.8956163057563584\n",
      "[LightGBM] [Warning] bagging_freq is set=7, subsample_freq=0 will be ignored. Current value: bagging_freq=7\n",
      "[LightGBM] [Warning] bagging_fraction is set=0.43661682242349653, subsample=1.0 will be ignored. Current value: bagging_fraction=0.43661682242349653\n",
      "[LightGBM] [Warning] feature_fraction is set=0.8956163057563584, colsample_bytree=1.0 will be ignored. Current value: feature_fraction=0.8956163057563584\n",
      "[LightGBM] [Warning] bagging_freq is set=7, subsample_freq=0 will be ignored. Current value: bagging_freq=7\n",
      "[LightGBM] [Warning] bagging_fraction is set=0.43661682242349653, subsample=1.0 will be ignored. Current value: bagging_fraction=0.43661682242349653\n",
      "[LightGBM] [Warning] feature_fraction is set=0.8956163057563584, colsample_bytree=1.0 will be ignored. Current value: feature_fraction=0.8956163057563584\n",
      "[LightGBM] [Warning] bagging_freq is set=7, subsample_freq=0 will be ignored. Current value: bagging_freq=7\n",
      "[LightGBM] [Warning] bagging_fraction is set=0.43661682242349653, subsample=1.0 will be ignored. Current value: bagging_fraction=0.43661682242349653\n",
      "[LightGBM] [Warning] feature_fraction is set=0.8956163057563584, colsample_bytree=1.0 will be ignored. Current value: feature_fraction=0.8956163057563584\n",
      "[LightGBM] [Warning] bagging_freq is set=7, subsample_freq=0 will be ignored. Current value: bagging_freq=7\n",
      "[LightGBM] [Warning] bagging_fraction is set=0.43661682242349653, subsample=1.0 will be ignored. Current value: bagging_fraction=0.43661682242349653\n",
      "[LightGBM] [Warning] feature_fraction is set=0.8956163057563584, colsample_bytree=1.0 will be ignored. Current value: feature_fraction=0.8956163057563584\n",
      "[LightGBM] [Warning] bagging_freq is set=7, subsample_freq=0 will be ignored. Current value: bagging_freq=7\n",
      "[LightGBM] [Warning] bagging_fraction is set=0.43661682242349653, subsample=1.0 will be ignored. Current value: bagging_fraction=0.43661682242349653\n",
      "[LightGBM] [Warning] feature_fraction is set=0.8956163057563584, colsample_bytree=1.0 will be ignored. Current value: feature_fraction=0.8956163057563584\n",
      "[LightGBM] [Warning] bagging_freq is set=7, subsample_freq=0 will be ignored. Current value: bagging_freq=7\n",
      "[LightGBM] [Warning] bagging_fraction is set=0.43661682242349653, subsample=1.0 will be ignored. Current value: bagging_fraction=0.43661682242349653\n",
      "[LightGBM] [Warning] feature_fraction is set=0.8956163057563584, colsample_bytree=1.0 will be ignored. Current value: feature_fraction=0.8956163057563584\n",
      "[LightGBM] [Warning] bagging_freq is set=7, subsample_freq=0 will be ignored. Current value: bagging_freq=7\n",
      "[LightGBM] [Warning] bagging_fraction is set=0.43661682242349653, subsample=1.0 will be ignored. Current value: bagging_fraction=0.43661682242349653\n",
      "[LightGBM] [Warning] feature_fraction is set=0.8956163057563584, colsample_bytree=1.0 will be ignored. Current value: feature_fraction=0.8956163057563584\n",
      "[LightGBM] [Warning] bagging_freq is set=7, subsample_freq=0 will be ignored. Current value: bagging_freq=7\n",
      "[LightGBM] [Warning] bagging_fraction is set=0.43661682242349653, subsample=1.0 will be ignored. Current value: bagging_fraction=0.43661682242349653\n",
      "[LightGBM] [Warning] feature_fraction is set=0.8956163057563584, colsample_bytree=1.0 will be ignored. Current value: feature_fraction=0.8956163057563584\n",
      "[LightGBM] [Warning] bagging_freq is set=7, subsample_freq=0 will be ignored. Current value: bagging_freq=7\n",
      "[LightGBM] [Warning] bagging_fraction is set=0.43661682242349653, subsample=1.0 will be ignored. Current value: bagging_fraction=0.43661682242349653\n",
      "[LightGBM] [Warning] feature_fraction is set=0.8956163057563584, colsample_bytree=1.0 will be ignored. Current value: feature_fraction=0.8956163057563584\n",
      "[LightGBM] [Warning] bagging_freq is set=7, subsample_freq=0 will be ignored. Current value: bagging_freq=7\n",
      "[LightGBM] [Warning] bagging_fraction is set=0.43661682242349653, subsample=1.0 will be ignored. Current value: bagging_fraction=0.43661682242349653\n",
      "[LightGBM] [Warning] feature_fraction is set=0.8956163057563584, colsample_bytree=1.0 will be ignored. Current value: feature_fraction=0.8956163057563584\n",
      "[LightGBM] [Warning] bagging_freq is set=7, subsample_freq=0 will be ignored. Current value: bagging_freq=7\n",
      "[LightGBM] [Warning] bagging_fraction is set=0.43661682242349653, subsample=1.0 will be ignored. Current value: bagging_fraction=0.43661682242349653\n",
      "[LightGBM] [Warning] feature_fraction is set=0.8956163057563584, colsample_bytree=1.0 will be ignored. Current value: feature_fraction=0.8956163057563584\n",
      "[LightGBM] [Warning] bagging_freq is set=7, subsample_freq=0 will be ignored. Current value: bagging_freq=7\n",
      "[LightGBM] [Warning] bagging_fraction is set=0.43661682242349653, subsample=1.0 will be ignored. Current value: bagging_fraction=0.43661682242349653\n",
      "[LightGBM] [Warning] feature_fraction is set=0.8956163057563584, colsample_bytree=1.0 will be ignored. Current value: feature_fraction=0.8956163057563584\n",
      "[LightGBM] [Warning] bagging_freq is set=7, subsample_freq=0 will be ignored. Current value: bagging_freq=7\n",
      "[LightGBM] [Warning] bagging_fraction is set=0.43661682242349653, subsample=1.0 will be ignored. Current value: bagging_fraction=0.43661682242349653\n",
      "[LightGBM] [Warning] feature_fraction is set=0.8956163057563584, colsample_bytree=1.0 will be ignored. Current value: feature_fraction=0.8956163057563584\n",
      "[LightGBM] [Warning] bagging_freq is set=7, subsample_freq=0 will be ignored. Current value: bagging_freq=7\n",
      "[LightGBM] [Warning] bagging_fraction is set=0.43661682242349653, subsample=1.0 will be ignored. Current value: bagging_fraction=0.43661682242349653\n",
      "[LightGBM] [Warning] feature_fraction is set=0.8956163057563584, colsample_bytree=1.0 will be ignored. Current value: feature_fraction=0.8956163057563584\n",
      "[LightGBM] [Warning] bagging_freq is set=7, subsample_freq=0 will be ignored. Current value: bagging_freq=7\n",
      "[LightGBM] [Warning] bagging_fraction is set=0.43661682242349653, subsample=1.0 will be ignored. Current value: bagging_fraction=0.43661682242349653\n",
      "[LightGBM] [Warning] feature_fraction is set=0.8956163057563584, colsample_bytree=1.0 will be ignored. Current value: feature_fraction=0.8956163057563584\n",
      "[LightGBM] [Warning] bagging_freq is set=7, subsample_freq=0 will be ignored. Current value: bagging_freq=7\n",
      "[LightGBM] [Warning] bagging_fraction is set=0.43661682242349653, subsample=1.0 will be ignored. Current value: bagging_fraction=0.43661682242349653\n",
      "[LightGBM] [Warning] feature_fraction is set=0.8956163057563584, colsample_bytree=1.0 will be ignored. Current value: feature_fraction=0.8956163057563584\n",
      "[LightGBM] [Warning] bagging_freq is set=7, subsample_freq=0 will be ignored. Current value: bagging_freq=7\n",
      "[LightGBM] [Warning] bagging_fraction is set=0.43661682242349653, subsample=1.0 will be ignored. Current value: bagging_fraction=0.43661682242349653\n",
      "[LightGBM] [Warning] feature_fraction is set=0.8956163057563584, colsample_bytree=1.0 will be ignored. Current value: feature_fraction=0.8956163057563584\n",
      "[LightGBM] [Warning] bagging_freq is set=7, subsample_freq=0 will be ignored. Current value: bagging_freq=7\n",
      "[LightGBM] [Warning] bagging_fraction is set=0.43661682242349653, subsample=1.0 will be ignored. Current value: bagging_fraction=0.43661682242349653\n",
      "[LightGBM] [Warning] feature_fraction is set=0.8956163057563584, colsample_bytree=1.0 will be ignored. Current value: feature_fraction=0.8956163057563584\n",
      "[LightGBM] [Warning] bagging_freq is set=7, subsample_freq=0 will be ignored. Current value: bagging_freq=7\n",
      "[LightGBM] [Warning] bagging_fraction is set=0.43661682242349653, subsample=1.0 will be ignored. Current value: bagging_fraction=0.43661682242349653\n",
      "[LightGBM] [Warning] feature_fraction is set=0.8956163057563584, colsample_bytree=1.0 will be ignored. Current value: feature_fraction=0.8956163057563584\n",
      "[LightGBM] [Warning] bagging_freq is set=7, subsample_freq=0 will be ignored. Current value: bagging_freq=7\n"
     ]
    },
    {
     "name": "stdout",
     "output_type": "stream",
     "text": [
      "[LightGBM] [Warning] bagging_fraction is set=0.43661682242349653, subsample=1.0 will be ignored. Current value: bagging_fraction=0.43661682242349653\n",
      "[LightGBM] [Warning] feature_fraction is set=0.8956163057563584, colsample_bytree=1.0 will be ignored. Current value: feature_fraction=0.8956163057563584\n",
      "[LightGBM] [Warning] bagging_freq is set=7, subsample_freq=0 will be ignored. Current value: bagging_freq=7\n",
      "[LightGBM] [Warning] bagging_fraction is set=0.43661682242349653, subsample=1.0 will be ignored. Current value: bagging_fraction=0.43661682242349653\n",
      "[LightGBM] [Warning] feature_fraction is set=0.8956163057563584, colsample_bytree=1.0 will be ignored. Current value: feature_fraction=0.8956163057563584\n",
      "[LightGBM] [Warning] bagging_freq is set=7, subsample_freq=0 will be ignored. Current value: bagging_freq=7\n",
      "[LightGBM] [Warning] bagging_fraction is set=0.43661682242349653, subsample=1.0 will be ignored. Current value: bagging_fraction=0.43661682242349653\n",
      "[LightGBM] [Warning] feature_fraction is set=0.8956163057563584, colsample_bytree=1.0 will be ignored. Current value: feature_fraction=0.8956163057563584\n",
      "[LightGBM] [Warning] bagging_freq is set=7, subsample_freq=0 will be ignored. Current value: bagging_freq=7\n",
      "[LightGBM] [Warning] bagging_fraction is set=0.43661682242349653, subsample=1.0 will be ignored. Current value: bagging_fraction=0.43661682242349653\n",
      "[LightGBM] [Warning] feature_fraction is set=0.8956163057563584, colsample_bytree=1.0 will be ignored. Current value: feature_fraction=0.8956163057563584\n",
      "[LightGBM] [Warning] bagging_freq is set=7, subsample_freq=0 will be ignored. Current value: bagging_freq=7\n",
      "[LightGBM] [Warning] bagging_fraction is set=0.43661682242349653, subsample=1.0 will be ignored. Current value: bagging_fraction=0.43661682242349653\n",
      "[LightGBM] [Warning] feature_fraction is set=0.8956163057563584, colsample_bytree=1.0 will be ignored. Current value: feature_fraction=0.8956163057563584\n",
      "[LightGBM] [Warning] bagging_freq is set=7, subsample_freq=0 will be ignored. Current value: bagging_freq=7\n",
      "[LightGBM] [Warning] bagging_fraction is set=0.43661682242349653, subsample=1.0 will be ignored. Current value: bagging_fraction=0.43661682242349653\n",
      "[LightGBM] [Warning] feature_fraction is set=0.8956163057563584, colsample_bytree=1.0 will be ignored. Current value: feature_fraction=0.8956163057563584\n",
      "[LightGBM] [Warning] bagging_freq is set=7, subsample_freq=0 will be ignored. Current value: bagging_freq=7\n",
      "[LightGBM] [Warning] bagging_fraction is set=0.43661682242349653, subsample=1.0 will be ignored. Current value: bagging_fraction=0.43661682242349653\n",
      "[LightGBM] [Warning] feature_fraction is set=0.8956163057563584, colsample_bytree=1.0 will be ignored. Current value: feature_fraction=0.8956163057563584\n",
      "[LightGBM] [Warning] bagging_freq is set=7, subsample_freq=0 will be ignored. Current value: bagging_freq=7\n",
      "[LightGBM] [Warning] bagging_fraction is set=0.43661682242349653, subsample=1.0 will be ignored. Current value: bagging_fraction=0.43661682242349653\n",
      "[LightGBM] [Warning] feature_fraction is set=0.8956163057563584, colsample_bytree=1.0 will be ignored. Current value: feature_fraction=0.8956163057563584\n",
      "[LightGBM] [Warning] bagging_freq is set=7, subsample_freq=0 will be ignored. Current value: bagging_freq=7\n",
      "[LightGBM] [Warning] bagging_fraction is set=0.43661682242349653, subsample=1.0 will be ignored. Current value: bagging_fraction=0.43661682242349653\n",
      "[LightGBM] [Warning] feature_fraction is set=0.8956163057563584, colsample_bytree=1.0 will be ignored. Current value: feature_fraction=0.8956163057563584\n",
      "[LightGBM] [Warning] bagging_freq is set=7, subsample_freq=0 will be ignored. Current value: bagging_freq=7\n",
      "[LightGBM] [Warning] bagging_fraction is set=0.43661682242349653, subsample=1.0 will be ignored. Current value: bagging_fraction=0.43661682242349653\n",
      "[LightGBM] [Warning] feature_fraction is set=0.8956163057563584, colsample_bytree=1.0 will be ignored. Current value: feature_fraction=0.8956163057563584\n",
      "[LightGBM] [Warning] bagging_freq is set=7, subsample_freq=0 will be ignored. Current value: bagging_freq=7\n",
      "[LightGBM] [Warning] bagging_fraction is set=0.43661682242349653, subsample=1.0 will be ignored. Current value: bagging_fraction=0.43661682242349653\n",
      "[LightGBM] [Warning] feature_fraction is set=0.8956163057563584, colsample_bytree=1.0 will be ignored. Current value: feature_fraction=0.8956163057563584\n",
      "[LightGBM] [Warning] bagging_freq is set=7, subsample_freq=0 will be ignored. Current value: bagging_freq=7\n",
      "[LightGBM] [Warning] bagging_fraction is set=0.43661682242349653, subsample=1.0 will be ignored. Current value: bagging_fraction=0.43661682242349653\n",
      "[LightGBM] [Warning] feature_fraction is set=0.8956163057563584, colsample_bytree=1.0 will be ignored. Current value: feature_fraction=0.8956163057563584\n",
      "[LightGBM] [Warning] bagging_freq is set=7, subsample_freq=0 will be ignored. Current value: bagging_freq=7\n",
      "[LightGBM] [Warning] bagging_fraction is set=0.43661682242349653, subsample=1.0 will be ignored. Current value: bagging_fraction=0.43661682242349653\n",
      "[LightGBM] [Warning] feature_fraction is set=0.8956163057563584, colsample_bytree=1.0 will be ignored. Current value: feature_fraction=0.8956163057563584\n",
      "[LightGBM] [Warning] bagging_freq is set=7, subsample_freq=0 will be ignored. Current value: bagging_freq=7\n",
      "[LightGBM] [Warning] bagging_fraction is set=0.43661682242349653, subsample=1.0 will be ignored. Current value: bagging_fraction=0.43661682242349653\n",
      "[LightGBM] [Warning] feature_fraction is set=0.8956163057563584, colsample_bytree=1.0 will be ignored. Current value: feature_fraction=0.8956163057563584\n",
      "[LightGBM] [Warning] bagging_freq is set=7, subsample_freq=0 will be ignored. Current value: bagging_freq=7\n",
      "[LightGBM] [Warning] bagging_fraction is set=0.43661682242349653, subsample=1.0 will be ignored. Current value: bagging_fraction=0.43661682242349653\n",
      "[LightGBM] [Warning] feature_fraction is set=0.8956163057563584, colsample_bytree=1.0 will be ignored. Current value: feature_fraction=0.8956163057563584\n",
      "[LightGBM] [Warning] bagging_freq is set=7, subsample_freq=0 will be ignored. Current value: bagging_freq=7\n",
      "[LightGBM] [Warning] bagging_fraction is set=0.43661682242349653, subsample=1.0 will be ignored. Current value: bagging_fraction=0.43661682242349653\n",
      "[LightGBM] [Warning] feature_fraction is set=0.8956163057563584, colsample_bytree=1.0 will be ignored. Current value: feature_fraction=0.8956163057563584\n",
      "[LightGBM] [Warning] bagging_freq is set=7, subsample_freq=0 will be ignored. Current value: bagging_freq=7\n",
      "[LightGBM] [Warning] bagging_fraction is set=0.43661682242349653, subsample=1.0 will be ignored. Current value: bagging_fraction=0.43661682242349653\n",
      "[LightGBM] [Warning] feature_fraction is set=0.8956163057563584, colsample_bytree=1.0 will be ignored. Current value: feature_fraction=0.8956163057563584\n",
      "[LightGBM] [Warning] bagging_freq is set=7, subsample_freq=0 will be ignored. Current value: bagging_freq=7\n",
      "[LightGBM] [Warning] bagging_fraction is set=0.43661682242349653, subsample=1.0 will be ignored. Current value: bagging_fraction=0.43661682242349653\n",
      "[LightGBM] [Warning] feature_fraction is set=0.8956163057563584, colsample_bytree=1.0 will be ignored. Current value: feature_fraction=0.8956163057563584\n",
      "[LightGBM] [Warning] bagging_freq is set=7, subsample_freq=0 will be ignored. Current value: bagging_freq=7\n",
      "[LightGBM] [Warning] bagging_fraction is set=0.43661682242349653, subsample=1.0 will be ignored. Current value: bagging_fraction=0.43661682242349653\n",
      "[LightGBM] [Warning] feature_fraction is set=0.8956163057563584, colsample_bytree=1.0 will be ignored. Current value: feature_fraction=0.8956163057563584\n",
      "[LightGBM] [Warning] bagging_freq is set=7, subsample_freq=0 will be ignored. Current value: bagging_freq=7\n",
      "[LightGBM] [Warning] bagging_fraction is set=0.43661682242349653, subsample=1.0 will be ignored. Current value: bagging_fraction=0.43661682242349653\n",
      "[LightGBM] [Warning] feature_fraction is set=0.8956163057563584, colsample_bytree=1.0 will be ignored. Current value: feature_fraction=0.8956163057563584\n",
      "[LightGBM] [Warning] bagging_freq is set=7, subsample_freq=0 will be ignored. Current value: bagging_freq=7\n"
     ]
    },
    {
     "name": "stdout",
     "output_type": "stream",
     "text": [
      "[LightGBM] [Warning] bagging_fraction is set=0.43661682242349653, subsample=1.0 will be ignored. Current value: bagging_fraction=0.43661682242349653\n",
      "[LightGBM] [Warning] feature_fraction is set=0.8956163057563584, colsample_bytree=1.0 will be ignored. Current value: feature_fraction=0.8956163057563584\n",
      "[LightGBM] [Warning] bagging_freq is set=7, subsample_freq=0 will be ignored. Current value: bagging_freq=7\n",
      "[LightGBM] [Warning] bagging_fraction is set=0.43661682242349653, subsample=1.0 will be ignored. Current value: bagging_fraction=0.43661682242349653\n",
      "[LightGBM] [Warning] feature_fraction is set=0.8956163057563584, colsample_bytree=1.0 will be ignored. Current value: feature_fraction=0.8956163057563584\n",
      "[LightGBM] [Warning] bagging_freq is set=7, subsample_freq=0 will be ignored. Current value: bagging_freq=7\n",
      "[LightGBM] [Warning] bagging_fraction is set=0.43661682242349653, subsample=1.0 will be ignored. Current value: bagging_fraction=0.43661682242349653\n",
      "[LightGBM] [Warning] feature_fraction is set=0.8956163057563584, colsample_bytree=1.0 will be ignored. Current value: feature_fraction=0.8956163057563584\n",
      "[LightGBM] [Warning] bagging_freq is set=7, subsample_freq=0 will be ignored. Current value: bagging_freq=7\n",
      "[LightGBM] [Warning] bagging_fraction is set=0.43661682242349653, subsample=1.0 will be ignored. Current value: bagging_fraction=0.43661682242349653\n",
      "[LightGBM] [Warning] feature_fraction is set=0.8956163057563584, colsample_bytree=1.0 will be ignored. Current value: feature_fraction=0.8956163057563584\n",
      "[LightGBM] [Warning] bagging_freq is set=7, subsample_freq=0 will be ignored. Current value: bagging_freq=7\n",
      "[LightGBM] [Warning] bagging_fraction is set=0.43661682242349653, subsample=1.0 will be ignored. Current value: bagging_fraction=0.43661682242349653\n",
      "[LightGBM] [Warning] feature_fraction is set=0.8956163057563584, colsample_bytree=1.0 will be ignored. Current value: feature_fraction=0.8956163057563584\n",
      "[LightGBM] [Warning] bagging_freq is set=7, subsample_freq=0 will be ignored. Current value: bagging_freq=7\n",
      "[LightGBM] [Warning] bagging_fraction is set=0.43661682242349653, subsample=1.0 will be ignored. Current value: bagging_fraction=0.43661682242349653\n",
      "[LightGBM] [Warning] feature_fraction is set=0.8956163057563584, colsample_bytree=1.0 will be ignored. Current value: feature_fraction=0.8956163057563584\n",
      "[LightGBM] [Warning] bagging_freq is set=7, subsample_freq=0 will be ignored. Current value: bagging_freq=7\n",
      "[LightGBM] [Warning] bagging_fraction is set=0.43661682242349653, subsample=1.0 will be ignored. Current value: bagging_fraction=0.43661682242349653\n",
      "[LightGBM] [Warning] feature_fraction is set=0.8956163057563584, colsample_bytree=1.0 will be ignored. Current value: feature_fraction=0.8956163057563584\n",
      "[LightGBM] [Warning] bagging_freq is set=7, subsample_freq=0 will be ignored. Current value: bagging_freq=7\n",
      "[LightGBM] [Warning] bagging_fraction is set=0.43661682242349653, subsample=1.0 will be ignored. Current value: bagging_fraction=0.43661682242349653\n",
      "[LightGBM] [Warning] feature_fraction is set=0.8956163057563584, colsample_bytree=1.0 will be ignored. Current value: feature_fraction=0.8956163057563584\n",
      "[LightGBM] [Warning] bagging_freq is set=7, subsample_freq=0 will be ignored. Current value: bagging_freq=7\n",
      "[LightGBM] [Warning] bagging_fraction is set=0.43661682242349653, subsample=1.0 will be ignored. Current value: bagging_fraction=0.43661682242349653\n",
      "[LightGBM] [Warning] feature_fraction is set=0.8956163057563584, colsample_bytree=1.0 will be ignored. Current value: feature_fraction=0.8956163057563584\n",
      "[LightGBM] [Warning] bagging_freq is set=7, subsample_freq=0 will be ignored. Current value: bagging_freq=7\n",
      "[LightGBM] [Warning] bagging_fraction is set=0.43661682242349653, subsample=1.0 will be ignored. Current value: bagging_fraction=0.43661682242349653\n",
      "[LightGBM] [Warning] feature_fraction is set=0.8956163057563584, colsample_bytree=1.0 will be ignored. Current value: feature_fraction=0.8956163057563584\n",
      "[LightGBM] [Warning] bagging_freq is set=7, subsample_freq=0 will be ignored. Current value: bagging_freq=7\n"
     ]
    },
    {
     "data": {
      "text/plain": [
       "<Figure size 800x550 with 0 Axes>"
      ]
     },
     "metadata": {},
     "output_type": "display_data"
    }
   ],
   "source": [
    "for model_name in model_names:\n",
    "\n",
    "    visualizer5 = DiscriminationThreshold(final_models[model_name], size=(800,550))\n",
    "    visualizer5.fit(X, y)\n",
    "    visualizer5.score(X_test, y_test)\n",
    "    visualizer5.show(outpath=\"output/plots/universal/\" + \"classification_model_\"+model_name+\"_DiscriminationThreshold_plot.png\",dpi = 300)    \n",
    "    \n",
    "    plt.clf()"
   ]
  },
  {
   "cell_type": "code",
   "execution_count": 45,
   "id": "cf552eb5",
   "metadata": {},
   "outputs": [
    {
     "data": {
      "text/plain": [
       "<Figure size 800x550 with 0 Axes>"
      ]
     },
     "metadata": {},
     "output_type": "display_data"
    }
   ],
   "source": [
    "for model_name in ['lr', 'knn', 'rf', 'et', 'gbc', 'lightgbm']:\n",
    "\n",
    "    visualizer6 = ROCAUC(final_models[model_name], size=(800,550))\n",
    "    visualizer6.fit(X, y)\n",
    "    visualizer6.score(X_test, y_test)\n",
    "    visualizer6.show(outpath=\"output/plots/universal/\" + \"classification_model_\"+model_name+\"_ROCAUC_plot.png\",dpi = 300)    \n",
    "    \n",
    "    plt.clf()"
   ]
  },
  {
   "cell_type": "markdown",
   "id": "3a2eafd5",
   "metadata": {},
   "source": [
    "### Load model"
   ]
  },
  {
   "cell_type": "code",
   "execution_count": 46,
   "id": "2406f629",
   "metadata": {},
   "outputs": [],
   "source": [
    "model_names = ['lr', 'knn', 'svm', 'rf', 'et', 'gbc', 'lightgbm']"
   ]
  },
  {
   "cell_type": "code",
   "execution_count": 47,
   "id": "6f5acd9b",
   "metadata": {},
   "outputs": [],
   "source": [
    "final_config = load_config('output/models/universal/classification_config.cfg')"
   ]
  },
  {
   "cell_type": "code",
   "execution_count": 48,
   "id": "7503a083",
   "metadata": {},
   "outputs": [],
   "source": [
    "tuned_models_load = dict()\n",
    "final_models_load = dict()"
   ]
  },
  {
   "cell_type": "code",
   "execution_count": 49,
   "id": "af29b475",
   "metadata": {},
   "outputs": [
    {
     "name": "stdout",
     "output_type": "stream",
     "text": [
      "Transformation Pipeline and Model Successfully Loaded\n",
      "Transformation Pipeline and Model Successfully Loaded\n",
      "Transformation Pipeline and Model Successfully Loaded\n",
      "Transformation Pipeline and Model Successfully Loaded\n",
      "Transformation Pipeline and Model Successfully Loaded\n",
      "Transformation Pipeline and Model Successfully Loaded\n",
      "Transformation Pipeline and Model Successfully Loaded\n",
      "Transformation Pipeline and Model Successfully Loaded\n",
      "Transformation Pipeline and Model Successfully Loaded\n",
      "Transformation Pipeline and Model Successfully Loaded\n",
      "Transformation Pipeline and Model Successfully Loaded\n",
      "Transformation Pipeline and Model Successfully Loaded\n",
      "Transformation Pipeline and Model Successfully Loaded\n",
      "Transformation Pipeline and Model Successfully Loaded\n"
     ]
    }
   ],
   "source": [
    "for model_name in model_names:\n",
    "    tuned_models_load[model_name] = load_model('output/models/universal/classification_model_'+model_name+'_tuned.mdl')\n",
    "    final_models_load[model_name] = load_model('output/models/universal/classification_model_'+model_name+'_final.mdl')"
   ]
  },
  {
   "cell_type": "code",
   "execution_count": 50,
   "id": "acba0082",
   "metadata": {},
   "outputs": [
    {
     "data": {
      "text/plain": [
       "{'boosting_type': 'gbdt',\n",
       " 'objective': None,\n",
       " 'num_leaves': 14,\n",
       " 'max_depth': -1,\n",
       " 'learning_rate': 0.1449901288007566,\n",
       " 'n_estimators': 298,\n",
       " 'subsample_for_bin': 200000,\n",
       " 'min_split_gain': 0.34221143938759147,\n",
       " 'min_child_weight': 0.001,\n",
       " 'min_child_samples': 7,\n",
       " 'subsample': 1.0,\n",
       " 'subsample_freq': 0,\n",
       " 'colsample_bytree': 1.0,\n",
       " 'reg_alpha': 0.08984434124441207,\n",
       " 'reg_lambda': 1.658754414136718e-07,\n",
       " 'random_state': 834,\n",
       " 'n_jobs': -1,\n",
       " 'silent': 'warn',\n",
       " 'importance_type': 'split',\n",
       " '_Booster': <lightgbm.basic.Booster at 0x7f0bea3eb6d0>,\n",
       " '_evals_result': None,\n",
       " '_best_score': defaultdict(collections.OrderedDict, {}),\n",
       " '_best_iteration': None,\n",
       " '_other_params': {'feature_fraction': 0.8956163057563584,\n",
       "  'bagging_fraction': 0.43661682242349653,\n",
       "  'bagging_freq': 7},\n",
       " '_objective': 'binary',\n",
       " 'class_weight': None,\n",
       " '_class_weight': None,\n",
       " '_class_map': {0: 0, 1: 1},\n",
       " '_n_features': 258,\n",
       " '_n_features_in': 258,\n",
       " '_classes': array([0, 1]),\n",
       " '_n_classes': 2,\n",
       " 'feature_fraction': 0.8956163057563584,\n",
       " 'bagging_fraction': 0.43661682242349653,\n",
       " 'bagging_freq': 7,\n",
       " '_le': LabelEncoder(),\n",
       " '_fobj': None,\n",
       " 'fitted_': True}"
      ]
     },
     "execution_count": 50,
     "metadata": {},
     "output_type": "execute_result"
    }
   ],
   "source": [
    "vars(final_models_load['lightgbm']._final_estimator)"
   ]
  },
  {
   "cell_type": "code",
   "execution_count": 51,
   "id": "2a1bbb79",
   "metadata": {},
   "outputs": [
    {
     "data": {
      "image/png": "[encoded data removed]",
      "text/plain": [
       "<Figure size 800x500 with 1 Axes>"
      ]
     },
     "metadata": {},
     "output_type": "display_data"
    },
    {
     "name": "stdout",
     "output_type": "stream",
     "text": [
      "[LightGBM] [Warning] bagging_fraction is set=0.43661682242349653, subsample=1.0 will be ignored. Current value: bagging_fraction=0.43661682242349653\n",
      "[LightGBM] [Warning] feature_fraction is set=0.8956163057563584, colsample_bytree=1.0 will be ignored. Current value: feature_fraction=0.8956163057563584\n",
      "[LightGBM] [Warning] bagging_freq is set=7, subsample_freq=0 will be ignored. Current value: bagging_freq=7\n",
      "[LightGBM] [Warning] bagging_fraction is set=0.43661682242349653, subsample=1.0 will be ignored. Current value: bagging_fraction=0.43661682242349653\n",
      "[LightGBM] [Warning] feature_fraction is set=0.8956163057563584, colsample_bytree=1.0 will be ignored. Current value: feature_fraction=0.8956163057563584\n",
      "[LightGBM] [Warning] bagging_freq is set=7, subsample_freq=0 will be ignored. Current value: bagging_freq=7\n",
      "[LightGBM] [Warning] bagging_fraction is set=0.43661682242349653, subsample=1.0 will be ignored. Current value: bagging_fraction=0.43661682242349653\n",
      "[LightGBM] [Warning] feature_fraction is set=0.8956163057563584, colsample_bytree=1.0 will be ignored. Current value: feature_fraction=0.8956163057563584\n",
      "[LightGBM] [Warning] bagging_freq is set=7, subsample_freq=0 will be ignored. Current value: bagging_freq=7\n",
      "[LightGBM] [Warning] bagging_fraction is set=0.43661682242349653, subsample=1.0 will be ignored. Current value: bagging_fraction=0.43661682242349653\n",
      "[LightGBM] [Warning] feature_fraction is set=0.8956163057563584, colsample_bytree=1.0 will be ignored. Current value: feature_fraction=0.8956163057563584\n",
      "[LightGBM] [Warning] bagging_freq is set=7, subsample_freq=0 will be ignored. Current value: bagging_freq=7\n",
      "[LightGBM] [Warning] bagging_fraction is set=0.43661682242349653, subsample=1.0 will be ignored. Current value: bagging_fraction=0.43661682242349653\n",
      "[LightGBM] [Warning] feature_fraction is set=0.8956163057563584, colsample_bytree=1.0 will be ignored. Current value: feature_fraction=0.8956163057563584\n",
      "[LightGBM] [Warning] bagging_freq is set=7, subsample_freq=0 will be ignored. Current value: bagging_freq=7\n",
      "[LightGBM] [Warning] bagging_fraction is set=0.43661682242349653, subsample=1.0 will be ignored. Current value: bagging_fraction=0.43661682242349653\n",
      "[LightGBM] [Warning] feature_fraction is set=0.8956163057563584, colsample_bytree=1.0 will be ignored. Current value: feature_fraction=0.8956163057563584\n",
      "[LightGBM] [Warning] bagging_freq is set=7, subsample_freq=0 will be ignored. Current value: bagging_freq=7\n",
      "[LightGBM] [Warning] bagging_fraction is set=0.43661682242349653, subsample=1.0 will be ignored. Current value: bagging_fraction=0.43661682242349653\n",
      "[LightGBM] [Warning] feature_fraction is set=0.8956163057563584, colsample_bytree=1.0 will be ignored. Current value: feature_fraction=0.8956163057563584\n",
      "[LightGBM] [Warning] bagging_freq is set=7, subsample_freq=0 will be ignored. Current value: bagging_freq=7\n",
      "[LightGBM] [Warning] bagging_fraction is set=0.43661682242349653, subsample=1.0 will be ignored. Current value: bagging_fraction=0.43661682242349653\n",
      "[LightGBM] [Warning] feature_fraction is set=0.8956163057563584, colsample_bytree=1.0 will be ignored. Current value: feature_fraction=0.8956163057563584\n",
      "[LightGBM] [Warning] bagging_freq is set=7, subsample_freq=0 will be ignored. Current value: bagging_freq=7\n",
      "[LightGBM] [Warning] bagging_fraction is set=0.43661682242349653, subsample=1.0 will be ignored. Current value: bagging_fraction=0.43661682242349653\n",
      "[LightGBM] [Warning] feature_fraction is set=0.8956163057563584, colsample_bytree=1.0 will be ignored. Current value: feature_fraction=0.8956163057563584\n",
      "[LightGBM] [Warning] bagging_freq is set=7, subsample_freq=0 will be ignored. Current value: bagging_freq=7\n",
      "[LightGBM] [Warning] bagging_fraction is set=0.43661682242349653, subsample=1.0 will be ignored. Current value: bagging_fraction=0.43661682242349653\n",
      "[LightGBM] [Warning] feature_fraction is set=0.8956163057563584, colsample_bytree=1.0 will be ignored. Current value: feature_fraction=0.8956163057563584\n",
      "[LightGBM] [Warning] bagging_freq is set=7, subsample_freq=0 will be ignored. Current value: bagging_freq=7\n"
     ]
    }
   ],
   "source": [
    "plot_model(tuned_models_load['lightgbm']._final_estimator, 'feature')"
   ]
  }
 ],
 "metadata": {
  "kernelspec": {
   "display_name": "Python 3 (ipykernel)",
   "language": "python",
   "name": "python3"
  },
  "language_info": {
   "codemirror_mode": {
    "name": "ipython",
    "version": 3
   },
   "file_extension": ".py",
   "mimetype": "text/x-python",
   "name": "python",
   "nbconvert_exporter": "python",
   "pygments_lexer": "ipython3",
   "version": "3.8.13"
  }
 },
 "nbformat": 4,
 "nbformat_minor": 5
}
